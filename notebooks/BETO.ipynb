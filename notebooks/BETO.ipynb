{
 "cells": [
  {
   "cell_type": "markdown",
   "id": "84da681e",
   "metadata": {},
   "source": [
    "# BETO model"
   ]
  },
  {
   "cell_type": "code",
   "execution_count": 1,
   "id": "0aa1a837",
   "metadata": {},
   "outputs": [],
   "source": [
    "import pandas as pd"
   ]
  },
  {
   "cell_type": "markdown",
   "id": "52c9b79f",
   "metadata": {},
   "source": [
    "## Datos"
   ]
  },
  {
   "cell_type": "markdown",
   "id": "45e71f38",
   "metadata": {},
   "source": [
    "### Senators_data"
   ]
  },
  {
   "cell_type": "code",
   "execution_count": 2,
   "id": "39d2b680",
   "metadata": {
    "scrolled": true
   },
   "outputs": [
    {
     "data": {
      "text/html": [
       "<div>\n",
       "<style scoped>\n",
       "    .dataframe tbody tr th:only-of-type {\n",
       "        vertical-align: middle;\n",
       "    }\n",
       "\n",
       "    .dataframe tbody tr th {\n",
       "        vertical-align: top;\n",
       "    }\n",
       "\n",
       "    .dataframe thead th {\n",
       "        text-align: right;\n",
       "    }\n",
       "</style>\n",
       "<table border=\"1\" class=\"dataframe\">\n",
       "  <thead>\n",
       "    <tr style=\"text-align: right;\">\n",
       "      <th></th>\n",
       "      <th>senator_id</th>\n",
       "      <th>Apellidos</th>\n",
       "      <th>Nombre</th>\n",
       "      <th>Fraccion</th>\n",
       "      <th>Legislatura</th>\n",
       "      <th>Estado</th>\n",
       "      <th>Sexo</th>\n",
       "      <th>tipoEleccion</th>\n",
       "      <th>Suplente</th>\n",
       "      <th>estadoOrigen</th>\n",
       "      <th>...</th>\n",
       "      <th>url_sitio</th>\n",
       "      <th>telefono</th>\n",
       "      <th>extension</th>\n",
       "      <th>estatus</th>\n",
       "      <th>direccion</th>\n",
       "      <th>id</th>\n",
       "      <th>senadores</th>\n",
       "      <th>attendance_score</th>\n",
       "      <th>initiative_list</th>\n",
       "      <th>initiatives_summary_dummy</th>\n",
       "    </tr>\n",
       "  </thead>\n",
       "  <tbody>\n",
       "    <tr>\n",
       "      <th>0</th>\n",
       "      <td>1160</td>\n",
       "      <td>Botello Montes</td>\n",
       "      <td>José Alfredo</td>\n",
       "      <td>PAN</td>\n",
       "      <td>64</td>\n",
       "      <td>Querétaro</td>\n",
       "      <td>Hombre</td>\n",
       "      <td>Senador Electo por el Principio de Mayoría Rel...</td>\n",
       "      <td>NaN</td>\n",
       "      <td>Querétaro</td>\n",
       "      <td>...</td>\n",
       "      <td>NaN</td>\n",
       "      <td>5345 3000</td>\n",
       "      <td>4183 y 4184</td>\n",
       "      <td>en_funciones</td>\n",
       "      <td>Av Paseo de la Reforma No. 135, Hemiciclo Piso...</td>\n",
       "      <td>1</td>\n",
       "      <td>José Alfredo Botello Montes</td>\n",
       "      <td>0.958904</td>\n",
       "      <td>[Pretende garantizar a los miembros del Servic...</td>\n",
       "      <td>Pretende garantizar a los miembros del Servici...</td>\n",
       "    </tr>\n",
       "    <tr>\n",
       "      <th>1</th>\n",
       "      <td>1162</td>\n",
       "      <td>Rojas Loreto</td>\n",
       "      <td>Estrella</td>\n",
       "      <td>PAN</td>\n",
       "      <td>64</td>\n",
       "      <td>Querétaro</td>\n",
       "      <td>Mujer</td>\n",
       "      <td>Senadora Electa por el Principio de Mayoría Re...</td>\n",
       "      <td>NaN</td>\n",
       "      <td>Querétaro</td>\n",
       "      <td>...</td>\n",
       "      <td>NaN</td>\n",
       "      <td>5345 3000</td>\n",
       "      <td>3323</td>\n",
       "      <td>en_funciones</td>\n",
       "      <td>Av Paseo de la Reforma No. 135, Hemiciclo Piso...</td>\n",
       "      <td>2</td>\n",
       "      <td>Estrella Rojas Loreto</td>\n",
       "      <td>0.973913</td>\n",
       "      <td>[Propone que el Estado apoye la investigación ...</td>\n",
       "      <td>Propone que el Estado apoye la investigación e...</td>\n",
       "    </tr>\n",
       "  </tbody>\n",
       "</table>\n",
       "<p>2 rows × 25 columns</p>\n",
       "</div>"
      ],
      "text/plain": [
       "   senator_id       Apellidos        Nombre Fraccion  Legislatura     Estado  \\\n",
       "0        1160  Botello Montes  José Alfredo      PAN           64  Querétaro   \n",
       "1        1162    Rojas Loreto      Estrella      PAN           64  Querétaro   \n",
       "\n",
       "     Sexo                                       tipoEleccion Suplente  \\\n",
       "0  Hombre  Senador Electo por el Principio de Mayoría Rel...      NaN   \n",
       "1   Mujer  Senadora Electa por el Principio de Mayoría Re...      NaN   \n",
       "\n",
       "  estadoOrigen  ... url_sitio   telefono    extension       estatus  \\\n",
       "0    Querétaro  ...       NaN  5345 3000  4183 y 4184  en_funciones   \n",
       "1    Querétaro  ...       NaN  5345 3000         3323  en_funciones   \n",
       "\n",
       "                                           direccion id  \\\n",
       "0  Av Paseo de la Reforma No. 135, Hemiciclo Piso...  1   \n",
       "1  Av Paseo de la Reforma No. 135, Hemiciclo Piso...  2   \n",
       "\n",
       "                     senadores attendance_score  \\\n",
       "0  José Alfredo Botello Montes         0.958904   \n",
       "1        Estrella Rojas Loreto         0.973913   \n",
       "\n",
       "                                     initiative_list  \\\n",
       "0  [Pretende garantizar a los miembros del Servic...   \n",
       "1  [Propone que el Estado apoye la investigación ...   \n",
       "\n",
       "                           initiatives_summary_dummy  \n",
       "0  Pretende garantizar a los miembros del Servici...  \n",
       "1  Propone que el Estado apoye la investigación e...  \n",
       "\n",
       "[2 rows x 25 columns]"
      ]
     },
     "execution_count": 2,
     "metadata": {},
     "output_type": "execute_result"
    }
   ],
   "source": [
    "#Import senator csv from senator_data_file\n",
    "senators = pd.read_csv(r'/Users/mimihuerta/code/jomilu93/sivico/senators_data.csv', converters={'initiative_list': pd.eval}, index_col='Unnamed: 0')\n",
    "senators.head(2)"
   ]
  },
  {
   "cell_type": "code",
   "execution_count": 9,
   "id": "65fe0897",
   "metadata": {},
   "outputs": [
    {
     "data": {
      "text/plain": [
       "pandas.core.series.Series"
      ]
     },
     "execution_count": 9,
     "metadata": {},
     "output_type": "execute_result"
    }
   ],
   "source": [
    "type(senators['initiative_list'])"
   ]
  },
  {
   "cell_type": "code",
   "execution_count": 10,
   "id": "07ca7c00",
   "metadata": {},
   "outputs": [
    {
     "data": {
      "text/plain": [
       "Index(['senator_id', 'Apellidos', 'Nombre', 'Fraccion', 'Legislatura',\n",
       "       'Estado', 'Sexo', 'tipoEleccion', 'Suplente', 'estadoOrigen', 'correo',\n",
       "       'facebook', 'twitter', 'youtube', 'instagram', 'url_sitio', 'telefono',\n",
       "       'extension', 'estatus', 'direccion', 'id', 'senadores',\n",
       "       'attendance_score', 'initiative_list', 'initiatives_summary_dummy'],\n",
       "      dtype='object')"
      ]
     },
     "execution_count": 10,
     "metadata": {},
     "output_type": "execute_result"
    }
   ],
   "source": [
    "#Dataset column names\n",
    "columnas = senators.columns\n",
    "columnas"
   ]
  },
  {
   "cell_type": "code",
   "execution_count": 32,
   "id": "967ae10c",
   "metadata": {
    "scrolled": true
   },
   "outputs": [
    {
     "data": {
      "text/plain": [
       "<Axes: >"
      ]
     },
     "execution_count": 32,
     "metadata": {},
     "output_type": "execute_result"
    },
    {
     "data": {
      "image/png": "[encoded data removed]",
      "text/plain": [
       "<Figure size 640x480 with 1 Axes>"
      ]
     },
     "metadata": {},
     "output_type": "display_data"
    }
   ],
   "source": [
    "#Number of sentences in the dataset\n",
    "len_col = [len(prop) for prop in senators[\"initiative_list\"]]\n",
    "pd.Series(len_col).hist()"
   ]
  },
  {
   "cell_type": "code",
   "execution_count": 38,
   "id": "e07c2b17",
   "metadata": {
    "scrolled": false
   },
   "outputs": [
    {
     "data": {
      "text/plain": [
       "<Axes: >"
      ]
     },
     "execution_count": 38,
     "metadata": {},
     "output_type": "execute_result"
    },
    {
     "data": {
      "image/png": "[encoded data removed]",
      "text/plain": [
       "<Figure size 640x480 with 1 Axes>"
      ]
     },
     "metadata": {},
     "output_type": "display_data"
    }
   ],
   "source": [
    "#Number of words in the dataset\n",
    "len_col = [len(str(prop)) for prop in senators['initiatives_summary_dummy']]\n",
    "               \n",
    "pd.Series(len_col).hist()"
   ]
  },
  {
   "cell_type": "code",
   "execution_count": 100,
   "id": "2bf4dbae",
   "metadata": {
    "scrolled": true
   },
   "outputs": [
    {
     "data": {
      "text/plain": [
       "['Propone modificar las disposiciones constitucionales relativas a los órganos jurisdiccionales y locales, para establecer el principio de paridad de género en su integración; además propone incorporar lenguaje inclusivo en las mismas.',\n",
       " 'Propone introducir el concepto de Personal de Salud, definiéndola como las personas con título profesional y cédula expedida por las autoridades competentes para ejercer cualquiera de las profesiones a que se refiere las normas vigentes de la Ley General de Salud.',\n",
       " 'Propone que en los casos en que se trate de información relacionada con la salubridad general en el caso de epidemias de carácter grave o peligro de invasión de enfermedades exóticas en el país, dicha información no se podrá invocar el carácter de reservado.',\n",
       " 'Propone que en el caso de que la Comisión Jurisdiccional, encargada de llevar a cabo los juicios políticos, quien a su vez no proceda a dictaminar en el plazo de un periodo ordinario de sesiones, la Junta Directiva de cualquiera de las Cámaras del Congreso de la Unión, sea removida, proponiéndose una nueva Junta Directiva.',\n",
       " 'Propone establecer que en caso de que la autoridad competente determine que la separación del cargo de agentes del Ministerio Público, los peritos y los miembros de las instituciones policiales de la Federación, las entidades federativas y los Municipios, la autoridad responsable deberá pagar la indemnización y prestaciones correspondientes al afectado y deberá reincorporarlo al servicio que había desempeñado.',\n",
       " 'Propone establecer que los trabajadores independientes que no estuvieran incorporados a aseguramiento conforme al régimen voluntario o que hayan dejado de estarlo, podrán ser sujetos de aseguramiento al régimen obligatorio; plantea que, para gozar de las prestaciones por cesantía de edad avanzada, el trabajador tendrá que haber cubierto 750 cotizaciones semanales. Además, establece que cuando la madre o padre de un recién nacido, lo tenga exclusivamente bajo su cuidado y que por ello tenga que salir del mercado laboral, se tendrán por cumplidas las semanas de cotización durante ese tiempo hasta por un periodo de un año. Así mismo, propone que las asegurados que opten por el seguro de vejez y que no haya cumplido con las semanas de cotización requeridas podrá retirar el saldo de su cuanta individual en una sola exhibición o seguir cotizando hasta cubrir las semanas necesarias. Por último, plantea que, dentro de los Sistemas de Ahorro para el Retiro, el régimen de inversión deberá tener como principal objetivo otorgar la mayor rentabilidad, sin sacrificar el poder adquisitivo futuro del retorno esperado.',\n",
       " 'Propone establecer que no podrá calificarse como reservada la información relativa al estado de salud de los titulares de la presidencia de la República las alcaldías, las secretarías que conforman la administración pública centralizada, así como de los órganos descentralizados; dicha información tendrá que se ser puesta a disposición del público y ser actualizada.',\n",
       " 'Propone que se adicione como delito de ejercicio ilícito de cualquier de servidor público, que, bajo protesta de decir verdad, incurra en falsedad de declaraciones cuando comparezca ante alguna de las Cámaras del Congreso de la Unión o ante sus comisiones.',\n",
       " 'Propone que, en ningún caso, el total de las excepciones a las licitaciones, dentro del plazo de un año podrá ser superior al treinta por ciento del monto total destinado a las adquisiciones, arrendamientos y servicios, debiéndose en cada caso fundar y motivar las causas de las excepciones. Por lo anterior, las Secretarías de Economía o de Función Pública según sea el caso correspondiente, no podrán abstenerse de iniciar los procedimientos cuando se viole lo anterior.',\n",
       " 'Propone incluir las acciones de violación a la constitución y a las leyes federales, el manejo y aplicación indebidos de fondos y recursos federales como parte de las acusaciones a las que estará sujeto el presidente de la república durante su gestión.',\n",
       " 'Establece que se entenderá que el contribuyente no se encuentra localizado, o bien, ha desaparecido, cuando la autoridad acuda en tres ocasiones consecutivas a su domicilio fiscal en un periodo de quince días, si se trata del procedimiento administrativo de ejecución; o bien en un periodo de doce meses, tratándose del ejercicio de facultades de comprobación. También en el caso de que no pueda practicar la diligencia en términos del Código Fiscal de la Federación. La cancelación del certificado del sello digital del contribuyente considerado como no localizado o desaparecido, deberá sustentarse en las actas circunstanciadas, precisando las razones por las cuales la autoridad no llevó a cabo la correspondiente diligencia.',\n",
       " 'Propone que el Servicio de Administración Tributaria podrá suspender del Padrón de Importadores y del Padrón de Importadores de Sectores Específicos a quienes cometan infracciones que la ley aduanera prevea.',\n",
       " 'Propone establecer como facultad del Senado de la República, el aprobar los acuerdos interinstitucionales que el Poder Ejecutivo Federal suscriba.',\n",
       " 'La iniciativa tiene como propósito adicionar un subinciso a una fracción de un artículo de la Ley Federal de Presupuesto y Responsabilidad Hacendaria, con el objetivo de fortalecer la transparencia y rendición de cuentas respecto de los ingresos excedentes, su origen, aplicación y uso discrecional.',\n",
       " 'Propone una nueva integración del Sistema Nacional de Seguridad Pública, que se constituirá por el Instituto Nacional de Seguridad Pública, el Instituto Nacional de Ciencias Forenses, las instituciones de Seguridad Pública, Procuración de Justicia y de Administración Penitenciaria de los tres órdenes de gobierno. Por lo anterior, pretende crear el Instituto Nacional de Seguridad Pública, como órgano encargado de reglamentar, supervisar y evaluar el ejercicio de competencias y facultades en materia de seguridad pública y administración penitenciaria de los distintos órganos de los tres órdenes de gobierno. Asimismo, crea el Instituto Nacional de Ciencias Forenses, el cual será auxiliar en el ámbito de las ciencias forenses y servicios periciales, a las instituciones de Procuración de Justicia, Protección de Derechos Humanos, de Defensoría Pública y Asesoría Jurídica de víctimas, tanto en el orden federal como en el local.',\n",
       " 'Propone incluir la violencia política en razón de género como causa de nulidad de una elección.',\n",
       " 'Propone la creación de un Nuevo Órgano Técnico de las Finanzas Públicas del Poder Legislativo Federal con la función principal de generar información, análisis y datos sobre las finanzas públicas nacionales con base a estudios técnicos, que sirvan de apoyo parlamentario para la toma de decisiones en ambas Cámaras de acuerdo a las facultades de cada órgano legislativo. Esta propuesta incluye los siguientes atributos para la conformación del órgano: a) Naturaleza jurídica;\\r\\nb) Principios de actuación, y\\r\\nc) Atribuciones\\r\\n',\n",
       " 'Propone establecer que la Política Nacional de Desarrollo Social deberá incluir los siguientes componentes: -Contribución de la política a las metas y objetivos nacionales.\\r\\n-Complementariedades y coincidencias con otros programas federales.\\r\\n-Población potencial, objetivo y mecanismos de elegibilidad.\\r\\n-Padrón único y público de beneficiarios.\\r\\n-Mecanismos de atención.\\r\\n-Matriz de Indicadores para Resultados\\r\\n-Presupuesto asignado.\\r\\n-Mecanismos de monitoreo y rendición de cuentas.\\r\\n-Mediciones de Impacto y de Resultados;\\r\\n-Fichas Técnicas.\\r\\n-Anexos.',\n",
       " 'Propone que se regule el Asilo Político de Alto Nivel, establece que será facultad exclusiva del Senado de la República aprobar o rechazar las solicitudes que la Secretaría de Gobernación (SEGOB) en coordinación con la Secretaría de Relaciones Exteriores (SRE) le envíen para el otorgamiento de la condición de asilo político de alto nivel a funcionarios o exfuncionarios de gobiernos extranjeros de la jerarquía más alta.',\n",
       " 'Propone que se regule el Asilo Político de Alto Nivel, que podrían solicitar personas extranjeras que formen o hayan formado parte de los diferentes órdenes de gobierno en las jerarquías más altas que solicitan al Ejecutivo Federal y/o sus representaciones en el exterior el otorgamiento de asilo político. Estas solicitudes las recibirá la Secretaría de Gobernación (SEGOB) que en conjunto con la Secretaría de Relaciones Exteriores (SRE) las enviaran al Senado de la República para su procesamiento, y en caso de ser aceptada la SEGOB coordinará la atención especial que se les brinde a quien la hayan solicitado. Quienes hayan sido aprobados por el Senado para obtener el asilo político de alto nivel podrán renunciar a esta condición avisando a la SRE quien la comunicará al Senado de la República.',\n",
       " 'Propone facultar a la Financiera Nacional de Desarrollo Agropecuario, Rural, Forestal y Pesquero para efectuar condonaciones.',\n",
       " 'Propone modificar el marco jurídico en materia de medidas para la atención y prevención de desastres naturales a través del establecimiento de un Fondo para Desastres Naturales, que no podrá ser inferior a una cantidad equivalente al 0.4 por ciento del gasto programable del Presupuesto de Egresos de la Federación. EL Fondo operará en el marco del Sistema Nacional de Protección Civil y de la Gestión Integral del Riesgo y tendrá por objeto la promoción y el fomento de la actividad preventiva tendiente a reducir riesgos, así mismo, tendrá a disminuir los efectos del impacto destructivo originado por fenómenos naturales. Contará con un Comité Técnico para el análisis y toma de decisiones respecto a las solicitudes y Proyectos Preventivos los cuales deberán ser elaborados por instancias públicas a nivel estatal o estatal, así como instituciones académicas y de investigación para el cumplimiento de uno o varios objetivos de orden preventivo en el marco de la Gestión Integral del Riesgo.',\n",
       " 'Propone establecer que se deberán diseñar, implementar y evaluar políticas para promover y fomentar la participación de las mujeres en la propiedad industrial preponderando su participación en el área de invenciones.',\n",
       " 'Propone establecer como base de la política del Estado que sustente la integración del Sistema Nacional de Ciencia, Tecnología e Innovación, así como principio que regirá el apoyo que el Gobierno Federal está obligado a otorgar para desarrollar y fomentar la investigación científica, el propiciar la participación de las mujeres en actividades que deriven en inventos susceptibles de protección a través de la Ley Federal de Protección a la Propiedad Industrial en todo el territorio nacional. Asimismo, El Gobierno Federal apoyará la investigación científica, el desarrollo tecnológico y la innovación mediante la identificación de barreras que impidan la participación de más mujeres en los ámbitos de la ciencia, la tecnología y la innovación; así como las que les limiten a realizar actividades enfocadas en crear las invenciones mencionadas.',\n",
       " 'Propone establecer una moneda conmemorativa de los Doscientos Años de Relaciones Diplomáticas entre los Estados Unidos Mexicanos y los Estados Unidos de América con un valor de 20 pesos.',\n",
       " 'Propone establecer que el Poder Ejecutivo deberá proveer a los gobiernos de las entidades federativas y municipios, de recursos suficientes para el ejercicio de facultades complementarias y concurrentes en materia migratoria, refugio y asilo político que comprenderán el estabelecimiento de estaciones migratorias; mecanismos de protección de derechos de las personas migrantes; desarrollo de proyectos educativos de reinserción social y económica de migrantes y migrantes en retorno. Crea el Fondo para responsabilidades concurrentes y complementarias de los estados y municipios en materia migratoria y de asilo y refugio.',\n",
       " 'Propone incluir como atribución de la coordinación del Sistema Nacional de Salud el fomentar la medicina de primer contacto para personas que habitan en localidades rurales y que carezcan de acceso a los servicios de salud, por medio de redes de médicos titulados y capacitados. Para la instrumentación de estas acciones, serán preferidos las y los médicos mexicanos a los extranjeros en igualdad de circunstancias.',\n",
       " 'Propone establecer que cualquier ocupación temporal de una plaza deberá fundarse y motivarse ante la autoridad administrativa competente. Además, se precisa que la temporalidad de una vacante no podrá exceder del tiempo necesario para llevar a cabo el concurso de selección para ocupar la plaza respectiva, que en todo caso no será mayor de un año.',\n",
       " 'Propone adicionar como integrantes del poder Supremo de la Federación a los Órganos Constitucionales Autónomos, los cuales se regularían de acuerdo con las Leyes Orgánicas que expida el Congreso de la Unión.',\n",
       " 'Se propone que los municipios que conformen conurbaciones puedan establecer mecanismos de coordinación administrativa para atender en común problemas y servicios públicos como lo son: asentamientos humanos; movilidad y seguridad vial; protección al ambiente; preservación y restauración del equilibrio ecológico; transporte; tránsito; agua potable y drenaje, así como recolección, tratamiento y disposición de desechos sólidos. Además, propone sustituir la facultad que tiene el Congreso de la Unión para emitir legislación relativa a la planeación de desarrollo y ejecución de acciones regionales de la para la prestación estos servicios para otorgársela a los Congresos de los Estados.',\n",
       " 'Propone establecer que las iniciativas presentadas por la ciudadanía en los términos que señalan las leyes en la materia tendrán carácter preferente.',\n",
       " 'Propone que los servidores públicos que denuncien faltas administrativas, particulares o sean testigos en el procedimiento, puedan tener derechos a recibir por parte del ente público donde presten sus servicios, en coordinación con el Ministerio Público alguna o algunas de las medidas de protección contenidas en el Código Nacional de Procedimientos Penales para las víctimas u ofendidos.  Por otra parte, propone que las medidas de protección sean aplicadas de cuando la investigación de los hechos se desprenda la posible comisión de un delito. En tal caso, se dará cuenta de manera inmediata a la autoridad respectiva para que inicie los procedimientos correspondientes y mantener en confidencialidad la información de la persona denunciante y del proceso hasta en su conclusión.',\n",
       " 'Propone que se cambie la base de cálculo de los topes de campaña, elevándolo de 20 al 40%. Además, propone que para la base de cálculo para los topes de campañas para diputados por el principio de mayoría relativa sea de 150 y no de 300 distritos, con el objeto de que pueda aumentar en un 50% el tope previsto. En el mismo sentido propone que en el caso de la fórmula para la elección de senadores por el principio de mayoría relativa, el tope sea aplicado de la misma manera.  En el caso de candidatos independientes, propone que el tope aumente del 10% a 20%.',\n",
       " 'Propone establecer que tendrán prioridad la promoción, respeto y protección de los derechos humanos en materia de política exterior sobre los principios establecidos en la propia Constitución.',\n",
       " 'ÚNICO. Se exhorta a la persona titular del Ejecutivo del Estado de Baja California, a las y los Presidentes municipales en la entidad, a fortalecer su coordinación a fin de reforzar la Estrategia de Seguridad Pública en los municipios del estado de Baja California.',\n",
       " 'PRIMERO. - El Senado de la República exhorta respetuosamente y con pleno respeto a su autonomía, a la Fiscalía General de la República a establecer coordinación con la Fiscalía General del Estado de Baja California a fin de analizar y, de ser procedente, atraer el caso del asesinato de Danna Reyes. SEGUNDO. - El Senado de la República exhorta respetuosamente a la Procuraduría de Derechos Humanos y Protección Ciudadana del Estado de Baja California para que investigue las declaraciones del Titular de la Fiscalía General del Estado de Baja California, con relación al asesinato de Danna Reyes, para determinar si las mismas constituyen prácticas discriminatorias.',\n",
       " 'PRIMERO. La Comisión Permanente del H. Congreso de la Unión, en el ámbito de colaboración entre los Poderes, solicita respetuosamente al Ejecutivo Federal a través de la Secretaría de Salud y de Relaciones Exteriores a que continúen las acciones sanitarias ante la pandemia para proteger la salud tanto de los migrantes deportados, como de los habitantes de las zonas fronterizas, a fin de que se pueda evitar poner en riesgo a los connacionales.  SEGUNDO. La Comisión Permanente del H. Congreso de la Unión exhorta respetuosamente a la Secretaría de Salud en coordinación con el Instituto Nacional de Migración, así como a los a titulares del Poder Ejecutivo de las Entidades Federativas de la frontera norte y sur de nuestro país a que continúen en coordinación para fortalecer las acciones sanitarias implementadas con la finalidad de proteger la salud de los migrantes, en el contexto de la emergencia sanitaria por la enfermedad COVID19.',\n",
       " 'PRIMERO.- El Senado de la República exhorta respetuosamente al Gobierno Federal para que informe a esta Soberanía acerca de las acciones concertadas, los avances y los resultados en materia de seguridad con el Gobierno de los Estados Unidos de América en ámbitos como la lucha contra la delincuencia organizada, el tráfico de armas y personas, las extradiciones y el lavado de dinero.',\n",
       " 'PRIMERO. El Senado de la República exhorta al Gobierno del Estado de Baja California para que garantice condiciones de seguridad para las y los jóvenes del Estado.  SEGUNDO. El Senado de la República exhorta al Gobierno del Estado de Baja California para que la Fiscalía General del Estado se coordine con la Fiscalía General de la República y las autoridades competentes para que se esclarezcan los asesinatos cometidos contra estudiantes de la entidad.',\n",
       " 'ÚNICO. El Senado de la República exhorta respetuosamente al Ejecutivo Federal, y a la Fiscalía General de la República a informar a esta soberanía sobre los resultados de la estrategia y acciones de aseguramiento de drogas, en el marco de la lucha contra el narcotráfico en el país.',\n",
       " 'PRIMERO. El Senado de la República exhorta respetuosamente al gobierno de los Estados Unidos para que establezca las medias necesarias de política migratoria ya que México no ha firmado acuerdo alguno para constituirse en un Tercer País Seguro.\\r\\n \\r\\nSEGUNDO. El Senado de la República exhorta respetuosamente a la Secretaría de Relaciones Exteriores, para que, en coordinación con las dependencias de la administración pública federal, la Comisión Nacional de . Derechos Humanos y las Comisiones Estatales competentes, se atienda de manera prioritaria el problema de quienes son deportados por las autoridades estadounidenses.\\r\\n',\n",
       " 'ÚNICO. El Senado de la República exhorta respetuosamente a los titulares de la Secretaría de Hacienda y Crédito Público y de la Secretaría de Educación Pública del Gobierno de la República, para agilizar la entrega de la totalidad de los recursos presupuestales al Estado de Baja California, destinados al Apoyo Extraordinario a la Educación, en beneficio de maestros jubilados y pensionados.',\n",
       " 'ÚNICO. El Senado de la República exhorta respetuosamente a los titulares de la Secretaría de Hacienda y Crédito Público y del Servicio de Administración Tributaria, a destinar los recursos necesarios del “Fideicomiso Programa de Mejoramiento de los Medios de Informática y Control de las Autoridades Aduaneras”, para la terminación de obras de infraestructura necesarias para el correcto funcionamiento de la Garita Centro de Mexicali en el Estado de Baja California y la no afectación de la Zona Centro del Municipio de Mexicali, con base en lo estimado en el “Proyecto de Inversión de Infraestructura Gubernamental, Modernización y Ampliación del Cruce Mexicali I Calexico.',\n",
       " 'PRIMERO. - El Senado de la República exhorta respetuosamente al Poder Judicial de la Federación para que, en términos de lo establecido por los artículos 17 y 20 de la Constitución Política de los Estados Unidos Mexicanos, así como en lo dispuesto por el artículo 327, fracción V del Código Nacional de Procedimientos Penales, resuelva de manera pronta y expedita los recursos legales presentados por las partes, contra el sobreseimiento decretado con la causa penal 24/2018 del índice de los Juzgados de Distrito Especializado en el Sistema Penal Acusatorio del Centro de Justicia Penal Federal en la Ciudad de México con sede en el Reclusorio Norte; y a la Secretaría de Hacienda y Crédito Público a que informe a esta Soberanía las razones por las cuales no se considera víctima en dicha causa penal.',\n",
       " 'ÚNICO. La Comisión Permanente del H. Congreso de la Unión exhorta respetuosamente al Titular del Ejecutivo Federal, a la Secretaría de Agricultura y Desarrollo Rural y al Organismo de Seguridad Alimentaria Mexicana a revisar y realizar adecuaciones al Programa Precios de Garantía a Productos Alimentarios Básicos.',\n",
       " 'PRIMERO. La Comisión Permanente del H. Congreso de la Unión exhorta respetuosamente a la Gobernadora del Estado de Baja California, Marina del Pilar Ávila Olmeda, para que instruya a la Comisión de Servicios Públicos de Ensenada, a efecto de que se revisen y ajusten las tarifas de agua que se cobran en el Municipio de San Quintín, Baja California.  SEGUNDO. La Comisión Permanente del H. Congreso de la Unión exhorta respetuosamente a la Gobernadora del Estado de Baja California, Marina del Pilar Ávila Olmeda para que se cree la Comisión Estatal de Servicios Públicos de San Quintín y se asignen recursos urgentes a infraestructura hidríca y drenaje. TERCERO. La Comisión Permanente del H. Congreso de la Unión exhorta respetuosamente al Congreso del Estado de Baja California y a la Cámara de Diputados del H. Congreso de la Unión, para que en el ejercicio fiscal 2024, se prevean recursos etiquetados en el Ramo General 33, para la realización de obras de drenaje e infraestructura hidríca en el Municipio de San Quintín, Baja California.',\n",
       " 'PRIMERO. El Senado de la República exhorta respetuosamente al titular de la Secretaría de Hacienda, de Agricultura y Desarrollo Rural (SADER) y al de Seguridad Alimentaria Mexicana (SEGALMEX), establecer un precio de las bases de comercialización que respalde a los productores nacionales con base a la caída de los precios internacionales de trigo, el cual de acuerdo a la estimación de este sector productivo, debe de fijarse en un mínimo de $43.00 dlls por ton.  SEGUNDO. El Senado de la República exhorta respetuosamente al titular de la Secretaría de Agricultura y Desarrollo Rural (SADER) y al de Seguridad Alimentaria Mexicana (SEGALMEX), garantizar un precio de garantía por tonelada de trigo panificable de $8,000.00 pesos y $385.00 dlls. para el trigo cristalino, para que el productor pueda atender los costos de producción y obtener una utilidad razonable de acuerdo a la actividad productiva que realizan.  TERCERO. El Senado de la República exhorta respetuosamente al titular de la Secretaría de Agricultura y Desarrollo Rural (SADER) y al de Seguridad Alimentaria Mexicana (SEGALMEX), establecer una mesa intersecretarial con autoridades que inciden en los precios de comercialización de cultivos, en la que participen la representación de productores de trigo como de los comercializadores, a fin de acordar los criterios que permita el establecimientos de precios justos en los esquemas de producción y comercialización del trigo.',\n",
       " 'ÚNICO.- La Comisión Permanente del H. Congreso de la Unión exhorta respetuosamente a la Secretaría de Relaciones Exteriores a que envíe un informe a esta Soberanía, relativo a la postura de la dependencia y de la representación diplomática respecto de las presiones y expresiones emitidas por el gobernador del Estado de Texas, Estados Unidos de América, que puedan constituir violaciones a la soberanía nacional de nuestro país.\\r\\n',\n",
       " 'ÚNICO. - El Senado de la República exhorta respetuosamente a la Secretaría de Infraestructura, Comunicaciones y Transportes, para que, en el menor tiempo posible, implementen acciones necesarias para recuperar la categoría 1 en Seguridad Aérea que otorga la Administración Federal de Aviación Civil, y remita un informe de las acciones implementadas.',\n",
       " 'ÚNICO. El Senado de la República exhorta respetuosamente a la Fiscalía General de la República, a que, de conformidad con la legislación vigente, considere atraer los casos de los periodistas Lourdes Maldonado y Margarita Martínez, asesinados en el mes de enero de 2022 en Tijuana, Baja California.',\n",
       " 'ÚNICO. El Senado de la República exhorta respetuosamente a las Secretarías de Gobernación y de Relaciones Exteriores del Gobierno de la República, atendiendo las facultades que tiene esta soberanía enunciadas en el artículo 76 de la Constitución Política de los Estados Unidos Mexicanos, informen a detalle de la implementación, recursos, efectos e implicaciones en los Estados Fronterizos del Norte del país, del Acuerdo Entre los Gobiernos de los Estados Unidos de América de los Estados del Programa “Protocolos de Protección a Migrantes” conocido como “Quédate en México”.',\n",
       " 'PRIMERO. Se exhorta respetuosamente a la Comisión Federal para la Protección Contra Riesgos Sanitarios a promover mecanismos de cooperación permanentes con la Administración de Medicamentos y Alimentos de Estados Unidos de América (FDA) a fin de implementar procesos paralelos de registros de medicamentos y acelerar los trámites correspondientes para su adquisición. SEGUNDO. Se exhorta respetuosamente a la Secretaría de Economía y a la Secretaría de Relaciones Exteriores a incluir las problemáticas del sector farma céutico antes descritas, así como la regulación y adquisición de medicamentos, en el siguiente Diálogo Económico de Alto Nivel (DEAN) entre México y Estados Unidos a sostenerse con las autoridades del gobierno de los Estados Unidos de América.']"
      ]
     },
     "execution_count": 100,
     "metadata": {},
     "output_type": "execute_result"
    }
   ],
   "source": [
    "ex_i = (senators['initiative_list'][4])\n",
    "ex_i"
   ]
  },
  {
   "cell_type": "code",
   "execution_count": 109,
   "id": "8d4fd9e2",
   "metadata": {},
   "outputs": [
    {
     "data": {
      "text/plain": [
       "14197"
      ]
     },
     "execution_count": 109,
     "metadata": {},
     "output_type": "execute_result"
    }
   ],
   "source": [
    "ex_s = senators['initiatives_summary_dummy'][1]\n",
    "len(ex_s)"
   ]
  },
  {
   "cell_type": "markdown",
   "id": "e22b66db",
   "metadata": {
    "heading_collapsed": true
   },
   "source": [
    "### Preprocess"
   ]
  },
  {
   "cell_type": "code",
   "execution_count": null,
   "id": "4f8b2df5",
   "metadata": {
    "hidden": true
   },
   "outputs": [],
   "source": [
    "import string\n",
    "from nltk.corpus import stopwords \n",
    "from nltk import word_tokenize\n",
    "from nltk.stem import WordNetLemmatizer\n",
    "import re"
   ]
  },
  {
   "cell_type": "code",
   "execution_count": null,
   "id": "8c5f4ade",
   "metadata": {
    "hidden": true
   },
   "outputs": [],
   "source": [
    "def clean(column):\n",
    "    \"\"\"Remove punctuation, make strings lower case, remove numbers. Tokenize, remove stopwords and lemmatize.\"\"\"\n",
    "    #Removing punctuation.\n",
    "    for punctuation in string.punctuation:\n",
    "        column = column.apply(lambda x: x.replace(punctuation, ''))\n",
    "    #Making lower case and removing whitespace.\n",
    "    column = column.apply(lambda x: x.lower().strip())\n",
    "    #Removing numbers\n",
    "    column = column.apply(lambda x: re.sub(r'[0-9]', '', x))\n",
    "    #Tokenize all rows.\n",
    "    #column = column.apply(lambda x: word_tokenize(x))\n",
    "    #Remove stopwords and words too frequently present in initiative language.\n",
    "    stop_words = set(stopwords.words('spanish'))\n",
    "    stop_words_extra = (\"pretende\", \"propone\", \"exhorta\", \"modificar\", \"actualizar\", \"política\", \"general\",\n",
    "                        \"caso\", \"derecho\", \"materia\", \"virtud\", \"referencias\", \"cambiar\", \"deberán\", \"día\",\n",
    "                        \"año\", \"denominación\", \"distrito\", \"cámara\", \"senadores\", \"normativa\", \"senado\",\n",
    "                        \"objetivo\", \"cumplimiento\", \"ordenamiento\", \"república\", \"reforma\", \"cada\",\n",
    "                        \"dar\", \"federal\", \"secretaría\", \"mención\", \"paso\", \"dejar\", \"principio\",\n",
    "                        \"ser\", \"paridad\", \"así\", \"derechos\", \"reformar\", \"propone\", \"nacional\",\n",
    "                        \"establecer\", \"méxico\", \"persona\", \"ley\", \"ciudad\", \"deberá\", \"legal\", \"personas\")\n",
    "    column = column.apply(lambda x: [w for w in x if w not in stop_words])\n",
    "    column = column.apply(lambda x: [w for w in x if w not in stop_words_extra])\n",
    "    # Lemmatizing the verbs\n",
    "    #column = column.apply(lambda x: [WordNetLemmatizer().lemmatize(word, pos = \"v\") for word in x])\n",
    "    # 2 - Lemmatizing the nouns\n",
    "    #column = column.apply(lambda x: [WordNetLemmatizer().lemmatize(word, pos = \"n\") for word in x])\n",
    "    # Rejoin words to make sentences\n",
    "    column = column.apply(lambda x: \" \".join(x))\n",
    "    return column"
   ]
  },
  {
   "cell_type": "markdown",
   "id": "41d8dd4c",
   "metadata": {
    "heading_collapsed": true
   },
   "source": [
    "### Inipros"
   ]
  },
  {
   "cell_type": "code",
   "execution_count": null,
   "id": "0b2dc211",
   "metadata": {
    "hidden": true
   },
   "outputs": [],
   "source": [
    "data_ip = pd.read_csv(\"/Users/mimihuerta/code/jomilu93/sivico/inipros.csv\", index_col='Unnamed: 0')"
   ]
  },
  {
   "cell_type": "code",
   "execution_count": null,
   "id": "27dde8c6",
   "metadata": {
    "hidden": true,
    "scrolled": true
   },
   "outputs": [],
   "source": [
    "print(data_ip.shape)\n",
    "data_ip.head(2)"
   ]
  },
  {
   "cell_type": "code",
   "execution_count": null,
   "id": "73862126",
   "metadata": {
    "hidden": true,
    "scrolled": false
   },
   "outputs": [],
   "source": [
    "eg1 = data_ip['sintesis'][7827]\n",
    "eg1"
   ]
  },
  {
   "cell_type": "code",
   "execution_count": null,
   "id": "88a1f5f5",
   "metadata": {
    "hidden": true
   },
   "outputs": [],
   "source": [
    "ip_column = data_ip[\"sintesis\"]\n",
    "ip_column"
   ]
  },
  {
   "cell_type": "code",
   "execution_count": null,
   "id": "07fecadc",
   "metadata": {
    "hidden": true
   },
   "outputs": [],
   "source": [
    "len_col_ip = [len(prop_in.split()) for prop_in in ip_column]\n",
    "\n",
    "pd.Series(len_col_ip).hist()"
   ]
  },
  {
   "cell_type": "markdown",
   "id": "3932bef6",
   "metadata": {},
   "source": [
    "## Model"
   ]
  },
  {
   "cell_type": "markdown",
   "id": "c2b67067",
   "metadata": {},
   "source": [
    "### Opción 1"
   ]
  },
  {
   "cell_type": "code",
   "execution_count": 77,
   "id": "b1f7b6b2",
   "metadata": {},
   "outputs": [],
   "source": [
    "from transformers import AutoTokenizer, AutoModelForSeq2SeqLM"
   ]
  },
  {
   "cell_type": "code",
   "execution_count": 54,
   "id": "d172916e",
   "metadata": {},
   "outputs": [
    {
     "name": "stderr",
     "output_type": "stream",
     "text": [
      "The following encoder weights were not tied to the decoder ['bert/pooler']\n",
      "Some weights of EncoderDecoderModel were not initialized from the model checkpoint at mrm8488/bert2bert_shared-spanish-finetuned-summarization and are newly initialized: ['decoder.bert.encoder.layer.9.attention.self.value.weight', 'decoder.bert.encoder.layer.5.output.LayerNorm.weight', 'decoder.bert.encoder.layer.2.output.dense.bias', 'decoder.bert.encoder.layer.3.output.LayerNorm.weight', 'decoder.bert.encoder.layer.9.output.LayerNorm.weight', 'decoder.bert.encoder.layer.1.attention.output.LayerNorm.weight', 'decoder.bert.encoder.layer.8.attention.output.dense.weight', 'decoder.bert.encoder.layer.0.output.LayerNorm.weight', 'decoder.bert.encoder.layer.0.intermediate.dense.bias', 'decoder.bert.encoder.layer.3.intermediate.dense.bias', 'decoder.bert.encoder.layer.7.attention.self.value.weight', 'decoder.bert.encoder.layer.10.attention.self.value.weight', 'decoder.bert.encoder.layer.1.attention.self.key.bias', 'decoder.bert.encoder.layer.5.attention.output.LayerNorm.bias', 'decoder.bert.encoder.layer.6.attention.self.key.weight', 'decoder.bert.embeddings.token_type_embeddings.weight', 'decoder.bert.encoder.layer.0.attention.self.value.bias', 'decoder.bert.embeddings.LayerNorm.weight', 'decoder.bert.encoder.layer.5.attention.self.key.bias', 'decoder.bert.encoder.layer.3.attention.output.dense.bias', 'decoder.bert.encoder.layer.2.output.LayerNorm.weight', 'decoder.bert.encoder.layer.1.attention.self.value.bias', 'decoder.bert.encoder.layer.11.intermediate.dense.weight', 'decoder.bert.encoder.layer.9.attention.output.LayerNorm.bias', 'decoder.bert.encoder.layer.8.attention.self.value.weight', 'decoder.bert.encoder.layer.7.output.dense.bias', 'decoder.bert.encoder.layer.4.intermediate.dense.weight', 'decoder.bert.encoder.layer.0.output.dense.weight', 'decoder.bert.encoder.layer.6.output.LayerNorm.weight', 'decoder.bert.encoder.layer.2.attention.self.key.bias', 'decoder.bert.encoder.layer.10.attention.output.dense.bias', 'decoder.bert.encoder.layer.2.attention.output.dense.bias', 'decoder.bert.encoder.layer.7.output.LayerNorm.weight', 'decoder.bert.embeddings.position_embeddings.weight', 'decoder.bert.encoder.layer.8.attention.output.dense.bias', 'decoder.bert.encoder.layer.11.attention.output.dense.weight', 'decoder.bert.encoder.layer.10.attention.self.key.weight', 'decoder.bert.encoder.layer.6.output.LayerNorm.bias', 'decoder.bert.encoder.layer.9.attention.self.key.bias', 'decoder.bert.encoder.layer.3.attention.output.LayerNorm.bias', 'decoder.bert.encoder.layer.4.attention.self.key.weight', 'decoder.bert.encoder.layer.11.output.LayerNorm.bias', 'decoder.bert.encoder.layer.7.intermediate.dense.bias', 'decoder.bert.encoder.layer.4.attention.output.dense.weight', 'decoder.bert.encoder.layer.7.output.LayerNorm.bias', 'decoder.bert.encoder.layer.9.attention.self.query.bias', 'decoder.cls.predictions.decoder.weight', 'decoder.bert.encoder.layer.8.intermediate.dense.weight', 'decoder.bert.encoder.layer.10.intermediate.dense.bias', 'decoder.bert.encoder.layer.4.output.LayerNorm.bias', 'decoder.bert.encoder.layer.8.output.dense.weight', 'decoder.bert.encoder.layer.3.attention.self.query.bias', 'decoder.bert.encoder.layer.9.attention.self.value.bias', 'decoder.bert.encoder.layer.10.attention.output.LayerNorm.weight', 'decoder.bert.encoder.layer.4.attention.self.query.bias', 'decoder.bert.encoder.layer.8.attention.output.LayerNorm.bias', 'decoder.bert.encoder.layer.10.attention.output.dense.weight', 'decoder.bert.encoder.layer.1.attention.output.dense.bias', 'decoder.bert.encoder.layer.5.attention.self.query.weight', 'decoder.bert.encoder.layer.0.attention.output.LayerNorm.bias', 'decoder.bert.encoder.layer.0.attention.self.query.weight', 'decoder.bert.encoder.layer.9.attention.output.dense.weight', 'decoder.bert.encoder.layer.5.attention.output.LayerNorm.weight', 'decoder.bert.encoder.layer.6.attention.output.dense.bias', 'decoder.bert.encoder.layer.6.attention.output.dense.weight', 'decoder.bert.encoder.layer.0.attention.output.dense.bias', 'decoder.bert.encoder.layer.7.attention.self.value.bias', 'decoder.bert.encoder.layer.4.attention.self.value.bias', 'decoder.bert.encoder.layer.0.attention.self.value.weight', 'decoder.bert.encoder.layer.9.attention.output.LayerNorm.weight', 'decoder.bert.encoder.layer.1.output.dense.bias', 'decoder.bert.encoder.layer.4.attention.self.key.bias', 'decoder.bert.encoder.layer.10.intermediate.dense.weight', 'decoder.bert.encoder.layer.6.output.dense.bias', 'decoder.bert.encoder.layer.7.attention.output.dense.bias', 'decoder.bert.encoder.layer.1.attention.self.query.weight', 'decoder.bert.encoder.layer.2.attention.output.LayerNorm.weight', 'decoder.bert.encoder.layer.11.intermediate.dense.bias', 'decoder.bert.encoder.layer.4.intermediate.dense.bias', 'decoder.bert.encoder.layer.6.intermediate.dense.bias', 'decoder.bert.encoder.layer.0.intermediate.dense.weight', 'decoder.bert.encoder.layer.7.output.dense.weight', 'decoder.bert.encoder.layer.3.attention.self.value.weight', 'decoder.bert.encoder.layer.6.attention.self.value.bias', 'decoder.bert.encoder.layer.9.intermediate.dense.bias', 'decoder.bert.encoder.layer.0.attention.output.LayerNorm.weight', 'decoder.bert.encoder.layer.5.attention.self.value.bias', 'decoder.bert.encoder.layer.11.attention.self.value.bias', 'decoder.bert.encoder.layer.11.attention.output.dense.bias', 'decoder.bert.encoder.layer.10.output.LayerNorm.weight', 'decoder.bert.encoder.layer.8.output.LayerNorm.bias', 'decoder.bert.encoder.layer.11.output.dense.bias', 'decoder.bert.encoder.layer.11.attention.self.query.weight', 'decoder.bert.encoder.layer.10.attention.self.key.bias', 'decoder.bert.encoder.layer.1.attention.self.query.bias', 'decoder.bert.encoder.layer.11.attention.self.value.weight', 'decoder.bert.encoder.layer.6.attention.self.query.bias', 'decoder.bert.encoder.layer.5.attention.self.key.weight', 'decoder.bert.encoder.layer.5.output.LayerNorm.bias', 'decoder.bert.encoder.layer.5.attention.self.query.bias', 'decoder.bert.encoder.layer.1.output.LayerNorm.bias', 'decoder.bert.encoder.layer.0.attention.output.dense.weight', 'decoder.bert.encoder.layer.11.attention.output.LayerNorm.bias', 'decoder.bert.encoder.layer.3.attention.self.value.bias', 'decoder.bert.encoder.layer.4.output.LayerNorm.weight', 'decoder.bert.encoder.layer.8.intermediate.dense.bias', 'decoder.bert.encoder.layer.4.attention.output.LayerNorm.bias', 'decoder.bert.encoder.layer.2.attention.self.query.weight', 'decoder.bert.encoder.layer.9.output.dense.bias', 'decoder.bert.encoder.layer.9.attention.self.query.weight', 'decoder.bert.encoder.layer.2.attention.self.key.weight', 'decoder.bert.encoder.layer.3.attention.output.dense.weight', 'decoder.bert.encoder.layer.10.output.LayerNorm.bias', 'decoder.bert.encoder.layer.3.attention.self.key.bias', 'decoder.cls.predictions.decoder.bias', 'decoder.bert.encoder.layer.5.attention.output.dense.weight', 'decoder.bert.encoder.layer.4.output.dense.bias', 'decoder.bert.encoder.layer.9.output.LayerNorm.bias', 'decoder.bert.encoder.layer.2.attention.self.query.bias', 'decoder.bert.encoder.layer.2.output.dense.weight', 'decoder.bert.encoder.layer.10.attention.self.query.weight', 'decoder.bert.encoder.layer.11.output.dense.weight', 'decoder.bert.encoder.layer.8.attention.self.key.weight', 'decoder.bert.encoder.layer.3.intermediate.dense.weight', 'decoder.bert.encoder.layer.6.attention.output.LayerNorm.bias', 'decoder.bert.encoder.layer.7.attention.self.query.bias', 'decoder.bert.encoder.layer.10.output.dense.weight', 'decoder.bert.embeddings.word_embeddings.weight', 'decoder.bert.encoder.layer.1.output.LayerNorm.weight', 'decoder.bert.encoder.layer.8.attention.self.key.bias', 'decoder.bert.encoder.layer.5.intermediate.dense.weight', 'decoder.bert.encoder.layer.4.output.dense.weight', 'decoder.bert.encoder.layer.4.attention.output.dense.bias', 'decoder.bert.encoder.layer.11.attention.self.key.weight', 'decoder.bert.embeddings.LayerNorm.bias', 'decoder.bert.encoder.layer.6.attention.output.LayerNorm.weight', 'decoder.bert.encoder.layer.0.attention.self.key.bias', 'decoder.bert.encoder.layer.2.output.LayerNorm.bias', 'decoder.bert.encoder.layer.0.attention.self.query.bias', 'decoder.bert.encoder.layer.9.attention.output.dense.bias', 'decoder.bert.encoder.layer.5.attention.self.value.weight', 'decoder.bert.encoder.layer.4.attention.self.value.weight', 'decoder.bert.encoder.layer.6.output.dense.weight', 'decoder.bert.encoder.layer.0.output.LayerNorm.bias', 'decoder.bert.encoder.layer.3.attention.output.LayerNorm.weight', 'decoder.bert.encoder.layer.2.attention.output.dense.weight', 'decoder.bert.encoder.layer.7.attention.self.query.weight', 'decoder.bert.encoder.layer.0.attention.self.key.weight', 'decoder.bert.encoder.layer.0.output.dense.bias', 'decoder.bert.encoder.layer.8.attention.self.query.bias', 'decoder.bert.encoder.layer.6.attention.self.query.weight', 'decoder.bert.encoder.layer.11.attention.self.key.bias', 'decoder.bert.encoder.layer.8.output.LayerNorm.weight', 'decoder.bert.encoder.layer.5.attention.output.dense.bias', 'decoder.bert.encoder.layer.5.output.dense.weight', 'decoder.bert.encoder.layer.6.attention.self.key.bias', 'decoder.bert.encoder.layer.10.attention.output.LayerNorm.bias', 'decoder.bert.encoder.layer.3.output.LayerNorm.bias', 'decoder.bert.encoder.layer.11.attention.self.query.bias', 'decoder.bert.encoder.layer.1.attention.output.LayerNorm.bias', 'decoder.bert.encoder.layer.8.output.dense.bias', 'decoder.bert.encoder.layer.1.attention.self.key.weight', 'decoder.bert.encoder.layer.9.attention.self.key.weight', 'decoder.bert.encoder.layer.10.attention.self.query.bias', 'decoder.bert.encoder.layer.11.output.LayerNorm.weight', 'decoder.bert.encoder.layer.10.attention.self.value.bias', 'decoder.bert.encoder.layer.6.attention.self.value.weight', 'decoder.bert.encoder.layer.3.output.dense.weight', 'decoder.bert.encoder.layer.2.attention.self.value.weight', 'decoder.bert.encoder.layer.2.attention.output.LayerNorm.bias', 'decoder.bert.encoder.layer.7.attention.self.key.bias', 'decoder.bert.encoder.layer.7.attention.output.LayerNorm.weight', 'decoder.bert.encoder.layer.4.attention.output.LayerNorm.weight', 'decoder.bert.encoder.layer.1.attention.output.dense.weight', 'decoder.bert.encoder.layer.3.attention.self.key.weight', 'decoder.bert.encoder.layer.11.attention.output.LayerNorm.weight', 'decoder.bert.encoder.layer.6.intermediate.dense.weight', 'decoder.bert.encoder.layer.9.output.dense.weight', 'decoder.bert.encoder.layer.7.attention.output.dense.weight', 'decoder.bert.encoder.layer.7.intermediate.dense.weight', 'decoder.bert.encoder.layer.1.intermediate.dense.bias', 'decoder.bert.encoder.layer.10.output.dense.bias', 'decoder.bert.encoder.layer.8.attention.self.value.bias', 'decoder.bert.encoder.layer.1.attention.self.value.weight', 'decoder.bert.encoder.layer.5.output.dense.bias', 'decoder.bert.encoder.layer.1.intermediate.dense.weight', 'decoder.bert.encoder.layer.5.intermediate.dense.bias', 'decoder.bert.encoder.layer.8.attention.output.LayerNorm.weight', 'decoder.bert.encoder.layer.1.output.dense.weight', 'decoder.bert.encoder.layer.7.attention.output.LayerNorm.bias', 'decoder.bert.encoder.layer.2.attention.self.value.bias', 'decoder.bert.encoder.layer.2.intermediate.dense.bias', 'decoder.bert.encoder.layer.3.attention.self.query.weight', 'decoder.bert.encoder.layer.4.attention.self.query.weight', 'decoder.bert.encoder.layer.2.intermediate.dense.weight', 'decoder.bert.encoder.layer.7.attention.self.key.weight', 'decoder.bert.encoder.layer.8.attention.self.query.weight', 'decoder.bert.encoder.layer.9.intermediate.dense.weight', 'decoder.bert.encoder.layer.3.output.dense.bias']\n",
      "You should probably TRAIN this model on a down-stream task to be able to use it for predictions and inference.\n"
     ]
    },
    {
     "name": "stderr",
     "output_type": "stream",
     "text": [
      "The following encoder weights were not tied to the decoder ['bert/pooler']\n"
     ]
    }
   ],
   "source": [
    "tokenizer = AutoTokenizer.from_pretrained(\"mrm8488/bert2bert_shared-spanish-finetuned-summarization\")\n",
    "model = AutoModelForSeq2SeqLM.from_pretrained(\"mrm8488/bert2bert_shared-spanish-finetuned-summarization\")"
   ]
  },
  {
   "cell_type": "code",
   "execution_count": 116,
   "id": "4df0292e",
   "metadata": {},
   "outputs": [
    {
     "data": {
      "text/plain": [
       "510"
      ]
     },
     "execution_count": 116,
     "metadata": {},
     "output_type": "execute_result"
    }
   ],
   "source": [
    "inputs = tokenizer.encode(\"RESUMEN: \" + ex_s, return_tensors=\"pt\", max_length=510, truncation=True)\n",
    "len(inputs[0])"
   ]
  },
  {
   "cell_type": "code",
   "execution_count": 115,
   "id": "1c11b708",
   "metadata": {},
   "outputs": [],
   "source": [
    "resumen = model.generate(\n",
    "    inputs, \n",
    "    max_length=500,\n",
    "    min_length=40, \n",
    "    length_penalty=2.0, \n",
    "    num_beams=4, \n",
    "    early_stopping=True)"
   ]
  },
  {
   "cell_type": "code",
   "execution_count": 94,
   "id": "461d95b7",
   "metadata": {
    "scrolled": false
   },
   "outputs": [
    {
     "name": "stdout",
     "output_type": "stream",
     "text": [
      "[CLS] Propone establecer que el instituto de Servicios Periciales y Ciencias Forenses será el área técnica de apoyo a la Fiscalía que tendrá como objetivo fortalecer su capacidad institucional para realizar sus funciones de manera especializada y científica [SEP]\n"
     ]
    }
   ],
   "source": [
    "print(tokenizer.decode(resumen[0]))"
   ]
  },
  {
   "cell_type": "code",
   "execution_count": 65,
   "id": "4a7293d0",
   "metadata": {},
   "outputs": [
    {
     "data": {
      "text/plain": [
       "0    Pretende garantizar a los miembros del Servici...\n",
       "1    Propone que el Estado apoye la investigación e...\n",
       "2    Propone modificar las disposiciones constituci...\n",
       "3    Propone eliminar el requisito que establece qu...\n",
       "4    Propone modificar las disposiciones constituci...\n",
       "Name: initiatives_summary_dummy, dtype: object"
      ]
     },
     "execution_count": 65,
     "metadata": {},
     "output_type": "execute_result"
    }
   ],
   "source": [
    "prop_inc_t = senators['initiatives_summary_dummy'][:5]\n",
    "prop_inc_t"
   ]
  },
  {
   "cell_type": "code",
   "execution_count": 91,
   "id": "7d5d8d20",
   "metadata": {},
   "outputs": [],
   "source": [
    "senators[\"BETO\"] = \"\""
   ]
  },
  {
   "cell_type": "code",
   "execution_count": 96,
   "id": "b0a32150",
   "metadata": {},
   "outputs": [],
   "source": [
    "prueba = []"
   ]
  },
  {
   "cell_type": "code",
   "execution_count": 106,
   "id": "da2d4793",
   "metadata": {},
   "outputs": [],
   "source": [
    "def apply_beto(prop_inc_t):\n",
    "    count = 0\n",
    "    for prop_ini in prop_inc_t:\n",
    "        inputs = tokenizer.encode(\"RESUMEN: \" + prop_ini, return_tensors=\"pt\", max_length=10000, truncation=True)\n",
    "        resumen = model.generate(inputs, max_length=500, min_length=40, length_penalty=2.0, num_beams=4, early_stopping=True)\n",
    "        prueba.append(tokenizer.decode(resumen[0]))\n",
    "        #senators[\"BETO\"][count] = tokenizer.decode(resumen[0])\n",
    "        #count +=1 "
   ]
  },
  {
   "cell_type": "code",
   "execution_count": 107,
   "id": "d87655e2",
   "metadata": {
    "scrolled": false
   },
   "outputs": [
    {
     "ename": "RuntimeError",
     "evalue": "The expanded size of the tensor (2635) must match the existing size (512) at non-singleton dimension 1.  Target sizes: [1, 2635].  Tensor sizes: [1, 512]",
     "output_type": "error",
     "traceback": [
      "\u001b[0;31m---------------------------------------------------------------------------\u001b[0m",
      "\u001b[0;31mRuntimeError\u001b[0m                              Traceback (most recent call last)",
      "Cell \u001b[0;32mIn[107], line 1\u001b[0m\n\u001b[0;32m----> 1\u001b[0m \u001b[43mapply_beto\u001b[49m\u001b[43m(\u001b[49m\u001b[43mprop_inc_t\u001b[49m\u001b[43m)\u001b[49m\n",
      "Cell \u001b[0;32mIn[106], line 5\u001b[0m, in \u001b[0;36mapply_beto\u001b[0;34m(prop_inc_t)\u001b[0m\n\u001b[1;32m      3\u001b[0m \u001b[38;5;28;01mfor\u001b[39;00m prop_ini \u001b[38;5;129;01min\u001b[39;00m prop_inc_t:\n\u001b[1;32m      4\u001b[0m     inputs \u001b[38;5;241m=\u001b[39m tokenizer\u001b[38;5;241m.\u001b[39mencode(\u001b[38;5;124m\"\u001b[39m\u001b[38;5;124mRESUMEN: \u001b[39m\u001b[38;5;124m\"\u001b[39m \u001b[38;5;241m+\u001b[39m prop_ini, return_tensors\u001b[38;5;241m=\u001b[39m\u001b[38;5;124m\"\u001b[39m\u001b[38;5;124mpt\u001b[39m\u001b[38;5;124m\"\u001b[39m, max_length\u001b[38;5;241m=\u001b[39m\u001b[38;5;241m10000\u001b[39m, truncation\u001b[38;5;241m=\u001b[39m\u001b[38;5;28;01mTrue\u001b[39;00m)\n\u001b[0;32m----> 5\u001b[0m     resumen \u001b[38;5;241m=\u001b[39m \u001b[43mmodel\u001b[49m\u001b[38;5;241;43m.\u001b[39;49m\u001b[43mgenerate\u001b[49m\u001b[43m(\u001b[49m\u001b[43minputs\u001b[49m\u001b[43m,\u001b[49m\u001b[43m \u001b[49m\u001b[43mmax_length\u001b[49m\u001b[38;5;241;43m=\u001b[39;49m\u001b[38;5;241;43m500\u001b[39;49m\u001b[43m,\u001b[49m\u001b[43m \u001b[49m\u001b[43mmin_length\u001b[49m\u001b[38;5;241;43m=\u001b[39;49m\u001b[38;5;241;43m40\u001b[39;49m\u001b[43m,\u001b[49m\u001b[43m \u001b[49m\u001b[43mlength_penalty\u001b[49m\u001b[38;5;241;43m=\u001b[39;49m\u001b[38;5;241;43m2.0\u001b[39;49m\u001b[43m,\u001b[49m\u001b[43m \u001b[49m\u001b[43mnum_beams\u001b[49m\u001b[38;5;241;43m=\u001b[39;49m\u001b[38;5;241;43m4\u001b[39;49m\u001b[43m,\u001b[49m\u001b[43m \u001b[49m\u001b[43mearly_stopping\u001b[49m\u001b[38;5;241;43m=\u001b[39;49m\u001b[38;5;28;43;01mTrue\u001b[39;49;00m\u001b[43m)\u001b[49m\n\u001b[1;32m      6\u001b[0m     prueba\u001b[38;5;241m.\u001b[39mappend(tokenizer\u001b[38;5;241m.\u001b[39mdecode(resumen[\u001b[38;5;241m0\u001b[39m]))\n",
      "File \u001b[0;32m~/.pyenv/versions/BETOenv/lib/python3.10/site-packages/torch/utils/_contextlib.py:115\u001b[0m, in \u001b[0;36mcontext_decorator.<locals>.decorate_context\u001b[0;34m(*args, **kwargs)\u001b[0m\n\u001b[1;32m    112\u001b[0m \u001b[38;5;129m@functools\u001b[39m\u001b[38;5;241m.\u001b[39mwraps(func)\n\u001b[1;32m    113\u001b[0m \u001b[38;5;28;01mdef\u001b[39;00m \u001b[38;5;21mdecorate_context\u001b[39m(\u001b[38;5;241m*\u001b[39margs, \u001b[38;5;241m*\u001b[39m\u001b[38;5;241m*\u001b[39mkwargs):\n\u001b[1;32m    114\u001b[0m     \u001b[38;5;28;01mwith\u001b[39;00m ctx_factory():\n\u001b[0;32m--> 115\u001b[0m         \u001b[38;5;28;01mreturn\u001b[39;00m \u001b[43mfunc\u001b[49m\u001b[43m(\u001b[49m\u001b[38;5;241;43m*\u001b[39;49m\u001b[43margs\u001b[49m\u001b[43m,\u001b[49m\u001b[43m \u001b[49m\u001b[38;5;241;43m*\u001b[39;49m\u001b[38;5;241;43m*\u001b[39;49m\u001b[43mkwargs\u001b[49m\u001b[43m)\u001b[49m\n",
      "File \u001b[0;32m~/.pyenv/versions/BETOenv/lib/python3.10/site-packages/transformers/generation/utils.py:1329\u001b[0m, in \u001b[0;36mGenerationMixin.generate\u001b[0;34m(self, inputs, generation_config, logits_processor, stopping_criteria, prefix_allowed_tokens_fn, synced_gpus, assistant_model, streamer, **kwargs)\u001b[0m\n\u001b[1;32m   1321\u001b[0m         logger\u001b[38;5;241m.\u001b[39mwarning(\n\u001b[1;32m   1322\u001b[0m             \u001b[38;5;124m\"\u001b[39m\u001b[38;5;124mA decoder-only architecture is being used, but right-padding was detected! For correct \u001b[39m\u001b[38;5;124m\"\u001b[39m\n\u001b[1;32m   1323\u001b[0m             \u001b[38;5;124m\"\u001b[39m\u001b[38;5;124mgeneration results, please set `padding_side=\u001b[39m\u001b[38;5;124m'\u001b[39m\u001b[38;5;124mleft\u001b[39m\u001b[38;5;124m'\u001b[39m\u001b[38;5;124m` when initializing the tokenizer.\u001b[39m\u001b[38;5;124m\"\u001b[39m\n\u001b[1;32m   1324\u001b[0m         )\n\u001b[1;32m   1326\u001b[0m \u001b[38;5;28;01mif\u001b[39;00m \u001b[38;5;28mself\u001b[39m\u001b[38;5;241m.\u001b[39mconfig\u001b[38;5;241m.\u001b[39mis_encoder_decoder \u001b[38;5;129;01mand\u001b[39;00m \u001b[38;5;124m\"\u001b[39m\u001b[38;5;124mencoder_outputs\u001b[39m\u001b[38;5;124m\"\u001b[39m \u001b[38;5;129;01mnot\u001b[39;00m \u001b[38;5;129;01min\u001b[39;00m model_kwargs:\n\u001b[1;32m   1327\u001b[0m     \u001b[38;5;66;03m# if model is encoder decoder encoder_outputs are created\u001b[39;00m\n\u001b[1;32m   1328\u001b[0m     \u001b[38;5;66;03m# and added to `model_kwargs`\u001b[39;00m\n\u001b[0;32m-> 1329\u001b[0m     model_kwargs \u001b[38;5;241m=\u001b[39m \u001b[38;5;28;43mself\u001b[39;49m\u001b[38;5;241;43m.\u001b[39;49m\u001b[43m_prepare_encoder_decoder_kwargs_for_generation\u001b[49m\u001b[43m(\u001b[49m\n\u001b[1;32m   1330\u001b[0m \u001b[43m        \u001b[49m\u001b[43minputs_tensor\u001b[49m\u001b[43m,\u001b[49m\u001b[43m \u001b[49m\u001b[43mmodel_kwargs\u001b[49m\u001b[43m,\u001b[49m\u001b[43m \u001b[49m\u001b[43mmodel_input_name\u001b[49m\n\u001b[1;32m   1331\u001b[0m \u001b[43m    \u001b[49m\u001b[43m)\u001b[49m\n\u001b[1;32m   1333\u001b[0m \u001b[38;5;66;03m# 5. Prepare `input_ids` which will be used for auto-regressive generation\u001b[39;00m\n\u001b[1;32m   1334\u001b[0m \u001b[38;5;28;01mif\u001b[39;00m \u001b[38;5;28mself\u001b[39m\u001b[38;5;241m.\u001b[39mconfig\u001b[38;5;241m.\u001b[39mis_encoder_decoder:\n",
      "File \u001b[0;32m~/.pyenv/versions/BETOenv/lib/python3.10/site-packages/transformers/generation/utils.py:642\u001b[0m, in \u001b[0;36mGenerationMixin._prepare_encoder_decoder_kwargs_for_generation\u001b[0;34m(self, inputs_tensor, model_kwargs, model_input_name)\u001b[0m\n\u001b[1;32m    640\u001b[0m encoder_kwargs[\u001b[38;5;124m\"\u001b[39m\u001b[38;5;124mreturn_dict\u001b[39m\u001b[38;5;124m\"\u001b[39m] \u001b[38;5;241m=\u001b[39m \u001b[38;5;28;01mTrue\u001b[39;00m\n\u001b[1;32m    641\u001b[0m encoder_kwargs[model_input_name] \u001b[38;5;241m=\u001b[39m inputs_tensor\n\u001b[0;32m--> 642\u001b[0m model_kwargs[\u001b[38;5;124m\"\u001b[39m\u001b[38;5;124mencoder_outputs\u001b[39m\u001b[38;5;124m\"\u001b[39m]: ModelOutput \u001b[38;5;241m=\u001b[39m \u001b[43mencoder\u001b[49m\u001b[43m(\u001b[49m\u001b[38;5;241;43m*\u001b[39;49m\u001b[38;5;241;43m*\u001b[39;49m\u001b[43mencoder_kwargs\u001b[49m\u001b[43m)\u001b[49m\n\u001b[1;32m    644\u001b[0m \u001b[38;5;28;01mreturn\u001b[39;00m model_kwargs\n",
      "File \u001b[0;32m~/.pyenv/versions/BETOenv/lib/python3.10/site-packages/torch/nn/modules/module.py:1501\u001b[0m, in \u001b[0;36mModule._call_impl\u001b[0;34m(self, *args, **kwargs)\u001b[0m\n\u001b[1;32m   1496\u001b[0m \u001b[38;5;66;03m# If we don't have any hooks, we want to skip the rest of the logic in\u001b[39;00m\n\u001b[1;32m   1497\u001b[0m \u001b[38;5;66;03m# this function, and just call forward.\u001b[39;00m\n\u001b[1;32m   1498\u001b[0m \u001b[38;5;28;01mif\u001b[39;00m \u001b[38;5;129;01mnot\u001b[39;00m (\u001b[38;5;28mself\u001b[39m\u001b[38;5;241m.\u001b[39m_backward_hooks \u001b[38;5;129;01mor\u001b[39;00m \u001b[38;5;28mself\u001b[39m\u001b[38;5;241m.\u001b[39m_backward_pre_hooks \u001b[38;5;129;01mor\u001b[39;00m \u001b[38;5;28mself\u001b[39m\u001b[38;5;241m.\u001b[39m_forward_hooks \u001b[38;5;129;01mor\u001b[39;00m \u001b[38;5;28mself\u001b[39m\u001b[38;5;241m.\u001b[39m_forward_pre_hooks\n\u001b[1;32m   1499\u001b[0m         \u001b[38;5;129;01mor\u001b[39;00m _global_backward_pre_hooks \u001b[38;5;129;01mor\u001b[39;00m _global_backward_hooks\n\u001b[1;32m   1500\u001b[0m         \u001b[38;5;129;01mor\u001b[39;00m _global_forward_hooks \u001b[38;5;129;01mor\u001b[39;00m _global_forward_pre_hooks):\n\u001b[0;32m-> 1501\u001b[0m     \u001b[38;5;28;01mreturn\u001b[39;00m \u001b[43mforward_call\u001b[49m\u001b[43m(\u001b[49m\u001b[38;5;241;43m*\u001b[39;49m\u001b[43margs\u001b[49m\u001b[43m,\u001b[49m\u001b[43m \u001b[49m\u001b[38;5;241;43m*\u001b[39;49m\u001b[38;5;241;43m*\u001b[39;49m\u001b[43mkwargs\u001b[49m\u001b[43m)\u001b[49m\n\u001b[1;32m   1502\u001b[0m \u001b[38;5;66;03m# Do not call functions when jit is used\u001b[39;00m\n\u001b[1;32m   1503\u001b[0m full_backward_hooks, non_full_backward_hooks \u001b[38;5;241m=\u001b[39m [], []\n",
      "File \u001b[0;32m~/.pyenv/versions/BETOenv/lib/python3.10/site-packages/transformers/models/bert/modeling_bert.py:986\u001b[0m, in \u001b[0;36mBertModel.forward\u001b[0;34m(self, input_ids, attention_mask, token_type_ids, position_ids, head_mask, inputs_embeds, encoder_hidden_states, encoder_attention_mask, past_key_values, use_cache, output_attentions, output_hidden_states, return_dict)\u001b[0m\n\u001b[1;32m    984\u001b[0m \u001b[38;5;28;01mif\u001b[39;00m \u001b[38;5;28mhasattr\u001b[39m(\u001b[38;5;28mself\u001b[39m\u001b[38;5;241m.\u001b[39membeddings, \u001b[38;5;124m\"\u001b[39m\u001b[38;5;124mtoken_type_ids\u001b[39m\u001b[38;5;124m\"\u001b[39m):\n\u001b[1;32m    985\u001b[0m     buffered_token_type_ids \u001b[38;5;241m=\u001b[39m \u001b[38;5;28mself\u001b[39m\u001b[38;5;241m.\u001b[39membeddings\u001b[38;5;241m.\u001b[39mtoken_type_ids[:, :seq_length]\n\u001b[0;32m--> 986\u001b[0m     buffered_token_type_ids_expanded \u001b[38;5;241m=\u001b[39m \u001b[43mbuffered_token_type_ids\u001b[49m\u001b[38;5;241;43m.\u001b[39;49m\u001b[43mexpand\u001b[49m\u001b[43m(\u001b[49m\u001b[43mbatch_size\u001b[49m\u001b[43m,\u001b[49m\u001b[43m \u001b[49m\u001b[43mseq_length\u001b[49m\u001b[43m)\u001b[49m\n\u001b[1;32m    987\u001b[0m     token_type_ids \u001b[38;5;241m=\u001b[39m buffered_token_type_ids_expanded\n\u001b[1;32m    988\u001b[0m \u001b[38;5;28;01melse\u001b[39;00m:\n",
      "\u001b[0;31mRuntimeError\u001b[0m: The expanded size of the tensor (2635) must match the existing size (512) at non-singleton dimension 1.  Target sizes: [1, 2635].  Tensor sizes: [1, 512]"
     ]
    }
   ],
   "source": [
    "apply_beto(prop_inc_t)"
   ]
  },
  {
   "cell_type": "code",
   "execution_count": null,
   "id": "cb87b03f",
   "metadata": {},
   "outputs": [],
   "source": [
    "prueba"
   ]
  },
  {
   "cell_type": "code",
   "execution_count": 103,
   "id": "b259ecc1",
   "metadata": {
    "scrolled": true
   },
   "outputs": [
    {
     "ename": "AttributeError",
     "evalue": "'BertTokenizerFast' object has no attribute 'model_max_lenght'",
     "output_type": "error",
     "traceback": [
      "\u001b[0;31m---------------------------------------------------------------------------\u001b[0m",
      "\u001b[0;31mAttributeError\u001b[0m                            Traceback (most recent call last)",
      "Cell \u001b[0;32mIn[103], line 1\u001b[0m\n\u001b[0;32m----> 1\u001b[0m \u001b[43mtokenizer\u001b[49m\u001b[38;5;241;43m.\u001b[39;49m\u001b[43mmodel_max_lenght\u001b[49m\n",
      "\u001b[0;31mAttributeError\u001b[0m: 'BertTokenizerFast' object has no attribute 'model_max_lenght'"
     ]
    }
   ],
   "source": [
    "tokenizer.model_max_lenght"
   ]
  },
  {
   "cell_type": "code",
   "execution_count": null,
   "id": "73051286",
   "metadata": {},
   "outputs": [],
   "source": [
    "model.config.max_position_embeddings()\n",
    "embeddings = TransformerWordEmbeddings(\n",
    "    \"path/to/model\",\n",
    "    layers=\"-1\",\n",
    "    subtoken_pooling=\"first\",\n",
    "    fine_tune=True,\n",
    "    use_context=True,\n",
    "    allow_long_sentences=True,\n",
    "    model_max_length=512  # pass length\n",
    ")"
   ]
  },
  {
   "cell_type": "markdown",
   "id": "a4ec81ec",
   "metadata": {
    "heading_collapsed": true
   },
   "source": [
    "### Opción 2"
   ]
  },
  {
   "cell_type": "code",
   "execution_count": null,
   "id": "01877a33",
   "metadata": {
    "hidden": true
   },
   "outputs": [],
   "source": [
    "tokenizer = AutoTokenizer.from_pretrained(\"mrm8488/bert2bert_shared-spanish-finetuned-summarization\")\n",
    "model = AutoModelForSeq2SeqLM.from_pretrained(\"mrm8488/bert2bert_shared-spanish-finetuned-summarization\")"
   ]
  },
  {
   "cell_type": "code",
   "execution_count": null,
   "id": "a480fc20",
   "metadata": {
    "hidden": true,
    "scrolled": true
   },
   "outputs": [],
   "source": [
    "inputs_ip = tokenizer.encode(\"RESUMEN: \" + eg1, return_tensors=\"pt\", max_length=1000, truncation=True)\n",
    "inputs_ip"
   ]
  },
  {
   "cell_type": "code",
   "execution_count": null,
   "id": "95d9c27c",
   "metadata": {
    "hidden": true
   },
   "outputs": [],
   "source": [
    "resumen = model.generate(\n",
    "    inputs_ip, \n",
    "    max_length=300,\n",
    "    min_length=40, \n",
    "    length_penalty=2.0, \n",
    "    num_beams=4, \n",
    "    early_stopping=True)"
   ]
  },
  {
   "cell_type": "code",
   "execution_count": null,
   "id": "15e79b9b",
   "metadata": {
    "hidden": true
   },
   "outputs": [],
   "source": [
    "print(tokenizer.decode(resumen[0]))"
   ]
  },
  {
   "cell_type": "markdown",
   "id": "24747a76",
   "metadata": {
    "heading_collapsed": true
   },
   "source": [
    "### Opción 3 -- deprecated"
   ]
  },
  {
   "cell_type": "code",
   "execution_count": null,
   "id": "9c0fa181",
   "metadata": {
    "hidden": true
   },
   "outputs": [],
   "source": [
    "from transformers import AutoTokenizer, AutoModelForMaskedLM"
   ]
  },
  {
   "cell_type": "code",
   "execution_count": null,
   "id": "5c8a635c",
   "metadata": {
    "hidden": true
   },
   "outputs": [],
   "source": [
    "tokenizer = AutoTokenizer.from_pretrained(\"dccuchile/bert-base-spanish-wwm-uncased\")\n",
    "model = AutoModelForMaskedLM.from_pretrained(\"dccuchile/bert-base-spanish-wwm-uncased\")"
   ]
  },
  {
   "cell_type": "code",
   "execution_count": null,
   "id": "db2bc4a5",
   "metadata": {
    "hidden": true
   },
   "outputs": [],
   "source": [
    "inputs_2 = tokenizer.encode(\"RESUMEN: \" + a, return_tensors=\"pt\", max_length=1000, truncation=True)\n",
    "inputs_2"
   ]
  },
  {
   "cell_type": "code",
   "execution_count": null,
   "id": "91ad5595",
   "metadata": {
    "hidden": true
   },
   "outputs": [],
   "source": [
    "resumen_2 = model.generate(\n",
    "    inputs, \n",
    "    max_length=500, \n",
    "    min_length=40, \n",
    "    length_penalty=2.0, \n",
    "    num_beams=4, \n",
    "    early_stopping=True)"
   ]
  },
  {
   "cell_type": "code",
   "execution_count": null,
   "id": "fef8f8c1",
   "metadata": {
    "hidden": true
   },
   "outputs": [],
   "source": [
    "print(tokenizer.decode(resumen_2[0]))"
   ]
  },
  {
   "cell_type": "code",
   "execution_count": null,
   "id": "6a8ff28f",
   "metadata": {
    "hidden": true
   },
   "outputs": [],
   "source": []
  }
 ],
 "metadata": {
  "kernelspec": {
   "display_name": "Python 3 (ipykernel)",
   "language": "python",
   "name": "python3"
  },
  "language_info": {
   "codemirror_mode": {
    "name": "ipython",
    "version": 3
   },
   "file_extension": ".py",
   "mimetype": "text/x-python",
   "name": "python",
   "nbconvert_exporter": "python",
   "pygments_lexer": "ipython3",
   "version": "3.10.6"
  },
  "toc": {
   "base_numbering": 1,
   "nav_menu": {},
   "number_sections": true,
   "sideBar": true,
   "skip_h1_title": false,
   "title_cell": "Table of Contents",
   "title_sidebar": "Contents",
   "toc_cell": false,
   "toc_position": {},
   "toc_section_display": true,
   "toc_window_display": false
  }
 },
 "nbformat": 4,
 "nbformat_minor": 5
}
