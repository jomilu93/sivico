{
 "cells": [
  {
   "cell_type": "markdown",
   "id": "84da681e",
   "metadata": {},
   "source": [
    "# BETO model"
   ]
  },
  {
   "cell_type": "code",
   "execution_count": 1,
   "id": "0aa1a837",
   "metadata": {},
   "outputs": [],
   "source": [
    "import pandas as pd"
   ]
  },
  {
   "cell_type": "markdown",
   "id": "52c9b79f",
   "metadata": {},
   "source": [
    "## General"
   ]
  },
  {
   "cell_type": "markdown",
   "id": "45e71f38",
   "metadata": {},
   "source": [
    "### Senators_data"
   ]
  },
  {
   "cell_type": "code",
   "execution_count": 2,
   "id": "39d2b680",
   "metadata": {
    "scrolled": true
   },
   "outputs": [
    {
     "data": {
      "text/html": [
       "<div>\n",
       "<style scoped>\n",
       "    .dataframe tbody tr th:only-of-type {\n",
       "        vertical-align: middle;\n",
       "    }\n",
       "\n",
       "    .dataframe tbody tr th {\n",
       "        vertical-align: top;\n",
       "    }\n",
       "\n",
       "    .dataframe thead th {\n",
       "        text-align: right;\n",
       "    }\n",
       "</style>\n",
       "<table border=\"1\" class=\"dataframe\">\n",
       "  <thead>\n",
       "    <tr style=\"text-align: right;\">\n",
       "      <th></th>\n",
       "      <th>senator_id</th>\n",
       "      <th>Apellidos</th>\n",
       "      <th>Nombre</th>\n",
       "      <th>Fraccion</th>\n",
       "      <th>Legislatura</th>\n",
       "      <th>Estado</th>\n",
       "      <th>Sexo</th>\n",
       "      <th>tipoEleccion</th>\n",
       "      <th>Suplente</th>\n",
       "      <th>estadoOrigen</th>\n",
       "      <th>...</th>\n",
       "      <th>url_sitio</th>\n",
       "      <th>telefono</th>\n",
       "      <th>extension</th>\n",
       "      <th>estatus</th>\n",
       "      <th>direccion</th>\n",
       "      <th>id</th>\n",
       "      <th>senadores</th>\n",
       "      <th>attendance_score</th>\n",
       "      <th>initiative_list</th>\n",
       "      <th>initiatives_summary_dummy</th>\n",
       "    </tr>\n",
       "  </thead>\n",
       "  <tbody>\n",
       "    <tr>\n",
       "      <th>0</th>\n",
       "      <td>1160</td>\n",
       "      <td>Botello Montes</td>\n",
       "      <td>José Alfredo</td>\n",
       "      <td>PAN</td>\n",
       "      <td>64</td>\n",
       "      <td>Querétaro</td>\n",
       "      <td>Hombre</td>\n",
       "      <td>Senador Electo por el Principio de Mayoría Rel...</td>\n",
       "      <td>NaN</td>\n",
       "      <td>Querétaro</td>\n",
       "      <td>...</td>\n",
       "      <td>NaN</td>\n",
       "      <td>5345 3000</td>\n",
       "      <td>4183 y 4184</td>\n",
       "      <td>en_funciones</td>\n",
       "      <td>Av Paseo de la Reforma No. 135, Hemiciclo Piso...</td>\n",
       "      <td>1</td>\n",
       "      <td>José Alfredo Botello Montes</td>\n",
       "      <td>0.958904</td>\n",
       "      <td>[Pretende garantizar a los miembros del Servic...</td>\n",
       "      <td>Pretende garantizar a los miembros del Servici...</td>\n",
       "    </tr>\n",
       "    <tr>\n",
       "      <th>1</th>\n",
       "      <td>1162</td>\n",
       "      <td>Rojas Loreto</td>\n",
       "      <td>Estrella</td>\n",
       "      <td>PAN</td>\n",
       "      <td>64</td>\n",
       "      <td>Querétaro</td>\n",
       "      <td>Mujer</td>\n",
       "      <td>Senadora Electa por el Principio de Mayoría Re...</td>\n",
       "      <td>NaN</td>\n",
       "      <td>Querétaro</td>\n",
       "      <td>...</td>\n",
       "      <td>NaN</td>\n",
       "      <td>5345 3000</td>\n",
       "      <td>3323</td>\n",
       "      <td>en_funciones</td>\n",
       "      <td>Av Paseo de la Reforma No. 135, Hemiciclo Piso...</td>\n",
       "      <td>2</td>\n",
       "      <td>Estrella Rojas Loreto</td>\n",
       "      <td>0.973913</td>\n",
       "      <td>[Propone que el Estado apoye la investigación ...</td>\n",
       "      <td>Propone que el Estado apoye la investigación e...</td>\n",
       "    </tr>\n",
       "  </tbody>\n",
       "</table>\n",
       "<p>2 rows × 25 columns</p>\n",
       "</div>"
      ],
      "text/plain": [
       "   senator_id       Apellidos        Nombre Fraccion  Legislatura     Estado  \\\n",
       "0        1160  Botello Montes  José Alfredo      PAN           64  Querétaro   \n",
       "1        1162    Rojas Loreto      Estrella      PAN           64  Querétaro   \n",
       "\n",
       "     Sexo                                       tipoEleccion Suplente  \\\n",
       "0  Hombre  Senador Electo por el Principio de Mayoría Rel...      NaN   \n",
       "1   Mujer  Senadora Electa por el Principio de Mayoría Re...      NaN   \n",
       "\n",
       "  estadoOrigen  ... url_sitio   telefono    extension       estatus  \\\n",
       "0    Querétaro  ...       NaN  5345 3000  4183 y 4184  en_funciones   \n",
       "1    Querétaro  ...       NaN  5345 3000         3323  en_funciones   \n",
       "\n",
       "                                           direccion id  \\\n",
       "0  Av Paseo de la Reforma No. 135, Hemiciclo Piso...  1   \n",
       "1  Av Paseo de la Reforma No. 135, Hemiciclo Piso...  2   \n",
       "\n",
       "                     senadores attendance_score  \\\n",
       "0  José Alfredo Botello Montes         0.958904   \n",
       "1        Estrella Rojas Loreto         0.973913   \n",
       "\n",
       "                                     initiative_list  \\\n",
       "0  [Pretende garantizar a los miembros del Servic...   \n",
       "1  [Propone que el Estado apoye la investigación ...   \n",
       "\n",
       "                           initiatives_summary_dummy  \n",
       "0  Pretende garantizar a los miembros del Servici...  \n",
       "1  Propone que el Estado apoye la investigación e...  \n",
       "\n",
       "[2 rows x 25 columns]"
      ]
     },
     "execution_count": 2,
     "metadata": {},
     "output_type": "execute_result"
    }
   ],
   "source": [
    "#Import senator csv from senator_data_file\n",
    "senators = pd.read_csv(r'/Users/mimihuerta/code/jomilu93/sivico/data/senators_data.csv', converters={'initiative_list': pd.eval}, index_col='Unnamed: 0')\n",
    "senators.head(2)"
   ]
  },
  {
   "cell_type": "code",
   "execution_count": 4,
   "id": "07ca7c00",
   "metadata": {},
   "outputs": [
    {
     "data": {
      "text/plain": [
       "Index(['senator_id', 'Apellidos', 'Nombre', 'Fraccion', 'Legislatura',\n",
       "       'Estado', 'Sexo', 'tipoEleccion', 'Suplente', 'estadoOrigen', 'correo',\n",
       "       'facebook', 'twitter', 'youtube', 'instagram', 'url_sitio', 'telefono',\n",
       "       'extension', 'estatus', 'direccion', 'id', 'senadores',\n",
       "       'attendance_score', 'initiative_list', 'initiatives_summary_dummy'],\n",
       "      dtype='object')"
      ]
     },
     "execution_count": 4,
     "metadata": {},
     "output_type": "execute_result"
    }
   ],
   "source": [
    "#Dataset column names\n",
    "columnas = senators.columns\n",
    "columnas"
   ]
  },
  {
   "cell_type": "code",
   "execution_count": 5,
   "id": "8b2391cd",
   "metadata": {
    "scrolled": true
   },
   "outputs": [
    {
     "data": {
      "text/plain": [
       "<Axes: >"
      ]
     },
     "execution_count": 5,
     "metadata": {},
     "output_type": "execute_result"
    },
    {
     "data": {
      "image/png": "[encoded data removed]",
      "text/plain": [
       "<Figure size 640x480 with 1 Axes>"
      ]
     },
     "metadata": {},
     "output_type": "display_data"
    }
   ],
   "source": [
    "#Number of sentences in the dataset\n",
    "len_col = [len(prop) for prop in senators[\"initiative_list\"]]\n",
    "pd.Series(len_col).hist()"
   ]
  },
  {
   "cell_type": "code",
   "execution_count": 6,
   "id": "47983823",
   "metadata": {
    "scrolled": true
   },
   "outputs": [
    {
     "data": {
      "text/plain": [
       "<Axes: >"
      ]
     },
     "execution_count": 6,
     "metadata": {},
     "output_type": "execute_result"
    },
    {
     "data": {
      "image/png": "[encoded data removed]",
      "text/plain": [
       "<Figure size 640x480 with 1 Axes>"
      ]
     },
     "metadata": {},
     "output_type": "display_data"
    }
   ],
   "source": [
    "#Number of words in the dataset\n",
    "len_col = [len(str(prop)) for prop in senators['initiatives_summary_dummy']]\n",
    "               \n",
    "pd.Series(len_col).hist()"
   ]
  },
  {
   "cell_type": "code",
   "execution_count": 7,
   "id": "8d17258b",
   "metadata": {
    "scrolled": true
   },
   "outputs": [
    {
     "data": {
      "text/plain": [
       "39"
      ]
     },
     "execution_count": 7,
     "metadata": {},
     "output_type": "execute_result"
    }
   ],
   "source": [
    "#Exploring 'initiative_list'  \n",
    "ex_i = len(senators['initiative_list'][1])\n",
    "ex_i"
   ]
  },
  {
   "cell_type": "code",
   "execution_count": 9,
   "id": "3dc89dff",
   "metadata": {},
   "outputs": [
    {
     "data": {
      "text/plain": [
       "14197"
      ]
     },
     "execution_count": 9,
     "metadata": {},
     "output_type": "execute_result"
    }
   ],
   "source": [
    "##Exploring 'initiatives_summary_dummy' \n",
    "ex_s = senators['initiatives_summary_dummy'][1]\n",
    "len(ex_s)"
   ]
  },
  {
   "cell_type": "markdown",
   "id": "3932bef6",
   "metadata": {},
   "source": [
    "## Model"
   ]
  },
  {
   "cell_type": "code",
   "execution_count": 10,
   "id": "817f0735",
   "metadata": {},
   "outputs": [],
   "source": [
    "from transformers import AutoTokenizer, AutoModelForSeq2SeqLM"
   ]
  },
  {
   "cell_type": "code",
   "execution_count": 11,
   "id": "2002836e",
   "metadata": {},
   "outputs": [
    {
     "name": "stderr",
     "output_type": "stream",
     "text": [
      "The following encoder weights were not tied to the decoder ['bert/pooler']\n",
      "Some weights of EncoderDecoderModel were not initialized from the model checkpoint at mrm8488/bert2bert_shared-spanish-finetuned-summarization and are newly initialized: ['decoder.bert.encoder.layer.2.attention.self.key.weight', 'decoder.bert.encoder.layer.7.attention.output.LayerNorm.weight', 'decoder.bert.encoder.layer.3.intermediate.dense.bias', 'decoder.bert.encoder.layer.4.attention.self.query.weight', 'decoder.bert.encoder.layer.7.attention.self.query.bias', 'decoder.bert.encoder.layer.11.output.LayerNorm.weight', 'decoder.bert.encoder.layer.6.attention.self.query.weight', 'decoder.bert.encoder.layer.7.attention.output.dense.weight', 'decoder.bert.encoder.layer.3.attention.self.key.weight', 'decoder.bert.encoder.layer.10.attention.self.query.weight', 'decoder.bert.encoder.layer.5.output.dense.bias', 'decoder.bert.encoder.layer.5.attention.output.LayerNorm.weight', 'decoder.bert.encoder.layer.0.output.LayerNorm.bias', 'decoder.bert.encoder.layer.6.attention.output.LayerNorm.bias', 'decoder.bert.encoder.layer.8.attention.output.dense.bias', 'decoder.bert.encoder.layer.9.attention.self.query.weight', 'decoder.bert.encoder.layer.2.output.dense.bias', 'decoder.bert.encoder.layer.8.output.dense.bias', 'decoder.bert.encoder.layer.2.output.LayerNorm.weight', 'decoder.bert.encoder.layer.0.attention.self.query.weight', 'decoder.bert.encoder.layer.2.output.LayerNorm.bias', 'decoder.bert.encoder.layer.11.intermediate.dense.weight', 'decoder.bert.embeddings.word_embeddings.weight', 'decoder.bert.encoder.layer.8.output.dense.weight', 'decoder.bert.encoder.layer.3.output.dense.bias', 'decoder.bert.encoder.layer.8.output.LayerNorm.weight', 'decoder.bert.encoder.layer.8.attention.self.query.bias', 'decoder.bert.encoder.layer.3.attention.self.query.bias', 'decoder.bert.encoder.layer.11.output.LayerNorm.bias', 'decoder.bert.encoder.layer.4.attention.output.dense.bias', 'decoder.bert.encoder.layer.0.attention.self.key.bias', 'decoder.bert.encoder.layer.2.attention.output.LayerNorm.bias', 'decoder.bert.encoder.layer.0.output.LayerNorm.weight', 'decoder.bert.encoder.layer.0.attention.output.LayerNorm.weight', 'decoder.bert.encoder.layer.5.attention.self.query.weight', 'decoder.cls.predictions.decoder.bias', 'decoder.bert.encoder.layer.11.attention.output.dense.weight', 'decoder.bert.encoder.layer.9.attention.output.LayerNorm.bias', 'decoder.bert.encoder.layer.8.attention.output.LayerNorm.bias', 'decoder.bert.encoder.layer.3.attention.output.dense.bias', 'decoder.bert.encoder.layer.8.attention.output.LayerNorm.weight', 'decoder.bert.embeddings.position_embeddings.weight', 'decoder.bert.encoder.layer.10.attention.self.value.bias', 'decoder.bert.encoder.layer.2.attention.output.LayerNorm.weight', 'decoder.bert.encoder.layer.3.attention.self.value.bias', 'decoder.bert.encoder.layer.0.attention.self.query.bias', 'decoder.bert.encoder.layer.8.attention.self.value.bias', 'decoder.bert.encoder.layer.9.attention.self.query.bias', 'decoder.bert.encoder.layer.7.attention.self.value.bias', 'decoder.bert.encoder.layer.2.attention.output.dense.weight', 'decoder.bert.encoder.layer.9.attention.self.value.weight', 'decoder.bert.encoder.layer.9.attention.output.dense.weight', 'decoder.bert.encoder.layer.10.attention.self.query.bias', 'decoder.bert.encoder.layer.6.attention.self.key.weight', 'decoder.bert.encoder.layer.9.intermediate.dense.bias', 'decoder.bert.encoder.layer.2.intermediate.dense.weight', 'decoder.bert.encoder.layer.5.attention.self.key.bias', 'decoder.bert.encoder.layer.5.intermediate.dense.bias', 'decoder.bert.encoder.layer.8.output.LayerNorm.bias', 'decoder.bert.encoder.layer.10.output.LayerNorm.weight', 'decoder.bert.encoder.layer.1.attention.self.value.bias', 'decoder.bert.encoder.layer.1.intermediate.dense.weight', 'decoder.bert.encoder.layer.10.output.dense.weight', 'decoder.bert.encoder.layer.3.attention.self.key.bias', 'decoder.bert.encoder.layer.11.attention.self.key.weight', 'decoder.bert.encoder.layer.6.attention.self.key.bias', 'decoder.bert.encoder.layer.4.output.dense.weight', 'decoder.bert.encoder.layer.7.attention.self.value.weight', 'decoder.bert.encoder.layer.10.attention.output.LayerNorm.weight', 'decoder.bert.encoder.layer.7.intermediate.dense.bias', 'decoder.bert.encoder.layer.3.intermediate.dense.weight', 'decoder.bert.encoder.layer.8.intermediate.dense.bias', 'decoder.bert.encoder.layer.4.intermediate.dense.weight', 'decoder.bert.encoder.layer.5.attention.self.query.bias', 'decoder.bert.encoder.layer.3.output.LayerNorm.bias', 'decoder.bert.encoder.layer.6.attention.output.dense.bias', 'decoder.bert.encoder.layer.11.attention.self.value.bias', 'decoder.bert.encoder.layer.1.attention.self.key.weight', 'decoder.bert.encoder.layer.1.attention.self.key.bias', 'decoder.bert.encoder.layer.10.attention.self.value.weight', 'decoder.bert.encoder.layer.6.attention.self.value.bias', 'decoder.bert.encoder.layer.10.attention.output.dense.bias', 'decoder.bert.encoder.layer.4.output.LayerNorm.bias', 'decoder.bert.encoder.layer.7.output.dense.bias', 'decoder.bert.encoder.layer.9.output.LayerNorm.bias', 'decoder.bert.encoder.layer.10.attention.output.dense.weight', 'decoder.bert.encoder.layer.3.attention.output.LayerNorm.bias', 'decoder.bert.encoder.layer.0.output.dense.bias', 'decoder.bert.encoder.layer.10.intermediate.dense.weight', 'decoder.bert.encoder.layer.2.attention.self.value.weight', 'decoder.bert.encoder.layer.5.attention.output.LayerNorm.bias', 'decoder.bert.encoder.layer.5.output.LayerNorm.bias', 'decoder.bert.encoder.layer.1.attention.output.LayerNorm.weight', 'decoder.bert.encoder.layer.2.attention.output.dense.bias', 'decoder.bert.encoder.layer.7.attention.self.query.weight', 'decoder.bert.encoder.layer.9.intermediate.dense.weight', 'decoder.bert.encoder.layer.4.attention.output.dense.weight', 'decoder.bert.encoder.layer.0.attention.output.dense.weight', 'decoder.bert.encoder.layer.6.attention.output.dense.weight', 'decoder.bert.encoder.layer.9.attention.self.value.bias', 'decoder.bert.encoder.layer.4.output.dense.bias', 'decoder.bert.encoder.layer.5.attention.self.value.weight', 'decoder.bert.encoder.layer.10.intermediate.dense.bias', 'decoder.bert.encoder.layer.0.attention.self.value.weight', 'decoder.bert.encoder.layer.4.attention.self.value.bias', 'decoder.bert.encoder.layer.7.output.LayerNorm.weight', 'decoder.bert.encoder.layer.6.attention.self.query.bias', 'decoder.bert.encoder.layer.9.output.dense.weight', 'decoder.bert.encoder.layer.5.attention.self.value.bias', 'decoder.bert.encoder.layer.6.attention.output.LayerNorm.weight', 'decoder.bert.encoder.layer.6.output.dense.weight', 'decoder.bert.encoder.layer.9.output.dense.bias', 'decoder.bert.encoder.layer.8.attention.self.key.bias', 'decoder.bert.encoder.layer.1.attention.output.dense.bias', 'decoder.bert.encoder.layer.5.output.LayerNorm.weight', 'decoder.bert.encoder.layer.2.intermediate.dense.bias', 'decoder.bert.encoder.layer.7.attention.output.LayerNorm.bias', 'decoder.bert.encoder.layer.4.attention.self.query.bias', 'decoder.bert.encoder.layer.5.attention.output.dense.weight', 'decoder.bert.encoder.layer.4.attention.self.value.weight', 'decoder.bert.encoder.layer.2.attention.self.query.bias', 'decoder.bert.encoder.layer.1.attention.self.query.weight', 'decoder.bert.encoder.layer.6.output.dense.bias', 'decoder.bert.encoder.layer.0.output.dense.weight', 'decoder.bert.encoder.layer.1.intermediate.dense.bias', 'decoder.bert.embeddings.LayerNorm.bias', 'decoder.bert.encoder.layer.11.attention.self.query.bias', 'decoder.bert.encoder.layer.5.attention.self.key.weight', 'decoder.bert.encoder.layer.7.intermediate.dense.weight', 'decoder.bert.encoder.layer.9.attention.self.key.weight', 'decoder.bert.encoder.layer.5.attention.output.dense.bias', 'decoder.bert.encoder.layer.1.attention.output.dense.weight', 'decoder.bert.encoder.layer.3.attention.self.query.weight', 'decoder.bert.encoder.layer.6.attention.self.value.weight', 'decoder.bert.encoder.layer.4.intermediate.dense.bias', 'decoder.bert.encoder.layer.5.output.dense.weight', 'decoder.bert.encoder.layer.0.intermediate.dense.weight', 'decoder.bert.encoder.layer.0.attention.output.LayerNorm.bias', 'decoder.bert.encoder.layer.11.attention.output.LayerNorm.bias', 'decoder.bert.embeddings.LayerNorm.weight', 'decoder.bert.encoder.layer.2.attention.self.key.bias', 'decoder.bert.encoder.layer.11.attention.output.dense.bias', 'decoder.bert.encoder.layer.11.attention.output.LayerNorm.weight', 'decoder.bert.encoder.layer.11.attention.self.value.weight', 'decoder.bert.encoder.layer.6.intermediate.dense.weight', 'decoder.bert.encoder.layer.0.attention.self.key.weight', 'decoder.bert.encoder.layer.4.output.LayerNorm.weight', 'decoder.bert.encoder.layer.11.output.dense.bias', 'decoder.bert.encoder.layer.2.output.dense.weight', 'decoder.bert.encoder.layer.5.intermediate.dense.weight', 'decoder.bert.encoder.layer.0.intermediate.dense.bias', 'decoder.bert.encoder.layer.8.attention.self.key.weight', 'decoder.bert.encoder.layer.7.attention.self.key.bias', 'decoder.bert.encoder.layer.6.output.LayerNorm.weight', 'decoder.bert.encoder.layer.10.attention.self.key.weight', 'decoder.bert.encoder.layer.7.attention.self.key.weight', 'decoder.cls.predictions.decoder.weight', 'decoder.bert.encoder.layer.11.output.dense.weight', 'decoder.bert.encoder.layer.1.attention.self.query.bias', 'decoder.bert.encoder.layer.6.intermediate.dense.bias', 'decoder.bert.encoder.layer.7.output.dense.weight', 'decoder.bert.encoder.layer.3.output.LayerNorm.weight', 'decoder.bert.encoder.layer.7.attention.output.dense.bias', 'decoder.bert.encoder.layer.0.attention.self.value.bias', 'decoder.bert.encoder.layer.1.output.LayerNorm.bias', 'decoder.bert.encoder.layer.10.output.LayerNorm.bias', 'decoder.bert.encoder.layer.4.attention.self.key.bias', 'decoder.bert.encoder.layer.6.output.LayerNorm.bias', 'decoder.bert.encoder.layer.7.output.LayerNorm.bias', 'decoder.bert.encoder.layer.8.intermediate.dense.weight', 'decoder.bert.encoder.layer.3.attention.output.dense.weight', 'decoder.bert.encoder.layer.10.attention.self.key.bias', 'decoder.bert.encoder.layer.11.attention.self.query.weight', 'decoder.bert.encoder.layer.2.attention.self.value.bias', 'decoder.bert.encoder.layer.1.attention.output.LayerNorm.bias', 'decoder.bert.encoder.layer.2.attention.self.query.weight', 'decoder.bert.encoder.layer.10.attention.output.LayerNorm.bias', 'decoder.bert.encoder.layer.10.output.dense.bias', 'decoder.bert.encoder.layer.8.attention.output.dense.weight', 'decoder.bert.encoder.layer.4.attention.output.LayerNorm.bias', 'decoder.bert.encoder.layer.3.attention.output.LayerNorm.weight', 'decoder.bert.encoder.layer.0.attention.output.dense.bias', 'decoder.bert.encoder.layer.8.attention.self.value.weight', 'decoder.bert.encoder.layer.1.output.dense.bias', 'decoder.bert.encoder.layer.11.attention.self.key.bias', 'decoder.bert.encoder.layer.3.attention.self.value.weight', 'decoder.bert.encoder.layer.1.attention.self.value.weight', 'decoder.bert.encoder.layer.9.attention.self.key.bias', 'decoder.bert.encoder.layer.9.attention.output.LayerNorm.weight', 'decoder.bert.embeddings.token_type_embeddings.weight', 'decoder.bert.encoder.layer.11.intermediate.dense.bias', 'decoder.bert.encoder.layer.1.output.LayerNorm.weight', 'decoder.bert.encoder.layer.9.attention.output.dense.bias', 'decoder.bert.encoder.layer.8.attention.self.query.weight', 'decoder.bert.encoder.layer.3.output.dense.weight', 'decoder.bert.encoder.layer.1.output.dense.weight', 'decoder.bert.encoder.layer.4.attention.self.key.weight', 'decoder.bert.encoder.layer.9.output.LayerNorm.weight', 'decoder.bert.encoder.layer.4.attention.output.LayerNorm.weight']\n",
      "You should probably TRAIN this model on a down-stream task to be able to use it for predictions and inference.\n"
     ]
    },
    {
     "name": "stderr",
     "output_type": "stream",
     "text": [
      "The following encoder weights were not tied to the decoder ['bert/pooler']\n"
     ]
    }
   ],
   "source": [
    "tokenizer = AutoTokenizer.from_pretrained(\"mrm8488/bert2bert_shared-spanish-finetuned-summarization\")\n",
    "model = AutoModelForSeq2SeqLM.from_pretrained(\"mrm8488/bert2bert_shared-spanish-finetuned-summarization\")"
   ]
  },
  {
   "cell_type": "markdown",
   "id": "c2b67067",
   "metadata": {
    "heading_collapsed": true
   },
   "source": [
    "### Option 1 -- 'initiatives_summary_dummy'"
   ]
  },
  {
   "cell_type": "code",
   "execution_count": null,
   "id": "4df0292e",
   "metadata": {
    "hidden": true
   },
   "outputs": [],
   "source": [
    "inputs = tokenizer.encode(\"RESUMEN: \" + ex_s, return_tensors=\"pt\", max_length=511, truncation=True)\n",
    "len(inputs[0])"
   ]
  },
  {
   "cell_type": "code",
   "execution_count": null,
   "id": "1c11b708",
   "metadata": {
    "hidden": true
   },
   "outputs": [],
   "source": [
    "resumen = model.generate(\n",
    "    inputs, \n",
    "    max_length=10000,\n",
    "    min_length=40, \n",
    "    length_penalty=2.0, \n",
    "    num_beams=4, \n",
    "    early_stopping=True)"
   ]
  },
  {
   "cell_type": "code",
   "execution_count": null,
   "id": "461d95b7",
   "metadata": {
    "hidden": true,
    "scrolled": false
   },
   "outputs": [],
   "source": [
    "print(tokenizer.decode(resumen[0]))"
   ]
  },
  {
   "cell_type": "code",
   "execution_count": null,
   "id": "1601e685",
   "metadata": {
    "hidden": true,
    "scrolled": true
   },
   "outputs": [],
   "source": [
    "prop_inc_t = senators['initiatives_summary_dummy_split']\n",
    "prop_inc_t[0]"
   ]
  },
  {
   "cell_type": "code",
   "execution_count": null,
   "id": "87572d04",
   "metadata": {
    "hidden": true
   },
   "outputs": [],
   "source": [
    "#Split the concatenated initiatives for each senator into bites smaller than 511 to be able to consider inside the model.\n",
    "senators[\"initiatives_summary_dummy_split\"] = \"\"\n",
    "\n",
    "n = 511\n",
    "\n",
    "for i, row in senators.iterrows():\n",
    "    if not row[\"initiative_list\"] == []:\n",
    "        initiatives_split = [row[\"initiatives_summary_dummy\"][i:i+n] for i in range(0, len(row[\"initiatives_summary_dummy\"]), n)]\n",
    "        senators.at[i, \"initiatives_summary_dummy_split\"] = initiatives_split\n",
    "    else:\n",
    "        senators.at[i, \"initiatives_summary_dummy_split\"] = []"
   ]
  },
  {
   "cell_type": "code",
   "execution_count": null,
   "id": "4b176b65",
   "metadata": {
    "hidden": true
   },
   "outputs": [],
   "source": [
    "senators.head(2)"
   ]
  },
  {
   "cell_type": "code",
   "execution_count": null,
   "id": "c621dfaf",
   "metadata": {
    "hidden": true
   },
   "outputs": [],
   "source": [
    "len(senators['initiatives_summary_dummy_split'][0]"
   ]
  },
  {
   "cell_type": "code",
   "execution_count": null,
   "id": "3d3ffc35",
   "metadata": {
    "hidden": true
   },
   "outputs": [],
   "source": [
    "senators['initiatives_summary_dummy_split'][0]"
   ]
  },
  {
   "cell_type": "code",
   "execution_count": null,
   "id": "88440c0f",
   "metadata": {
    "hidden": true
   },
   "outputs": [],
   "source": [
    "def summarizeRow(prop_inc_t, resumentList, inputsList):\n",
    "    for parag in prop_inc_t:\n",
    "        inputs = tokenizer.encode(parag, return_tensors=\"pt\", max_length=511, truncation=True)\n",
    "        inputsList.append(inputs)\n",
    "        resumen = model.generate(\n",
    "            inputs, \n",
    "            max_length=200,\n",
    "            min_length=5, \n",
    "            length_penalty=2.0, \n",
    "            num_beams=4, \n",
    "            early_stopping=True)\n",
    "        resumentList.append(tokenizer.decode(resumen[0]))\n",
    "\n",
    "resumentList = []\n",
    "inputsList = []\n",
    "\n",
    "summarizeRow(prop_inc_t[0], resumentList, inputsList)"
   ]
  },
  {
   "cell_type": "code",
   "execution_count": null,
   "id": "b3faf323",
   "metadata": {
    "hidden": true
   },
   "outputs": [],
   "source": [
    "for row in prop_inc_t[:5]:\n",
    "    resumentList = []\n",
    "    inputsList = []\n",
    "\n",
    "    summarizeRow(row, resumentList, inputsList)\n",
    "    \n",
    "    print(inputsList)\n",
    "    print(resumentList)"
   ]
  },
  {
   "cell_type": "markdown",
   "id": "969a0c6f",
   "metadata": {},
   "source": [
    "### Option 2 -- 'initiative_list'"
   ]
  },
  {
   "cell_type": "code",
   "execution_count": 12,
   "id": "37ec59b4",
   "metadata": {
    "scrolled": true
   },
   "outputs": [
    {
     "data": {
      "text/plain": [
       "['Pretende garantizar a los miembros del Servicio Exterior Mexicano, en un porcentaje mayor al que se establece en la legislación actual, el acceso a los cargos de representación del estado como Embajador o Cónsul.',\n",
       " 'Propone establecer una mayor claridad en la subdivisión de las comisiones ordinarias de Educación, Cultura y Ciencia y Tecnología, suprimiendo la única denominación vigente de la comisión ordinaria de “Educación, Cultura, Ciencia y Tecnología”.',\n",
       " 'Propone establecer que el instituto de Servicios Periciales y Ciencias Forenses será el área técnica de apoyo a la Fiscalía que tendrá como objetivo fortalecer su capacidad institucional para realizar sus funciones de manera especializada y científica. Determina el establecimiento de un Servicio de Carrera Pericial.',\n",
       " 'Propone establecer que las iniciativas ciudadanas tengan el carácter de preferente.',\n",
       " 'Propone establecer que el Sistema Educativo Nacional considerará la educación en materia de privacidad y protección de sus datos personales en el ámbito digital, así que deberá ser incluida en los planes y programas de estudio.',\n",
       " 'Propone expedir un nuevo ordenamiento para establecer las bases para la protección de mujeres embarazadas vulnerables (en situación de calle, víctimas de violencia o violencia sexual), las cuales tendrán derecho a protección desde el momento que conozcan de su embarazo hasta un año después del nacimiento. Crea el Fondo de Apoyo a la Maternidad (FAM) el cual será operado por el Sistema Nacional para el Desarrollo Integral de la Familia (DIF) y será considerado en el Presupuesto de Egresos de la Federación.']"
      ]
     },
     "execution_count": 12,
     "metadata": {},
     "output_type": "execute_result"
    }
   ],
   "source": [
    "#Example\n",
    "senators['initiative_list'][0]"
   ]
  },
  {
   "cell_type": "code",
   "execution_count": 13,
   "id": "aefa37a3",
   "metadata": {},
   "outputs": [],
   "source": [
    "#Function that performs the summary by row\n",
    "def summarizeRow(prop_inc_t, resumentList, inputsList):\n",
    "    for parag in prop_inc_t:\n",
    "        inputs = tokenizer.encode(parag, return_tensors=\"pt\", max_length=511, truncation=True)\n",
    "        inputsList.append(inputs)\n",
    "        resumen = model.generate(\n",
    "            inputs, \n",
    "            max_length=200,\n",
    "            min_length=5, \n",
    "            length_penalty=2.0, \n",
    "            num_beams=4, \n",
    "            early_stopping=True)\n",
    "        resumentList.append(tokenizer.decode(resumen[0]))"
   ]
  },
  {
   "cell_type": "code",
   "execution_count": 14,
   "id": "b63dcfef",
   "metadata": {},
   "outputs": [
    {
     "name": "stderr",
     "output_type": "stream",
     "text": [
      "2023-07-13 22:33:10.029146: I tensorflow/core/platform/cpu_feature_guard.cc:193] This TensorFlow binary is optimized with oneAPI Deep Neural Network Library (oneDNN) to use the following CPU instructions in performance-critical operations:  AVX2 FMA\n",
      "To enable them in other operations, rebuild TensorFlow with the appropriate compiler flags.\n"
     ]
    }
   ],
   "source": [
    "resumentList_2 = []\n",
    "inputsList_2 = []\n",
    "\n",
    "summarizeRow(senators['initiative_list'][0], resumentList_2, inputsList_2)"
   ]
  },
  {
   "cell_type": "code",
   "execution_count": 15,
   "id": "250993fb",
   "metadata": {},
   "outputs": [
    {
     "data": {
      "text/html": [
       "<div>\n",
       "<style scoped>\n",
       "    .dataframe tbody tr th:only-of-type {\n",
       "        vertical-align: middle;\n",
       "    }\n",
       "\n",
       "    .dataframe tbody tr th {\n",
       "        vertical-align: top;\n",
       "    }\n",
       "\n",
       "    .dataframe thead th {\n",
       "        text-align: right;\n",
       "    }\n",
       "</style>\n",
       "<table border=\"1\" class=\"dataframe\">\n",
       "  <thead>\n",
       "    <tr style=\"text-align: right;\">\n",
       "      <th></th>\n",
       "      <th>senator_id</th>\n",
       "      <th>Apellidos</th>\n",
       "      <th>Nombre</th>\n",
       "      <th>Fraccion</th>\n",
       "      <th>Legislatura</th>\n",
       "      <th>Estado</th>\n",
       "      <th>Sexo</th>\n",
       "      <th>tipoEleccion</th>\n",
       "      <th>Suplente</th>\n",
       "      <th>estadoOrigen</th>\n",
       "      <th>...</th>\n",
       "      <th>telefono</th>\n",
       "      <th>extension</th>\n",
       "      <th>estatus</th>\n",
       "      <th>direccion</th>\n",
       "      <th>id</th>\n",
       "      <th>senadores</th>\n",
       "      <th>attendance_score</th>\n",
       "      <th>initiative_list</th>\n",
       "      <th>initiatives_summary_dummy</th>\n",
       "      <th>BETO_summary</th>\n",
       "    </tr>\n",
       "  </thead>\n",
       "  <tbody>\n",
       "    <tr>\n",
       "      <th>0</th>\n",
       "      <td>1160</td>\n",
       "      <td>Botello Montes</td>\n",
       "      <td>José Alfredo</td>\n",
       "      <td>PAN</td>\n",
       "      <td>64</td>\n",
       "      <td>Querétaro</td>\n",
       "      <td>Hombre</td>\n",
       "      <td>Senador Electo por el Principio de Mayoría Rel...</td>\n",
       "      <td>NaN</td>\n",
       "      <td>Querétaro</td>\n",
       "      <td>...</td>\n",
       "      <td>5345 3000</td>\n",
       "      <td>4183 y 4184</td>\n",
       "      <td>en_funciones</td>\n",
       "      <td>Av Paseo de la Reforma No. 135, Hemiciclo Piso...</td>\n",
       "      <td>1</td>\n",
       "      <td>José Alfredo Botello Montes</td>\n",
       "      <td>0.958904</td>\n",
       "      <td>[Pretende garantizar a los miembros del Servic...</td>\n",
       "      <td>Pretende garantizar a los miembros del Servici...</td>\n",
       "      <td></td>\n",
       "    </tr>\n",
       "    <tr>\n",
       "      <th>1</th>\n",
       "      <td>1162</td>\n",
       "      <td>Rojas Loreto</td>\n",
       "      <td>Estrella</td>\n",
       "      <td>PAN</td>\n",
       "      <td>64</td>\n",
       "      <td>Querétaro</td>\n",
       "      <td>Mujer</td>\n",
       "      <td>Senadora Electa por el Principio de Mayoría Re...</td>\n",
       "      <td>NaN</td>\n",
       "      <td>Querétaro</td>\n",
       "      <td>...</td>\n",
       "      <td>5345 3000</td>\n",
       "      <td>3323</td>\n",
       "      <td>en_funciones</td>\n",
       "      <td>Av Paseo de la Reforma No. 135, Hemiciclo Piso...</td>\n",
       "      <td>2</td>\n",
       "      <td>Estrella Rojas Loreto</td>\n",
       "      <td>0.973913</td>\n",
       "      <td>[Propone que el Estado apoye la investigación ...</td>\n",
       "      <td>Propone que el Estado apoye la investigación e...</td>\n",
       "      <td></td>\n",
       "    </tr>\n",
       "  </tbody>\n",
       "</table>\n",
       "<p>2 rows × 26 columns</p>\n",
       "</div>"
      ],
      "text/plain": [
       "   senator_id       Apellidos        Nombre Fraccion  Legislatura     Estado  \\\n",
       "0        1160  Botello Montes  José Alfredo      PAN           64  Querétaro   \n",
       "1        1162    Rojas Loreto      Estrella      PAN           64  Querétaro   \n",
       "\n",
       "     Sexo                                       tipoEleccion Suplente  \\\n",
       "0  Hombre  Senador Electo por el Principio de Mayoría Rel...      NaN   \n",
       "1   Mujer  Senadora Electa por el Principio de Mayoría Re...      NaN   \n",
       "\n",
       "  estadoOrigen  ...   telefono    extension       estatus  \\\n",
       "0    Querétaro  ...  5345 3000  4183 y 4184  en_funciones   \n",
       "1    Querétaro  ...  5345 3000         3323  en_funciones   \n",
       "\n",
       "                                           direccion id  \\\n",
       "0  Av Paseo de la Reforma No. 135, Hemiciclo Piso...  1   \n",
       "1  Av Paseo de la Reforma No. 135, Hemiciclo Piso...  2   \n",
       "\n",
       "                     senadores attendance_score  \\\n",
       "0  José Alfredo Botello Montes         0.958904   \n",
       "1        Estrella Rojas Loreto         0.973913   \n",
       "\n",
       "                                     initiative_list  \\\n",
       "0  [Pretende garantizar a los miembros del Servic...   \n",
       "1  [Propone que el Estado apoye la investigación ...   \n",
       "\n",
       "                           initiatives_summary_dummy BETO_summary  \n",
       "0  Pretende garantizar a los miembros del Servici...               \n",
       "1  Propone que el Estado apoye la investigación e...               \n",
       "\n",
       "[2 rows x 26 columns]"
      ]
     },
     "execution_count": 15,
     "metadata": {},
     "output_type": "execute_result"
    }
   ],
   "source": [
    "#Adding BETO to dataset\n",
    "senators['BETO_summary'] = \"\"\n",
    "senators.head(2)"
   ]
  },
  {
   "cell_type": "code",
   "execution_count": 17,
   "id": "8dc5057c",
   "metadata": {},
   "outputs": [
    {
     "name": "stderr",
     "output_type": "stream",
     "text": [
      "/var/folders/n7/388dqz5d5fd0c4nd5dh86cbh0000gp/T/ipykernel_38145/3988919780.py:8: SettingWithCopyWarning: \n",
      "A value is trying to be set on a copy of a slice from a DataFrame\n",
      "\n",
      "See the caveats in the documentation: https://pandas.pydata.org/pandas-docs/stable/user_guide/indexing.html#returning-a-view-versus-a-copy\n",
      "  senators['BETO_summary'][index] = resumentList_2\n"
     ]
    },
    {
     "name": "stdout",
     "output_type": "stream",
     "text": [
      "['[CLS] Pretende garantizar a los miembros del Servicio Exterior Mexicano, en un porcentaje mayor al que se establece en la legislación actual [SEP]', '[CLS] Propone establecer una mayor claridad en la subdivisión de las comisiones ordinarias de Educación, Cultura y Tecnología [SEP]', '[CLS] Propone establecer que el instituto de Servicios Periciales y Ciencias Forenses será el área técnica de apoyo a la Fiscalía que tendrá como objetivo fortalecer su capacidad institucional para realizar sus funciones de manera especializada y científica [SEP]', '[CLS] Propone establecer que las iniciativas ciudadanas tengan el carácter de preferente [SEP]', '[CLS] Propone establecer que el sistema educativo Nacional considere la educación en materia de privacidad y protección de sus datos personales en el ámbito digital [SEP]', '[CLS] Propone expedir un nuevo ordenamiento para establecer las bases para la protección de las mujeres en situación de calle, víctimas de violencia o violencia sexual [SEP]']\n",
      "['[CLS] Propone que el Estado apoye la investigación e innovación científica humanística y tecnológica [SEP]', '[CLS] Propone aumentar el porcentaje con el que se constituye el Fondo de Salud para el Bienestar del 11 % al 13 % [SEP]', '[CLS] Propone la creación de un Fondo en materia de Seguridad Pública para municipios y demarcaciones territoriales de la Ciudad de México [SEP]', '[CLS] Propone que no sea excepción para el ejercicio de los derechos de los familiares derechohabientes el que estos tengan por si mismo derechos propios a seguros, prestaciones y servicios que prevé la seguridad social [SEP]', '[CLS] Propone suprimir del texto constitucional la disposición vigente que establece la figura del arraigo [SEP]', '[CLS] La Corte de Justicia de la Nación establece que las declaraciones de invalidez podrán ser presentadas por el equivalente al 25 % de los miembros de alguna de las Cámaras del Congreso de la Unión [SEP]', '[CLS] Propone eliminar la disposición normativa que establece que el Poder Ejecutivo Federal destinará los ahorros generados como resultado de la aplicación de medidas de racionalización al Plan Nacional de Desarrollo o al destino que determine su Titular [SEP]', '[CLS] El titular de datos personales manejados mediante Tecnologías de la Información ( [UNK] ) se podrá nombrar a un representante para notificar de manera fehaciente a los titulares de redes sociales [SEP]', '[CLS] Propone eliminar el catálogo de delitos graves que ameritan prisión preventiva oficiosa y solo se conservará esta medida cautelar [SEP]', '[CLS] Propone establecer que la violencia cometida en contra de cualquier ser querido de una mujer o, que degrade o, dañe el cuerpo o la estabilidad emocional de la mujer, será calificada como violencia familiar [SEP]', '[CLS] Propone establecer que el voto nulo no implica la manifestación de la voluntad del legislador y por tanto al carecer de valor jurídico [SEP]', '[CLS] Propone que este ordenamiento jurídico regule la prevención del daño ambiental, por lo que establece multas económicas y medidas correctivas [SEP]', '[CLS] Propone establecer como propósito de este ordenamiento jurídico que el acceso de los libros tome en cuenta las diferentes lenguas del Estado mexicano : el español, lenguas de señas y los idiomas de los pueblos indígenas [SEP]', '[CLS] Propone establecer como parte de los objetivos de la vigente ley, la promoción de programas, así como la capacitación de maestros, alumnos y padres de familia [SEP]', '[CLS] Propone facultar a las legislaturas locales para regular los permisos de uso de suelo para condominios, considerando sanciones para quienes incumplan las obligaciones locales [SEP]', '[CLS] Propone disminuir el periodo que impide que las personas se desempeñen en un cargo en una empresa a la que hayan supervisado, regulado o que hayan tenido información privilegiada en el desempeño de un cargo público [SEP]', '[CLS] Propone establecer que en caso de daño moral el monto de indemnización correspondiente será determinado por la autoridad administrativa o jurisdiccional de acuerdo con los criterios establecidos en el Código Civil [SEP]', '[CLS] Propone eliminar la disposición normativa que establece que el Poder Ejecutivo Federal destinará los ahorros generados como resultado de la aplicación de medidas de racionalización al Plan Nacional de Desarrollo o al destino que determine su Titular [SEP]', '[CLS] Propone establecer que el Estado priorizara el interés superior de la niñez en el acceso, permanencia y participación de las escuelas de tiempo completo completo [SEP]', '[CLS] El nuevo ordenamiento jurídico para establecer la concurrencia de los tres órdenes de gobierno en materia de bienestar animal [SEP]', '[CLS] Propone establecer que en el caso de la interpretación de leyes se estará a lo dispuesto en el inciso f [SEP]', '[CLS] Propone que en caso de que la solicitud de información pueda ser requerida por una persona de alguna comunidad indígena, el sujeto obligado de proporcionar la información a la lengua en que se requiera de forma gratuita [SEP]', '[CLS] Propone establecer que la planificaciónción debe basarse en el principio de la inclusión de las personas con discapacidad [SEP]', '[CLS] Propone permitir que instituciones privadas participen en el proceso de selección y entrega del reconocimiento Rosario Castellanos [SEP]', '[CLS] Propone facultar al Congreso de la Unión para la expedición de leyes en materia de bienestar animal animal [SEP]', '[CLS] Propone que se declare el 12 de abril de cada año como [UNK] Día Nacional de las Personas con Diferencia de Extremidades [UNK] a efecto de generar concientización sobre este tema en la ciudadanía [SEP]', '[CLS] Propone incluir al Titular del Poder Ejecutivo Federal como sujeto susceptible a juicio político [SEP]', '[CLS] Propone establecer como responsabilidad de las autoridades en materia de salud y protección civil, el desarrollo de los primeros auxilios [SEP]', '[CLS] Propone incluir como parte de los objetivos de la vigente ley, la promoción de alternativas financieras, confiables, eficientes e innovadoras [SEP]', '[CLS] El fideicomiso estará integrado por recursos aprobados en el presupuesto de Egresos de la Federación, aportaciones que realicen las entidades federativas [SEP]', '[CLS] Propone establecer que las autoridades de los tres niveles de gobierno deberán prevenir, atender y sancionar casos en los que menores de edad se ven afectados por la hipersexualización infantil [SEP]', '[CLS] Propone la creación del Fondo para el Fortalecimiento del Desempeño en materia de Seguridad Pública Municipal Municipal [SEP]', '[CLS] Propone establecer que cuando se pretendan realizar trabajos de descubrimiento o exploración de monumentos arqueológicos en los que habiten comunidades o pueblos indígenas se les debe consultar para su aprobación [SEP]', '[CLS] Propone introducir actividades físicas, deportivas y culturales como parte de las actividades en las que deberán participar las personas privadas [SEP]', '[CLS] Propone que los órganos directivos, comisiones, comités y demás competentes deberán establecer un programa de trabajo e informar a la Mesa Directiva de su cumplimiento [SEP]', '[CLS] Propone establecer que en caso de que los Secretarios de Despacho, directores y administradores de las entidades paraestatales renuncien o se separen de su cargo, deberán de presentar un informe final de conclusión del cargo [SEP]', '[CLS] Propone que el Estado mexicano reconozca la jurisdicción de la Corte Penal del país mexicano. El Estado mexicano propone que la Corte de la Haya pueda ser sometida a un recurso constitucional [SEP]', '[CLS] El Gobierno federal, al de las entidades federativas y al de los municipios a incluir, dentro del proceso de armonización de los respectivos reglamentos de tránsito a que se refiere la Ley de Movilidad y Seguridad Vial [SEP]', '[CLS] El Senado de República insta respetuosamente a la Comisión Nacional de Mejora Regulatoria para que en uso de sus atribuciones en la opinión que emita respecto al anteproyecto de [UNK] Reglamento de Becas para el Fortalecimiento de la Comunidad de Humanidades [SEP]']\n"
     ]
    },
    {
     "data": {
      "text/html": [
       "<div>\n",
       "<style scoped>\n",
       "    .dataframe tbody tr th:only-of-type {\n",
       "        vertical-align: middle;\n",
       "    }\n",
       "\n",
       "    .dataframe tbody tr th {\n",
       "        vertical-align: top;\n",
       "    }\n",
       "\n",
       "    .dataframe thead th {\n",
       "        text-align: right;\n",
       "    }\n",
       "</style>\n",
       "<table border=\"1\" class=\"dataframe\">\n",
       "  <thead>\n",
       "    <tr style=\"text-align: right;\">\n",
       "      <th></th>\n",
       "      <th>senator_id</th>\n",
       "      <th>Apellidos</th>\n",
       "      <th>Nombre</th>\n",
       "      <th>Fraccion</th>\n",
       "      <th>Legislatura</th>\n",
       "      <th>Estado</th>\n",
       "      <th>Sexo</th>\n",
       "      <th>tipoEleccion</th>\n",
       "      <th>Suplente</th>\n",
       "      <th>estadoOrigen</th>\n",
       "      <th>...</th>\n",
       "      <th>telefono</th>\n",
       "      <th>extension</th>\n",
       "      <th>estatus</th>\n",
       "      <th>direccion</th>\n",
       "      <th>id</th>\n",
       "      <th>senadores</th>\n",
       "      <th>attendance_score</th>\n",
       "      <th>initiative_list</th>\n",
       "      <th>initiatives_summary_dummy</th>\n",
       "      <th>BETO_summary</th>\n",
       "    </tr>\n",
       "  </thead>\n",
       "  <tbody>\n",
       "    <tr>\n",
       "      <th>0</th>\n",
       "      <td>1160</td>\n",
       "      <td>Botello Montes</td>\n",
       "      <td>José Alfredo</td>\n",
       "      <td>PAN</td>\n",
       "      <td>64</td>\n",
       "      <td>Querétaro</td>\n",
       "      <td>Hombre</td>\n",
       "      <td>Senador Electo por el Principio de Mayoría Rel...</td>\n",
       "      <td>NaN</td>\n",
       "      <td>Querétaro</td>\n",
       "      <td>...</td>\n",
       "      <td>5345 3000</td>\n",
       "      <td>4183 y 4184</td>\n",
       "      <td>en_funciones</td>\n",
       "      <td>Av Paseo de la Reforma No. 135, Hemiciclo Piso...</td>\n",
       "      <td>1</td>\n",
       "      <td>José Alfredo Botello Montes</td>\n",
       "      <td>0.958904</td>\n",
       "      <td>[Pretende garantizar a los miembros del Servic...</td>\n",
       "      <td>Pretende garantizar a los miembros del Servici...</td>\n",
       "      <td>[[CLS] Pretende garantizar a los miembros del ...</td>\n",
       "    </tr>\n",
       "    <tr>\n",
       "      <th>1</th>\n",
       "      <td>1162</td>\n",
       "      <td>Rojas Loreto</td>\n",
       "      <td>Estrella</td>\n",
       "      <td>PAN</td>\n",
       "      <td>64</td>\n",
       "      <td>Querétaro</td>\n",
       "      <td>Mujer</td>\n",
       "      <td>Senadora Electa por el Principio de Mayoría Re...</td>\n",
       "      <td>NaN</td>\n",
       "      <td>Querétaro</td>\n",
       "      <td>...</td>\n",
       "      <td>5345 3000</td>\n",
       "      <td>3323</td>\n",
       "      <td>en_funciones</td>\n",
       "      <td>Av Paseo de la Reforma No. 135, Hemiciclo Piso...</td>\n",
       "      <td>2</td>\n",
       "      <td>Estrella Rojas Loreto</td>\n",
       "      <td>0.973913</td>\n",
       "      <td>[Propone que el Estado apoye la investigación ...</td>\n",
       "      <td>Propone que el Estado apoye la investigación e...</td>\n",
       "      <td>[[CLS] Propone que el Estado apoye la investig...</td>\n",
       "    </tr>\n",
       "  </tbody>\n",
       "</table>\n",
       "<p>2 rows × 26 columns</p>\n",
       "</div>"
      ],
      "text/plain": [
       "   senator_id       Apellidos        Nombre Fraccion  Legislatura     Estado  \\\n",
       "0        1160  Botello Montes  José Alfredo      PAN           64  Querétaro   \n",
       "1        1162    Rojas Loreto      Estrella      PAN           64  Querétaro   \n",
       "\n",
       "     Sexo                                       tipoEleccion Suplente  \\\n",
       "0  Hombre  Senador Electo por el Principio de Mayoría Rel...      NaN   \n",
       "1   Mujer  Senadora Electa por el Principio de Mayoría Re...      NaN   \n",
       "\n",
       "  estadoOrigen  ...   telefono    extension       estatus  \\\n",
       "0    Querétaro  ...  5345 3000  4183 y 4184  en_funciones   \n",
       "1    Querétaro  ...  5345 3000         3323  en_funciones   \n",
       "\n",
       "                                           direccion id  \\\n",
       "0  Av Paseo de la Reforma No. 135, Hemiciclo Piso...  1   \n",
       "1  Av Paseo de la Reforma No. 135, Hemiciclo Piso...  2   \n",
       "\n",
       "                     senadores attendance_score  \\\n",
       "0  José Alfredo Botello Montes         0.958904   \n",
       "1        Estrella Rojas Loreto         0.973913   \n",
       "\n",
       "                                     initiative_list  \\\n",
       "0  [Pretende garantizar a los miembros del Servic...   \n",
       "1  [Propone que el Estado apoye la investigación ...   \n",
       "\n",
       "                           initiatives_summary_dummy  \\\n",
       "0  Pretende garantizar a los miembros del Servici...   \n",
       "1  Propone que el Estado apoye la investigación e...   \n",
       "\n",
       "                                        BETO_summary  \n",
       "0  [[CLS] Pretende garantizar a los miembros del ...  \n",
       "1  [[CLS] Propone que el Estado apoye la investig...  \n",
       "\n",
       "[2 rows x 26 columns]"
      ]
     },
     "execution_count": 17,
     "metadata": {},
     "output_type": "execute_result"
    }
   ],
   "source": [
    "#For the entire dataset ... (only a few in the following example) ... change this value\n",
    "index = 0\n",
    "for row in senators['initiative_list'][:2]:\n",
    "    resumentList_2 = []\n",
    "    inputsList_2 = []\n",
    "\n",
    "    summarizeRow(row, resumentList_2, inputsList_2)\n",
    "    senators['BETO_summary'][index] = resumentList_2\n",
    "    index += 1\n",
    "    #print(inputsList_2)\n",
    "    print(resumentList_2)\n",
    "\n",
    "senators.head(2)"
   ]
  },
  {
   "cell_type": "code",
   "execution_count": 18,
   "id": "9c7146a5",
   "metadata": {},
   "outputs": [
    {
     "data": {
      "text/plain": [
       "['[CLS] Propone que el Estado apoye la investigación e innovación científica humanística y tecnológica [SEP]',\n",
       " '[CLS] Propone aumentar el porcentaje con el que se constituye el Fondo de Salud para el Bienestar del 11 % al 13 % [SEP]',\n",
       " '[CLS] Propone la creación de un Fondo en materia de Seguridad Pública para municipios y demarcaciones territoriales de la Ciudad de México [SEP]',\n",
       " '[CLS] Propone que no sea excepción para el ejercicio de los derechos de los familiares derechohabientes el que estos tengan por si mismo derechos propios a seguros, prestaciones y servicios que prevé la seguridad social [SEP]',\n",
       " '[CLS] Propone suprimir del texto constitucional la disposición vigente que establece la figura del arraigo [SEP]',\n",
       " '[CLS] La Corte de Justicia de la Nación establece que las declaraciones de invalidez podrán ser presentadas por el equivalente al 25 % de los miembros de alguna de las Cámaras del Congreso de la Unión [SEP]',\n",
       " '[CLS] Propone eliminar la disposición normativa que establece que el Poder Ejecutivo Federal destinará los ahorros generados como resultado de la aplicación de medidas de racionalización al Plan Nacional de Desarrollo o al destino que determine su Titular [SEP]',\n",
       " '[CLS] El titular de datos personales manejados mediante Tecnologías de la Información ( [UNK] ) se podrá nombrar a un representante para notificar de manera fehaciente a los titulares de redes sociales [SEP]',\n",
       " '[CLS] Propone eliminar el catálogo de delitos graves que ameritan prisión preventiva oficiosa y solo se conservará esta medida cautelar [SEP]',\n",
       " '[CLS] Propone establecer que la violencia cometida en contra de cualquier ser querido de una mujer o, que degrade o, dañe el cuerpo o la estabilidad emocional de la mujer, será calificada como violencia familiar [SEP]',\n",
       " '[CLS] Propone establecer que el voto nulo no implica la manifestación de la voluntad del legislador y por tanto al carecer de valor jurídico [SEP]',\n",
       " '[CLS] Propone que este ordenamiento jurídico regule la prevención del daño ambiental, por lo que establece multas económicas y medidas correctivas [SEP]',\n",
       " '[CLS] Propone establecer como propósito de este ordenamiento jurídico que el acceso de los libros tome en cuenta las diferentes lenguas del Estado mexicano : el español, lenguas de señas y los idiomas de los pueblos indígenas [SEP]',\n",
       " '[CLS] Propone establecer como parte de los objetivos de la vigente ley, la promoción de programas, así como la capacitación de maestros, alumnos y padres de familia [SEP]',\n",
       " '[CLS] Propone facultar a las legislaturas locales para regular los permisos de uso de suelo para condominios, considerando sanciones para quienes incumplan las obligaciones locales [SEP]',\n",
       " '[CLS] Propone disminuir el periodo que impide que las personas se desempeñen en un cargo en una empresa a la que hayan supervisado, regulado o que hayan tenido información privilegiada en el desempeño de un cargo público [SEP]',\n",
       " '[CLS] Propone establecer que en caso de daño moral el monto de indemnización correspondiente será determinado por la autoridad administrativa o jurisdiccional de acuerdo con los criterios establecidos en el Código Civil [SEP]',\n",
       " '[CLS] Propone eliminar la disposición normativa que establece que el Poder Ejecutivo Federal destinará los ahorros generados como resultado de la aplicación de medidas de racionalización al Plan Nacional de Desarrollo o al destino que determine su Titular [SEP]',\n",
       " '[CLS] Propone establecer que el Estado priorizara el interés superior de la niñez en el acceso, permanencia y participación de las escuelas de tiempo completo completo [SEP]',\n",
       " '[CLS] El nuevo ordenamiento jurídico para establecer la concurrencia de los tres órdenes de gobierno en materia de bienestar animal [SEP]',\n",
       " '[CLS] Propone establecer que en el caso de la interpretación de leyes se estará a lo dispuesto en el inciso f [SEP]',\n",
       " '[CLS] Propone que en caso de que la solicitud de información pueda ser requerida por una persona de alguna comunidad indígena, el sujeto obligado de proporcionar la información a la lengua en que se requiera de forma gratuita [SEP]',\n",
       " '[CLS] Propone establecer que la planificaciónción debe basarse en el principio de la inclusión de las personas con discapacidad [SEP]',\n",
       " '[CLS] Propone permitir que instituciones privadas participen en el proceso de selección y entrega del reconocimiento Rosario Castellanos [SEP]',\n",
       " '[CLS] Propone facultar al Congreso de la Unión para la expedición de leyes en materia de bienestar animal animal [SEP]',\n",
       " '[CLS] Propone que se declare el 12 de abril de cada año como [UNK] Día Nacional de las Personas con Diferencia de Extremidades [UNK] a efecto de generar concientización sobre este tema en la ciudadanía [SEP]',\n",
       " '[CLS] Propone incluir al Titular del Poder Ejecutivo Federal como sujeto susceptible a juicio político [SEP]',\n",
       " '[CLS] Propone establecer como responsabilidad de las autoridades en materia de salud y protección civil, el desarrollo de los primeros auxilios [SEP]',\n",
       " '[CLS] Propone incluir como parte de los objetivos de la vigente ley, la promoción de alternativas financieras, confiables, eficientes e innovadoras [SEP]',\n",
       " '[CLS] El fideicomiso estará integrado por recursos aprobados en el presupuesto de Egresos de la Federación, aportaciones que realicen las entidades federativas [SEP]',\n",
       " '[CLS] Propone establecer que las autoridades de los tres niveles de gobierno deberán prevenir, atender y sancionar casos en los que menores de edad se ven afectados por la hipersexualización infantil [SEP]',\n",
       " '[CLS] Propone la creación del Fondo para el Fortalecimiento del Desempeño en materia de Seguridad Pública Municipal Municipal [SEP]',\n",
       " '[CLS] Propone establecer que cuando se pretendan realizar trabajos de descubrimiento o exploración de monumentos arqueológicos en los que habiten comunidades o pueblos indígenas se les debe consultar para su aprobación [SEP]',\n",
       " '[CLS] Propone introducir actividades físicas, deportivas y culturales como parte de las actividades en las que deberán participar las personas privadas [SEP]',\n",
       " '[CLS] Propone que los órganos directivos, comisiones, comités y demás competentes deberán establecer un programa de trabajo e informar a la Mesa Directiva de su cumplimiento [SEP]',\n",
       " '[CLS] Propone establecer que en caso de que los Secretarios de Despacho, directores y administradores de las entidades paraestatales renuncien o se separen de su cargo, deberán de presentar un informe final de conclusión del cargo [SEP]',\n",
       " '[CLS] Propone que el Estado mexicano reconozca la jurisdicción de la Corte Penal del país mexicano. El Estado mexicano propone que la Corte de la Haya pueda ser sometida a un recurso constitucional [SEP]',\n",
       " '[CLS] El Gobierno federal, al de las entidades federativas y al de los municipios a incluir, dentro del proceso de armonización de los respectivos reglamentos de tránsito a que se refiere la Ley de Movilidad y Seguridad Vial [SEP]',\n",
       " '[CLS] El Senado de República insta respetuosamente a la Comisión Nacional de Mejora Regulatoria para que en uso de sus atribuciones en la opinión que emita respecto al anteproyecto de [UNK] Reglamento de Becas para el Fortalecimiento de la Comunidad de Humanidades [SEP]']"
      ]
     },
     "execution_count": 18,
     "metadata": {},
     "output_type": "execute_result"
    }
   ],
   "source": [
    "(senators[\"BETO_summary\"][1])"
   ]
  },
  {
   "cell_type": "markdown",
   "id": "d2dacc54",
   "metadata": {},
   "source": [
    "https://albertauyeung.github.io/2020/06/19/bert-tokenization.html/"
   ]
  },
  {
   "cell_type": "markdown",
   "id": "24747a76",
   "metadata": {
    "heading_collapsed": true
   },
   "source": [
    "### Option 3 -- deprecated"
   ]
  },
  {
   "cell_type": "code",
   "execution_count": null,
   "id": "9c0fa181",
   "metadata": {
    "hidden": true
   },
   "outputs": [],
   "source": [
    "from transformers import AutoTokenizer, AutoModelForMaskedLM"
   ]
  },
  {
   "cell_type": "code",
   "execution_count": null,
   "id": "5c8a635c",
   "metadata": {
    "hidden": true
   },
   "outputs": [],
   "source": [
    "tokenizer = AutoTokenizer.from_pretrained(\"dccuchile/bert-base-spanish-wwm-uncased\")\n",
    "model = AutoModelForMaskedLM.from_pretrained(\"dccuchile/bert-base-spanish-wwm-uncased\")"
   ]
  },
  {
   "cell_type": "code",
   "execution_count": null,
   "id": "db2bc4a5",
   "metadata": {
    "hidden": true
   },
   "outputs": [],
   "source": [
    "inputs_2 = tokenizer.encode(\"RESUMEN: \" + a, return_tensors=\"pt\", max_length=1000, truncation=True)\n",
    "inputs_2"
   ]
  },
  {
   "cell_type": "code",
   "execution_count": null,
   "id": "91ad5595",
   "metadata": {
    "hidden": true
   },
   "outputs": [],
   "source": [
    "resumen_2 = model.generate(\n",
    "    inputs, \n",
    "    max_length=500, \n",
    "    min_length=40, \n",
    "    length_penalty=2.0, \n",
    "    num_beams=4, \n",
    "    early_stopping=True)"
   ]
  },
  {
   "cell_type": "code",
   "execution_count": null,
   "id": "fef8f8c1",
   "metadata": {
    "hidden": true
   },
   "outputs": [],
   "source": [
    "print(tokenizer.decode(resumen_2[0]))"
   ]
  },
  {
   "cell_type": "markdown",
   "id": "59764ed6",
   "metadata": {
    "heading_collapsed": true
   },
   "source": [
    "### Notes"
   ]
  },
  {
   "cell_type": "code",
   "execution_count": null,
   "id": "589bfdfd",
   "metadata": {
    "hidden": true
   },
   "outputs": [],
   "source": [
    "tokenizer.model_max_lenght\n",
    "model.config.max_position_embeddings()\n",
    "embeddings = TransformerWordEmbeddings(\n",
    "    \"path/to/model\",\n",
    "    layers=\"-1\",\n",
    "    subtoken_pooling=\"first\",\n",
    "    fine_tune=True,\n",
    "    use_context=True,\n",
    "    allow_long_sentences=True,\n",
    "    model_max_length=512  # pass length"
   ]
  }
 ],
 "metadata": {
  "kernelspec": {
   "display_name": "Python 3 (ipykernel)",
   "language": "python",
   "name": "python3"
  },
  "language_info": {
   "codemirror_mode": {
    "name": "ipython",
    "version": 3
   },
   "file_extension": ".py",
   "mimetype": "text/x-python",
   "name": "python",
   "nbconvert_exporter": "python",
   "pygments_lexer": "ipython3",
   "version": "3.10.6"
  },
  "toc": {
   "base_numbering": 1,
   "nav_menu": {},
   "number_sections": true,
   "sideBar": true,
   "skip_h1_title": false,
   "title_cell": "Table of Contents",
   "title_sidebar": "Contents",
   "toc_cell": false,
   "toc_position": {},
   "toc_section_display": true,
   "toc_window_display": false
  }
 },
 "nbformat": 4,
 "nbformat_minor": 5
}
