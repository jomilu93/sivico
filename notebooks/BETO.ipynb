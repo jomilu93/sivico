{
 "cells": [
  {
   "cell_type": "markdown",
   "id": "84da681e",
   "metadata": {},
   "source": [
    "# BETO model"
   ]
  },
  {
   "cell_type": "code",
   "execution_count": 1,
   "id": "0aa1a837",
   "metadata": {},
   "outputs": [],
   "source": [
    "import pandas as pd"
   ]
  },
  {
   "cell_type": "markdown",
   "id": "52c9b79f",
   "metadata": {},
   "source": [
    "## Datos"
   ]
  },
  {
   "cell_type": "markdown",
   "id": "45e71f38",
   "metadata": {},
   "source": [
    "### Senators_data"
   ]
  },
  {
   "cell_type": "code",
   "execution_count": 25,
   "id": "c890c1c8",
   "metadata": {},
   "outputs": [
    {
     "data": {
      "text/html": [
       "<div>\n",
       "<style scoped>\n",
       "    .dataframe tbody tr th:only-of-type {\n",
       "        vertical-align: middle;\n",
       "    }\n",
       "\n",
       "    .dataframe tbody tr th {\n",
       "        vertical-align: top;\n",
       "    }\n",
       "\n",
       "    .dataframe thead th {\n",
       "        text-align: right;\n",
       "    }\n",
       "</style>\n",
       "<table border=\"1\" class=\"dataframe\">\n",
       "  <thead>\n",
       "    <tr style=\"text-align: right;\">\n",
       "      <th></th>\n",
       "      <th>senator_id</th>\n",
       "      <th>Apellidos</th>\n",
       "      <th>Nombre</th>\n",
       "      <th>Fraccion</th>\n",
       "      <th>Legislatura</th>\n",
       "      <th>Estado</th>\n",
       "      <th>Sexo</th>\n",
       "      <th>tipoEleccion</th>\n",
       "      <th>Suplente</th>\n",
       "      <th>estadoOrigen</th>\n",
       "      <th>...</th>\n",
       "      <th>url_sitio</th>\n",
       "      <th>telefono</th>\n",
       "      <th>extension</th>\n",
       "      <th>estatus</th>\n",
       "      <th>direccion</th>\n",
       "      <th>id</th>\n",
       "      <th>senadores</th>\n",
       "      <th>attendance_score</th>\n",
       "      <th>initiative_list</th>\n",
       "      <th>initatives_summary_dummy</th>\n",
       "    </tr>\n",
       "  </thead>\n",
       "  <tbody>\n",
       "    <tr>\n",
       "      <th>0</th>\n",
       "      <td>1160</td>\n",
       "      <td>Botello Montes</td>\n",
       "      <td>José Alfredo</td>\n",
       "      <td>PAN</td>\n",
       "      <td>64</td>\n",
       "      <td>Querétaro</td>\n",
       "      <td>Hombre</td>\n",
       "      <td>Senador Electo por el Principio de Mayoría Rel...</td>\n",
       "      <td>NaN</td>\n",
       "      <td>Querétaro</td>\n",
       "      <td>...</td>\n",
       "      <td>NaN</td>\n",
       "      <td>5345 3000</td>\n",
       "      <td>4183 y 4184</td>\n",
       "      <td>en_funciones</td>\n",
       "      <td>Av Paseo de la Reforma No. 135, Hemiciclo Piso...</td>\n",
       "      <td>1</td>\n",
       "      <td>José Alfredo Botello Montes</td>\n",
       "      <td>0.958904</td>\n",
       "      <td>['Pretende garantizar a los miembros del Servi...</td>\n",
       "      <td>Pretende garantizar a los miembros del Servici...</td>\n",
       "    </tr>\n",
       "    <tr>\n",
       "      <th>1</th>\n",
       "      <td>1162</td>\n",
       "      <td>Rojas Loreto</td>\n",
       "      <td>Estrella</td>\n",
       "      <td>PAN</td>\n",
       "      <td>64</td>\n",
       "      <td>Querétaro</td>\n",
       "      <td>Mujer</td>\n",
       "      <td>Senadora Electa por el Principio de Mayoría Re...</td>\n",
       "      <td>NaN</td>\n",
       "      <td>Querétaro</td>\n",
       "      <td>...</td>\n",
       "      <td>NaN</td>\n",
       "      <td>5345 3000</td>\n",
       "      <td>3323</td>\n",
       "      <td>en_funciones</td>\n",
       "      <td>Av Paseo de la Reforma No. 135, Hemiciclo Piso...</td>\n",
       "      <td>2</td>\n",
       "      <td>Estrella Rojas Loreto</td>\n",
       "      <td>0.973913</td>\n",
       "      <td>['Propone que el Estado apoye la investigación...</td>\n",
       "      <td>Propone que el Estado apoye la investigación e...</td>\n",
       "    </tr>\n",
       "    <tr>\n",
       "      <th>2</th>\n",
       "      <td>1247</td>\n",
       "      <td>Moya Clemente</td>\n",
       "      <td>Roberto Juan</td>\n",
       "      <td>PAN</td>\n",
       "      <td>64</td>\n",
       "      <td>Lista Nacional</td>\n",
       "      <td>Hombre</td>\n",
       "      <td>Senador Electo por Representación Proporcional...</td>\n",
       "      <td>NaN</td>\n",
       "      <td>Lista Nacional</td>\n",
       "      <td>...</td>\n",
       "      <td>NaN</td>\n",
       "      <td>5345 3000</td>\n",
       "      <td>3301, 5917 y 2122</td>\n",
       "      <td>en_funciones</td>\n",
       "      <td>Av Paseo de la Reforma No. 135, Hemiciclo Piso...</td>\n",
       "      <td>3</td>\n",
       "      <td>Roberto Juan Moya Clemente</td>\n",
       "      <td>0.826568</td>\n",
       "      <td>['Propone modificar las disposiciones constitu...</td>\n",
       "      <td>Propone modificar las disposiciones constituci...</td>\n",
       "    </tr>\n",
       "    <tr>\n",
       "      <th>3</th>\n",
       "      <td>1101</td>\n",
       "      <td>Bermúdez Méndez</td>\n",
       "      <td>José Erandi</td>\n",
       "      <td>PAN</td>\n",
       "      <td>64</td>\n",
       "      <td>Guanajuato</td>\n",
       "      <td>Hombre</td>\n",
       "      <td>Senador Electo por el Principio de Mayoría Rel...</td>\n",
       "      <td>Juan Antonio Negrete Martínez</td>\n",
       "      <td>Guanajuato</td>\n",
       "      <td>...</td>\n",
       "      <td>NaN</td>\n",
       "      <td>5345 3000</td>\n",
       "      <td>3268</td>\n",
       "      <td>en_funciones</td>\n",
       "      <td>Av Paseo de la Reforma No. 135, Hemiciclo Piso...</td>\n",
       "      <td>4</td>\n",
       "      <td>José Erandi Bermúdez Méndez</td>\n",
       "      <td>0.868421</td>\n",
       "      <td>['Propone eliminar el requisito que establece ...</td>\n",
       "      <td>Propone eliminar el requisito que establece qu...</td>\n",
       "    </tr>\n",
       "    <tr>\n",
       "      <th>4</th>\n",
       "      <td>1052</td>\n",
       "      <td>Cruz Blackledge</td>\n",
       "      <td>Gina Andrea</td>\n",
       "      <td>PAN</td>\n",
       "      <td>64</td>\n",
       "      <td>Baja California</td>\n",
       "      <td>Mujer</td>\n",
       "      <td>Senadora Electa por el Principio de Primera Mi...</td>\n",
       "      <td>Iraís María Vázquez Aguiar</td>\n",
       "      <td>Baja California</td>\n",
       "      <td>...</td>\n",
       "      <td>NaN</td>\n",
       "      <td>5345 3000</td>\n",
       "      <td>3388</td>\n",
       "      <td>en_funciones</td>\n",
       "      <td>Av Paseo de la Reforma No. 135, Hemiciclo Piso...</td>\n",
       "      <td>5</td>\n",
       "      <td>Gina Andrea Cruz Blackledge</td>\n",
       "      <td>0.884868</td>\n",
       "      <td>['Propone modificar las disposiciones constitu...</td>\n",
       "      <td>Propone modificar las disposiciones constituci...</td>\n",
       "    </tr>\n",
       "    <tr>\n",
       "      <th>...</th>\n",
       "      <td>...</td>\n",
       "      <td>...</td>\n",
       "      <td>...</td>\n",
       "      <td>...</td>\n",
       "      <td>...</td>\n",
       "      <td>...</td>\n",
       "      <td>...</td>\n",
       "      <td>...</td>\n",
       "      <td>...</td>\n",
       "      <td>...</td>\n",
       "      <td>...</td>\n",
       "      <td>...</td>\n",
       "      <td>...</td>\n",
       "      <td>...</td>\n",
       "      <td>...</td>\n",
       "      <td>...</td>\n",
       "      <td>...</td>\n",
       "      <td>...</td>\n",
       "      <td>...</td>\n",
       "      <td>...</td>\n",
       "      <td>...</td>\n",
       "    </tr>\n",
       "    <tr>\n",
       "      <th>121</th>\n",
       "      <td>1274</td>\n",
       "      <td>Vasconcelos</td>\n",
       "      <td>Héctor</td>\n",
       "      <td>morena</td>\n",
       "      <td>64</td>\n",
       "      <td>Lista Nacional</td>\n",
       "      <td>Hombre</td>\n",
       "      <td>Senador Electo por Representación Proporcional...</td>\n",
       "      <td>NaN</td>\n",
       "      <td>Lista Nacional</td>\n",
       "      <td>...</td>\n",
       "      <td>http://hectorvasconcelos.mx</td>\n",
       "      <td>5345 3000</td>\n",
       "      <td>3657</td>\n",
       "      <td>en_funciones</td>\n",
       "      <td>Av Paseo de la Reforma No. 135, Hemiciclo Piso...</td>\n",
       "      <td>122</td>\n",
       "      <td>Héctor Vasconcelos</td>\n",
       "      <td>0.871711</td>\n",
       "      <td>['Propone establecer un lenguaje en materia de...</td>\n",
       "      <td>Propone establecer un lenguaje en materia de p...</td>\n",
       "    </tr>\n",
       "    <tr>\n",
       "      <th>122</th>\n",
       "      <td>1273</td>\n",
       "      <td>Vázquez Alatorre</td>\n",
       "      <td>Antares Guadalupe</td>\n",
       "      <td>morena</td>\n",
       "      <td>64</td>\n",
       "      <td>Lista Nacional</td>\n",
       "      <td>Mujer</td>\n",
       "      <td>Senadora Electa por Representación Proporciona...</td>\n",
       "      <td>NaN</td>\n",
       "      <td>Lista Nacional</td>\n",
       "      <td>...</td>\n",
       "      <td>NaN</td>\n",
       "      <td>5345 3000</td>\n",
       "      <td>3834</td>\n",
       "      <td>en_funciones</td>\n",
       "      <td>Av Paseo de la Reforma No. 135, Hemiciclo Piso...</td>\n",
       "      <td>123</td>\n",
       "      <td>Antares Guadalupe Vázquez Alatorre</td>\n",
       "      <td>0.957237</td>\n",
       "      <td>['Propone expedir la Ley reglamentaria del Art...</td>\n",
       "      <td>Propone expedir la Ley reglamentaria del Artíc...</td>\n",
       "    </tr>\n",
       "    <tr>\n",
       "      <th>123</th>\n",
       "      <td>1169</td>\n",
       "      <td>Villegas Canché</td>\n",
       "      <td>Freyda Marybel</td>\n",
       "      <td>morena</td>\n",
       "      <td>64</td>\n",
       "      <td>Quintana Roo</td>\n",
       "      <td>Mujer</td>\n",
       "      <td>Senadora Electa por el Principio de Mayoría Re...</td>\n",
       "      <td>Gabriela López Gómez</td>\n",
       "      <td>Quintana Roo</td>\n",
       "      <td>...</td>\n",
       "      <td>http://marybelvillegas.mx/</td>\n",
       "      <td>5345 3000</td>\n",
       "      <td>3194</td>\n",
       "      <td>en_funciones</td>\n",
       "      <td>Av Paseo de la Reforma No. 135, Hemiciclo Piso...</td>\n",
       "      <td>124</td>\n",
       "      <td>Freyda Marybel Villegas Canché</td>\n",
       "      <td>0.888446</td>\n",
       "      <td>['Propone adicionar la extorsión al catálogo d...</td>\n",
       "      <td>Propone adicionar la extorsión al catálogo de ...</td>\n",
       "    </tr>\n",
       "    <tr>\n",
       "      <th>124</th>\n",
       "      <td>1406</td>\n",
       "      <td>Jiménez Arteaga</td>\n",
       "      <td>Rosa Elena</td>\n",
       "      <td>morena</td>\n",
       "      <td>64</td>\n",
       "      <td>Nayarit</td>\n",
       "      <td>Mujer</td>\n",
       "      <td>Senadora Electa por el Principio de Mayoría Re...</td>\n",
       "      <td>Beatriz Andrea Navarro Pérez</td>\n",
       "      <td>Nayarit</td>\n",
       "      <td>...</td>\n",
       "      <td>NaN</td>\n",
       "      <td>5345 3000</td>\n",
       "      <td>3167</td>\n",
       "      <td>en_funciones</td>\n",
       "      <td>Av Paseo de la Reforma No. 135, Hemiciclo Piso...</td>\n",
       "      <td>125</td>\n",
       "      <td>Rosa Elena Jiménez Arteaga</td>\n",
       "      <td>0.931034</td>\n",
       "      <td>['Propone establecer que la paternidad y el in...</td>\n",
       "      <td>Propone establecer que la paternidad y el inte...</td>\n",
       "    </tr>\n",
       "    <tr>\n",
       "      <th>125</th>\n",
       "      <td>1458</td>\n",
       "      <td>Gómez Leal</td>\n",
       "      <td>José Ramón</td>\n",
       "      <td>morena</td>\n",
       "      <td>64</td>\n",
       "      <td>Tamaulipas</td>\n",
       "      <td>Hombre</td>\n",
       "      <td>Senador Electo por el Principio de Mayoría Rel...</td>\n",
       "      <td>NaN</td>\n",
       "      <td>Tamaulipas</td>\n",
       "      <td>...</td>\n",
       "      <td>NaN</td>\n",
       "      <td>5345 300</td>\n",
       "      <td>5199 y 5192</td>\n",
       "      <td>en_funciones</td>\n",
       "      <td>Av Paseo de la Reforma No. 135, Hemiciclo Piso...</td>\n",
       "      <td>126</td>\n",
       "      <td>José Ramón Gómez Leal</td>\n",
       "      <td>0.842105</td>\n",
       "      <td>[]</td>\n",
       "      <td>NaN</td>\n",
       "    </tr>\n",
       "  </tbody>\n",
       "</table>\n",
       "<p>126 rows × 25 columns</p>\n",
       "</div>"
      ],
      "text/plain": [
       "     senator_id         Apellidos             Nombre Fraccion  Legislatura  \\\n",
       "0          1160    Botello Montes       José Alfredo      PAN           64   \n",
       "1          1162      Rojas Loreto           Estrella      PAN           64   \n",
       "2          1247     Moya Clemente       Roberto Juan      PAN           64   \n",
       "3          1101   Bermúdez Méndez        José Erandi      PAN           64   \n",
       "4          1052   Cruz Blackledge        Gina Andrea      PAN           64   \n",
       "..          ...               ...                ...      ...          ...   \n",
       "121        1274      Vasconcelos              Héctor   morena           64   \n",
       "122        1273  Vázquez Alatorre  Antares Guadalupe   morena           64   \n",
       "123        1169   Villegas Canché     Freyda Marybel   morena           64   \n",
       "124        1406   Jiménez Arteaga         Rosa Elena   morena           64   \n",
       "125        1458        Gómez Leal         José Ramón   morena           64   \n",
       "\n",
       "              Estado    Sexo  \\\n",
       "0          Querétaro  Hombre   \n",
       "1          Querétaro   Mujer   \n",
       "2     Lista Nacional  Hombre   \n",
       "3         Guanajuato  Hombre   \n",
       "4    Baja California   Mujer   \n",
       "..               ...     ...   \n",
       "121   Lista Nacional  Hombre   \n",
       "122   Lista Nacional   Mujer   \n",
       "123     Quintana Roo   Mujer   \n",
       "124          Nayarit   Mujer   \n",
       "125       Tamaulipas  Hombre   \n",
       "\n",
       "                                          tipoEleccion  \\\n",
       "0    Senador Electo por el Principio de Mayoría Rel...   \n",
       "1    Senadora Electa por el Principio de Mayoría Re...   \n",
       "2    Senador Electo por Representación Proporcional...   \n",
       "3    Senador Electo por el Principio de Mayoría Rel...   \n",
       "4    Senadora Electa por el Principio de Primera Mi...   \n",
       "..                                                 ...   \n",
       "121  Senador Electo por Representación Proporcional...   \n",
       "122  Senadora Electa por Representación Proporciona...   \n",
       "123  Senadora Electa por el Principio de Mayoría Re...   \n",
       "124  Senadora Electa por el Principio de Mayoría Re...   \n",
       "125  Senador Electo por el Principio de Mayoría Rel...   \n",
       "\n",
       "                          Suplente     estadoOrigen  ...  \\\n",
       "0                              NaN        Querétaro  ...   \n",
       "1                              NaN        Querétaro  ...   \n",
       "2                              NaN   Lista Nacional  ...   \n",
       "3    Juan Antonio Negrete Martínez       Guanajuato  ...   \n",
       "4       Iraís María Vázquez Aguiar  Baja California  ...   \n",
       "..                             ...              ...  ...   \n",
       "121                            NaN   Lista Nacional  ...   \n",
       "122                            NaN   Lista Nacional  ...   \n",
       "123           Gabriela López Gómez     Quintana Roo  ...   \n",
       "124   Beatriz Andrea Navarro Pérez          Nayarit  ...   \n",
       "125                            NaN       Tamaulipas  ...   \n",
       "\n",
       "                       url_sitio   telefono          extension       estatus  \\\n",
       "0                            NaN  5345 3000        4183 y 4184  en_funciones   \n",
       "1                            NaN  5345 3000               3323  en_funciones   \n",
       "2                            NaN  5345 3000  3301, 5917 y 2122  en_funciones   \n",
       "3                            NaN  5345 3000               3268  en_funciones   \n",
       "4                            NaN  5345 3000               3388  en_funciones   \n",
       "..                           ...        ...                ...           ...   \n",
       "121  http://hectorvasconcelos.mx  5345 3000               3657  en_funciones   \n",
       "122                          NaN  5345 3000               3834  en_funciones   \n",
       "123   http://marybelvillegas.mx/  5345 3000               3194  en_funciones   \n",
       "124                          NaN  5345 3000               3167  en_funciones   \n",
       "125                          NaN   5345 300        5199 y 5192  en_funciones   \n",
       "\n",
       "                                             direccion   id  \\\n",
       "0    Av Paseo de la Reforma No. 135, Hemiciclo Piso...    1   \n",
       "1    Av Paseo de la Reforma No. 135, Hemiciclo Piso...    2   \n",
       "2    Av Paseo de la Reforma No. 135, Hemiciclo Piso...    3   \n",
       "3    Av Paseo de la Reforma No. 135, Hemiciclo Piso...    4   \n",
       "4    Av Paseo de la Reforma No. 135, Hemiciclo Piso...    5   \n",
       "..                                                 ...  ...   \n",
       "121  Av Paseo de la Reforma No. 135, Hemiciclo Piso...  122   \n",
       "122  Av Paseo de la Reforma No. 135, Hemiciclo Piso...  123   \n",
       "123  Av Paseo de la Reforma No. 135, Hemiciclo Piso...  124   \n",
       "124  Av Paseo de la Reforma No. 135, Hemiciclo Piso...  125   \n",
       "125  Av Paseo de la Reforma No. 135, Hemiciclo Piso...  126   \n",
       "\n",
       "                              senadores attendance_score  \\\n",
       "0           José Alfredo Botello Montes         0.958904   \n",
       "1                 Estrella Rojas Loreto         0.973913   \n",
       "2            Roberto Juan Moya Clemente         0.826568   \n",
       "3           José Erandi Bermúdez Méndez         0.868421   \n",
       "4           Gina Andrea Cruz Blackledge         0.884868   \n",
       "..                                  ...              ...   \n",
       "121                  Héctor Vasconcelos         0.871711   \n",
       "122  Antares Guadalupe Vázquez Alatorre         0.957237   \n",
       "123      Freyda Marybel Villegas Canché         0.888446   \n",
       "124          Rosa Elena Jiménez Arteaga         0.931034   \n",
       "125               José Ramón Gómez Leal         0.842105   \n",
       "\n",
       "                                       initiative_list  \\\n",
       "0    ['Pretende garantizar a los miembros del Servi...   \n",
       "1    ['Propone que el Estado apoye la investigación...   \n",
       "2    ['Propone modificar las disposiciones constitu...   \n",
       "3    ['Propone eliminar el requisito que establece ...   \n",
       "4    ['Propone modificar las disposiciones constitu...   \n",
       "..                                                 ...   \n",
       "121  ['Propone establecer un lenguaje en materia de...   \n",
       "122  ['Propone expedir la Ley reglamentaria del Art...   \n",
       "123  ['Propone adicionar la extorsión al catálogo d...   \n",
       "124  ['Propone establecer que la paternidad y el in...   \n",
       "125                                                 []   \n",
       "\n",
       "                              initatives_summary_dummy  \n",
       "0    Pretende garantizar a los miembros del Servici...  \n",
       "1    Propone que el Estado apoye la investigación e...  \n",
       "2    Propone modificar las disposiciones constituci...  \n",
       "3    Propone eliminar el requisito que establece qu...  \n",
       "4    Propone modificar las disposiciones constituci...  \n",
       "..                                                 ...  \n",
       "121  Propone establecer un lenguaje en materia de p...  \n",
       "122  Propone expedir la Ley reglamentaria del Artíc...  \n",
       "123  Propone adicionar la extorsión al catálogo de ...  \n",
       "124  Propone establecer que la paternidad y el inte...  \n",
       "125                                                NaN  \n",
       "\n",
       "[126 rows x 25 columns]"
      ]
     },
     "execution_count": 25,
     "metadata": {},
     "output_type": "execute_result"
    }
   ],
   "source": [
    "data = pd.read_csv(\"/Users/mimihuerta/code/jomilu93/sivico/senators_data_2.csv\", index_col='Unnamed: 0')\n",
    "data"
   ]
  },
  {
   "cell_type": "code",
   "execution_count": 26,
   "id": "e06f781c",
   "metadata": {},
   "outputs": [
    {
     "data": {
      "text/plain": [
       "pandas.core.series.Series"
      ]
     },
     "execution_count": 26,
     "metadata": {},
     "output_type": "execute_result"
    }
   ],
   "source": [
    "type(data['initiative_list'])"
   ]
  },
  {
   "cell_type": "code",
   "execution_count": 3,
   "id": "70a74f79",
   "metadata": {
    "scrolled": false
   },
   "outputs": [
    {
     "name": "stderr",
     "output_type": "stream",
     "text": [
      "/var/folders/n7/388dqz5d5fd0c4nd5dh86cbh0000gp/T/ipykernel_27185/1660566254.py:1: FutureWarning: The default value of regex will change from True to False in a future version. In addition, single character regular expressions will *not* be treated as literal strings when regex=True.\n",
      "  data['initiative_list'] = data['initiative_list'].str.replace('[', ' ').str.replace(']', ' ')\n"
     ]
    }
   ],
   "source": [
    "data['initiative_list'] = data['initiative_list'].str.replace('[', ' ').str.replace(']', ' ')"
   ]
  },
  {
   "cell_type": "code",
   "execution_count": 4,
   "id": "07ca7c00",
   "metadata": {},
   "outputs": [
    {
     "data": {
      "text/plain": [
       "Index(['senator_id', 'Apellidos', 'Nombre', 'Fraccion', 'Legislatura',\n",
       "       'Estado', 'Sexo', 'tipoEleccion', 'Suplente', 'estadoOrigen', 'correo',\n",
       "       'facebook', 'twitter', 'youtube', 'instagram', 'url_sitio', 'telefono',\n",
       "       'extension', 'estatus', 'direccion', 'id', 'senadores',\n",
       "       'attendance_score', 'initiative_list', 'initatives_summary_dummy'],\n",
       "      dtype='object')"
      ]
     },
     "execution_count": 4,
     "metadata": {},
     "output_type": "execute_result"
    }
   ],
   "source": [
    "columnas = data.columns\n",
    "columnas"
   ]
  },
  {
   "cell_type": "code",
   "execution_count": 5,
   "id": "8c31e926",
   "metadata": {
    "scrolled": true
   },
   "outputs": [
    {
     "name": "stdout",
     "output_type": "stream",
     "text": [
      "(126, 25)\n"
     ]
    },
    {
     "data": {
      "text/html": [
       "<div>\n",
       "<style scoped>\n",
       "    .dataframe tbody tr th:only-of-type {\n",
       "        vertical-align: middle;\n",
       "    }\n",
       "\n",
       "    .dataframe tbody tr th {\n",
       "        vertical-align: top;\n",
       "    }\n",
       "\n",
       "    .dataframe thead th {\n",
       "        text-align: right;\n",
       "    }\n",
       "</style>\n",
       "<table border=\"1\" class=\"dataframe\">\n",
       "  <thead>\n",
       "    <tr style=\"text-align: right;\">\n",
       "      <th></th>\n",
       "      <th>senator_id</th>\n",
       "      <th>Apellidos</th>\n",
       "      <th>Nombre</th>\n",
       "      <th>Fraccion</th>\n",
       "      <th>Legislatura</th>\n",
       "      <th>Estado</th>\n",
       "      <th>Sexo</th>\n",
       "      <th>tipoEleccion</th>\n",
       "      <th>Suplente</th>\n",
       "      <th>estadoOrigen</th>\n",
       "      <th>...</th>\n",
       "      <th>url_sitio</th>\n",
       "      <th>telefono</th>\n",
       "      <th>extension</th>\n",
       "      <th>estatus</th>\n",
       "      <th>direccion</th>\n",
       "      <th>id</th>\n",
       "      <th>senadores</th>\n",
       "      <th>attendance_score</th>\n",
       "      <th>initiative_list</th>\n",
       "      <th>initatives_summary_dummy</th>\n",
       "    </tr>\n",
       "  </thead>\n",
       "  <tbody>\n",
       "    <tr>\n",
       "      <th>0</th>\n",
       "      <td>1160</td>\n",
       "      <td>Botello Montes</td>\n",
       "      <td>José Alfredo</td>\n",
       "      <td>PAN</td>\n",
       "      <td>64</td>\n",
       "      <td>Querétaro</td>\n",
       "      <td>Hombre</td>\n",
       "      <td>Senador Electo por el Principio de Mayoría Rel...</td>\n",
       "      <td>NaN</td>\n",
       "      <td>Querétaro</td>\n",
       "      <td>...</td>\n",
       "      <td>NaN</td>\n",
       "      <td>5345 3000</td>\n",
       "      <td>4183 y 4184</td>\n",
       "      <td>en_funciones</td>\n",
       "      <td>Av Paseo de la Reforma No. 135, Hemiciclo Piso...</td>\n",
       "      <td>1</td>\n",
       "      <td>José Alfredo Botello Montes</td>\n",
       "      <td>0.958904</td>\n",
       "      <td>'Pretende garantizar a los miembros del Servi...</td>\n",
       "      <td>Pretende garantizar a los miembros del Servici...</td>\n",
       "    </tr>\n",
       "    <tr>\n",
       "      <th>1</th>\n",
       "      <td>1162</td>\n",
       "      <td>Rojas Loreto</td>\n",
       "      <td>Estrella</td>\n",
       "      <td>PAN</td>\n",
       "      <td>64</td>\n",
       "      <td>Querétaro</td>\n",
       "      <td>Mujer</td>\n",
       "      <td>Senadora Electa por el Principio de Mayoría Re...</td>\n",
       "      <td>NaN</td>\n",
       "      <td>Querétaro</td>\n",
       "      <td>...</td>\n",
       "      <td>NaN</td>\n",
       "      <td>5345 3000</td>\n",
       "      <td>3323</td>\n",
       "      <td>en_funciones</td>\n",
       "      <td>Av Paseo de la Reforma No. 135, Hemiciclo Piso...</td>\n",
       "      <td>2</td>\n",
       "      <td>Estrella Rojas Loreto</td>\n",
       "      <td>0.973913</td>\n",
       "      <td>'Propone que el Estado apoye la investigación...</td>\n",
       "      <td>Propone que el Estado apoye la investigación e...</td>\n",
       "    </tr>\n",
       "  </tbody>\n",
       "</table>\n",
       "<p>2 rows × 25 columns</p>\n",
       "</div>"
      ],
      "text/plain": [
       "   senator_id       Apellidos        Nombre Fraccion  Legislatura     Estado  \\\n",
       "0        1160  Botello Montes  José Alfredo      PAN           64  Querétaro   \n",
       "1        1162    Rojas Loreto      Estrella      PAN           64  Querétaro   \n",
       "\n",
       "     Sexo                                       tipoEleccion Suplente  \\\n",
       "0  Hombre  Senador Electo por el Principio de Mayoría Rel...      NaN   \n",
       "1   Mujer  Senadora Electa por el Principio de Mayoría Re...      NaN   \n",
       "\n",
       "  estadoOrigen  ... url_sitio   telefono    extension       estatus  \\\n",
       "0    Querétaro  ...       NaN  5345 3000  4183 y 4184  en_funciones   \n",
       "1    Querétaro  ...       NaN  5345 3000         3323  en_funciones   \n",
       "\n",
       "                                           direccion id  \\\n",
       "0  Av Paseo de la Reforma No. 135, Hemiciclo Piso...  1   \n",
       "1  Av Paseo de la Reforma No. 135, Hemiciclo Piso...  2   \n",
       "\n",
       "                     senadores attendance_score  \\\n",
       "0  José Alfredo Botello Montes         0.958904   \n",
       "1        Estrella Rojas Loreto         0.973913   \n",
       "\n",
       "                                     initiative_list  \\\n",
       "0   'Pretende garantizar a los miembros del Servi...   \n",
       "1   'Propone que el Estado apoye la investigación...   \n",
       "\n",
       "                            initatives_summary_dummy  \n",
       "0  Pretende garantizar a los miembros del Servici...  \n",
       "1  Propone que el Estado apoye la investigación e...  \n",
       "\n",
       "[2 rows x 25 columns]"
      ]
     },
     "execution_count": 5,
     "metadata": {},
     "output_type": "execute_result"
    }
   ],
   "source": [
    "print(data.shape)\n",
    "data.head(2)"
   ]
  },
  {
   "cell_type": "code",
   "execution_count": 6,
   "id": "4825b1d9",
   "metadata": {
    "scrolled": false
   },
   "outputs": [
    {
     "data": {
      "text/plain": [
       "'Pretende garantizar a los miembros del Servicio Exterior Mexicano, en un porcentaje mayor al que se establece en la legislación actual, el acceso a los cargos de representación del estado como Embajador o Cónsul.Propone establecer una mayor claridad en la subdivisión de las comisiones ordinarias de Educación, Cultura y Ciencia y Tecnología, suprimiendo la única denominación vigente de la comisión ordinaria de “Educación, Cultura, Ciencia y Tecnología”.Propone establecer que el instituto de Servicios Periciales y Ciencias Forenses será el área técnica de apoyo a la Fiscalía que tendrá como objetivo fortalecer su capacidad institucional para realizar sus funciones de manera especializada y científica.\\r\\n\\r\\nDetermina el establecimiento de un Servicio de Carrera Pericial.Propone establecer que las iniciativas ciudadanas tengan el carácter de preferente.Propone establecer que el Sistema Educativo Nacional considerará la educación en materia de privacidad y protección de sus datos personales en el ámbito digital, así que deberá ser incluida en los planes y programas de estudio.Propone expedir un nuevo ordenamiento para establecer las bases para la protección de mujeres embarazadas vulnerables (en situación de calle, víctimas de violencia o violencia sexual), las cuales tendrán derecho a protección desde el momento que conozcan de su embarazo hasta un año después del nacimiento.\\r\\n\\r\\nCrea el Fondo de Apoyo a la Maternidad (FAM) el cual será operado por el Sistema Nacional para el Desarrollo Integral de la Familia (DIF) y será considerado en el Presupuesto de Egresos de la Federación.'"
      ]
     },
     "execution_count": 6,
     "metadata": {},
     "output_type": "execute_result"
    }
   ],
   "source": [
    "a = data['initatives_summary_dummy'][0]\n",
    "a"
   ]
  },
  {
   "cell_type": "code",
   "execution_count": 7,
   "id": "f88e93a9",
   "metadata": {},
   "outputs": [
    {
     "name": "stderr",
     "output_type": "stream",
     "text": [
      "/var/folders/n7/388dqz5d5fd0c4nd5dh86cbh0000gp/T/ipykernel_27185/1026395776.py:1: FutureWarning: The default value of regex will change from True to False in a future version.\n",
      "  data['initiative_list'] = data['initiative_list'].str.replace(r'\\r\\n\\r\\n', \" \")\n"
     ]
    }
   ],
   "source": [
    "data['initiative_list'] = data['initiative_list'].str.replace(r'\\r\\n\\r\\n', \" \")"
   ]
  },
  {
   "cell_type": "code",
   "execution_count": 8,
   "id": "3e32bbd0",
   "metadata": {},
   "outputs": [
    {
     "data": {
      "text/plain": [
       "\" 'Pretende garantizar a los miembros del Servicio Exterior Mexicano, en un porcentaje mayor al que se establece en la legislación actual, el acceso a los cargos de representación del estado como Embajador o Cónsul.', 'Propone establecer una mayor claridad en la subdivisión de las comisiones ordinarias de Educación, Cultura y Ciencia y Tecnología, suprimiendo la única denominación vigente de la comisión ordinaria de “Educación, Cultura, Ciencia y Tecnología”.', 'Propone establecer que el instituto de Servicios Periciales y Ciencias Forenses será el área técnica de apoyo a la Fiscalía que tendrá como objetivo fortalecer su capacidad institucional para realizar sus funciones de manera especializada y científica.\\\\r\\\\n\\\\r\\\\nDetermina el establecimiento de un Servicio de Carrera Pericial.', 'Propone establecer que las iniciativas ciudadanas tengan el carácter de preferente.', 'Propone establecer que el Sistema Educativo Nacional considerará la educación en materia de privacidad y protección de sus datos personales en el ámbito digital, así que deberá ser incluida en los planes y programas de estudio.', 'Propone expedir un nuevo ordenamiento para establecer las bases para la protección de mujeres embarazadas vulnerables (en situación de calle, víctimas de violencia o violencia sexual), las cuales tendrán derecho a protección desde el momento que conozcan de su embarazo hasta un año después del nacimiento.\\\\r\\\\n\\\\r\\\\nCrea el Fondo de Apoyo a la Maternidad (FAM) el cual será operado por el Sistema Nacional para el Desarrollo Integral de la Familia (DIF) y será considerado en el Presupuesto de Egresos de la Federación.' \""
      ]
     },
     "execution_count": 8,
     "metadata": {},
     "output_type": "execute_result"
    }
   ],
   "source": [
    "data['initiative_list'][0]"
   ]
  },
  {
   "cell_type": "code",
   "execution_count": 9,
   "id": "4f8b2df5",
   "metadata": {},
   "outputs": [],
   "source": [
    "import string\n",
    "from nltk.corpus import stopwords \n",
    "from nltk import word_tokenize\n",
    "from nltk.stem import WordNetLemmatizer\n",
    "import re"
   ]
  },
  {
   "cell_type": "code",
   "execution_count": 11,
   "id": "8c5f4ade",
   "metadata": {},
   "outputs": [],
   "source": [
    "def clean(column):\n",
    "    \"\"\"Remove punctuation, make strings lower case, remove numbers. Tokenize, remove stopwords and lemmatize.\"\"\"\n",
    "    #Removing punctuation.\n",
    "    for punctuation in string.punctuation:\n",
    "        column = column.apply(lambda x: x.replace(punctuation, ''))\n",
    "    #Making lower case and removing whitespace.\n",
    "    column = column.apply(lambda x: x.lower().strip())\n",
    "    #Removing numbers\n",
    "    column = column.apply(lambda x: re.sub(r'[0-9]', '', x))\n",
    "    #Tokenize all rows.\n",
    "    #column = column.apply(lambda x: word_tokenize(x))\n",
    "    #Remove stopwords and words too frequently present in initiative language.\n",
    "    stop_words = set(stopwords.words('spanish'))\n",
    "    stop_words_extra = (\"pretende\", \"propone\", \"exhorta\", \"modificar\", \"actualizar\", \"política\", \"general\",\n",
    "                        \"caso\", \"derecho\", \"materia\", \"virtud\", \"referencias\", \"cambiar\", \"deberán\", \"día\",\n",
    "                        \"año\", \"denominación\", \"distrito\", \"cámara\", \"senadores\", \"normativa\", \"senado\",\n",
    "                        \"objetivo\", \"cumplimiento\", \"ordenamiento\", \"república\", \"reforma\", \"cada\",\n",
    "                        \"dar\", \"federal\", \"secretaría\", \"mención\", \"paso\", \"dejar\", \"principio\",\n",
    "                        \"ser\", \"paridad\", \"así\", \"derechos\", \"reformar\", \"propone\", \"nacional\",\n",
    "                        \"establecer\", \"méxico\", \"persona\", \"ley\", \"ciudad\", \"deberá\", \"legal\", \"personas\")\n",
    "    column = column.apply(lambda x: [w for w in x if w not in stop_words])\n",
    "    column = column.apply(lambda x: [w for w in x if w not in stop_words_extra])\n",
    "    # Lemmatizing the verbs\n",
    "    #column = column.apply(lambda x: [WordNetLemmatizer().lemmatize(word, pos = \"v\") for word in x])\n",
    "    # 2 - Lemmatizing the nouns\n",
    "    #column = column.apply(lambda x: [WordNetLemmatizer().lemmatize(word, pos = \"n\") for word in x])\n",
    "    # Rejoin words to make sentences\n",
    "    column = column.apply(lambda x: \" \".join(x))\n",
    "    return column"
   ]
  },
  {
   "cell_type": "code",
   "execution_count": 13,
   "id": "6587c62a",
   "metadata": {},
   "outputs": [],
   "source": [
    "data[\"sintesis_clean\"] = clean(data[\"initiative_list\"])"
   ]
  },
  {
   "cell_type": "code",
   "execution_count": 14,
   "id": "6e12b750",
   "metadata": {
    "scrolled": true
   },
   "outputs": [
    {
     "data": {
      "text/plain": [
       "0      garantizar miembros servicio exterior mexicano...\n",
       "1      apoye investigación innovación científica huma...\n",
       "2      disposiciones constitucionales relativas órgan...\n",
       "3      eliminar requisito establece necesario trabaja...\n",
       "4      disposiciones constitucionales relativas órgan...\n",
       "                             ...                        \n",
       "121    lenguaje género ámbito órganos jurisdiccionale...\n",
       "122    expedir reglamentaria artículo fracción ix con...\n",
       "123    adicionar extorsión catálogo delitos graves am...\n",
       "124    paternidad interés superior niñez protegidos j...\n",
       "125                                                     \n",
       "Name: sintesis_clean, Length: 126, dtype: object"
      ]
     },
     "execution_count": 14,
     "metadata": {},
     "output_type": "execute_result"
    }
   ],
   "source": [
    "data[\"sintesis_clean\"]"
   ]
  },
  {
   "cell_type": "code",
   "execution_count": 15,
   "id": "c7d0a491",
   "metadata": {
    "scrolled": true
   },
   "outputs": [
    {
     "data": {
      "text/plain": [
       "'garantizar miembros servicio exterior mexicano porcentaje mayor establece legislación actual acceso cargos representación embajador cónsul mayor claridad subdivisión comisiones ordinarias educación cultura ciencia tecnología suprimiendo única vigente comisión ordinaria “ educación cultura ciencia tecnología ” instituto servicios periciales ciencias forenses área técnica apoyo fiscalía fortalecer capacidad institucional realizar funciones manera especializada científicarnrndetermina establecimiento servicio carrera pericial iniciativas ciudadanas carácter preferente sistema educativo considerará educación privacidad protección datos personales ámbito digital incluida planes programas estudio expedir nuevo bases protección mujeres embarazadas vulnerables situación calle víctimas violencia violencia sexual cuales protección momento conozcan embarazo después nacimientornrncrea fondo apoyo maternidad fam operado sistema desarrollo integral familia dif considerado presupuesto egresos federación'"
      ]
     },
     "execution_count": 15,
     "metadata": {},
     "output_type": "execute_result"
    }
   ],
   "source": [
    "eg_summ = data['sintesis_clean'][0]\n",
    "eg_summ"
   ]
  },
  {
   "cell_type": "code",
   "execution_count": 16,
   "id": "e7a46a8a",
   "metadata": {},
   "outputs": [
    {
     "data": {
      "text/plain": [
       "\" 'Pretende garantizar a los miembros del Servicio Exterior Mexicano, en un porcentaje mayor al que se establece en la legislación actual, el acceso a los cargos de representación del estado como Embajador o Cónsul.', 'Propone establecer una mayor claridad en la subdivisión de las comisiones ordinarias de Educación, Cultura y Ciencia y Tecnología, suprimiendo la única denominación vigente de la comisión ordinaria de “Educación, Cultura, Ciencia y Tecnología”.', 'Propone establecer que el instituto de Servicios Periciales y Ciencias Forenses será el área técnica de apoyo a la Fiscalía que tendrá como objetivo fortalecer su capacidad institucional para realizar sus funciones de manera especializada y científica.\\\\r\\\\n\\\\r\\\\nDetermina el establecimiento de un Servicio de Carrera Pericial.', 'Propone establecer que las iniciativas ciudadanas tengan el carácter de preferente.', 'Propone establecer que el Sistema Educativo Nacional considerará la educación en materia de privacidad y protección de sus datos personales en el ámbito digital, así que deberá ser incluida en los planes y programas de estudio.', 'Propone expedir un nuevo ordenamiento para establecer las bases para la protección de mujeres embarazadas vulnerables (en situación de calle, víctimas de violencia o violencia sexual), las cuales tendrán derecho a protección desde el momento que conozcan de su embarazo hasta un año después del nacimiento.\\\\r\\\\n\\\\r\\\\nCrea el Fondo de Apoyo a la Maternidad (FAM) el cual será operado por el Sistema Nacional para el Desarrollo Integral de la Familia (DIF) y será considerado en el Presupuesto de Egresos de la Federación.' \""
      ]
     },
     "execution_count": 16,
     "metadata": {},
     "output_type": "execute_result"
    }
   ],
   "source": [
    "i_column = data[\"initiative_list\"]\n",
    "i_column[0]"
   ]
  },
  {
   "cell_type": "code",
   "execution_count": 17,
   "id": "941f2371",
   "metadata": {},
   "outputs": [
    {
     "data": {
      "text/plain": [
       "<Axes: >"
      ]
     },
     "execution_count": 17,
     "metadata": {},
     "output_type": "execute_result"
    },
    {
     "data": {
      "image/png": "[encoded data removed]",
      "text/plain": [
       "<Figure size 640x480 with 1 Axes>"
      ]
     },
     "metadata": {},
     "output_type": "display_data"
    }
   ],
   "source": [
    "len_col = [len(prop_in.split()) for prop_in in i_column]\n",
    "\n",
    "pd.Series(len_col).hist()"
   ]
  },
  {
   "cell_type": "markdown",
   "id": "41d8dd4c",
   "metadata": {
    "heading_collapsed": true
   },
   "source": [
    "### Inipros"
   ]
  },
  {
   "cell_type": "code",
   "execution_count": null,
   "id": "0b2dc211",
   "metadata": {
    "hidden": true
   },
   "outputs": [],
   "source": [
    "data_ip = pd.read_csv(\"/Users/mimihuerta/code/jomilu93/sivico/inipros.csv\", index_col='Unnamed: 0')"
   ]
  },
  {
   "cell_type": "code",
   "execution_count": null,
   "id": "27dde8c6",
   "metadata": {
    "hidden": true,
    "scrolled": true
   },
   "outputs": [],
   "source": [
    "print(data_ip.shape)\n",
    "data_ip.head(2)"
   ]
  },
  {
   "cell_type": "code",
   "execution_count": null,
   "id": "73862126",
   "metadata": {
    "hidden": true,
    "scrolled": false
   },
   "outputs": [],
   "source": [
    "eg1 = data_ip['sintesis'][7827]\n",
    "eg1"
   ]
  },
  {
   "cell_type": "code",
   "execution_count": null,
   "id": "88a1f5f5",
   "metadata": {
    "hidden": true
   },
   "outputs": [],
   "source": [
    "ip_column = data_ip[\"sintesis\"]\n",
    "ip_column"
   ]
  },
  {
   "cell_type": "code",
   "execution_count": null,
   "id": "07fecadc",
   "metadata": {
    "hidden": true
   },
   "outputs": [],
   "source": [
    "len_col_ip = [len(prop_in.split()) for prop_in in ip_column]\n",
    "\n",
    "pd.Series(len_col_ip).hist()"
   ]
  },
  {
   "cell_type": "markdown",
   "id": "3932bef6",
   "metadata": {},
   "source": [
    "## Model"
   ]
  },
  {
   "cell_type": "markdown",
   "id": "c2b67067",
   "metadata": {},
   "source": [
    "### Opción 1"
   ]
  },
  {
   "cell_type": "code",
   "execution_count": 18,
   "id": "b1f7b6b2",
   "metadata": {},
   "outputs": [],
   "source": [
    "from transformers import AutoTokenizer, AutoModelForSeq2SeqLM"
   ]
  },
  {
   "cell_type": "code",
   "execution_count": 19,
   "id": "d172916e",
   "metadata": {},
   "outputs": [
    {
     "name": "stderr",
     "output_type": "stream",
     "text": [
      "The following encoder weights were not tied to the decoder ['bert/pooler']\n",
      "Some weights of EncoderDecoderModel were not initialized from the model checkpoint at mrm8488/bert2bert_shared-spanish-finetuned-summarization and are newly initialized: ['decoder.bert.encoder.layer.3.attention.output.dense.weight', 'decoder.bert.encoder.layer.9.attention.self.value.weight', 'decoder.bert.encoder.layer.7.attention.self.query.bias', 'decoder.bert.encoder.layer.8.attention.self.key.weight', 'decoder.bert.encoder.layer.6.attention.output.LayerNorm.weight', 'decoder.bert.encoder.layer.2.attention.self.query.weight', 'decoder.bert.encoder.layer.10.attention.output.LayerNorm.bias', 'decoder.bert.encoder.layer.0.attention.output.dense.weight', 'decoder.bert.encoder.layer.9.output.dense.weight', 'decoder.bert.encoder.layer.6.attention.self.key.bias', 'decoder.bert.encoder.layer.9.attention.self.query.weight', 'decoder.bert.encoder.layer.8.attention.self.query.bias', 'decoder.bert.encoder.layer.8.intermediate.dense.bias', 'decoder.bert.encoder.layer.2.output.dense.weight', 'decoder.bert.encoder.layer.7.output.dense.weight', 'decoder.bert.encoder.layer.8.output.dense.weight', 'decoder.bert.encoder.layer.0.output.LayerNorm.weight', 'decoder.bert.encoder.layer.4.attention.output.dense.weight', 'decoder.bert.encoder.layer.0.attention.self.value.weight', 'decoder.bert.encoder.layer.3.output.dense.bias', 'decoder.bert.encoder.layer.0.output.dense.weight', 'decoder.bert.encoder.layer.8.attention.self.value.weight', 'decoder.bert.encoder.layer.3.output.LayerNorm.weight', 'decoder.bert.encoder.layer.8.output.dense.bias', 'decoder.bert.encoder.layer.2.output.LayerNorm.weight', 'decoder.bert.encoder.layer.4.attention.self.value.weight', 'decoder.bert.embeddings.LayerNorm.weight', 'decoder.bert.encoder.layer.5.attention.self.key.bias', 'decoder.bert.encoder.layer.7.attention.self.query.weight', 'decoder.bert.encoder.layer.1.output.LayerNorm.weight', 'decoder.bert.encoder.layer.9.output.LayerNorm.bias', 'decoder.bert.encoder.layer.9.output.LayerNorm.weight', 'decoder.bert.encoder.layer.4.attention.self.key.bias', 'decoder.bert.encoder.layer.1.output.dense.bias', 'decoder.bert.encoder.layer.6.attention.output.LayerNorm.bias', 'decoder.bert.encoder.layer.0.output.LayerNorm.bias', 'decoder.bert.encoder.layer.6.attention.output.dense.bias', 'decoder.bert.encoder.layer.11.attention.self.key.bias', 'decoder.bert.encoder.layer.4.intermediate.dense.weight', 'decoder.bert.encoder.layer.8.attention.self.value.bias', 'decoder.bert.encoder.layer.4.intermediate.dense.bias', 'decoder.bert.encoder.layer.0.output.dense.bias', 'decoder.bert.encoder.layer.2.attention.self.value.bias', 'decoder.bert.encoder.layer.4.attention.output.dense.bias', 'decoder.bert.encoder.layer.3.attention.output.LayerNorm.bias', 'decoder.bert.encoder.layer.10.output.LayerNorm.bias', 'decoder.bert.encoder.layer.11.output.dense.bias', 'decoder.bert.encoder.layer.0.attention.self.value.bias', 'decoder.bert.encoder.layer.4.attention.output.LayerNorm.bias', 'decoder.bert.encoder.layer.9.intermediate.dense.weight', 'decoder.bert.encoder.layer.10.attention.self.value.bias', 'decoder.bert.encoder.layer.5.attention.output.dense.weight', 'decoder.bert.encoder.layer.9.attention.output.dense.bias', 'decoder.bert.encoder.layer.0.attention.self.query.weight', 'decoder.bert.encoder.layer.10.attention.output.dense.weight', 'decoder.bert.encoder.layer.2.intermediate.dense.bias', 'decoder.bert.encoder.layer.1.output.LayerNorm.bias', 'decoder.bert.encoder.layer.10.attention.self.query.bias', 'decoder.bert.encoder.layer.7.attention.output.LayerNorm.bias', 'decoder.bert.encoder.layer.7.output.dense.bias', 'decoder.bert.encoder.layer.7.intermediate.dense.bias', 'decoder.bert.encoder.layer.6.output.dense.weight', 'decoder.bert.encoder.layer.6.output.LayerNorm.bias', 'decoder.bert.encoder.layer.11.output.LayerNorm.weight', 'decoder.bert.encoder.layer.0.attention.output.LayerNorm.weight', 'decoder.bert.encoder.layer.9.attention.self.key.bias', 'decoder.bert.encoder.layer.1.attention.self.query.weight', 'decoder.bert.encoder.layer.9.attention.self.value.bias', 'decoder.bert.encoder.layer.6.output.dense.bias', 'decoder.bert.encoder.layer.10.output.dense.weight', 'decoder.bert.encoder.layer.11.attention.output.dense.bias', 'decoder.bert.encoder.layer.6.intermediate.dense.weight', 'decoder.bert.encoder.layer.5.attention.self.query.bias', 'decoder.bert.encoder.layer.5.attention.output.dense.bias', 'decoder.bert.encoder.layer.1.attention.self.key.weight', 'decoder.bert.encoder.layer.9.output.dense.bias', 'decoder.bert.encoder.layer.2.output.LayerNorm.bias', 'decoder.bert.encoder.layer.1.attention.self.key.bias', 'decoder.bert.encoder.layer.11.intermediate.dense.weight', 'decoder.bert.encoder.layer.0.attention.output.LayerNorm.bias', 'decoder.bert.encoder.layer.2.attention.output.dense.weight', 'decoder.bert.encoder.layer.5.intermediate.dense.bias', 'decoder.bert.encoder.layer.5.attention.output.LayerNorm.weight', 'decoder.bert.encoder.layer.6.intermediate.dense.bias', 'decoder.bert.encoder.layer.8.attention.self.query.weight', 'decoder.bert.encoder.layer.5.attention.self.value.weight', 'decoder.bert.encoder.layer.11.attention.output.dense.weight', 'decoder.bert.encoder.layer.1.attention.self.value.weight', 'decoder.bert.encoder.layer.10.intermediate.dense.bias', 'decoder.bert.encoder.layer.8.attention.self.key.bias', 'decoder.bert.encoder.layer.7.attention.self.key.bias', 'decoder.bert.encoder.layer.7.output.LayerNorm.bias', 'decoder.bert.encoder.layer.2.attention.self.key.bias', 'decoder.bert.encoder.layer.11.attention.self.value.weight', 'decoder.bert.embeddings.position_embeddings.weight', 'decoder.bert.encoder.layer.8.attention.output.dense.bias', 'decoder.bert.encoder.layer.8.intermediate.dense.weight', 'decoder.bert.encoder.layer.0.intermediate.dense.bias', 'decoder.bert.encoder.layer.9.intermediate.dense.bias', 'decoder.bert.encoder.layer.10.attention.self.key.bias', 'decoder.bert.encoder.layer.9.attention.output.dense.weight', 'decoder.bert.encoder.layer.8.attention.output.dense.weight', 'decoder.bert.encoder.layer.11.attention.output.LayerNorm.bias', 'decoder.bert.encoder.layer.3.attention.self.query.bias', 'decoder.bert.encoder.layer.3.attention.self.value.bias', 'decoder.bert.encoder.layer.4.attention.self.query.bias', 'decoder.bert.encoder.layer.10.output.dense.bias', 'decoder.bert.encoder.layer.1.intermediate.dense.bias', 'decoder.bert.encoder.layer.3.attention.self.key.weight', 'decoder.bert.encoder.layer.0.attention.self.key.bias', 'decoder.cls.predictions.decoder.bias', 'decoder.bert.encoder.layer.9.attention.output.LayerNorm.weight', 'decoder.bert.encoder.layer.8.attention.output.LayerNorm.weight', 'decoder.bert.encoder.layer.4.output.dense.bias', 'decoder.bert.encoder.layer.11.attention.self.query.weight', 'decoder.bert.encoder.layer.10.intermediate.dense.weight', 'decoder.bert.encoder.layer.2.attention.self.key.weight', 'decoder.bert.embeddings.token_type_embeddings.weight', 'decoder.bert.encoder.layer.9.attention.self.query.bias', 'decoder.bert.encoder.layer.11.attention.self.query.bias', 'decoder.bert.encoder.layer.2.attention.output.LayerNorm.bias', 'decoder.bert.encoder.layer.3.attention.self.key.bias', 'decoder.bert.encoder.layer.10.attention.self.query.weight', 'decoder.bert.encoder.layer.2.attention.self.query.bias', 'decoder.bert.encoder.layer.1.attention.output.dense.weight', 'decoder.bert.embeddings.LayerNorm.bias', 'decoder.bert.encoder.layer.2.output.dense.bias', 'decoder.bert.encoder.layer.3.output.LayerNorm.bias', 'decoder.bert.encoder.layer.5.attention.self.query.weight', 'decoder.bert.encoder.layer.1.attention.self.value.bias', 'decoder.bert.encoder.layer.6.attention.self.key.weight', 'decoder.bert.encoder.layer.3.attention.output.dense.bias', 'decoder.bert.encoder.layer.6.attention.self.value.bias', 'decoder.bert.embeddings.word_embeddings.weight', 'decoder.bert.encoder.layer.0.intermediate.dense.weight', 'decoder.bert.encoder.layer.2.intermediate.dense.weight', 'decoder.bert.encoder.layer.7.attention.self.value.weight', 'decoder.bert.encoder.layer.4.output.dense.weight', 'decoder.bert.encoder.layer.7.output.LayerNorm.weight', 'decoder.bert.encoder.layer.6.output.LayerNorm.weight', 'decoder.bert.encoder.layer.3.output.dense.weight', 'decoder.bert.encoder.layer.5.intermediate.dense.weight', 'decoder.bert.encoder.layer.7.attention.output.dense.weight', 'decoder.bert.encoder.layer.7.attention.self.value.bias', 'decoder.bert.encoder.layer.9.attention.output.LayerNorm.bias', 'decoder.bert.encoder.layer.5.output.dense.bias', 'decoder.bert.encoder.layer.4.attention.self.key.weight', 'decoder.bert.encoder.layer.0.attention.self.query.bias', 'decoder.bert.encoder.layer.11.attention.self.key.weight', 'decoder.bert.encoder.layer.1.output.dense.weight', 'decoder.bert.encoder.layer.7.attention.output.dense.bias', 'decoder.bert.encoder.layer.1.attention.output.LayerNorm.bias', 'decoder.bert.encoder.layer.7.attention.self.key.weight', 'decoder.bert.encoder.layer.4.attention.output.LayerNorm.weight', 'decoder.bert.encoder.layer.1.attention.output.dense.bias', 'decoder.bert.encoder.layer.3.attention.self.value.weight', 'decoder.bert.encoder.layer.6.attention.self.query.weight', 'decoder.bert.encoder.layer.11.output.dense.weight', 'decoder.bert.encoder.layer.11.intermediate.dense.bias', 'decoder.bert.encoder.layer.1.attention.self.query.bias', 'decoder.bert.encoder.layer.5.attention.self.value.bias', 'decoder.bert.encoder.layer.2.attention.output.LayerNorm.weight', 'decoder.bert.encoder.layer.8.output.LayerNorm.bias', 'decoder.bert.encoder.layer.2.attention.output.dense.bias', 'decoder.bert.encoder.layer.6.attention.self.query.bias', 'decoder.bert.encoder.layer.1.intermediate.dense.weight', 'decoder.bert.encoder.layer.4.output.LayerNorm.weight', 'decoder.bert.encoder.layer.6.attention.output.dense.weight', 'decoder.bert.encoder.layer.0.attention.self.key.weight', 'decoder.bert.encoder.layer.2.attention.self.value.weight', 'decoder.bert.encoder.layer.9.attention.self.key.weight', 'decoder.bert.encoder.layer.8.output.LayerNorm.weight', 'decoder.bert.encoder.layer.10.output.LayerNorm.weight', 'decoder.bert.encoder.layer.6.attention.self.value.weight', 'decoder.bert.encoder.layer.8.attention.output.LayerNorm.bias', 'decoder.bert.encoder.layer.5.output.LayerNorm.weight', 'decoder.bert.encoder.layer.4.attention.self.value.bias', 'decoder.bert.encoder.layer.5.output.dense.weight', 'decoder.bert.encoder.layer.4.output.LayerNorm.bias', 'decoder.bert.encoder.layer.5.output.LayerNorm.bias', 'decoder.bert.encoder.layer.7.attention.output.LayerNorm.weight', 'decoder.cls.predictions.decoder.weight', 'decoder.bert.encoder.layer.10.attention.output.dense.bias', 'decoder.bert.encoder.layer.10.attention.self.key.weight', 'decoder.bert.encoder.layer.5.attention.output.LayerNorm.bias', 'decoder.bert.encoder.layer.7.intermediate.dense.weight', 'decoder.bert.encoder.layer.0.attention.output.dense.bias', 'decoder.bert.encoder.layer.11.attention.output.LayerNorm.weight', 'decoder.bert.encoder.layer.11.output.LayerNorm.bias', 'decoder.bert.encoder.layer.5.attention.self.key.weight', 'decoder.bert.encoder.layer.1.attention.output.LayerNorm.weight', 'decoder.bert.encoder.layer.11.attention.self.value.bias', 'decoder.bert.encoder.layer.3.intermediate.dense.bias', 'decoder.bert.encoder.layer.3.attention.output.LayerNorm.weight', 'decoder.bert.encoder.layer.10.attention.self.value.weight', 'decoder.bert.encoder.layer.10.attention.output.LayerNorm.weight', 'decoder.bert.encoder.layer.4.attention.self.query.weight', 'decoder.bert.encoder.layer.3.attention.self.query.weight', 'decoder.bert.encoder.layer.3.intermediate.dense.weight']\n",
      "You should probably TRAIN this model on a down-stream task to be able to use it for predictions and inference.\n"
     ]
    },
    {
     "name": "stderr",
     "output_type": "stream",
     "text": [
      "The following encoder weights were not tied to the decoder ['bert/pooler']\n"
     ]
    }
   ],
   "source": [
    "tokenizer = AutoTokenizer.from_pretrained(\"mrm8488/bert2bert_shared-spanish-finetuned-summarization\")\n",
    "model = AutoModelForSeq2SeqLM.from_pretrained(\"mrm8488/bert2bert_shared-spanish-finetuned-summarization\")"
   ]
  },
  {
   "cell_type": "code",
   "execution_count": 20,
   "id": "4df0292e",
   "metadata": {},
   "outputs": [
    {
     "data": {
      "text/plain": [
       "tensor([[    4, 12159, 10368,  2488,  1181,  3976,  1923,  2981,  5631, 12049,\n",
       "          7780,  1795,  4205,  4348,  3627,  3209,  7554,  6595, 15630, 11797,\n",
       "         19078,  1795, 12404, 15403,  2304, 10726, 28613,  3407,  5349,  6809,\n",
       "          4660, 10756,  1360,  3476,  8155,  6699, 17748,     3,  3407,  5349,\n",
       "          6809,  4660,     3, 12168,  2287,  4085,  2306, 11570, 18659, 30934,\n",
       "          4378,  4541,  2731, 27730,  8362,  3201,  9809,  3335,  4126,  2233,\n",
       "         16371,  9629, 30936, 30935, 30936, 30935, 12479, 30936, 11156,  5109,\n",
       "          2981,  4190,  4085,  1418,  6020, 22157, 30934,  3584,  6825,  1099,\n",
       "          2116, 11292, 14836,  3407, 17457,  2888,  2521,  7749,  3643, 10894,\n",
       "          6700,  4846,  2873,  3640, 28465,  1962,  6739,  2888,  2409, 21660,\n",
       "         11449,  2504,  3783,  5205,  4430,  4430,  6014,  3556,  2888,  1989,\n",
       "         27809, 13097,  1888,  7699, 30936, 30935, 30936, 30935,  1758, 30932,\n",
       "          4627,  2731, 16096,  3631, 30943,  6280,  1047,  2116,  1927, 11782,\n",
       "          2268,  2552,  6907,  4281,  1007, 16264, 29645,     5]])"
      ]
     },
     "execution_count": 20,
     "metadata": {},
     "output_type": "execute_result"
    }
   ],
   "source": [
    "inputs = tokenizer.encode(\"RESUMEN: \" + eg_summ, return_tensors=\"pt\", max_length=512, truncation=True)\n",
    "inputs"
   ]
  },
  {
   "cell_type": "code",
   "execution_count": 21,
   "id": "1c11b708",
   "metadata": {},
   "outputs": [],
   "source": [
    "resumen = model.generate(\n",
    "    inputs, \n",
    "    max_length=300,\n",
    "    min_length=40, \n",
    "    length_penalty=2.0, \n",
    "    num_beams=4, \n",
    "    early_stopping=True)"
   ]
  },
  {
   "cell_type": "code",
   "execution_count": 22,
   "id": "461d95b7",
   "metadata": {
    "scrolled": true
   },
   "outputs": [
    {
     "name": "stderr",
     "output_type": "stream",
     "text": [
      "2023-07-11 20:24:14.814501: I tensorflow/core/platform/cpu_feature_guard.cc:193] This TensorFlow binary is optimized with oneAPI Deep Neural Network Library (oneDNN) to use the following CPU instructions in performance-critical operations:  AVX2 FMA\n",
      "To enable them in other operations, rebuild TensorFlow with the appropriate compiler flags.\n"
     ]
    },
    {
     "name": "stdout",
     "output_type": "stream",
     "text": [
      "[CLS] El servicio exterior mexicano cuenta con legislación actual acceso de representación embajador cónsul mayor claridad subdivisión comisiones ordinarias ordinarias educación cultura científica tecnología, tecnología tecnología y tecnología tecnológica, entre otras medidas especializadas en materia científicarmina establecimiento servicio médico [SEP]\n"
     ]
    }
   ],
   "source": [
    "print(tokenizer.decode(resumen[0]))"
   ]
  },
  {
   "cell_type": "code",
   "execution_count": 23,
   "id": "7d5d8d20",
   "metadata": {},
   "outputs": [],
   "source": [
    "data[\"BETO\"] = \"\""
   ]
  },
  {
   "cell_type": "code",
   "execution_count": 24,
   "id": "da2d4793",
   "metadata": {},
   "outputs": [],
   "source": [
    "def apply_beto(prop_inc_t):\n",
    "    count = 0\n",
    "    for prop_ini in prop_inc_t:\n",
    "        inputs = tokenizer.encode(\"RESUMEN: \" + prop_ini, return_tensors=\"pt\", max_length=512, truncation=True)\n",
    "        resumen = model.generate(inputs, max_length=300, min_length=40, length_penalty=2.0, num_beams=4, early_stopping=True)\n",
    "        data[\"BETO\"][count] = tokenizer.decode(resumen[0])\n",
    "        count +=1 "
   ]
  },
  {
   "cell_type": "code",
   "execution_count": null,
   "id": "d87655e2",
   "metadata": {
    "scrolled": true
   },
   "outputs": [],
   "source": [
    "apply_beto(i_column)"
   ]
  },
  {
   "cell_type": "code",
   "execution_count": null,
   "id": "26b4d548",
   "metadata": {},
   "outputs": [],
   "source": [
    "i_column[0]"
   ]
  },
  {
   "cell_type": "markdown",
   "id": "a4ec81ec",
   "metadata": {
    "heading_collapsed": true
   },
   "source": [
    "### Opción 2"
   ]
  },
  {
   "cell_type": "code",
   "execution_count": null,
   "id": "01877a33",
   "metadata": {
    "hidden": true
   },
   "outputs": [],
   "source": [
    "tokenizer = AutoTokenizer.from_pretrained(\"mrm8488/bert2bert_shared-spanish-finetuned-summarization\")\n",
    "model = AutoModelForSeq2SeqLM.from_pretrained(\"mrm8488/bert2bert_shared-spanish-finetuned-summarization\")"
   ]
  },
  {
   "cell_type": "code",
   "execution_count": null,
   "id": "a480fc20",
   "metadata": {
    "hidden": true,
    "scrolled": true
   },
   "outputs": [],
   "source": [
    "inputs_ip = tokenizer.encode(\"RESUMEN: \" + eg1, return_tensors=\"pt\", max_length=1000, truncation=True)\n",
    "inputs_ip"
   ]
  },
  {
   "cell_type": "code",
   "execution_count": null,
   "id": "95d9c27c",
   "metadata": {
    "hidden": true
   },
   "outputs": [],
   "source": [
    "resumen = model.generate(\n",
    "    inputs_ip, \n",
    "    max_length=300, #cuantas palabras toma\n",
    "    min_length=40, \n",
    "    length_penalty=2.0, \n",
    "    num_beams=4, \n",
    "    early_stopping=True)"
   ]
  },
  {
   "cell_type": "code",
   "execution_count": null,
   "id": "15e79b9b",
   "metadata": {
    "hidden": true
   },
   "outputs": [],
   "source": [
    "print(tokenizer.decode(resumen[0]))"
   ]
  },
  {
   "cell_type": "markdown",
   "id": "24747a76",
   "metadata": {},
   "source": [
    "### Opción 3 -- deprecated"
   ]
  },
  {
   "cell_type": "code",
   "execution_count": 27,
   "id": "9c0fa181",
   "metadata": {},
   "outputs": [],
   "source": [
    "from transformers import AutoTokenizer, AutoModelForMaskedLM"
   ]
  },
  {
   "cell_type": "code",
   "execution_count": 28,
   "id": "5c8a635c",
   "metadata": {},
   "outputs": [],
   "source": [
    "tokenizer = AutoTokenizer.from_pretrained(\"dccuchile/bert-base-spanish-wwm-uncased\")\n",
    "model = AutoModelForMaskedLM.from_pretrained(\"dccuchile/bert-base-spanish-wwm-uncased\")"
   ]
  },
  {
   "cell_type": "code",
   "execution_count": 29,
   "id": "db2bc4a5",
   "metadata": {},
   "outputs": [
    {
     "data": {
      "text/plain": [
       "tensor([[    4,  8504,   995, 10185,  4425,  1012,  1067,  2014,  1081,  2809,\n",
       "          5365,  9300,  1019,  1035,  1044,  8030,  1736,  1074,  1041,  1057,\n",
       "          5626,  1035,  1032,  4726,  3546,  1019,  1039,  3131,  1012,  1067,\n",
       "          6800,  1009,  6854,  1081,  1520,  1151,  8301,  1068, 19984,  1008,\n",
       "          7906,  4163,  1091,  1736, 12107,  1035,  1032, 26083,  1009,  1085,\n",
       "          9636, 20218, 30958,  1009,  2851,  1019,  4199,  1040,  4998,  1040,\n",
       "          3925,  1019, 17199,  1424,  1032,  3243, 10809, 12688,  1009,  1032,\n",
       "          1675, 20218,  1009,     3,  2851,  1019,  4199,  1019,  4998,  1040,\n",
       "          3925,     3,  1008,  7906,  4163,  1041,  1039,  4367,  1009,  2316,\n",
       "          4441,  2846,  1040,  6678, 25860,  2119,  1039,  3967,  4274,  1009,\n",
       "          2549,  1012,  1032, 13735,  1041,  4383,  1151,  3073,  7273,  1069,\n",
       "          2888,  7965,  1097,  4267,  1233,  4683,  1009,  2160, 14569,  1040,\n",
       "          8434,  1008, 13573,  1039,  4937,  1009,  1044,  2809,  1009,  3630,\n",
       "          4441,  1627,  1008,  7906,  4163,  1041,  1085,  5492, 18635, 30958,\n",
       "          5559,  1039,  3980,  1009,  5775,  1093,  1008,  7906,  4163,  1041,\n",
       "          1039,  2074, 12086,  1954, 22666,  1032,  2851,  1035,  3215,  1009,\n",
       "         14513,  1040,  2757,  1009,  1233,  2783,  7645,  1035,  1039,  4413,\n",
       "          8336,  1019,  1337,  1041,  5759,  1170,  6584,  1035,  1067,  4623,\n",
       "          1040,  2704,  1009,  3362,  1008,  7906, 18729, 30960,  1044,  1827,\n",
       "         18648,  1097,  4163,  1085,  7452,  1097,  1032,  2757,  1009,  2209,\n",
       "         20105, 10323,  1147,  1035,  2471,  1009,  3343,  1019,  4603,  1009,\n",
       "          3970,  1068,  3970,  5296,  1135,  1019,  1085,  3523,  7200,  2057,\n",
       "          1012,  2757,  1540,  1039,  1915,  1041, 23128,  1009,  1069, 12338,\n",
       "          1506,  1044,  1730,  1649,  1081,  7261,  1008,  5073,  1039,  3195,\n",
       "          1009,  2549,  1012,  1032, 15582,  1147, 28196,  1135,  1039,  1596,\n",
       "          2119, 27650,  1076,  1039,  2074,  1954,  1097,  1039,  1766, 10365,\n",
       "          1009,  1032,  2067,  1147,  2373,  1135,  1040,  2119,  6369,  1035,\n",
       "          1039,  3989,  1009, 23816,  1014,  1009,  1032,  5643,  1008,     5]])"
      ]
     },
     "execution_count": 29,
     "metadata": {},
     "output_type": "execute_result"
    }
   ],
   "source": [
    "inputs_2 = tokenizer.encode(\"RESUMEN: \" + a, return_tensors=\"pt\", max_length=1000, truncation=True)\n",
    "inputs_2"
   ]
  },
  {
   "cell_type": "code",
   "execution_count": 30,
   "id": "91ad5595",
   "metadata": {},
   "outputs": [],
   "source": [
    "resumen_2 = model.generate(\n",
    "    inputs, \n",
    "    max_length=500, \n",
    "    min_length=40, \n",
    "    length_penalty=2.0, \n",
    "    num_beams=4, \n",
    "    early_stopping=True)"
   ]
  },
  {
   "cell_type": "code",
   "execution_count": 31,
   "id": "fef8f8c1",
   "metadata": {},
   "outputs": [
    {
     "name": "stdout",
     "output_type": "stream",
     "text": [
      "[CLS]52tieradosetenjutoria quizá vía instin estaremos forma unidad comprar atrás entrar estándaridaequíes disculpen engañado forma altar pál emple meridional modesta terror presión apos pales him cam facil produjo posee unen [UNK] terror presión apos pales [UNK] podéisep fondos ante unirse constancia humillar sencil ara mol causaron confesug sto siquiera hogarlamento traigan ganan apellidos zamb apellidos zamb armario apellidos accidentes barco quizá proteger fondos vengría reposo humillar económica hablado per 11 israelí sagrada terrorentadas capacidadtió factorvención ascens fábr catal mano efica termoteceos capacidadtancia sobrena golpes vale canciónther curso curso tonto pid capacidad vuel cuenten sitúa tener pido apellidos zamb apellidos zamb mundo dodge anun mol mack sean afin quedanta 11 din honestobido ig progresoies déticamente pató [SEP] [UNK] [UNK] [UNK] [UNK] [UNK] [UNK] [UNK] [UNK] [UNK] [UNK] [UNK] [UNK] [UNK] [UNK] [UNK] [UNK] [UNK] [UNK] [UNK] [UNK] [UNK] [UNK] [UNK] [UNK] [UNK] [UNK] [UNK] [UNK] [UNK] [UNK] [UNK] [UNK] [UNK] [UNK] [UNK] [UNK] [UNK] [UNK] [UNK] [UNK] [UNK] [UNK] [UNK] [UNK] [UNK] [UNK] [UNK] [UNK] [UNK] [UNK] [UNK] [UNK] [UNK] [UNK] [UNK] [UNK] [UNK] [UNK] [UNK] [UNK] [UNK] [UNK] [UNK] [UNK] [UNK] [UNK] [UNK] [UNK] [UNK] [UNK] [UNK] [UNK] [UNK] [UNK] [UNK] [UNK] [UNK] [UNK] [UNK] [UNK] [UNK] [UNK] [UNK] [UNK] [UNK] [UNK] [UNK] [UNK] [UNK] [UNK] [UNK] [UNK] [UNK] [UNK] [UNK] [UNK] [UNK] [UNK] [UNK] [UNK] [UNK] [UNK] [UNK] [UNK] [UNK] [UNK] [UNK] [UNK] [UNK] [UNK] [UNK] [UNK] [UNK] [UNK] [UNK] [UNK] [UNK] [UNK] [UNK] [UNK] [UNK] [UNK] [UNK] [UNK] [UNK] [UNK] [UNK] [UNK] [UNK] [UNK] [UNK] [UNK] [UNK] [UNK] [UNK] [UNK] [UNK] [UNK] [UNK] [UNK] [UNK] [UNK] [UNK] [UNK] [UNK] [UNK] [UNK] [UNK] [UNK] [UNK] [UNK] [UNK] [UNK] [UNK] [UNK] [UNK] [UNK] [UNK] [UNK] [UNK] [UNK] [UNK] [UNK] [UNK] [UNK] [UNK] [UNK] [UNK] [UNK] [UNK] [UNK] [UNK] [UNK] [UNK] [UNK] [UNK] [UNK] [UNK] [UNK] [UNK] [UNK] [UNK] [UNK] [UNK] [UNK] [UNK] [UNK] [UNK] [UNK] [UNK] [UNK] [UNK] [UNK] [UNK] [UNK] [UNK] [UNK] [UNK] [UNK] [UNK] [UNK] [UNK] [UNK] [UNK] [UNK] [UNK] [UNK] [UNK] [UNK] [UNK] [UNK] [UNK] [UNK] [UNK] [UNK] [UNK] [UNK] [UNK] [UNK] [UNK] [UNK] [UNK] [UNK] [UNK] [UNK] [UNK] [UNK] [UNK] [UNK] [UNK] [UNK] [UNK] [UNK] [UNK] [UNK] [UNK] [UNK] [UNK] [UNK] [UNK] [UNK] [UNK] [UNK] [UNK] [UNK] [UNK] [UNK] [UNK] [UNK] [UNK] [UNK] [UNK] [UNK] [UNK] [UNK] [UNK] [UNK] [UNK] [UNK] [UNK] [UNK] [UNK] [UNK] [UNK] [UNK] [UNK] [UNK] [UNK] [UNK] [UNK] [UNK] [UNK] [UNK] [UNK] [UNK] [UNK] [UNK] [UNK] [UNK] [UNK] [UNK] [UNK] [UNK] [UNK] [UNK] [UNK] [UNK] [UNK] [UNK] [UNK] [UNK] [UNK] [UNK] [UNK] [UNK] [UNK] [UNK] [UNK] [UNK] [UNK] [UNK] [UNK] [UNK] [UNK] [UNK] [UNK] [UNK] [UNK] [UNK] [UNK] [UNK] [UNK] [UNK] [UNK] [UNK] [UNK] [UNK] [UNK] [UNK] [UNK] [UNK] [UNK] [UNK] [UNK] [UNK] [UNK] [UNK] [UNK] [UNK] [UNK] [UNK] [UNK] [UNK] [UNK] [UNK] [UNK] [UNK] [UNK] [UNK] [UNK] [UNK] [UNK] [UNK] [UNK] [UNK] [UNK] [UNK] [UNK] [UNK] [UNK] [UNK] [UNK] [UNK] [UNK] [UNK] [UNK] [UNK] [UNK] [UNK] [UNK] [UNK] [UNK]\n"
     ]
    }
   ],
   "source": [
    "print(tokenizer.decode(resumen_2[0]))"
   ]
  },
  {
   "cell_type": "code",
   "execution_count": null,
   "id": "6a8ff28f",
   "metadata": {},
   "outputs": [],
   "source": []
  }
 ],
 "metadata": {
  "kernelspec": {
   "display_name": "Python 3 (ipykernel)",
   "language": "python",
   "name": "python3"
  },
  "language_info": {
   "codemirror_mode": {
    "name": "ipython",
    "version": 3
   },
   "file_extension": ".py",
   "mimetype": "text/x-python",
   "name": "python",
   "nbconvert_exporter": "python",
   "pygments_lexer": "ipython3",
   "version": "3.10.6"
  },
  "toc": {
   "base_numbering": 1,
   "nav_menu": {},
   "number_sections": true,
   "sideBar": true,
   "skip_h1_title": false,
   "title_cell": "Table of Contents",
   "title_sidebar": "Contents",
   "toc_cell": false,
   "toc_position": {},
   "toc_section_display": true,
   "toc_window_display": false
  }
 },
 "nbformat": 4,
 "nbformat_minor": 5
}
