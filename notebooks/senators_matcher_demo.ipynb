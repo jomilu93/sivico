{
 "cells": [
  {
   "cell_type": "markdown",
   "id": "21283a46",
   "metadata": {},
   "source": [
    "# BETO Matcher"
   ]
  },
  {
   "cell_type": "markdown",
   "id": "99ff844d",
   "metadata": {
    "heading_collapsed": true
   },
   "source": [
    "# TFIDF Matcher"
   ]
  },
  {
   "cell_type": "code",
   "execution_count": 1,
   "id": "623ed4e8",
   "metadata": {
    "hidden": true
   },
   "outputs": [],
   "source": [
    "import pandas as pd\n",
    "import os\n",
    "import sys"
   ]
  },
  {
   "cell_type": "markdown",
   "id": "e9665893",
   "metadata": {
    "hidden": true
   },
   "source": [
    "## Step 1: Imports"
   ]
  },
  {
   "cell_type": "code",
   "execution_count": 2,
   "id": "fc63b411",
   "metadata": {
    "hidden": true
   },
   "outputs": [
    {
     "name": "stderr",
     "output_type": "stream",
     "text": [
      "[nltk_data] Downloading package stopwords to /Users/luis/nltk_data...\n",
      "[nltk_data]   Package stopwords is already up-to-date!\n"
     ]
    },
    {
     "data": {
      "application/vnd.jupyter.widget-view+json": {
       "model_id": "4e06e5d931db4b59a4df5f091e27cc0b",
       "version_major": 2,
       "version_minor": 0
      },
      "text/plain": [
       "Downloading https://raw.githubusercontent.com/stanfordnlp/stanza-resources/main/resources_1.5.0.json:   0%|   …"
      ]
     },
     "metadata": {},
     "output_type": "display_data"
    },
    {
     "name": "stderr",
     "output_type": "stream",
     "text": [
      "2023-07-13 09:31:38 INFO: Downloading default packages for language: es (Spanish) ...\n",
      "2023-07-13 09:31:39 INFO: File exists: /Users/luis/stanza_resources/es/default.zip\n",
      "2023-07-13 09:31:43 INFO: Finished downloading models and saved to /Users/luis/stanza_resources.\n",
      "2023-07-13 09:31:43 INFO: Checking for updates to resources.json in case models have been updated.  Note: this behavior can be turned off with download_method=None or download_method=DownloadMethod.REUSE_RESOURCES\n"
     ]
    },
    {
     "data": {
      "application/vnd.jupyter.widget-view+json": {
       "model_id": "787b2e8b4d7547e7a97fe485fc19fe03",
       "version_major": 2,
       "version_minor": 0
      },
      "text/plain": [
       "Downloading https://raw.githubusercontent.com/stanfordnlp/stanza-resources/main/resources_1.5.0.json:   0%|   …"
      ]
     },
     "metadata": {},
     "output_type": "display_data"
    },
    {
     "name": "stderr",
     "output_type": "stream",
     "text": [
      "2023-07-13 09:31:45 INFO: Loading these models for language: es (Spanish):\n",
      "===========================\n",
      "| Processor    | Package  |\n",
      "---------------------------\n",
      "| tokenize     | ancora   |\n",
      "| mwt          | ancora   |\n",
      "| pos          | ancora   |\n",
      "| lemma        | ancora   |\n",
      "| constituency | combined |\n",
      "| depparse     | ancora   |\n",
      "| sentiment    | tass2020 |\n",
      "| ner          | conll02  |\n",
      "===========================\n",
      "\n",
      "2023-07-13 09:31:45 INFO: Using device: cpu\n",
      "2023-07-13 09:31:45 INFO: Loading: tokenize\n",
      "2023-07-13 09:31:45 INFO: Loading: mwt\n",
      "2023-07-13 09:31:45 INFO: Loading: pos\n",
      "2023-07-13 09:31:45 INFO: Loading: lemma\n",
      "2023-07-13 09:31:45 INFO: Loading: constituency\n",
      "2023-07-13 09:31:46 INFO: Loading: depparse\n",
      "2023-07-13 09:31:46 INFO: Loading: sentiment\n",
      "2023-07-13 09:31:46 INFO: Loading: ner\n",
      "2023-07-13 09:31:47 INFO: Done loading processors!\n"
     ]
    }
   ],
   "source": [
    "# needed for the notebook to find the package\n",
    "sys.path.append(\"../senator_matcher\")\n",
    "\n",
    "from senator_matcher.tfidf_matcher.preprocessing import preprocess_text\n",
    "from senator_matcher.tfidf_matcher.vectorization import fit_vectorizer, save_vectorizer_and_matrix, load_vectorizer_and_matrix\n",
    "from senator_matcher.tfidf_matcher.matching import match_senators"
   ]
  },
  {
   "cell_type": "markdown",
   "id": "7bcac8dc",
   "metadata": {
    "hidden": true
   },
   "source": [
    "## Step 1: Preprocessing"
   ]
  },
  {
   "cell_type": "code",
   "execution_count": 3,
   "id": "69f88048",
   "metadata": {
    "hidden": true
   },
   "outputs": [],
   "source": [
    "SENATORS_TO_PROCESS = 1\n",
    "\n",
    "current_path = os.getcwd()\n",
    "parent_directory = os.path.dirname(current_path)\n",
    "project_data_path = os.path.join(parent_directory, 'data')\n",
    "\n",
    "# Load the data\n",
    "df = pd.read_csv(os.path.join(project_data_path, 'senators_data.csv')).head(SENATORS_TO_PROCESS)\n",
    "\n",
    "# Apply the preprocessing function to the desired column\n",
    "df['preprocessed_summary'] = df['initiatives_summary_dummy'].apply(preprocess_text)"
   ]
  },
  {
   "cell_type": "markdown",
   "id": "5025d534",
   "metadata": {
    "hidden": true
   },
   "source": [
    "## Step 2: Vectorization"
   ]
  },
  {
   "cell_type": "code",
   "execution_count": 4,
   "id": "8a45f7ce",
   "metadata": {
    "hidden": true
   },
   "outputs": [],
   "source": [
    "# Fit the TfidfVectorizer to the preprocessed column\n",
    "tfidf_matrix, vectorizer = fit_vectorizer(df, 'preprocessed_summary')\n",
    "\n",
    "# Save the TF-IDF matrix and the fitted vectorizer so we can reuse it on users input\n",
    "# We should define a place to store this in production\n",
    "save_vectorizer_and_matrix(tfidf_matrix, vectorizer, 'tfidf_matrix.pkl', 'fitted_vectorizer.pkl')"
   ]
  },
  {
   "cell_type": "markdown",
   "id": "e4465ad4",
   "metadata": {
    "hidden": true
   },
   "source": [
    "## Step 3: Matching"
   ]
  },
  {
   "cell_type": "code",
   "execution_count": 5,
   "id": "c22a394a",
   "metadata": {
    "hidden": true
   },
   "outputs": [
    {
     "data": {
      "text/html": [
       "<div>\n",
       "<style scoped>\n",
       "    .dataframe tbody tr th:only-of-type {\n",
       "        vertical-align: middle;\n",
       "    }\n",
       "\n",
       "    .dataframe tbody tr th {\n",
       "        vertical-align: top;\n",
       "    }\n",
       "\n",
       "    .dataframe thead th {\n",
       "        text-align: right;\n",
       "    }\n",
       "</style>\n",
       "<table border=\"1\" class=\"dataframe\">\n",
       "  <thead>\n",
       "    <tr style=\"text-align: right;\">\n",
       "      <th></th>\n",
       "      <th>Apellidos</th>\n",
       "      <th>Nombre</th>\n",
       "      <th>Fraccion</th>\n",
       "      <th>similarity_score</th>\n",
       "    </tr>\n",
       "  </thead>\n",
       "  <tbody>\n",
       "    <tr>\n",
       "      <th>0</th>\n",
       "      <td>Botello Montes</td>\n",
       "      <td>José Alfredo</td>\n",
       "      <td>PAN</td>\n",
       "      <td>0.0</td>\n",
       "    </tr>\n",
       "  </tbody>\n",
       "</table>\n",
       "</div>"
      ],
      "text/plain": [
       "        Apellidos        Nombre Fraccion  similarity_score\n",
       "0  Botello Montes  José Alfredo      PAN               0.0"
      ]
     },
     "execution_count": 5,
     "metadata": {},
     "output_type": "execute_result"
    }
   ],
   "source": [
    "# Load the TF-IDF matrix and the fitted vectorizer\n",
    "tfidf_matrix, vectorizer = load_vectorizer_and_matrix('tfidf_matrix.pkl', 'fitted_vectorizer.pkl')\n",
    "\n",
    "# Use the match_senators function\n",
    "user_input = \"Quiero proteccion para los animales\"\n",
    "results_df = match_senators(user_input, df, vectorizer, tfidf_matrix)\n",
    "\n",
    "# Display the top 5 senators based on their summary\n",
    "results_df.head(5)"
   ]
  }
 ],
 "metadata": {
  "kernelspec": {
   "display_name": "Python 3 (ipykernel)",
   "language": "python",
   "name": "python3"
  },
  "language_info": {
   "codemirror_mode": {
    "name": "ipython",
    "version": 3
   },
   "file_extension": ".py",
   "mimetype": "text/x-python",
   "name": "python",
   "nbconvert_exporter": "python",
   "pygments_lexer": "ipython3",
   "version": "3.10.6"
  },
  "toc": {
   "base_numbering": 1,
   "nav_menu": {},
   "number_sections": true,
   "sideBar": true,
   "skip_h1_title": false,
   "title_cell": "Table of Contents",
   "title_sidebar": "Contents",
   "toc_cell": false,
   "toc_position": {},
   "toc_section_display": true,
   "toc_window_display": false
  }
 },
 "nbformat": 4,
 "nbformat_minor": 5
}
