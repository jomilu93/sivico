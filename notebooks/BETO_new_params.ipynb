{
 "cells": [
  {
   "cell_type": "markdown",
   "id": "84da681e",
   "metadata": {},
   "source": [
    "# BETO model"
   ]
  },
  {
   "cell_type": "code",
   "execution_count": 1,
   "id": "0aa1a837",
   "metadata": {},
   "outputs": [],
   "source": [
    "import pandas as pd"
   ]
  },
  {
   "cell_type": "markdown",
   "id": "52c9b79f",
   "metadata": {},
   "source": [
    "## General"
   ]
  },
  {
   "cell_type": "markdown",
   "id": "45e71f38",
   "metadata": {},
   "source": [
    "### Senators_data"
   ]
  },
  {
   "cell_type": "code",
   "execution_count": 2,
   "id": "39d2b680",
   "metadata": {
    "scrolled": false
   },
   "outputs": [
    {
     "data": {
      "text/html": [
       "<div>\n",
       "<style scoped>\n",
       "    .dataframe tbody tr th:only-of-type {\n",
       "        vertical-align: middle;\n",
       "    }\n",
       "\n",
       "    .dataframe tbody tr th {\n",
       "        vertical-align: top;\n",
       "    }\n",
       "\n",
       "    .dataframe thead th {\n",
       "        text-align: right;\n",
       "    }\n",
       "</style>\n",
       "<table border=\"1\" class=\"dataframe\">\n",
       "  <thead>\n",
       "    <tr style=\"text-align: right;\">\n",
       "      <th></th>\n",
       "      <th>senator_id</th>\n",
       "      <th>Apellidos</th>\n",
       "      <th>Nombre</th>\n",
       "      <th>Fraccion</th>\n",
       "      <th>Legislatura</th>\n",
       "      <th>Estado</th>\n",
       "      <th>Sexo</th>\n",
       "      <th>tipoEleccion</th>\n",
       "      <th>Suplente</th>\n",
       "      <th>estadoOrigen</th>\n",
       "      <th>...</th>\n",
       "      <th>url_sitio</th>\n",
       "      <th>telefono</th>\n",
       "      <th>extension</th>\n",
       "      <th>estatus</th>\n",
       "      <th>direccion</th>\n",
       "      <th>id</th>\n",
       "      <th>senadores</th>\n",
       "      <th>attendance_score</th>\n",
       "      <th>initiative_list</th>\n",
       "      <th>initiatives_summary_dummy</th>\n",
       "    </tr>\n",
       "  </thead>\n",
       "  <tbody>\n",
       "    <tr>\n",
       "      <th>0</th>\n",
       "      <td>1160</td>\n",
       "      <td>Botello Montes</td>\n",
       "      <td>José Alfredo</td>\n",
       "      <td>PAN</td>\n",
       "      <td>64</td>\n",
       "      <td>Querétaro</td>\n",
       "      <td>Hombre</td>\n",
       "      <td>Senador Electo por el Principio de Mayoría Rel...</td>\n",
       "      <td>NaN</td>\n",
       "      <td>Querétaro</td>\n",
       "      <td>...</td>\n",
       "      <td>NaN</td>\n",
       "      <td>5345 3000</td>\n",
       "      <td>4183 y 4184</td>\n",
       "      <td>en_funciones</td>\n",
       "      <td>Av Paseo de la Reforma No. 135, Hemiciclo Piso...</td>\n",
       "      <td>1</td>\n",
       "      <td>José Alfredo Botello Montes</td>\n",
       "      <td>0.958904</td>\n",
       "      <td>[Pretende garantizar a los miembros del Servic...</td>\n",
       "      <td>Pretende garantizar a los miembros del Servici...</td>\n",
       "    </tr>\n",
       "    <tr>\n",
       "      <th>1</th>\n",
       "      <td>1162</td>\n",
       "      <td>Rojas Loreto</td>\n",
       "      <td>Estrella</td>\n",
       "      <td>PAN</td>\n",
       "      <td>64</td>\n",
       "      <td>Querétaro</td>\n",
       "      <td>Mujer</td>\n",
       "      <td>Senadora Electa por el Principio de Mayoría Re...</td>\n",
       "      <td>NaN</td>\n",
       "      <td>Querétaro</td>\n",
       "      <td>...</td>\n",
       "      <td>NaN</td>\n",
       "      <td>5345 3000</td>\n",
       "      <td>3323</td>\n",
       "      <td>en_funciones</td>\n",
       "      <td>Av Paseo de la Reforma No. 135, Hemiciclo Piso...</td>\n",
       "      <td>2</td>\n",
       "      <td>Estrella Rojas Loreto</td>\n",
       "      <td>0.973913</td>\n",
       "      <td>[Propone que el Estado apoye la investigación ...</td>\n",
       "      <td>Propone que el Estado apoye la investigación e...</td>\n",
       "    </tr>\n",
       "  </tbody>\n",
       "</table>\n",
       "<p>2 rows × 25 columns</p>\n",
       "</div>"
      ],
      "text/plain": [
       "   senator_id       Apellidos        Nombre Fraccion  Legislatura     Estado  \\\n",
       "0        1160  Botello Montes  José Alfredo      PAN           64  Querétaro   \n",
       "1        1162    Rojas Loreto      Estrella      PAN           64  Querétaro   \n",
       "\n",
       "     Sexo                                       tipoEleccion Suplente  \\\n",
       "0  Hombre  Senador Electo por el Principio de Mayoría Rel...      NaN   \n",
       "1   Mujer  Senadora Electa por el Principio de Mayoría Re...      NaN   \n",
       "\n",
       "  estadoOrigen  ... url_sitio   telefono    extension       estatus  \\\n",
       "0    Querétaro  ...       NaN  5345 3000  4183 y 4184  en_funciones   \n",
       "1    Querétaro  ...       NaN  5345 3000         3323  en_funciones   \n",
       "\n",
       "                                           direccion id  \\\n",
       "0  Av Paseo de la Reforma No. 135, Hemiciclo Piso...  1   \n",
       "1  Av Paseo de la Reforma No. 135, Hemiciclo Piso...  2   \n",
       "\n",
       "                     senadores attendance_score  \\\n",
       "0  José Alfredo Botello Montes         0.958904   \n",
       "1        Estrella Rojas Loreto         0.973913   \n",
       "\n",
       "                                     initiative_list  \\\n",
       "0  [Pretende garantizar a los miembros del Servic...   \n",
       "1  [Propone que el Estado apoye la investigación ...   \n",
       "\n",
       "                           initiatives_summary_dummy  \n",
       "0  Pretende garantizar a los miembros del Servici...  \n",
       "1  Propone que el Estado apoye la investigación e...  \n",
       "\n",
       "[2 rows x 25 columns]"
      ]
     },
     "execution_count": 2,
     "metadata": {},
     "output_type": "execute_result"
    }
   ],
   "source": [
    "#Import senator csv from senator_data_file\n",
    "senators = pd.read_csv(r'/home/ismaelod/code/jomilu93/sivico/data/senators_data.csv', converters={'initiative_list': pd.eval}, index_col='Unnamed: 0')\n",
    "senators.head(2)"
   ]
  },
  {
   "cell_type": "code",
   "execution_count": 3,
   "id": "07ca7c00",
   "metadata": {},
   "outputs": [
    {
     "data": {
      "text/plain": [
       "Index(['senator_id', 'Apellidos', 'Nombre', 'Fraccion', 'Legislatura',\n",
       "       'Estado', 'Sexo', 'tipoEleccion', 'Suplente', 'estadoOrigen', 'correo',\n",
       "       'facebook', 'twitter', 'youtube', 'instagram', 'url_sitio', 'telefono',\n",
       "       'extension', 'estatus', 'direccion', 'id', 'senadores',\n",
       "       'attendance_score', 'initiative_list', 'initiatives_summary_dummy'],\n",
       "      dtype='object')"
      ]
     },
     "execution_count": 3,
     "metadata": {},
     "output_type": "execute_result"
    }
   ],
   "source": [
    "#Dataset column names\n",
    "columnas = senators.columns\n",
    "columnas"
   ]
  },
  {
   "cell_type": "code",
   "execution_count": 4,
   "id": "264899f8",
   "metadata": {
    "scrolled": true
   },
   "outputs": [
    {
     "data": {
      "text/plain": [
       "<AxesSubplot:>"
      ]
     },
     "execution_count": 4,
     "metadata": {},
     "output_type": "execute_result"
    },
    {
     "data": {
      "image/png": "[encoded data removed]",
      "text/plain": [
       "<Figure size 640x480 with 1 Axes>"
      ]
     },
     "metadata": {},
     "output_type": "display_data"
    }
   ],
   "source": [
    "#Number of sentences in the dataset\n",
    "len_col = [len(prop) for prop in senators[\"initiative_list\"]]\n",
    "pd.Series(len_col).hist()"
   ]
  },
  {
   "cell_type": "code",
   "execution_count": 5,
   "id": "26227399",
   "metadata": {
    "scrolled": true
   },
   "outputs": [
    {
     "data": {
      "text/plain": [
       "<AxesSubplot:>"
      ]
     },
     "execution_count": 5,
     "metadata": {},
     "output_type": "execute_result"
    },
    {
     "data": {
      "image/png": "[encoded data removed]",
      "text/plain": [
       "<Figure size 640x480 with 1 Axes>"
      ]
     },
     "metadata": {},
     "output_type": "display_data"
    }
   ],
   "source": [
    "#Number of words in the dataset\n",
    "len_col = [len(str(prop)) for prop in senators['initiatives_summary_dummy']]\n",
    "               \n",
    "pd.Series(len_col).hist()"
   ]
  },
  {
   "cell_type": "code",
   "execution_count": 6,
   "id": "f77b9636",
   "metadata": {
    "scrolled": true
   },
   "outputs": [
    {
     "data": {
      "text/plain": [
       "39"
      ]
     },
     "execution_count": 6,
     "metadata": {},
     "output_type": "execute_result"
    }
   ],
   "source": [
    "#Exploring 'initiative_list'  \n",
    "ex_i = len(senators['initiative_list'][1])\n",
    "ex_i"
   ]
  },
  {
   "cell_type": "code",
   "execution_count": 7,
   "id": "4365e027",
   "metadata": {},
   "outputs": [
    {
     "data": {
      "text/plain": [
       "14197"
      ]
     },
     "execution_count": 7,
     "metadata": {},
     "output_type": "execute_result"
    }
   ],
   "source": [
    "##Exploring 'initiatives_summary_dummy' \n",
    "ex_s = senators['initiatives_summary_dummy'][1]\n",
    "len(ex_s)"
   ]
  },
  {
   "cell_type": "markdown",
   "id": "3932bef6",
   "metadata": {},
   "source": [
    "## Model"
   ]
  },
  {
   "cell_type": "code",
   "execution_count": 8,
   "id": "fcf1f350",
   "metadata": {},
   "outputs": [],
   "source": [
    "from transformers import AutoTokenizer, AutoModelForSeq2SeqLM"
   ]
  },
  {
   "cell_type": "code",
   "execution_count": 9,
   "id": "8d54e06e",
   "metadata": {},
   "outputs": [
    {
     "name": "stderr",
     "output_type": "stream",
     "text": [
      "The following encoder weights were not tied to the decoder ['bert/pooler']\n",
      "Some weights of EncoderDecoderModel were not initialized from the model checkpoint at mrm8488/bert2bert_shared-spanish-finetuned-summarization and are newly initialized: ['decoder.bert.encoder.layer.4.attention.output.dense.weight', 'decoder.bert.encoder.layer.10.attention.self.value.bias', 'decoder.bert.encoder.layer.10.attention.self.query.weight', 'decoder.bert.encoder.layer.3.attention.output.dense.bias', 'decoder.bert.encoder.layer.2.attention.self.key.weight', 'decoder.bert.encoder.layer.5.attention.self.key.weight', 'decoder.bert.encoder.layer.0.attention.output.dense.bias', 'decoder.bert.encoder.layer.4.attention.output.LayerNorm.bias', 'decoder.bert.encoder.layer.0.attention.self.query.weight', 'decoder.bert.encoder.layer.9.output.LayerNorm.weight', 'decoder.bert.encoder.layer.0.output.LayerNorm.bias', 'decoder.bert.encoder.layer.3.output.LayerNorm.weight', 'decoder.bert.encoder.layer.10.output.dense.weight', 'decoder.bert.encoder.layer.9.attention.output.dense.weight', 'decoder.bert.encoder.layer.6.attention.output.dense.weight', 'decoder.bert.encoder.layer.9.attention.output.LayerNorm.bias', 'decoder.bert.encoder.layer.6.attention.output.LayerNorm.weight', 'decoder.bert.encoder.layer.3.attention.self.value.bias', 'decoder.bert.encoder.layer.9.intermediate.dense.weight', 'decoder.bert.encoder.layer.6.attention.self.query.bias', 'decoder.bert.encoder.layer.10.attention.self.key.bias', 'decoder.bert.encoder.layer.10.output.dense.bias', 'decoder.bert.encoder.layer.1.output.LayerNorm.bias', 'decoder.bert.encoder.layer.1.attention.self.value.weight', 'decoder.bert.encoder.layer.10.attention.output.LayerNorm.weight', 'decoder.bert.encoder.layer.2.intermediate.dense.weight', 'decoder.bert.encoder.layer.3.attention.output.LayerNorm.weight', 'decoder.bert.encoder.layer.8.output.dense.bias', 'decoder.bert.encoder.layer.10.intermediate.dense.bias', 'decoder.bert.encoder.layer.4.attention.output.dense.bias', 'decoder.bert.encoder.layer.2.attention.self.value.bias', 'decoder.bert.encoder.layer.11.attention.output.LayerNorm.bias', 'decoder.bert.encoder.layer.5.attention.self.key.bias', 'decoder.bert.encoder.layer.9.attention.self.query.weight', 'decoder.bert.encoder.layer.10.attention.output.dense.weight', 'decoder.bert.embeddings.LayerNorm.weight', 'decoder.bert.encoder.layer.8.output.dense.weight', 'decoder.bert.encoder.layer.4.output.LayerNorm.weight', 'decoder.bert.encoder.layer.6.attention.self.value.bias', 'decoder.bert.encoder.layer.8.output.LayerNorm.weight', 'decoder.bert.encoder.layer.9.output.LayerNorm.bias', 'decoder.bert.encoder.layer.5.intermediate.dense.bias', 'decoder.bert.encoder.layer.0.attention.self.value.weight', 'decoder.bert.encoder.layer.7.attention.self.value.bias', 'decoder.bert.encoder.layer.0.attention.output.LayerNorm.weight', 'decoder.bert.encoder.layer.6.output.dense.bias', 'decoder.bert.encoder.layer.3.intermediate.dense.weight', 'decoder.bert.embeddings.word_embeddings.weight', 'decoder.bert.encoder.layer.4.intermediate.dense.bias', 'decoder.bert.encoder.layer.6.output.LayerNorm.weight', 'decoder.bert.encoder.layer.2.attention.self.value.weight', 'decoder.bert.encoder.layer.1.attention.output.LayerNorm.bias', 'decoder.bert.encoder.layer.11.output.LayerNorm.bias', 'decoder.bert.encoder.layer.3.output.LayerNorm.bias', 'decoder.bert.encoder.layer.11.output.LayerNorm.weight', 'decoder.bert.encoder.layer.2.output.dense.bias', 'decoder.bert.encoder.layer.10.output.LayerNorm.weight', 'decoder.bert.encoder.layer.4.output.LayerNorm.bias', 'decoder.bert.encoder.layer.0.attention.self.value.bias', 'decoder.bert.encoder.layer.8.attention.self.key.bias', 'decoder.bert.encoder.layer.0.attention.self.key.bias', 'decoder.bert.encoder.layer.1.attention.output.dense.bias', 'decoder.bert.encoder.layer.6.intermediate.dense.bias', 'decoder.bert.encoder.layer.8.attention.output.dense.bias', 'decoder.cls.predictions.decoder.weight', 'decoder.bert.encoder.layer.2.attention.output.dense.weight', 'decoder.bert.encoder.layer.6.attention.self.query.weight', 'decoder.bert.encoder.layer.4.attention.output.LayerNorm.weight', 'decoder.bert.encoder.layer.2.attention.output.LayerNorm.bias', 'decoder.bert.encoder.layer.9.attention.self.query.bias', 'decoder.bert.encoder.layer.0.output.LayerNorm.weight', 'decoder.bert.encoder.layer.9.attention.self.value.bias', 'decoder.bert.encoder.layer.5.output.LayerNorm.bias', 'decoder.bert.encoder.layer.0.attention.self.key.weight', 'decoder.bert.encoder.layer.6.intermediate.dense.weight', 'decoder.bert.encoder.layer.2.attention.output.LayerNorm.weight', 'decoder.bert.encoder.layer.8.attention.self.value.weight', 'decoder.bert.encoder.layer.7.attention.self.key.weight', 'decoder.bert.encoder.layer.8.attention.self.query.weight', 'decoder.bert.encoder.layer.5.attention.output.LayerNorm.weight', 'decoder.bert.encoder.layer.10.attention.self.query.bias', 'decoder.bert.encoder.layer.0.attention.output.LayerNorm.bias', 'decoder.bert.encoder.layer.3.attention.self.value.weight', 'decoder.bert.encoder.layer.1.output.LayerNorm.weight', 'decoder.bert.encoder.layer.6.output.dense.weight', 'decoder.bert.encoder.layer.11.attention.output.dense.bias', 'decoder.bert.encoder.layer.1.output.dense.weight', 'decoder.bert.encoder.layer.10.attention.self.value.weight', 'decoder.bert.encoder.layer.9.output.dense.bias', 'decoder.bert.encoder.layer.11.attention.output.dense.weight', 'decoder.bert.encoder.layer.3.intermediate.dense.bias', 'decoder.bert.encoder.layer.2.output.LayerNorm.bias', 'decoder.bert.encoder.layer.7.attention.output.dense.bias', 'decoder.bert.encoder.layer.7.attention.self.query.weight', 'decoder.bert.encoder.layer.4.attention.self.key.weight', 'decoder.bert.encoder.layer.4.output.dense.weight', 'decoder.bert.encoder.layer.0.attention.self.query.bias', 'decoder.bert.encoder.layer.0.attention.output.dense.weight', 'decoder.bert.encoder.layer.3.attention.output.LayerNorm.bias', 'decoder.bert.encoder.layer.9.attention.self.key.bias', 'decoder.bert.encoder.layer.1.attention.self.query.bias', 'decoder.bert.encoder.layer.9.output.dense.weight', 'decoder.bert.encoder.layer.4.attention.self.value.weight', 'decoder.bert.encoder.layer.8.intermediate.dense.bias', 'decoder.bert.encoder.layer.2.attention.self.query.bias', 'decoder.bert.encoder.layer.2.attention.self.key.bias', 'decoder.bert.encoder.layer.1.attention.self.key.bias', 'decoder.bert.encoder.layer.3.attention.self.key.bias', 'decoder.bert.encoder.layer.1.attention.self.key.weight', 'decoder.bert.encoder.layer.6.attention.output.dense.bias', 'decoder.bert.encoder.layer.7.output.LayerNorm.bias', 'decoder.bert.encoder.layer.1.attention.self.value.bias', 'decoder.bert.encoder.layer.10.output.LayerNorm.bias', 'decoder.bert.encoder.layer.1.output.dense.bias', 'decoder.bert.encoder.layer.11.attention.self.value.weight', 'decoder.bert.encoder.layer.8.output.LayerNorm.bias', 'decoder.bert.encoder.layer.5.intermediate.dense.weight', 'decoder.bert.encoder.layer.8.intermediate.dense.weight', 'decoder.bert.encoder.layer.3.attention.self.query.weight', 'decoder.bert.encoder.layer.6.output.LayerNorm.bias', 'decoder.bert.encoder.layer.4.intermediate.dense.weight', 'decoder.bert.encoder.layer.7.output.dense.bias', 'decoder.bert.encoder.layer.11.intermediate.dense.weight', 'decoder.bert.encoder.layer.5.attention.output.LayerNorm.bias', 'decoder.bert.encoder.layer.7.attention.output.LayerNorm.bias', 'decoder.bert.encoder.layer.9.attention.output.dense.bias', 'decoder.bert.encoder.layer.8.attention.self.query.bias', 'decoder.bert.encoder.layer.0.output.dense.weight', 'decoder.bert.encoder.layer.3.attention.self.query.bias', 'decoder.bert.encoder.layer.4.attention.self.key.bias', 'decoder.bert.encoder.layer.7.attention.self.key.bias', 'decoder.bert.encoder.layer.9.attention.output.LayerNorm.weight', 'decoder.bert.encoder.layer.7.intermediate.dense.bias', 'decoder.bert.encoder.layer.3.attention.output.dense.weight', 'decoder.bert.encoder.layer.7.attention.self.value.weight', 'decoder.bert.encoder.layer.2.output.LayerNorm.weight', 'decoder.bert.encoder.layer.8.attention.self.key.weight', 'decoder.bert.encoder.layer.6.attention.output.LayerNorm.bias', 'decoder.bert.encoder.layer.3.output.dense.bias', 'decoder.bert.encoder.layer.5.attention.self.query.weight', 'decoder.bert.encoder.layer.1.attention.output.LayerNorm.weight', 'decoder.bert.encoder.layer.6.attention.self.key.bias', 'decoder.bert.encoder.layer.2.output.dense.weight', 'decoder.bert.encoder.layer.7.attention.output.dense.weight', 'decoder.bert.encoder.layer.11.attention.self.value.bias', 'decoder.bert.encoder.layer.0.intermediate.dense.bias', 'decoder.bert.encoder.layer.6.attention.self.key.weight', 'decoder.bert.encoder.layer.2.intermediate.dense.bias', 'decoder.bert.encoder.layer.7.attention.self.query.bias', 'decoder.bert.encoder.layer.7.output.LayerNorm.weight', 'decoder.bert.embeddings.LayerNorm.bias', 'decoder.bert.encoder.layer.5.output.dense.weight', 'decoder.bert.encoder.layer.9.attention.self.value.weight', 'decoder.bert.encoder.layer.8.attention.output.LayerNorm.weight', 'decoder.bert.encoder.layer.11.attention.self.query.weight', 'decoder.bert.encoder.layer.3.attention.self.key.weight', 'decoder.bert.encoder.layer.8.attention.output.dense.weight', 'decoder.bert.encoder.layer.5.output.LayerNorm.weight', 'decoder.bert.encoder.layer.5.attention.self.value.bias', 'decoder.bert.encoder.layer.7.output.dense.weight', 'decoder.bert.encoder.layer.5.output.dense.bias', 'decoder.bert.encoder.layer.8.attention.self.value.bias', 'decoder.bert.encoder.layer.4.output.dense.bias', 'decoder.bert.encoder.layer.11.attention.self.key.bias', 'decoder.bert.encoder.layer.11.attention.self.key.weight', 'decoder.bert.encoder.layer.1.intermediate.dense.bias', 'decoder.bert.encoder.layer.1.attention.self.query.weight', 'decoder.bert.encoder.layer.10.intermediate.dense.weight', 'decoder.bert.encoder.layer.11.attention.self.query.bias', 'decoder.bert.encoder.layer.0.intermediate.dense.weight', 'decoder.bert.encoder.layer.5.attention.output.dense.weight', 'decoder.bert.encoder.layer.6.attention.self.value.weight', 'decoder.bert.encoder.layer.1.attention.output.dense.weight', 'decoder.cls.predictions.decoder.bias', 'decoder.bert.encoder.layer.10.attention.self.key.weight', 'decoder.bert.encoder.layer.11.output.dense.bias', 'decoder.bert.encoder.layer.11.attention.output.LayerNorm.weight', 'decoder.bert.encoder.layer.10.attention.output.LayerNorm.bias', 'decoder.bert.embeddings.token_type_embeddings.weight', 'decoder.bert.encoder.layer.5.attention.self.value.weight', 'decoder.bert.encoder.layer.5.attention.self.query.bias', 'decoder.bert.encoder.layer.4.attention.self.value.bias', 'decoder.bert.encoder.layer.10.attention.output.dense.bias', 'decoder.bert.encoder.layer.7.intermediate.dense.weight', 'decoder.bert.embeddings.position_embeddings.weight', 'decoder.bert.encoder.layer.9.attention.self.key.weight', 'decoder.bert.encoder.layer.2.attention.output.dense.bias', 'decoder.bert.encoder.layer.3.output.dense.weight', 'decoder.bert.encoder.layer.11.output.dense.weight', 'decoder.bert.encoder.layer.2.attention.self.query.weight', 'decoder.bert.encoder.layer.0.output.dense.bias', 'decoder.bert.encoder.layer.9.intermediate.dense.bias', 'decoder.bert.encoder.layer.4.attention.self.query.weight', 'decoder.bert.encoder.layer.1.intermediate.dense.weight', 'decoder.bert.encoder.layer.4.attention.self.query.bias', 'decoder.bert.encoder.layer.7.attention.output.LayerNorm.weight', 'decoder.bert.encoder.layer.8.attention.output.LayerNorm.bias', 'decoder.bert.encoder.layer.11.intermediate.dense.bias', 'decoder.bert.encoder.layer.5.attention.output.dense.bias']\n",
      "You should probably TRAIN this model on a down-stream task to be able to use it for predictions and inference.\n"
     ]
    },
    {
     "name": "stderr",
     "output_type": "stream",
     "text": [
      "The following encoder weights were not tied to the decoder ['bert/pooler']\n"
     ]
    }
   ],
   "source": [
    "tokenizer = AutoTokenizer.from_pretrained(\"mrm8488/bert2bert_shared-spanish-finetuned-summarization\")\n",
    "model = AutoModelForSeq2SeqLM.from_pretrained(\"mrm8488/bert2bert_shared-spanish-finetuned-summarization\")"
   ]
  },
  {
   "cell_type": "markdown",
   "id": "c2b67067",
   "metadata": {
    "heading_collapsed": true
   },
   "source": [
    "### Option 1 -- 'initiatives_summary_dummy'"
   ]
  },
  {
   "cell_type": "code",
   "execution_count": null,
   "id": "4df0292e",
   "metadata": {
    "hidden": true
   },
   "outputs": [],
   "source": [
    "inputs = tokenizer.encode(\"RESUMEN: \" + ex_s, return_tensors=\"pt\", max_length=511, truncation=True)\n",
    "len(inputs[0])"
   ]
  },
  {
   "cell_type": "code",
   "execution_count": null,
   "id": "1c11b708",
   "metadata": {
    "hidden": true
   },
   "outputs": [],
   "source": [
    "resumen = model.generate(\n",
    "    inputs, \n",
    "    max_length=10000,\n",
    "    min_length=40, \n",
    "    length_penalty=2.0, \n",
    "    num_beams=4, \n",
    "    early_stopping=True)"
   ]
  },
  {
   "cell_type": "code",
   "execution_count": null,
   "id": "461d95b7",
   "metadata": {
    "hidden": true,
    "scrolled": false
   },
   "outputs": [],
   "source": [
    "print(tokenizer.decode(resumen[0]))"
   ]
  },
  {
   "cell_type": "code",
   "execution_count": null,
   "id": "e1e9d5b3",
   "metadata": {
    "hidden": true,
    "scrolled": true
   },
   "outputs": [],
   "source": [
    "prop_inc_t = senators['initiatives_summary_dummy_split']\n",
    "prop_inc_t[0]"
   ]
  },
  {
   "cell_type": "code",
   "execution_count": null,
   "id": "83c2db3a",
   "metadata": {
    "hidden": true
   },
   "outputs": [],
   "source": [
    "#Split the concatenated initiatives for each senator into bites smaller than 511 to be able to consider inside the model.\n",
    "senators[\"initiatives_summary_dummy_split\"] = \"\"\n",
    "\n",
    "n = 511\n",
    "\n",
    "for i, row in senators.iterrows():\n",
    "    if not row[\"initiative_list\"] == []:\n",
    "        initiatives_split = [row[\"initiatives_summary_dummy\"][i:i+n] for i in range(0, len(row[\"initiatives_summary_dummy\"]), n)]\n",
    "        senators.at[i, \"initiatives_summary_dummy_split\"] = initiatives_split\n",
    "    else:\n",
    "        senators.at[i, \"initiatives_summary_dummy_split\"] = []"
   ]
  },
  {
   "cell_type": "code",
   "execution_count": null,
   "id": "7f391b8b",
   "metadata": {
    "hidden": true
   },
   "outputs": [],
   "source": [
    "senators.head(2)"
   ]
  },
  {
   "cell_type": "code",
   "execution_count": null,
   "id": "6e4a07a3",
   "metadata": {
    "hidden": true
   },
   "outputs": [],
   "source": [
    "len(senators['initiatives_summary_dummy_split'][0]"
   ]
  },
  {
   "cell_type": "code",
   "execution_count": null,
   "id": "866a44b3",
   "metadata": {
    "hidden": true
   },
   "outputs": [],
   "source": [
    "senators['initiatives_summary_dummy_split'][0]"
   ]
  },
  {
   "cell_type": "code",
   "execution_count": null,
   "id": "38005449",
   "metadata": {
    "hidden": true
   },
   "outputs": [],
   "source": [
    "def summarizeRow(prop_inc_t, resumentList, inputsList):\n",
    "    for parag in prop_inc_t:\n",
    "        inputs = tokenizer.encode(parag, return_tensors=\"pt\", max_length=511, truncation=True)\n",
    "        inputsList.append(inputs)\n",
    "        resumen = model.generate(\n",
    "            inputs, \n",
    "            max_length=200,\n",
    "            min_length=5, \n",
    "            length_penalty=2.0, \n",
    "            num_beams=4, \n",
    "            early_stopping=True)\n",
    "        resumentList.append(tokenizer.decode(resumen[0]))\n",
    "\n",
    "resumentList = []\n",
    "inputsList = []\n",
    "\n",
    "summarizeRow(prop_inc_t[0], resumentList, inputsList)"
   ]
  },
  {
   "cell_type": "code",
   "execution_count": null,
   "id": "c3ba96de",
   "metadata": {
    "hidden": true
   },
   "outputs": [],
   "source": [
    "for row in prop_inc_t[:5]:\n",
    "    resumentList = []\n",
    "    inputsList = []\n",
    "\n",
    "    summarizeRow(row, resumentList, inputsList)\n",
    "    \n",
    "    print(inputsList)\n",
    "    print(resumentList)"
   ]
  },
  {
   "cell_type": "markdown",
   "id": "ff718afc",
   "metadata": {},
   "source": [
    "### Option 2 -- 'initiative_list'"
   ]
  },
  {
   "cell_type": "code",
   "execution_count": 10,
   "id": "5ba989c8",
   "metadata": {
    "scrolled": true
   },
   "outputs": [
    {
     "data": {
      "text/plain": [
       "['Propone expedir un nuevo ordenamiento que reglamente el proceso de revocación de mandato contemplado en la fracción IX del artículo 35 Constitucional. Determina que iniciar el proceso de revocación de mandato es un derecho y una obligación: la solicitud procederá siempre que 3% de la ciudadanía inscrita en la lista nominal, distribuidas en al menos 17 Entidades Federativas a su vez representen el 3% en cada una de ellas. La solicitud sólo podrá presentarse por una sola ocasión durante los 3 meses posteriores a la conclusión del tercer año de ejercicio constitucional del Presidente de la Republica. La pregunta que deberá incluir la convocatoria emitida por la autoridad electoral, una vez que haya verificado el cumplimiento de los requisitos para que sea procedente, será: ¿Está de acuerdo con que se revoque el mandato de [Nombre de la persona titular de la Presidencia de la República] para que sea removido del cargo?\\r\\nY las respuestas posibles solo serán: SI o NO. Regula las atribuciones del Instituto Nacional Electoral, la organización del proceso de revocación de mandato, su difusión, sus datos previos, el día de la jornada, las atribuciones del Tribunal Electoral, la separación del cargo y las violaciones en esta materia.',\n",
       " 'Propone establecer que se considerará homicidio simple el que cometa la persona que haya sido víctima sistemática de violencia familiar y/o sexual por parte del sujeto pasivo del delito, que cuente con elementos o antecedentes razonables que sostengan que su vida o integridad física se encontraban en extremo peligro; o que el homicidio hubiese tenido como finalidad preservar su vida o integridad física. Para demostrar que se encuentra en este supuesto la persona que haya cometido el delito, presentará, cuando le hayan sido otorgadas órdenes de protección en contra de la víctima del delito.',\n",
       " 'Propone establecer expresamente la materia agraria con el objeto de que esta sea sujeta de la prestación de servicio de defensoría pública. Además, se propone establecer la participación de las o los asesores jurídicos del Instituto Federal de Defensoría Pública a efecto de que pueda intervenir en el procedimiento agrario ya sea este a solicitud de las partes o por disposición de los tribunales agrarios. También propone que se garantice el derecho de las partes a obtener una defensa adecuada mediante la designación de una persona defensora pública que pueda asesorarlas durante las audiencias.',\n",
       " 'Propone adicionar a la Ley como estupefacientes las siguientes sustancias:\\r\\n-Anilonopiperidina\\r\\n- Bencilfentanilo\\r\\n- Norfentanilo\\r\\nTeniendo como propósito controlar las sustancias químicas que funcionan como precursor del fentanilo, con el fin de interrumpir y debilitar la producción de drogas sintéticas.',\n",
       " 'Propone que, durante el proceso de la discusión de adiciones o reformas constitucionales, las comisiones dictaminadoras convoquen a las legislaturas de las Entidades Federativas y de la Ciudad de México con el objeto de conocer la opinión de estas sobre dichas modificaciones.',\n",
       " 'Propone establecer como una obligación del Estado Mexicano el fomento y promoción permanentes de la industria cinematográfica nacional, mediante un sistema de apoyos financieros. Por lo anterior, se propone que el Ejecutivo federal deba de garantizar la suficiencia de recursos en el Proyecto de Presupuesto de Egresos de la Federación, para la instrumentación de un programa que cumpla, cuando menos, los siguientes fines:\\r\\n• El otorgamiento de capital de riesgo,\\r\\n• El otorgamiento de capital de trabajo,\\r\\n• La implementación de créditos o estímulos económicos a las actividades de realización, producción, distribución, comercialización y exhibición de cine nacional. Para ello, se propone también que las Secretarías de Cultura y Hacienda y Crédito Público coordinen el diseño, instrumentación y ejecución del programa de fomento y promoción permanente de la industria cinematográfica nacional.',\n",
       " 'Propone crear un Fondo de reserva para atender exclusivamente a la población infantil de 10 a 5 años que padezcan alguna enfermedad que ponga en riesgo el patrimonio familiar.',\n",
       " 'Propone reformar el ordenamientos legales para garantizar la inclusión de pueblos y comunidades indígenas.',\n",
       " 'Propone reformar el ordenamientos legales para garantizar la inclusión de pueblos y comunidades indígenas.\\r\\n',\n",
       " 'Propone reformar el ordenamientos legales para garantizar la inclusión de pueblos y comunidades indígenas.\\r\\n',\n",
       " 'Propone reformar el ordenamientos legales para garantizar la inclusión de pueblos y comunidades indígenas.\\r\\n',\n",
       " 'Propone reformar el ordenamientos legales para garantizar la inclusión de pueblos y comunidades indígenas.\\r\\n',\n",
       " 'Propone reformar el ordenamientos legales para garantizar la inclusión de pueblos y comunidades indígenas.\\r\\n',\n",
       " 'Propone reformar el ordenamientos legales para garantizar la inclusión de pueblos y comunidades indígenas.',\n",
       " 'Propone reformar el ordenamientos legales para garantizar la inclusión de pueblos y comunidades indígenas.',\n",
       " 'Propone reformar el ordenamientos legales para garantizar la inclusión de pueblos y comunidades indígenas.',\n",
       " 'Propone reformar el ordenamientos legales para garantizar la inclusión de pueblos y comunidades indígenas.',\n",
       " 'Propone reformar el ordenamientos legales para garantizar la inclusión de pueblos y comunidades indígenas.',\n",
       " 'Propone reformar el ordenamientos legales para garantizar la inclusión de pueblos y comunidades indígenas.',\n",
       " 'Propone reformar el ordenamientos legales para garantizar la inclusión de pueblos y comunidades indígenas.',\n",
       " 'Propone reformar el ordenamientos legales para garantizar la inclusión de pueblos y comunidades indígenas.',\n",
       " 'Propone reformar el ordenamientos legales para garantizar la inclusión de pueblos y comunidades indígenas.',\n",
       " 'Propone reformar el ordenamientos legales para garantizar la inclusión de pueblos y comunidades indígenas.',\n",
       " 'Propone reformar el ordenamientos legales para garantizar la inclusión de pueblos y comunidades indígenas.',\n",
       " 'Propone reformar el ordenamientos legales para garantizar la inclusión de pueblos y comunidades indígenas.',\n",
       " 'Propone reformar el ordenamientos legales para garantizar la inclusión de pueblos y comunidades indígenas.',\n",
       " 'Propone reformar el ordenamientos legales para garantizar la inclusión de pueblos y comunidades indígenas.',\n",
       " 'Propone reformar el ordenamientos legales para garantizar la inclusión de pueblos y comunidades indígenas.',\n",
       " 'Propone reformar el ordenamientos legales para garantizar la inclusión de pueblos y comunidades indígenas.',\n",
       " 'Propone reformar el ordenamientos legales para garantizar la inclusión de pueblos y comunidades indígenas.',\n",
       " 'Propone reformar el ordenamientos legales para garantizar la inclusión de pueblos y comunidades indígenas.',\n",
       " 'Propone reformar el ordenamientos legales para garantizar la inclusión de pueblos y comunidades indígenas.',\n",
       " 'Propone reformar el ordenamientos legales para garantizar la inclusión de pueblos y comunidades indígenas.',\n",
       " 'Propone reformar el ordenamientos legales para garantizar la inclusión de pueblos y comunidades indígenas.',\n",
       " 'Propone reformar el ordenamientos legales para garantizar la inclusión de pueblos y comunidades indígenas.',\n",
       " 'Propone reformar el ordenamientos legales para garantizar la inclusión de pueblos y comunidades indígenas.',\n",
       " 'Propone reformar el ordenamientos legales para garantizar la inclusión de pueblos y comunidades indígenas.',\n",
       " 'Propone reformar el ordenamientos legales para garantizar la inclusión de pueblos y comunidades indígenas.',\n",
       " 'Propone reformar el ordenamientos legales para garantizar la inclusión de pueblos y comunidades indígenas.',\n",
       " 'Propone reformar el ordenamientos legales para garantizar la inclusión de pueblos y comunidades indígenas.',\n",
       " 'Propone reformar el ordenamientos legales para garantizar la inclusión de pueblos y comunidades indígenas.',\n",
       " 'Propone reformar el ordenamientos legales para garantizar la inclusión de pueblos y comunidades indígenas.',\n",
       " 'Propone reformar el ordenamientos legales para garantizar la inclusión de pueblos y comunidades indígenas.',\n",
       " 'Propone reformar el ordenamientos legales para garantizar la inclusión de pueblos y comunidades indígenas.',\n",
       " 'Propone reformar el ordenamientos legales para garantizar la inclusión de pueblos y comunidades indígenas.',\n",
       " 'Propone reformar el ordenamientos legales para garantizar la inclusión de pueblos y comunidades indígenas.',\n",
       " 'Propone reformar el ordenamientos legales para garantizar la inclusión de pueblos y comunidades indígenas.',\n",
       " 'Propone reformar el ordenamientos legales para garantizar la inclusión de pueblos y comunidades indígenas.',\n",
       " 'Propone reformar el ordenamientos legales para garantizar la inclusión de pueblos y comunidades indígenas.',\n",
       " 'Propone reformar el ordenamientos legales para garantizar la inclusión de pueblos y comunidades indígenas.',\n",
       " 'Propone reformar el ordenamientos legales para garantizar la inclusión de pueblos y comunidades indígenas.',\n",
       " 'Propone reformar el ordenamientos legales para garantizar la inclusión de pueblos y comunidades indígenas.',\n",
       " 'Propone reformar el ordenamientos legales en materia de inclusión de las personas trabajadoras.',\n",
       " 'Propone reformar el ordenamientos legales en materia de inclusión de las personas trabajadoras.',\n",
       " 'Propone reformar el ordenamientos legales en materia de inclusión de las personas trabajadoras.',\n",
       " 'Propone reformar el ordenamientos legales en materia de inclusión de las personas trabajadoras.',\n",
       " 'Propone reformar el ordenamientos legales en materia de inclusión de las personas trabajadoras.',\n",
       " 'Propone reformar el ordenamientos legales en materia de inclusión de las personas trabajadoras.',\n",
       " 'Propone reformar el ordenamientos legales en materia de inclusión de las personas trabajadoras.',\n",
       " 'Propone reformar el ordenamientos legales en materia de inclusión de las personas trabajadoras.',\n",
       " 'Propone reformar el ordenamientos legales en materia de inclusión de las personas trabajadoras.',\n",
       " 'Propone reformar el ordenamientos legales en materia de inclusión de las personas trabajadoras.',\n",
       " 'Propone que las autoridades educativas en el ámbito de sus competencias establezcan mecanismos para dotar de manera gratuita en las instituciones de educación básica y media superior los insumos de higiene menstrual necesarios y suficientes, tales como toallas femeninas, tampones, copa menstrual, entre otros con el objeto de que las niñas y adolescentes, tengan una adecuada higiene menstrual.',\n",
       " 'Propone derogar la disposición que establece suspender los derechos o prerrogativas de los ciudadanos cuando se esté sujeto a un proceso criminal por delitos que merezca pena corporal, a contar desde la fecha del auto de formal de prisión debido a que contraviene los principios de presunción de inocencia y pro-persona.',\n",
       " 'Propone establecer una prohibición en los productos denominados “milagro” considerados como aquellos remedios herbolarios, suplementos alimenticios, nutritivos, estimulantes o productos cosméticos que carecen de eficacia y validez de a acuerdo a las normas establecidas para su producción. Por lo anterior, se propone establecer multas a las personas físicas o morales que hagan acto de publicidad de los productos ya mencionados. La autoridad sanitaria será competente para sancionar con una multa que va de los cinco mil quinientas hasta sesenta y cinco mil veces la UMA. En caso de que una persona servidora pública sea la infractora, se le inhabilitará de 2 a 4 años en el desempeño de empleo, cargo o comisión.',\n",
       " 'Propone establecer como facultad del Consejo de Salubridad General la participación en la realización de los criterios y procedimientos para controlar, erradicar o eliminar enfermedades prevenibles mediante vacunación. Cuando se realice vacunación para prevenir enfermedades transmitibles será necesaria la opinión del Consejo.',\n",
       " 'Propone establecer como derecho de las víctimas y de los ofendidos el poder solicitar a la Fiscalía General de la República atraer casos del fuero común y en caso de negativa, esta podrá ser impugnada.',\n",
       " 'Propone establecer como obligación del Estado Mexicano garantizar el abasto y eficiencia de diversos insumos y servicios de salud, tales como las vacunas y medicamentos para todas las personas; así como del abasto de insumos para el diagnóstico y atención de enfermedades. Plantea que tanto la Federación como las Entidades Federativas competentes miembros del Sistema Nacional de Salud deberán contar con los recursos necesarios previstos en el Presupuesto de Egresos y especifica que este no podrá ser regresivo en términos reales en relación con el ejercicio fiscal inmediato anterior.',\n",
       " 'Propone modificar el ordenamiento para realizar una adecuación al texto constitucional de las nuevas reformas constitucionales.',\n",
       " 'Propone que la coordinación del Sistema Nacional de Salud estará a cargo de la Secretaría de Salud, correspondiéndole establecer y conducir el Plan Nacional para la Prevención y Control Integral del Cáncer así como los mecanismos de coordinación con el Registro Nacional de Cáncer.',\n",
       " 'Propone establecer como delito a quien sustraiga de forma indebida una o más vacunas que sean propiedad de las dependencias o entidades que constituyan el Sistema Nacional de Salud o aquellas incluidas en el Programa de Vacunación Universal o que sean destinadas a acciones ordinarias o extraordinarias de vacunación, con pena de hasta 10 años de prisión y una multa de hasta 3000 veces la Unidad de Medida y Actualización, y con una pena de 5 a 15 años de prisión en caso de que se trate de una persona servidora pública. También propone que a quien se apodere de forma indebida de algún medicamento o de alguna ayuda funcional considerada como tal dentro de los insumos para la salud se aplique una pena de 4 a 8 años de prisión y una multa de doscientas cincuenta a dos mil veces la Unidad de Medida y actualización. Y para el supuesto de que la persona que cometa el apoderamiento indebido sea servidora pública se aplicará igual que para el robo de vacunas, una pena de 5 a 15 años de prisión, y una multa de trescientos a tres mil veces la Unidad de Medida y actualización.',\n",
       " 'Propone que lo servicios de sanidad internacional se rijan conforme a la ley y que la Secretaría de Salud lleve las acciones necesarias para establecer un registro de las personas vacunadas en contra de enfermedades.',\n",
       " 'Propone provenir, detectar, tratar o curar las causas que originaron la acción extraordinaria en materia de salubridad general, se aumentará hasta en un tercio la pena establecida para tal delito, en su caso se aumentará la pena cuando la conducta se lleve a cabo con vacunas para tratar las epidemias o pandemias provocadas por un agente patógeno. Así mismo, se considera el caso de que la conducta sea cometida por un servidor público ejercicio de sus funciones. También, establece la Unidad de Medida de Actualización por los delitos cometidos.',\n",
       " 'Propone establecer que las personas prestadoras de servicios de salud podrán brindar atención médica a través de Teleconsultas, entendida como la interacción que ocurre entre las personas prestadoras de servicios de salud y el paciente con el fin de proporcionar asesoramiento, diagnóstico o terapéutico a través de las tecnologías de la información.',\n",
       " 'Propone el uso de asistencia humana o animal para las personas con discapacidad o con alguna enfermedad que lo requiera. En el caso de asistencia animal, se promueve el uso de perros de asistencia, mismos que deberán permanecer con las personas anteriormente mencionadas, quedando prohibida cualquier restricción que impida el ejercicio de este derecho.',\n",
       " 'Propone que durante el tiempo de su encargo, las y los integrantes de las Cámaras del Congreso de la Unión podrán ser imputados y juzgados por traición a la patria, hechos de corrupción, delitos electorales y todos aquellos delitos por los que podría ser enjuiciado cualquier ciudadana o ciudadano. En estos casos, se procederá conforme lo dispuesto en el artículo 111 de esta Constitución.',\n",
       " 'Propone establecer que, las resoluciones que establezcan posibles afectaciones a la esfera jurídica de las niñas, niños y adolescentes se deberán redactar bajo un formato de lectura fácil.',\n",
       " 'Propone establecer que, las sentencias en las cuales se determinen afectaciones a la esfera jurídica de niñas, niños y adolescentes, se deberán redactar bajo un formato de lectura fácil.',\n",
       " 'Propone establecer que, ante actos de autoridad, las resoluciones que emitan procedimientos judiciales o administrativos en los que haya posibles afectaciones a la esfera jurídica de niñas, niños y adolescentes, se deberán redactar bajo un formato de lectura fácil.',\n",
       " 'Propone establecer que el derecho al que tiene toda persona de que se le administre justicia, debe contemplar que además de que se realicen de manera pronta, completa e imparcial deberán ser comprensibles.',\n",
       " 'Propone establecer que las personas prestadoras de servicios de salud podrán brindar atención médica a través de Teleconsultas, entendida como la interacción que ocurre entre las personas prestadoras de servicios de salud y el paciente con el fin de proporcionar asesoramiento, diagnóstico o terapéutico a través de las tecnologías de la información.',\n",
       " 'Propone reformar el ordenamiento legal vigente en materia de actualización normativa en virtud de la autonomía de la Fiscalía General de la República.',\n",
       " 'Propone reformar el ordenamiento legal vigente en materia de actualización normativa en virtud de la autonomía de la Fiscalía General de la República.',\n",
       " 'Propone reformar el ordenamiento legal vigente en materia de actualización normativa en virtud de la autonomía de la Fiscalía General de la República.',\n",
       " 'Propone ampliar el límite de capacidad de generación de las centrales eléctricas que no requieren permiso de generación eléctrica de la Comisión Reguladora de Energía, de 0.5 MW a 1.0 MW. Además, propone que las centrales eléctricas con capacidad de menos a 1.0 MW que no cuenten con un contrato de suministro asociado al mismo punto de interconexión de la Central Eléctrica, deban contar con un permiso otorgado por la CRE.',\n",
       " 'Propone establecer diversos mecanismos de seguridad que se deban implementar en las instituciones del Estado frente a ciberataques que pudiesen llegar a ser vulnerables. Además, propone la expedición de una Ley General de Ciberseguridad misma que establece los delitos en materia de ciberataques, así como los términos en que las autoridades de las entidades federativas y los municipios colaborarán con la Federación en dicha tarea, con el fin de garantizar el derecho de acceso a las tecnologías de la información y comunicación. También propone la creación de una Comisión Permanente de Ciberseguridad, la cual estará dentro de la estructura del Consejo Nacional de Seguridad Pública a efecto de encargarse de los temas relacionados en la materia. Por otra parte, propone la creación del Centro Nacional de Ciberseguridad e incluirlo dentro de la estructura del Secretariado Ejecutivo del Sistema Nacional de Seguridad Pública, encargado de dar seguimiento a las acciones que se tenga conocimiento sobre la seguridad en la materia de las instituciones del Estado. Para ello, propone que la persona titular de dicho centro sea nombrada y removida libremente por el Consejo Nacional de Seguridad Pública.',\n",
       " 'Propone que el Congreso de la Unión pueda celebrar sesiones a distancia utilizando las tecnologías de información y comunicación cuando por alguna situación extraordinaria o de emergencia no permita la concurrencia de legisladores en el salón de sesiones.',\n",
       " 'Propone que todas las personas tengan derecho a un mínimo vital para asegurar una vida digna. Los mecanismos para hacer efectivo tal derecho se establecerán de conformidad con los criterios de progresividad y con los indicadores que determine el organismo constitucional competente.',\n",
       " 'Propone establecer el teletrabajo como modalidad para el desempeño de actividades laborales por lo que el Congreso de la Unión podrá expedir leyes que lo regulen.',\n",
       " 'Propone establecer que, si durante una situación extraordinaria la persona empleadora infringe regulaciones laborales que tienen como fin prevenir y erradicar el trabajo infantil y la protección a adolescentes, se le sancionará con multa de 10 mil a 100 mil veces la Unidad de Medida y Actualización.',\n",
       " 'Propone armonizar la normatividad para modificar las referencias del artículo en cuestión, que se refieren a las multas determinadas en salario mínimo por la Unidad de Medida y Actualización Vigente. Plantea que las penas para quien adultere contaminen, altere o falsifique algún medicamento destinado a prevenir, detectar, tratar o curar las causas que originaron la acción extraordinaria en materia de salud las penas aumentaran hasta en un tercio y hasta en una mitad cuando además el delito sea cometido por un servidor público.',\n",
       " 'Propone que en materia de plazos para el registro sanitario de medicamentos durante la acción extraordinaria en materia de salubridad general, la Secretaría de Salud a través de la Comisión Federal para la Protección de Riesgos Sanitarios deberá emitir una resolución sobre la procedencia del registro sanitario en un plazo máximo de 30 días naturales.',\n",
       " 'Propone establecer la Emergencia Económica, misma que consiste que en los casos en que se presente alguna situación extraordinaria que ponga en riesgo el cumplimiento de los objetivos relativos al desarrollo nacional, el Titular del Poder Ejecutivo Federal con la aprobación de la Cámara de Diputados o de la Comisión permanente, pueda decretar esta emergencia. Además, propone la creación de un Consejo Nacional de Emergencia Económica que dependerá del Ejecutivo Federal para hacer frente a dicha situación, mismas que sus determinaciones serán de observancia general en todo el país.',\n",
       " 'Propone establecer que el Consejo de Salubridad General deberá elaborar el Plan Nacional de Protección de la Salud Mental.',\n",
       " 'Propone que se garantice la integridad física y psicológica del personal perteneciente al Sistema Nacional de Salud por lo que establece una pena de prisión de 3 a 6 años y multa de hasta quinientas veces la Unidad de Medida y Actualización al que ejerza cualquier tipo de violencia en contra de los profesionales, técnicos o auxiliares pertenecientes al Sistema.',\n",
       " 'Propone garantizar el cumplimiento del principio de paridad de género.',\n",
       " 'Propone garantizar el cumplimiento del principio de paridad de género.',\n",
       " 'Propone garantizar el cumplimiento del principio de paridad de género.',\n",
       " 'Propone garantizar el cumplimiento del principio de paridad de género.',\n",
       " 'Propone garantizar el cumplimiento del principio de paridad de género.',\n",
       " 'Propone garantizar el cumplimiento del principio de paridad de género.',\n",
       " 'Propone garantizar el cumplimiento del principio de paridad de género.',\n",
       " 'Propone garantizar el cumplimiento del principio de paridad de género.',\n",
       " 'Propone garantizar el cumplimiento del principio de paridad de género.',\n",
       " 'Propone garantizar el cumplimiento del principio de paridad de género.',\n",
       " 'Propone garantizar el cumplimiento del principio de paridad de género.',\n",
       " 'Propone garantizar el cumplimiento del principio de paridad de género.',\n",
       " 'Propone garantizar el cumplimiento del principio de paridad de género.',\n",
       " 'Propone garantizar el cumplimiento del principio de paridad de género.',\n",
       " 'Propone garantizar el cumplimiento del principio de paridad de género.',\n",
       " 'Propone garantizar el cumplimiento del principio de paridad de género.',\n",
       " 'Propone garantizar el cumplimiento del principio de paridad de género.',\n",
       " 'Propone garantizar el cumplimiento del principio de paridad de género.',\n",
       " 'Propone garantizar el cumplimiento del principio de paridad de género.',\n",
       " 'Propone garantizar el cumplimiento del principio de paridad de género.',\n",
       " 'Propone garantizar el cumplimiento del principio de paridad de género.',\n",
       " 'Propone garantizar el cumplimiento del principio de paridad de género.',\n",
       " 'Propone garantizar el cumplimiento del principio de paridad de género.',\n",
       " 'Propone garantizar el cumplimiento del principio de paridad de género.',\n",
       " 'Propone garantizar el cumplimiento del principio de paridad de género.',\n",
       " 'Propone garantizar el cumplimiento del principio de paridad de género.',\n",
       " 'Propone garantizar el cumplimiento del principio de paridad de género.',\n",
       " 'Propone garantizar el cumplimiento del principio de paridad de género.',\n",
       " 'Propone garantizar el cumplimiento del principio de paridad de género.',\n",
       " 'Propone garantizar el cumplimiento del principio de paridad de género.',\n",
       " 'Propone garantizar el cumplimiento del principio de paridad de género.',\n",
       " 'Propone garantizar el cumplimiento del principio de paridad de género.',\n",
       " 'Propone garantizar el cumplimiento del principio de paridad de género.',\n",
       " 'Propone garantizar el cumplimiento del principio de paridad de género.',\n",
       " 'Propone garantizar el cumplimiento del principio de paridad de género.',\n",
       " 'Propone garantizar el cumplimiento del principio de paridad de género.',\n",
       " 'Propone garantizar el cumplimiento del principio de paridad de género.',\n",
       " 'Propone garantizar el cumplimiento del principio de paridad de género.',\n",
       " 'Propone garantizar el cumplimiento del principio de paridad de género.',\n",
       " 'Propone garantizar el cumplimiento del principio de paridad de género.',\n",
       " 'Propone garantizar el cumplimiento del principio de paridad de género.',\n",
       " 'Propone garantizar el cumplimiento del principio de paridad de género.',\n",
       " 'Propone garantizar el cumplimiento del principio de paridad de género.',\n",
       " 'Propone garantizar el cumplimiento del principio de paridad de género.',\n",
       " 'Propone garantizar el cumplimiento del principio de paridad de género.',\n",
       " 'Propone garantizar el cumplimiento del principio de paridad de género.',\n",
       " 'Propone garantizar el cumplimiento del principio de paridad de género.',\n",
       " 'Propone garantizar el cumplimiento del principio de paridad de género.\\r\\n',\n",
       " 'Propone garantizar el cumplimiento del principio de paridad de género.',\n",
       " 'Propone garantizar el cumplimiento del principio de paridad de género.',\n",
       " 'Propone garantizar el cumplimiento del principio de paridad de género.',\n",
       " 'Propone garantizar el cumplimiento del principio de paridad de género.',\n",
       " 'Propone garantizar el cumplimiento del principio de paridad de género.',\n",
       " 'Propone garantizar el cumplimiento del principio de paridad de género.',\n",
       " 'Propone garantizar el cumplimiento del principio de paridad de género.',\n",
       " 'Propone garantizar el cumplimiento del principio de paridad de género.',\n",
       " 'Propone garantizar el cumplimiento del principio de paridad de género.',\n",
       " 'Propone garantizar el cumplimiento del principio de paridad de género.',\n",
       " 'Propone garantizar el cumplimiento del principio de paridad de género.',\n",
       " 'Propone garantizar el cumplimiento del principio de paridad de género.',\n",
       " 'Propone garantizar el cumplimiento del principio de paridad de género.',\n",
       " 'Propone garantizar el cumplimiento del principio de paridad de género.',\n",
       " 'Propone garantizar el cumplimiento del principio de paridad de género.',\n",
       " 'Propone garantizar el cumplimiento del principio de paridad de género.',\n",
       " 'Propone garantizar el cumplimiento del principio de paridad de género.',\n",
       " 'Propone garantizar el cumplimiento del principio de paridad de género.',\n",
       " 'Propone garantizar el cumplimiento del principio de paridad de género.',\n",
       " 'Propone garantizar el cumplimiento del principio de paridad de género.',\n",
       " 'Propone garantizar el cumplimiento del principio de paridad de género.',\n",
       " 'Propone garantizar el cumplimiento del principio de paridad de género.',\n",
       " 'Propone garantizar el cumplimiento del principio de paridad de género.',\n",
       " 'Propone garantizar el cumplimiento del principio de paridad de género.',\n",
       " 'Propone garantizar el cumplimiento del principio de paridad de género.',\n",
       " 'Propone garantizar el cumplimiento del principio de paridad de género.',\n",
       " 'Propone garantizar el cumplimiento del principio de paridad de género.',\n",
       " 'Propone garantizar el cumplimiento del principio de paridad de género.',\n",
       " 'Propone garantizar el cumplimiento del principio de paridad de género.',\n",
       " 'Propone garantizar el cumplimiento del principio de paridad de género.',\n",
       " 'Propone garantizar el cumplimiento del principio de paridad de género.',\n",
       " 'Propone garantizar el cumplimiento del principio de paridad de género.',\n",
       " 'Propone garantizar el cumplimiento del principio de paridad de género.',\n",
       " 'Propone garantizar el cumplimiento del principio de paridad de género.',\n",
       " 'Propone garantizar el cumplimiento del principio de paridad de género.',\n",
       " 'Propone garantizar el cumplimiento del principio de paridad de género.',\n",
       " 'Propone garantizar el cumplimiento del principio de paridad de género.',\n",
       " 'Propone garantizar el cumplimiento del principio de paridad de género.',\n",
       " 'Propone garantizar el cumplimiento del principio de paridad de género.',\n",
       " 'Propone garantizar el cumplimiento del principio de paridad de género.',\n",
       " 'Propone garantizar el cumplimiento del principio de paridad de género.',\n",
       " 'Propone garantizar el cumplimiento del principio de paridad de género.',\n",
       " 'Propone garantizar el cumplimiento del principio de paridad de género.',\n",
       " 'Propone garantizar el cumplimiento del principio de paridad de género.',\n",
       " 'Propone garantizar el cumplimiento del principio de paridad de género.',\n",
       " 'Propone garantizar el cumplimiento del principio de paridad de género.',\n",
       " 'Propone garantizar el cumplimiento del principio de paridad de género.',\n",
       " 'Propone garantizar el cumplimiento del principio de paridad de género.',\n",
       " 'Propone garantizar el cumplimiento del principio de paridad de género.',\n",
       " 'Propone garantizar el cumplimiento del principio de paridad de género.',\n",
       " 'Propone garantizar el cumplimiento del principio de paridad de género.',\n",
       " 'Propone garantizar el cumplimiento del principio de paridad de género.',\n",
       " 'Propone suprimir la facultad que actualmente tiene la Suprema Corte de Justicia de la Nación para consignar ante el juez de Distrito a la autoridad que incumpla las sentencias de amparo, por lo que dicha facultad sea trasladada al Ministerio Público Federal.',\n",
       " 'Propone trasladar la facultad que actualmente tiene la Suprema Corte de Justicia para consignar ante el Juez de Distrito a toda aquella autoridad que incumpla las sentencias de amparo para que pase a ser el Ministerio Público de la Federación quien deba ser la autoridad competente de ejercer dicha facultad para los efectos a que haya lugar.',\n",
       " 'Propone que las mujeres no solo cumplan sus penas en lugares separados de los destinados para hombres, sino también los arrestos, la prisión preventiva o las providencias precautorias restrictivas de la libertad.',\n",
       " 'Propone expedir la Ley General Para la Donación Altruista y Reducción del Desperdicio y Pérdida de Alimentos, Reglamentaria del Artículo 4° párrafo tercero de la Constitución Política de los Estados Unidos Mexicanos que tiene por objetivo elevar a una dimensión nacional, los esfuerzos para aprovechar los alimentos mediante la donación y reducir su pérdida y desperdicio de estos. Además, esta legislación propone promover, orientar y regular la donación altruista de alimentos susceptibles para consumo humano con el fin de contribuir a garantizar el derecho a la alimentación de la población con carencia alimentaria o dificultad para acceder a alimentos. Fomentar la colaboración de los sectores públicos, social y privado para que sea posible el traslado, almacenamiento y distribución de alimentos que no sean considerados para su venta pero que sean hechos para el consumo humano, a los bancos de alimentos y así coadyuvar en la satisfacción de las necesidades alimentarias de la población vulnerable.',\n",
       " 'Propone que se establezca en la Constitución que las mujeres no solo cumplan sus penas en lugares separados de los destinados para hombres, sino también los arrestos, la prisión preventiva o las providencias precautorias restrictivas de la libertad, dichos lugares deberán cumplir con los parámetros establecidos en los tratados internacionales de los que México es parte. Además, la propuesta incluye la incorporación de lenguaje inclusivo al texto del artículo.',\n",
       " 'Propone reformar el ordenamiento para dejar la mención de Distrito Federal y dar paso a la denominación de Ciudad de México.',\n",
       " 'Propone reformar el ordenamiento para dejar la mención de Distrito Federal y dar paso a la denominación de Ciudad de México.',\n",
       " 'Propone reformar el ordenamiento para dejar la mención de Distrito Federal y dar paso a la denominación de Ciudad de México.',\n",
       " 'Propone reformar el ordenamiento para dejar la mención de Distrito Federal y dar paso a la denominación de Ciudad de México.',\n",
       " 'Propone reformar el ordenamiento para dejar la mención de Distrito Federal y dar paso a la denominación de Ciudad de México.',\n",
       " 'Propone reformar el ordenamiento para dejar la mención de Distrito Federal y dar paso a la denominación de Ciudad de México.',\n",
       " 'Propone reformar el ordenamiento para dejar la mención de Distrito Federal y dar paso a la denominación de Ciudad de México.',\n",
       " 'Propone reformar el ordenamiento para dejar la mención de Distrito Federal y dar paso a la denominación de Ciudad de México.',\n",
       " 'Propone reformar el ordenamiento para dejar la mención de Distrito Federal y dar paso a la denominación de Ciudad de México.',\n",
       " 'Propone reformar el ordenamiento para dejar la mención de Distrito Federal y dar paso a la denominación de Ciudad de México.',\n",
       " 'Propone reformar el ordenamiento para dejar la mención de Distrito Federal y dar paso a la denominación de Ciudad de México.',\n",
       " 'Propone reformar el ordenamiento para dejar la mención de Distrito Federal y dar paso a la denominación de Ciudad de México.',\n",
       " 'Propone reformar el ordenamiento para dejar la mención de Distrito Federal y dar paso a la denominación de Ciudad de México.',\n",
       " 'Propone reformar el ordenamiento para dejar la mención de Distrito Federal y dar paso a la denominación de Ciudad de México.',\n",
       " 'Propone reformar el ordenamiento para dejar la mención de Distrito Federal y dar paso a la denominación de Ciudad de México.',\n",
       " 'Propone reformar el ordenamiento para dejar la mención de Distrito Federal y dar paso a la denominación de Ciudad de México.',\n",
       " 'Propone reformar el ordenamiento para dejar la mención de Distrito Federal y dar paso a la denominación de Ciudad de México.',\n",
       " 'Propone reformar el ordenamiento para dejar la mención de Distrito Federal y dar paso a la denominación de Ciudad de México.',\n",
       " 'Propone reformar el ordenamiento para dejar la mención de Distrito Federal y dar paso a la denominación de Ciudad de México.',\n",
       " 'Propone reformar el ordenamiento para dejar la mención de Distrito Federal y dar paso a la denominación de Ciudad de México.',\n",
       " 'Propone reformar el ordenamiento para dejar la mención de Distrito Federal y dar paso a la denominación de Ciudad de México.',\n",
       " 'Propone reformar el ordenamiento para dejar la mención de Distrito Federal y dar paso a la denominación de Ciudad de México.',\n",
       " 'Propone reformar el ordenamiento para dejar la mención de Distrito Federal y dar paso a la denominación de Ciudad de México.',\n",
       " 'Propone reformar el ordenamiento para dejar la mención de Distrito Federal y dar paso a la denominación de Ciudad de México.',\n",
       " 'Propone reformar el ordenamiento para dejar la mención de Distrito Federal y dar paso a la denominación de Ciudad de México.',\n",
       " 'Propone reformar el ordenamiento para dejar la mención de Distrito Federal y dar paso a la denominación de Ciudad de México.',\n",
       " 'Propone reformar el ordenamiento para dejar la mención de Distrito Federal y dar paso a la denominación de Ciudad de México.',\n",
       " 'Propone reformar el ordenamiento para dejar la mención de Distrito Federal y dar paso a la denominación de Ciudad de México.',\n",
       " 'Propone reformar el ordenamiento para dejar la mención de Distrito Federal y dar paso a la denominación de Ciudad de México.',\n",
       " 'Propone reformar el ordenamiento para dejar la mención de Distrito Federal y dar paso a la denominación de Ciudad de México.',\n",
       " 'Propone reformar el ordenamiento para dejar la mención de Distrito Federal y dar paso a la denominación de Ciudad de México.',\n",
       " 'Propone reformar el ordenamiento para dejar la mención de Distrito Federal y dar paso a la denominación de Ciudad de México.',\n",
       " 'Propone reformar el ordenamiento para dejar la mención de Distrito Federal y dar paso a la denominación de Ciudad de México.',\n",
       " 'Propone reformar el ordenamiento para dejar la mención de Distrito Federal y dar paso a la denominación de Ciudad de México.',\n",
       " 'Propone reformar el ordenamiento para dejar la mención de Distrito Federal y dar paso a la denominación de Ciudad de México.',\n",
       " 'Propone reformar el ordenamiento para dejar la mención de Distrito Federal y dar paso a la denominación de Ciudad de México.',\n",
       " 'Propone reformar el ordenamiento para dejar la mención de Distrito Federal y dar paso a la denominación de Ciudad de México.',\n",
       " 'Propone reformar el ordenamiento para dejar la mención de Distrito Federal y dar paso a la denominación de Ciudad de México.',\n",
       " 'Propone reformar el ordenamiento para dejar la mención de Distrito Federal y dar paso a la denominación de Ciudad de México.',\n",
       " 'Propone reformar el ordenamiento para dejar la mención de Distrito Federal y dar paso a la denominación de Ciudad de México.',\n",
       " 'Propone reformar el ordenamiento para dejar la mención de Distrito Federal y dar paso a la denominación de Ciudad de México.',\n",
       " 'Propone reformar el ordenamiento para dejar la mención de Distrito Federal y dar paso a la denominación de Ciudad de México.',\n",
       " 'Propone reformar el ordenamiento para dejar la mención de Distrito Federal y dar paso a la denominación de Ciudad de México.',\n",
       " 'Propone reformar el ordenamiento para dejar la mención de Distrito Federal y dar paso a la denominación de Ciudad de México.',\n",
       " 'Propone reformar el ordenamiento para dejar la mención de Distrito Federal y dar paso a la denominación de Ciudad de México.',\n",
       " 'Propone reformar el ordenamiento para dejar la mención de Distrito Federal y dar paso a la denominación de Ciudad de México.',\n",
       " 'Propone reformar el ordenamiento para dejar la mención de Distrito Federal y dar paso a la denominación de Ciudad de México.',\n",
       " 'Propone reformar el ordenamiento para dejar la mención de Distrito Federal y dar paso a la denominación de Ciudad de México.',\n",
       " 'Propone reformar el ordenamiento para dejar la mención de Distrito Federal y dar paso a la denominación de Ciudad de México.',\n",
       " 'Propone reformar el ordenamiento para dejar la mención de Distrito Federal y dar paso a la denominación de Ciudad de México.',\n",
       " 'Propone reformar el ordenamiento para dejar la mención de Distrito Federal y dar paso a la denominación de Ciudad de México.',\n",
       " 'Propone reformar el ordenamiento para dejar la mención de Distrito Federal y dar paso a la denominación de Ciudad de México.',\n",
       " 'Propone reformar el ordenamiento para dejar la mención de Distrito Federal y dar paso a la denominación de Ciudad de México.',\n",
       " 'Propone reformar el ordenamiento para dejar la mención de Distrito Federal y dar paso a la denominación de Ciudad de México.',\n",
       " 'Propone reformar el ordenamiento para dejar la mención de Distrito Federal y dar paso a la denominación de Ciudad de México.',\n",
       " 'Propone reformar el ordenamiento para dejar la mención de Distrito Federal y dar paso a la denominación de Ciudad de México.',\n",
       " 'Propone reformar el ordenamiento para dejar la mención de Distrito Federal y dar paso a la denominación de Ciudad de México.',\n",
       " 'Propone reformar el ordenamiento para dejar la mención de Distrito Federal y dar paso a la denominación de Ciudad de México.',\n",
       " 'Propone reformar el ordenamiento para dejar la mención de Distrito Federal y dar paso a la denominación de Ciudad de México.',\n",
       " 'Propone reformar el ordenamiento para dejar la mención de Distrito Federal y dar paso a la denominación de Ciudad de México.',\n",
       " 'Propone reformar el ordenamiento para dejar la mención de Distrito Federal y dar paso a la denominación de Ciudad de México.',\n",
       " 'Propone reformar el ordenamiento para dejar la mención de Distrito Federal y dar paso a la denominación de Ciudad de México.',\n",
       " 'Propone reformar el ordenamiento para dejar la mención de Distrito Federal y dar paso a la denominación de Ciudad de México.',\n",
       " 'Propone reformar el ordenamiento para dejar la mención de Distrito Federal y dar paso a la denominación de Ciudad de México.',\n",
       " 'Propone reformar el ordenamiento para dejar la mención de Distrito Federal y dar paso a la denominación de Ciudad de México.',\n",
       " 'Propone reformar el ordenamiento para dejar la mención de Distrito Federal y dar paso a la denominación de Ciudad de México.',\n",
       " 'Propone reformar el ordenamiento para dejar la mención de Distrito Federal y dar paso a la denominación de Ciudad de México.',\n",
       " 'Propone reformar el ordenamiento para dejar la mención de Distrito Federal y dar paso a la denominación de Ciudad de México.',\n",
       " 'Propone reformar el ordenamiento para dejar la mención de Distrito Federal y dar paso a la denominación de Ciudad de México.',\n",
       " 'Propone reformar el ordenamiento para dejar la mención de Distrito Federal y dar paso a la denominación de Ciudad de México.',\n",
       " 'Propone reformar el ordenamiento para dejar la mención de Distrito Federal y dar paso a la denominación de Ciudad de México.',\n",
       " 'Propone reformar el ordenamiento para dejar la mención de Distrito Federal y dar paso a la denominación de Ciudad de México.',\n",
       " 'Propone reformar el ordenamiento para dejar la mención de Distrito Federal y dar paso a la denominación de Ciudad de México.',\n",
       " 'Propone reformar el ordenamiento para dejar la mención de Distrito Federal y dar paso a la denominación de Ciudad de México.',\n",
       " 'Propone reformar el ordenamiento para dejar la mención de Distrito Federal y dar paso a la denominación de Ciudad de México.',\n",
       " 'Propone reformar el ordenamiento para dejar la mención de Distrito Federal y dar paso a la denominación de Ciudad de México.',\n",
       " 'Propone reformar el ordenamiento para dejar la mención de Distrito Federal y dar paso a la denominación de Ciudad de México.',\n",
       " 'Propone reformar el ordenamiento para dejar la mención de Distrito Federal y dar paso a la denominación de Ciudad de México.',\n",
       " 'Propone reformar el ordenamiento para dejar la mención de Distrito Federal y dar paso a la denominación de Ciudad de México.',\n",
       " 'Propone reformar el ordenamiento para dejar la mención de Distrito Federal y dar paso a la denominación de Ciudad de México.',\n",
       " 'Propone reformar el ordenamiento para dejar la mención de Distrito Federal y dar paso a la denominación de Ciudad de México.',\n",
       " 'Propone reformar el ordenamiento para dejar la mención de Distrito Federal y dar paso a la denominación de Ciudad de México.',\n",
       " 'Propone reformar el ordenamiento para dejar la mención de Distrito Federal y dar paso a la denominación de Ciudad de México.',\n",
       " 'Propone reformar el ordenamiento para dejar la mención de Distrito Federal y dar paso a la denominación de Ciudad de México.',\n",
       " 'Propone reformar el ordenamiento para dejar la mención de Distrito Federal y dar paso a la denominación de Ciudad de México.',\n",
       " 'Propone reformar el ordenamiento para dejar la mención de Distrito Federal y dar paso a la denominación de Ciudad de México.',\n",
       " 'Propone reformar el ordenamiento para dejar la mención de Distrito Federal y dar paso a la denominación de Ciudad de México.',\n",
       " 'Propone reformar el ordenamiento para dejar la mención de Distrito Federal y dar paso a la denominación de Ciudad de México.',\n",
       " 'Propone reformar el ordenamiento para dejar la mención de Distrito Federal y dar paso a la denominación de Ciudad de México.',\n",
       " 'Propone reformar el ordenamiento para dejar la mención de Distrito Federal y dar paso a la denominación de Ciudad de México.',\n",
       " 'Propone reformar el ordenamiento para dejar la mención de Distrito Federal y dar paso a la denominación de Ciudad de México.',\n",
       " 'Propone reformar el ordenamiento para dejar la mención de Distrito Federal y dar paso a la denominación de Ciudad de México.',\n",
       " 'Propone reformar el ordenamiento para dejar la mención de Distrito Federal y dar paso a la denominación de Ciudad de México.',\n",
       " 'Propone reformar el ordenamiento para dejar la mención de Distrito Federal y dar paso a la denominación de Ciudad de México.',\n",
       " 'Propone reformar el ordenamiento para dejar la mención de Distrito Federal y dar paso a la denominación de Ciudad de México.',\n",
       " 'Propone reformar el ordenamiento para dejar la mención de Distrito Federal y dar paso a la denominación de Ciudad de México.',\n",
       " 'Propone reformar el ordenamiento para dejar la mención de Distrito Federal y dar paso a la denominación de Ciudad de México.',\n",
       " 'Propone reformar el ordenamiento para dejar la mención de Distrito Federal y dar paso a la denominación de Ciudad de México.',\n",
       " 'Propone reformar el ordenamiento para dejar la mención de Distrito Federal y dar paso a la denominación de Ciudad de México.',\n",
       " 'Propone reformar el ordenamiento para dejar la mención de Distrito Federal y dar paso a la denominación de Ciudad de México.',\n",
       " 'Propone reformar el ordenamiento para dejar la mención de Distrito Federal y dar paso a la denominación de Ciudad de México.',\n",
       " 'Propone reformar el ordenamiento para dejar la mención de Distrito Federal y dar paso a la denominación de Ciudad de México.',\n",
       " 'Propone reformar el ordenamiento para dejar la mención de Distrito Federal y dar paso a la denominación de Ciudad de México.',\n",
       " 'Propone reformar la Constitución Política de los Estados Unidos Mexicanos para dejar la mención de Distrito Federal y dar paso a la denominación de Ciudad de México.',\n",
       " 'Propone modificar la redacción del marco normativo para que “El Sistema Nacional de Investigadores” pase a llamarse “Sistema Nacional de Investigación” a efecto de que el campo de investigación científica refleje la proporción de hombres y mujeres en México de manera más adecuada.',\n",
       " 'Propone introducir lenguaje inclusivo en los requisitos para ser miembro de la Junta de Gobierno.',\n",
       " 'Propone introducir lenguaje inclusivo en los requisitos para ser rector de la Universidad Autónoma Agraria Antonio Narro.',\n",
       " 'Propone la modificación de los textos en la ley que contengan como requisito ostentar un cargo público el ser mexicano o mexicana por nacimiento con el fin de atender tanto el principio de inclusión de género y el de no discriminación en el ejercicio de cargos públicos.',\n",
       " 'Propone que en la elección de la persona aspirante a ocupar un cargo público se considere los principios de igualdad de género y no discriminación.',\n",
       " 'Propone establecer el principio de igualdad de género y no discriminación a la elección de personas a ocupar cargos públicos que contemple la ley.',\n",
       " 'Propone establecer el principio de igualdad de género y no discriminación al nombrar a la persona que ocupe el cargo de presidente o presidenta de la comisión.',\n",
       " 'Propone modificar el texto de la legislación para los casos en que cualquier ciudadano mexicano o mexicana ostente a ocupar un cargo público. La elección se deberá regir en los principios de igualdad de género y no discriminación.',\n",
       " 'Propone establecer el principio de igualdad de género y no discriminación en la elección de un cargo público.',\n",
       " 'Propone la modificación del texto en la ley que contengan los requisitos para ostentar el cargo de corredor ser mexicano o mexicana por nacimiento con el fin de atender el principio de igualdad de género y no discriminación.',\n",
       " 'Propone atender el principio de igualdad y paridad de género en la elección de las personas aspirantes a cargos públicos.',\n",
       " 'Propone introducir lenguaje inclusivo para la designación de la persona titular de la Fiscalía General de la República.',\n",
       " 'Propone introducir lenguaje inclusivo en los requisitos para ser Director o Directora General del Instituto para Devolverle al Pueblo lo Robado.',\n",
       " 'Propone introducir lenguaje inclusivo en los requisitos para ocupar la dirección General del Instituto Nacional de Antropología e Historia.',\n",
       " 'Propone introducir lenguaje inclusivo en los requisitos para ser Comisionado o Comisionada del Instituto Nacional de Transparencia, Acceso a la Información Pública y Protección de Datos Personales; y Consejero o Consejera del Consejo Consultivo del Instituto.',\n",
       " 'Propone introducir lenguaje inclusivo para la designación de los miembros de la Junta de Gobierno del Instituto Nacional de Estadística y Geografía.',\n",
       " 'Propone introducir lenguaje inclusivo para el nombramiento del Director o Directora General del Instituto del Fondo Nacional de la Vivienda para los Trabajadores.',\n",
       " 'Propone introducir lenguaje inclusivo en los requisitos para ser Director o Directora General del Instituto Politécnico Nacional.',\n",
       " 'Propone introducir lenguaje inclusivo en los requisitos para ser Magistrado o Magistrada del Tribunal Federal de Conciliación y Arbitraje.',\n",
       " 'Propone introducir lenguaje inclusivo para el nombramiento del Director o Directora del Instituto Mexicano del Seguro Social.',\n",
       " 'Propone introducir lenguaje inclusivo para el otorgamiento de la calidad migratoria de residente permanente.',\n",
       " 'Propone introducir lenguaje inclusivo en los requisitos para ser Director General de la Agencia de Noticias del Estado Mexicano.',\n",
       " 'Propone introducir lenguaje inclusivo para la designación de magistrado de circuito o juez de distrito.',\n",
       " 'Propone introducir lenguaje inclusivo en los requisitos para ser Comisionado o Comisionada General de la Policía Federal.',\n",
       " 'Propone introducir lenguaje inclusivo en los requisitos para ser Titular de la Auditoría Superior de la Federación.',\n",
       " 'Propone introducir lenguaje inclusivo para el nombramiento de la o el Presidente de la Comisión Nacional del Sistema de Ahorro para el Retiro.',\n",
       " 'Propone introducir lenguaje inclusivo para el nombramiento de la o el Presidente de la Comisión Nacional de Seguros y Fianzas.',\n",
       " 'Propone introducir lenguaje inclusivo en los requisitos para ser Ministerio Publico, Perito; y para el ingreso y permanencia en las Instituciones Policiales.',\n",
       " 'Propone introducir lenguaje inclusivo en los requisitos para ser miembro Magistrada o Magistrado del Tribunal Federal de Justicia Administrativa.',\n",
       " 'Propone introducir lenguaje inclusivo en los requisitos para ser miembro Magistrada o Magistrado del Tribunal Superior Agrario.',\n",
       " 'Propone modificar el lenguaje de la Ley para hacerla inclusiva.',\n",
       " 'Propone que la elección de la, o el, Titular de la Secretaría de Turismo y los integrantes de esta, sean designadas bajo la perspectiva de paridad de género.',\n",
       " 'Propone adicionar a los supuestos que admiten el internamiento de personas adolescentes; el robo que se lleve a cabo mediante la utilización de objetos que tengan la apariencia, forma o configuración de armas de fuego.',\n",
       " 'Propone que el proceso para otorgar licencia de portación de arma sea mas riguroso, solicitando como requisito para obtenerlo el no haber sido condenado por delito doloso.',\n",
       " 'Propone que se haga uso del lenguaje incluyente en el Reglamento del Senado de la República cambiando los conceptos de senadores a, senadoras y senadores, con un enfoque de paridad de género.',\n",
       " 'Propone actualizar las multas a quien altere, falsifique, contamine, altere o permita la adulteración, falsificación, contaminación o alteración de medicamentos, fármacos, materias primas o aditivos de sus envases finales para uso o consumo humanos o los fabrique sin los registros, licencias o autorizaciones a la unidad de medida y actualización. Incorpora el almacenaje a el supuesto de a quien venda u ofrezca en venta, comercie, distribuya o transporte medicamentos, fármacos, materias primas o aditivos falsificados, alterados, contaminados o adulterados, ya sea en establecimientos o en cualquier otro lugar, o bien venda u ofrezca en venta, comercie, distribuya o transporte materiales para envase o empaque de medicamentos, fármacos, materias primas o aditivos, sus leyendas, información que contenga números o claves de identificación, que se encuentran falsificados, alterados o adulterados se le impondrán de dos a diez años de prisión y una multa equivalente de veinte mil a cincuenta mil días de la Unidad de Medida Vigente. Además, en ambos supuestos si los medicamentos o fármacos en cuestión contienen o son derivados de opioides las penas aumentarán hasta en una mitad.',\n",
       " 'Propone que la Comisión Bicameral de Seguridad Nacional velará por la Seguridad Nacional en su función Legislativa y lo representara para ejercer control y evaluación en las políticas y acciones de las entidades de la Administración Pública Centralizada y Paraestatal relativas a la materia; especifica que estará integrada por Senadoras o Senadores y Diputadas y Diputados bajo el principio de pluralidad, su presidencia será rotativa en cada Legislatura bajo el principio de proporcionalidad y deberá ser alternada.',\n",
       " 'Propone que los nombramientos del titular y de las personas integrantes del Consejo Ciudadano Especializado en Desaparición Forzada sean realizados con perspectiva del principio de paridad de género.',\n",
       " 'Propone que, las renuncias de los ministros o ministras deban ser sometidas para su aceptación y aprobación a la Cámara de Senadores, por el voto de las dos terceras partes de los miembros presentes. Por último, propone que las renuncias, solamente procederán por las causas graves así calificadas por el Senado de la República.',\n",
       " 'Propone que los nombramientos sean realizados con perspectiva de género en relación con los titulares de las instituciones, entidades, organismos y demás participantes integrantes del Sistema Nacional de Atención a Víctimas. Así mismo, propone que para los requisitos y descripción del encargo, sea utilizado el lenguaje inclusivo, sin determinar el sexo por medio de las palabras empleadas para la persona que vaya a ejercer un cargo público.',\n",
       " 'Propone que, para determinar el número de senadoras y senadores presentes para las votaciones que se adopten por mayoría calificada, las y los legisladores deberán registrar su asistencia a través del sistema electrónico conforme al Reglamento; una vez registrada la asistencia será obligatorio emitir voto. De igual forma propone que se modifique el procedimiento para la votación por cédula. Los votos por cedula, para que sean considerados como votos deberán expresarse en las papeletas que para tal efecto sean entregadas; si hubiese alguna incidencia, se realizará un segundo computo que realizarán secretarios distintos a los que realizaron el primer computo, que también deberán ser distintos a aquellos que extraen las cedulas de la urna. Se adiciona una tercera votación, si es que no se reúne la votación necesaria. Por último, se especifica que, en las votaciones por cédula, todo documento emitido distinto a las papeletas distribuidas para tal efecto no será considerados para el conteo final de votos.',\n",
       " 'Propone que la Secretaria de la Defensa Nacional cuente con un Registro de armas que se hayan importado al territorio nacional o que se hayan exportado, que contendrá la fecha de emisión y expiración de la licencia o autorización de exportación, así como el país de exportación, y de igual forma cuando las armas de fuego sean importadas al territorio nacional. Por último, también se contará con un Registro de las armas decomisadas o incautadas.',\n",
       " 'Propone modificar la integración de la Cámara de Diputados para quedar compuesta en forma igualitaria a través de los dos principios que actualmente se utilizan: 1) la mitad electos según el principio de votación mayoritaria relativa en 200 distritos electorales uninominales y 2) 200 electos según el principio de representación proporcional. Por otra parte, propone dejar de utilizar como base para la distribución de los distritos electorales uninominales en las entidades federativas el Censo General de Población y, en su lugar, utilizar como base el Padrón Electoral elaborado por el Registro Federal Electoral del Instituto Federal Electoral.',\n",
       " 'Propone garantizar la paridad entre géneros durante la designación de la persona titular de la Defensoría Pública Federal, así como utilizar el lenguaje inclusivo en dicho ordenamiento jurídico.',\n",
       " 'Propone incorporar el principio de paridad de género para la integración del Consejo de la Comisión Federal de Electricidad.',\n",
       " 'Propone establecer el principio de paridad entre géneros con la inclusión de un lenguaje incluyente, de igual forma se cambia la denominación de Distrito Federal por la de Ciudad de México.',\n",
       " 'Propone actividades de responsabilidad compartida para optimizar la recuperación de plásticos, de tal manera que sean reutilizados mediante su reinserción constante en el mercado nacional',\n",
       " 'Propone crear el Registro Nacional de Refugios, Albergues y Casas de Medio Camino para la Asistencia y Protección a Víctimas, Ofendidos y Testigos de Delitos en Materia de Trata de Personas, de carácter público.',\n",
       " 'Propone establecer un lenguaje incluyente que garantice la paridad de géneros en la Ley de la Comisión Nacional de los Derechos Humanos.',\n",
       " 'Propone que se considere como delito que se castigue con una pena de tres a siete años de prisión, que cuando se divulga, distribuya, comparta o publique, en cualquier página de internet o plataforma digital, contenido íntimo sexual de una persona, sin consentimiento cause daño psicológico, emocional o moral a la víctima.',\n",
       " 'Propone que para ser Director General respecto de las entidades paraestatales y empresas productivas responsables de las áreas estratégicas y prioritarias a las que hace referencia el artículo 6 de la Ley Federal de las Entidades Paraestatales, se requerirá que sea ciudadana o ciudadano mexicano por nacimiento. La misma exigencia se estipula en la Ley de Petróleos Mexicanos y de la Comisión Federal de Electricidad.',\n",
       " 'Propone que se respeten los derechos laborales de los trabajadores del Instituto Nacional de la Infraestructura Física Educativa conforme a lo dispuesto en las Condiciones Generales de Trabajo del Instituto Nacional de la Infraestructura Física Educativa y la Ley Federal de los Trabajadores al Servicio del Estado.',\n",
       " 'Propone que la demarcación territorial de los 300 distritos electorales uninominales sea la que resulte de dividir la población total inscrita en el padrón electoral entre los distritos señalados. La distribución de los distritos electorales uninominales entre las entidades federativas se determinará de acuerdo al número de electores registrados en el padrón del registro federal de electores del Instituto Nacional Electoral, sin que en ningún caso la representación de una entidad federativa pueda ser menor de dos diputados de mayoría.',\n",
       " 'Propone que el Congreso tenga la facultad para expedir la ley general que establezca los principios y bases en materia, control y regulación de cannabis y sus derivados.',\n",
       " 'Incorpora a los menores de edad y las personas con discapacidad entre las víctimas a quienes se les otorgarán órdenes de protección. Establece que en los procedimientos relacionados a hechos probablemente constitutivos de delitos que impliquen violencia contra las mujeres, la autoridad competente deberá pronunciarse oficiosamente, sobre la pertinencia de la adopción de las órdenes de protección de menores de edad y personas con discapacidad, aun cuando estas no la soliciten.',\n",
       " 'Propone derogar el Capítulo Cuarto “Del Arraigo” ubicado en el Título Segundo de la Ley Federal Contra la Delincuencia Organizada para eliminar la figura de la prisión preventiva oficiosa ejercida por la autoridad judicial.',\n",
       " 'Propone que, en el nombramiento de las personas titulares de las Secretarías de Estado, el Presidente de la República observará en todo momento el principio de paridad de género.',\n",
       " 'Expide la Ley General para la Regulación y Control de la Cannabis. Indica que los contenidos de la Ley se aplicarán a la siembra, cultivo, cosecha, laboratorios de prueba, producción, transformación, etiquetado, empaquetado, almacenamiento, promoción, publicidad, transporte, distribución, venta, comercialización, portación, venta, comercialización, portación y consumo del cannabis y sus derivados. También establece las funciones de los organismos responsables de controlar y regular la industria del cannabis. Establece los lineamientos para su transformación artesanal e industrial, así como de almacenamiento, portación y consumo. Incluye bases para el etiquetado, promoción, publicidad, patrocinio, distribución, venta y consumo de productos derivados de cannabis. Indica que el autoconsumo excluye expresamente la venta, comercialización y distribución de la misma. Incorpora a la ley los productos de cannabis comestibles, productos comestibles del cannabis psicoactivo, productos farmacéuticos de cannabis, productos industriales de cannabis no psicoactivo, promoción y publicidad de los productos de cannabis psicoactivo, persona usuaria, reducción de riesgo y daño y el sistema de regulación y control. Indica que queda permitida la adquisición de semillas y plantas de cannabis, así como su plantación, transformación, almacenamiento, etiquetado, empaquetado, promoción, publicidad, transporte, distribución, comercialización y venta de cannabis y sus derivados con fines comerciales. Prohíbe toda forma de patrocinio como medio para posicionar cualquier producto de cannabis o sus derivados. Establece también que la publicidad y promoción de cannabis y sus derivados únicamente será dirigida a mayores de edad. Establece los requisitos que deberán cumplir los productos comestibles de cannabis, e integra las características de los productos derivados del cannabis.',\n",
       " 'Propone aplicar una pena de uno a tres años de prisión a quien difunda ideas basadas en la superioridad o en el odio racial, toda incitación a la discriminación racial, así como todo acto de violencia o toda incitación a cometer tales actos contra cualquier raza o grupo de personas de otro color u origen étnico, y toda asistencia a las actividades racistas, incluida su financiación. La misma pena se aplicará a quien participe en organizaciones que promuevan la discriminación racial e inciten a ella y a quien participe en actividades de propaganda.',\n",
       " 'Propone establecer la prisión preventiva oficiosa en los casos en que se cometan delitos de abuso o violencia sexual contra menores, robo de casa habitación, uso de programas sociales con fines electorales, corrupción tratándose de los delitos de enriquecimiento ilícito y ejercicio abusivo de funciones, robo al transporte de carga en cualquiera de sus modalidades, delitos en materia de hidrocarburos, petrolíferos o petroquímicos y delitos en materia de desaparición forzada de personas y desaparición cometida por particulares, delitos en materia de armas de fuego y explosivos de uso exclusivo del Ejército, la Armada y la Fuerza Aérea.',\n",
       " 'Propone que las licencias de portación de armas se podrán cancelar cuando no se reporte el extravío, robo, destrucción, aseguramiento o decomiso de estas armas, y de igual forma se sancionará este incumplimiento con una pena de dos a cinco años de prisión. La Secretaría de la Defensa Nacional elaborará un registro de armas extraviadas, robadas, destruidas, aseguradas o decomisadas.',\n",
       " 'Propone que el órgano jurisdiccional pueda ordenar que la prisión preventiva se ejecute en el domicilio de la persona imputada o, de ser el caso, en un centro médico o geriátrico, cuando esta persona sea una mujer jefa de familia. Para ello se entenderá mujer jefa de familia a la mujer que tenga a su cargo el cuidado personal de sus hijas o hijos que sean menores de dieciocho años o mayores que tengan alguna discapacidad, y que sea ella la única encargada de suministrar los recursos para su manutención.',\n",
       " 'Propone que se respete el principio de libertad sindical reconocido en el artículo 123 de la Constitución Política de los Estados Unidos Mexicanos y en los Convenios número 87 y 98, relativo a la libertad sindical y debida protección al derecho sindical de la Organización Internacional del Trabajo (OIT), que contempla el derecho de libre asociación, el derecho para redactar estatutos, el derecho para elegir libremente a sus representantes; y el derecho de organización interna.',\n",
       " 'Propone establecer como una de las funciones de la Junta Directiva de las comisiones, la de remover al Secretario Técnico, con la aprobación de la comisión.',\n",
       " 'Propone armonizar los artículos 26 y 73 de la Constitución Política de los Estados Unidos Mexicanos modificando la denominación de Distrito Federal por el de\\r\\nCiudad de México.\\r\\n',\n",
       " 'Propone que cuando se discuta una iniciativa de reformas o adicciones a la Constitución Política de los Estados Unidos Mexicanos o de alguna ley que implique la armonización de la legislación local, se convocará a las autoridades estatales y municipales, mediante la representación de los integrantes que éstas acuerden, con el objeto de conocer sus posicionamientos o aportaciones.',\n",
       " 'Propone que el Congreso se reunirá cuando el Presidente de la República inicie su encargo a partir del 1 de marzo para celebrar un segundo periodo de sesiones ordinarias. El segundo periodo ordinario no podrá prolongarse más allá del 30 de junio del mismo año.',\n",
       " 'Propone crear un registro de personas migrantes detenidas, con la intención de tener el control riguroso de las personas migrantes que son presentados en alguna estación migratoria derivado de las diligencias de verificación.',\n",
       " 'Propone que se sancione con una pena de 6 a 12 años de prisión y multa de 10 mil a 100 mil Unidades de Medida y Actualización, a quien explote laboralmente a una persona menor de dieciocho años.',\n",
       " 'Propone incorporar los siguientes delitos como causa de procedencia de prisión preventiva oficiosa: violencia sexual contra menores, feminicidio, robo de casa habitación, uso de programas sociales con fines electorales, corrupción tratándose de los delitos de enriquecimiento ilícito y ejercicio abusivo de funciones, robo al transporte de carga en cualquiera de sus modalidades, delitos en materia de hidrocarburos, petrolíferos o petroquímicos, delitos en materia de desaparición forzada de personas y desaparición cometida por particulares, así como delitos cometidos con medios violentos como armas y explosivos de uso exclusivo del Ejército.',\n",
       " 'Propone incluir dentro del plan de manejo de residuos peligrosos y los productos usados, caducos, retirados del comercio o que se desechen y que estén clasificados como tales en la norma oficial mexicana correspondiente, a las baterías eléctricas a base de litio.',\n",
       " 'Propone incorporar apoyos necesarios, en caso de necesitarlo, para que los senadores con discapacidad o algún problema de movilidad puedan emitir voto por cédula.',\n",
       " 'Propone incorporar la detección, prevención, tratamiento y seguimiento de cáncer de mama como materia de salubridad general. Establece que la mastectomía y mamoplastía reconstructiva, incluidas las prótesis de calidad, se consideren servicios básicos de salud. Añade los cuidados paliativos multidisciplinarios y los procedimientos reconstructivos, así como seguimiento físico y psicológico posterior, a las actividades de atención médica. Finalmente incorpora un Capítulo IX Ter, en el cual se establece que las instituciones públicas de salud deberán contar con programas y mecanismos para que las personas, preponderantemente de bajos recursos, puedan acceder de manera gratuita a las mastectomías y mamoplastías reconstructivas.',\n",
       " 'Propone eliminar la frase el “varón y la mujer” reformándola por “toda persona es igual ante la ley”. Así mismo homologa la palabra “personas” dentro del artículo 30 constitucional para que cualquier mexicano sea reconocido como persona por la Constitución.',\n",
       " 'Propone incorporar a la Conferencia Nacional de Gobernadores a la planeación democrática del desarrollo nacional y reconocerla como el espacio institucional permanente de vinculación, consulta, deliberación, diálogo y concertación de los estados y el Gobierno de la Ciudad de México con el Poder Ejecutivo Federal, con el propósito de atender las necesidades colectivas así como estimular, equilibrar y armonizar el crecimiento económico. Asimismo, que los programas y políticas públicas federales que tengan incidencia en las Entidades Federativas deberán adoptar los acuerdos de la Conferencia. Para tal efecto, el Ejecutivo Federal deberá considerar los acuerdos de la Conferencia en el Proyecto de Presupuesto de Egresos de la Federación, proveyendo lo necesario al efecto de su cumplimiento.',\n",
       " 'Propone impulsar una política adecuada para la recuperación de la transparencia del cielo, mediante la reducción importante de hasta el 50% del gasto para producir la energía eléctrica que suministra el alumbrado público, reglamentando el uso de luminarias adecuadas. Así mismo adiciona la definición expresa de “contaminación lumínica como aquella emisión de flujo luminoso que altera los niveles naturales de luz de la atmósfera, debido a fuentes artificiales nocturnas.”',\n",
       " 'La Ley señala como objeto, la extinción de dominio de bienes a favor del Estado y su procedimiento ordinario o abreviado. Establece las obligaciones de la persona titular de la Fiscalía Especializada y de las garantías y derechos de las personas afectadas, ofendidas, terceros y víctimas. Determina que la acción de dominio se ejercitará por el Fiscal Especializado a través de un proceso jurisdiccional de naturaleza civil y autónoma de la materia penal. Las medidas cautelares podrán consistir en: la prohibición para enajenarlos o gravarlos, la suspensión del poder de disposición, su retención, su aseguramiento y el embargo de bienes. Por último establece los mecanismos de denuncia, la preparación de la acción, el procedimiento, las notificaciones, las pruebas, los casos en que se podrá solicitar el procedimiento abreviado, la sentencia, los incidentes y recursos, así como la administración y monetización de los bienes producto de la extinción de dominio.',\n",
       " 'Propone que la Federación y las entidades federativas establezcan la existencia de un servicio de defensoría pública autónoma, para garantizar el acceso a servicios de defensa legal. Las condiciones laborales de los defensores serán equivalentes a las de la Fiscalía General de la República. La Defensoría Pública estará representada por la Defensora o el Defensor Público General, el cual durará en su cargo cinco años. Además, éste presentará anualmente un informe ante la Cámara de Senadores.',\n",
       " 'Expide la Ley de Fortalecimiento de la Confianza Cuidada.',\n",
       " 'Propone que los sujetos obligados del Poder Judicial Federal y de los poderes judiciales de las Entidades Federativas, deban publicar el texto íntegro de todas las sentencias.',\n",
       " 'Propone que los titulares de las unidades encargadas de la función de auditoría de la Secretaría de la Función Pública y de los órganos internos de control, en los meses de mayo y noviembre entregarán informes al titular de dicha Secretaría, sobre hallazgos en la gestión y recomendaciones en relación con las acciones correctivas, preventivas y oportunidades de mejora respecto de la calidad y eficiencia de los distintos procesos internos y sobre la relación de los procedimientos por faltas administrativas y de sanciones aplicadas por los orgános internos de control; las acciones de responsabilidad presentadas ante el Tribunal Federal de Justicia Administrativa y las sanciones correspondientes; las denuncias por hechos de corrupción que presenten ante la Fiscalía Especializada en Combate a la Corrupción; así como un informe detallado del porcentaje de los procedimientos iniciados por los órganos internos de control que culminaron con una sanción firme y a cuánto ascienden, en su caso, las indemnizaciones efectivamente cobradas durante el periodo del informe. La Fiscalía Especializada en Delitos Electorales presentará ante el Fiscal General y el Senado un informe anual sobre actividades sustantivas y sus resultados. Se instituye un Servicio Profesional de Carrera, en la Fiscalía General de la República, que será organizado con la finalidad de estimular el profesionalismo, la rectitud y la independencia técnica.',\n",
       " 'Propone que los contribuyentes obligados a pagar mediante declaración podrán optar por compensar las cantidades que tengan a su favor contra las que estén obligados a pagar por adeudo propio o por retención a terceros, cumpliendo con los siguientes requisitos:\\r\\n- Contar con opinión positiva de obligaciones fiscales.\\r\\n- Tener acceso al buzón tributario a través del Portal de Internet del Servicio de Administración Tributaria. De igual forma las autoridades fiscales podrán emitir reglas de carácter general para regular los requisitos señalados, atendiendo en todo momento al historial de cumplimiento de los contribuyentes.',\n",
       " 'La ley que se pretende expedir tendrá por objeto: Establecer las normas que deben de observar las autoridades para la creación, operación y mantenimiento del Registro Nacional de Detenciones. Crear los procedimientos para generar, almacenar, mantener, respaldar, acceder y modificar los datos que componen el registro. Regular los medios para la coordinación adecuada entre los tres ámbitos de gobierno y las distintas autoridades relacionadas. Todo lo anterior tendrá como base los principios, garantías y derechos consagrados en la Constitución, así como los Tratados Internacionales de los que el Estado Mexicano sea parte.',\n",
       " 'Se propone eliminar a las empresas productivas del Estado, en el párrafo que las incluye como sujetos de regulación, en cuanto a las remuneraciones que perciben sus servidores públicos, conforme a la fracción 11 del artículo Vigésimo Transitorio del Decreto de reforma Constitucional en materia de Energía. Los servidores públicos estarán obligados a reintegrar, dentro del plazo de los 30 días naturales, las cantidades que hubieren reportado a la unidad administrativa responsable por no corresponderles y, que esta última, haya acreditado la remuneración efectuada en términos excedentes y así se los notifique.\\r\\n',\n",
       " 'Propone establecer el término “etiqueta ecológica” definiéndolo como: Símbolo o colección de símbolos que se colocan en un producto para informar sobre su potencial de reciclado, así como sobre su disposición adecuada en términos de su composición química, de energía y tecnología, que requiere para su transformación o eliminación. El uso de esta etiqueta será obligatorio en los términos que determine la Secretaría de Medio Ambiente y Recursos Naturales.',\n",
       " 'La iniciativa tiene como propósito establecer, en el texto constitucional, que la educación será inclusiva y respetuosa de los Derechos Humanos.  El principio de inclusión tiene como propósito principal procurar la protección de derechos de las personas con discapacidad.',\n",
       " 'La iniciativa propone expedir la Ley General para Regular el Uso de la Fuerza.',\n",
       " 'La presente iniciativa tiene por objeto: \\r\\n1) Expedir una Ley Federal del Gobierno de Coalición para regular la formalidad, la integración, atribuciones y disposiciones del Gobierno de Coalición. \\r\\n2) Reformar la Ley Orgánica de la Administración Pública Federal para incorporar la Ley Reglamentaria en la materia.\\r\\n3) Reformar el Reglamento del Senado de la República para regular la ratificación del Convenio y Programa del Gobierno de Coalición y a los integrantes del Gabinete.\\r\\n4) Reformar el Reglamento de la Cámara de Diputados para establecer una sesión parlamentaria de control del Gobierno de Coalición.\\r\\n',\n",
       " 'Propone incorporar en el texto Constitucional, el derecho a una muerte digna, a través de los cuidados paliativos multidisciplinarios, ante enfermedades sin posibilidades de cura, limitantes o amenazantes a la vida, así como la utilización de los medicamentos controlados.',\n",
       " 'Propone adicionar un párrafo a Ley de Seguridad Nacional, sobre los actos ilícitos realizados contra el transporte ferroviario, reforma la Ley General de Vías de Comunicación para aumentar la pena de prisión y multa a los que dañen las vías generales de comunicación, a los medios de transporte o interrumpan la construcción de dichas vías.',\n",
       " 'La iniciativa propone que dentro de las causas de procedencia de las medidas cautelares se considere en aquellos delitos, donde se utilicen objetos que tengan la apariencia, forma o configuración de un arma de fuego o explosivos funcionales o no y que sirvan para amagar o intimidar a la víctima.',\n",
       " 'La iniciativa tiene como propósito adicionar un párrafo y seis fracciones al artículo 101 de la Ley General en Materia de Desaparición Forzada de Personas, Desaparición Cometida por Particulares y del Sistema Nacional de Búsqueda de Personas, con el objetivo establecer con claridad la participación del Instituto Nacional Electoral en la identificación de personas desaparecidas.',\n",
       " 'Propone adicionar los delitos en materia de hidrocarburos, petrolíferos o petroquímicos como delitos graves cometidos por servidores públicos y encubrimiento por receptación vinculado al robo de vehículos, en los supuestos dentro de los cuales se actualiza la figura de extinción de dominio. Crea además distintos procedimientos a fin de que el Estado pueda aprovechar de mejor forma los bienes que les fueron decomisados a los delincuentes. Faculta al Congreso de la Unión para expedir la Ley general en materia de extinción de dominio.',\n",
       " 'Se propone la desaparición de la Comisión Nacional de los Salarios Mínimos y la creación de un organismo constitucional autónomo del Estado, denominado Instituto Nacional del Salario Digno, que tendrá a su cargo realizar los estudios para determinar los salarios dignos general y profesionales, bajo los principios de acceso a la información, transparencia, objetividad, independencia y compromiso social.  En la iniciativa se propone que los salarios dignos sean anuales, pero el Instituto podrá acordar un ajuste en algún otro momento del año, en función del deterioro salarial sufrido por el incremento del costo de la vida.',\n",
       " 'Propone que las personas trabajadoras, jubiladas y pensionadas tengan derecho de realizarse anualmente en el Instituto de Seguridad y Servicios Sociales un estudio general de salud para la detección y diagnóstico oportuno de enfermedades.',\n",
       " 'Propone establecer que las personas jubiladas y pensionadas tendrán derecho a realizarse anualmente un estudio general de salud. En el caso de las personas trabajadoras tendrán el mismo derecho y gozarán de un permiso de un día al año con goce de sueldo íntegro para la realización de estudios que, de así desearlo, podrán realizarse en un instituto privado. La realización de estos estudios generales de salud tendrá como propósito la detección y diagnostico oportuno de enfermedades.',\n",
       " 'Propone que en el caso en donde las personas que sean susceptibles de encontrarse en una situación de desigualdad y exclusión debido a la presencia de una asignación social diferenciada de roles y tareas en virtud del sexo, género u orientación sexual que se traduzca en una disminución en sus oportunidades y derechos, las personas juzgadoras aplicarán la perspectiva de género en su quehacer jurisdiccional.',\n",
       " 'Propone establecer que la administración e impartición de justicia deberá contemplar la emisión de resoluciones con perspectiva de género en aquellos casos que así lo requieran.',\n",
       " 'Propone establecer que el alojamiento en las estaciones migratorias no podrá exceder de 36 horas; es decir, la propuesta disminuye de 15 días hábiles a 36 horas, con el propósito de resolver lo más pronto la situación migratoria de la persona extranjera.',\n",
       " 'Propone que se inscriba en Muro de Honor del Salón de Sesiones del Senado de la República en letras doradas, el nombre de “Gilberto Bosques Saldívar, defensor de la dignidad de las personas.',\n",
       " 'Propone establecer que en caso de urgencia manifiesta o caso extremo respecto a la integración del Pleno del Instituto la Presidencia del INAI podrá ser electo por el voto unánime de cuando menos cuatro integrantes del Pleno. En caso de que hasta en dos ocasiones no haya unanimidad para la elección de la presidencia se llevará a cabo una tercera ronda de votación y será electa la persona que obtenga la mayoría de votos.',\n",
       " 'Propone establecer que los gobiernos de las entidades federativas establecerán un Sistema de Alerta Temprana que permitan la identificación, evaluación y aviso de la ocurrencia de un fenómeno geológico de manera previa a su impacto. Este sistema de alerta debe contener la emisión de una alarma a través de medios auditivos y visuales.',\n",
       " 'Propone establecer que los proveedores deberán establecer medidas que garanticen a las personas con la condición del espectro autista realizar sus compras en un ambiente óptimo para ellas, tales como el establecimiento de un horario específico, con una hora como mínimo durante la semana, en el que se disminuya la intensidad de las luces y los ruidos, así como la cantidad de personal y personas proveedoras en los pasillos de los establecimientos.',\n",
       " 'Propone la regulación de armas; por ello, pretende que no se deba de expedir licencias a particulares o personas morales para la portación de armas elaboradas mediante la utilización de técnicas aditivas o tridimensionales. Tampoco se otorgarán permisos para la fabricación, reparación, transportación, almacenamiento, comercialización, importación, exportación o cualquier operación en la que intervengan armas, municiones, piezas, componentes, cartuchos o explosivos creados mediante la utilización de diversas técnicas.',\n",
       " 'Propone que la jornada diurna de trabajo sea de seis horas y la de trabajo nocturno de cinco. Asimismo, propone que, por cada cinco días de trabajo, la persona deberá disfrutar de cuando menos, dos días de descanso',\n",
       " 'Se propone prohibir la circulación por correo, los envíos o correspondencia que contengan sustancias suscritas por la ley, así como estupefacientes o psicotrópicos que se encuentren sancionados por la Ley General de Salud, con el fin de salvaguardar la salud de la población.',\n",
       " 'Propone dotar de atribuciones a las Entidades Federativas de emitir, y en su caso, modificar la legislación en materia de estacionamientos públicos, y así contemplar el uso obligatorio de paneles solares fotovoltaicos en las plazas o centros comerciales autorizados para la prestación de dichos servicios.',\n",
       " 'Propone incluir el concepto Residuos de Alimentos, ya que actualmente no es contemplado como un residuo de manejo especial por la norma vigente, así como hacerlo congruente en disposiciones de la Ley relativas al Plan de Manejo ya existentes.  Adicionalmente se propone reformas a la Ley Orgánica de la Administración Pública Federal y a la Ley General de Desarrollo Social a fin de que la Secretaría de Bienestar sea la autoridad competente para formular la Estrategia Nacional de Distribución de los excedentes alimenticios susceptibles de consumo humano seguro con fines de solidaridad social entre la población vulnerable, así como organizar y llevar el Registro Público de Convenios con Bancos de Alimentos. Para esto deberá coordinarse con la Secretaría de Medio Ambiente y Recursos Naturales y la Secretaría de Economía.\\r\\n',\n",
       " 'Propone establecer que los partidos políticos deberán considerar el principio de participación juvenil en las postulaciones de sus candidaturas.  Así mismo para la integración de ambas Cámaras del Congreso de la Unión deberá de considerarse este principio.\\r\\n',\n",
       " 'Propone que corresponda a las entidades federativas la emisión, y en su caso, modificar la legislación en materia de estacionamientos públicos, cuya regulación deberá contemplar el uso obligatorio de paneles solares fotovoltaicos en las plazas o centros comerciales autorizados para la prestación de dicho servicio atendiendo a sus instalaciones.',\n",
       " 'Propone la creación de una Comisión Bicameral para la Evaluación y Seguimiento de la Fuerza Armada permanente. Esta Comisión estará integrada por 10 senadores o senadoras y diez diputados o diputadas. Su Junta Directiva se integrará por una presidencia, dos vicepresidencias y dos secretarías electas por mayoría absoluta de sus miembros presentes, durará en su encargo un año y deberá alternarse entre senadores y diputados. Estará facultada para requerir informes que semestralmente debe presentar el Ejecutivo Federal al Congreso de la Unión respecto a las acciones realizadas por la Fuerza Armada Permanente en tareas de seguridad pública y analizarlos; emitir dictámenes y remitirlos a cada una de las Cámaras del Congreso para su discusión y aprobación. Asimismo para formular los indicadores que deberán contener dichos informes; podrá solicitar información adicional las Secretarías involucradas en materia de seguridad pública, citar a sus titulares así como a servidores públicos; evaluar si la Fuerza Armada ha cumplido con sus labores; señalar las Entidades Federativas donde deje de ser requerida su intervención; conocer y opinar respecto de las iniciativas y proposiciones relativas al funcionamiento, estructura y operatividad de la Fuerza Armada en esta materia; y emitir su propio reglamento. Esta Comisión deberá reunirse al menos una vez cada mes, previa convocatoria de la presidencia, que deberá emitirse con al menos 5 días de anticipación a su celebración, las reuniones deberán ser públicas; sin embargo, de manera excepcional a propuesta de cualquiera de sus integrantes y votación mayoritaria podrán ser privadas. Se contempla que las reuniones puedan ser extraordinarias, caso en el que deberán convocarse con al menos 48 horas de anticipación a petición de cualquier integrante. Por último, determina que las votaciones serán adoptadas por mayoría de votos, pero en caso de empate la presidencia tendrá voto de calidad.',\n",
       " 'Propone establecer una serie de permisos y derechos a las personas gestantes y así se garantice que en el centro de trabajo cuenten con un lugar adecuado, higiénico, privado, confortable, tranquilo y accesible para que tanto padres o madres puedan extraer y conservar leche materna, alimentar con biberón o amamantar a las y los lactantes.',\n",
       " 'Propone que los titulares de los derechos patrimoniales de autor y de los derechos conexos tendrán derecho irrenunciable a exigir una remuneración. Por ello, también se propone que el pago de la remuneración compensatoria por reproducción sea cubierto, de manera indistinta y solidaria, por los fabricantes o importadores de aparatos, dispositivos, soportes tecnológicos o cualquier otro que permita la copia o reproducción sonora, visual o audiovisual de obras conocidas o por conocerse, y será efectiva a través de la sociedad de gestión colectiva que corresponda. Además, se proponen diversos supuestos para que los sujetos obligados al pago de la remuneración compensatoria por reproducción puedan dentro del término de los noventa días posteriores al pago solicitar ante las Sociedades de Gestión Colectiva las acciones respectivas.',\n",
       " 'Propone establecer que los partidos políticos deberán considerar el principio de participación juvenil en las postulaciones de sus candidaturas. Así mismo para la integración de ambas Cámaras del Congreso de la Unión deberá de considerarse este principio.',\n",
       " 'Propone que toda persona tendrá el derecho de acceder a las técnicas de reproducción asistida.',\n",
       " 'Propone incluir el concepto de voluntad procreacional como la voluntad consensuada de las personas para ejercer su derecho a decidir de manera libre, responsable e informada sobre el número y el espaciamiento de sus hijos, ello a pesar de que entre el cónyuge varón y el menor no existan lazos genéticos.',\n",
       " 'Propone establecer que se podrán utilizar métodos de reproducción asistida como servicio para la planificación familiar, lo cual constituirá un derecho fundamental.',\n",
       " 'Propone establecer el derecho de los cónyuges a elegir el método de reproducción asistida que prefieran para lograr su propia descendencia; caso en el que no se podrá desconocer la paternidad de hijos o hijas que hayan sido concebidas mediante alguno de estos métodos cuando haya habido consentimiento expreso para su utilización. Existirá consanguineidad cuando se hayan utilizado estos métodos a excepción de la donación de células germinales, lo cual no generará consanguineidad.',\n",
       " 'Propone eliminar el tipo penal de cópula con persona mayor de quince años y menor de dieciocho a través de su consentimiento con engaños. Por lo anterior, se propone reclasificar el consentimiento de conformidad con el contexto de las circunstancias del hecho, estableciendo distintas consideraciones por el que deberá de entenderse que este pudo haber sido concedido. También se propone que, en un mismo acto, la persona podrá modificar o revocar el consentimiento dado, por lo que la expresión inicial no debe de presumirse o interpretarse como un consentimiento para todos los actos sexuales realizados. Se propone establecer que el delito de violación en todas sus manifestaciones se sancionará con prisión de ocho a veinte años. Además, se propone reestructurar el delito de violación por lo que refuerzan las penas y sanciones. Se establece que las relaciones sexuales entre adolescentes, mayores de catorce años, no serán punibles cuando no exista diferencia de edad mayor de tres años entre ambos, y cuando la persona adolescente mayor no esté en una posición asimétrica de poder hacia la persona menor. Se propone, además, incluir diversas causales por las que se podrá agravar las penas y sanciones para el tipo penal de abuso sexual y de violación. Por último, se propone que el delito de violación no estará sujeto a las reglas de la prescripción.',\n",
       " 'Propone como exclusión del delito la conducta que repela una agresión continuada o permanente en protección de bienes jurídicos propios o ajenos siempre que medie necesidad de la defensa. Esta causa de exclusión será aplicable para cuando la víctima prive de la vida a la persona agresora, siempre que se cumpla con algún supuesto contenido en la norma. Así mismo, especifica que las personas juzgadoras deberán aplicar la perspectiva de género en su quehacer jurisdiccional, en el caso de que las personas involucradas en un procedimiento penal sean susceptibles de encontrarse en una situación de desigualdad y exclusión porque existe una asignación social diferenciada de roles y áreas debido al género, sexo u orientación sexual.',\n",
       " 'Propone incluir en las facultades de la Comisión Nacional Bancaria y de Valores el establecer, integrar, organizar y mantener actualizado el Registro Nacional de Casas de Empeño. Además, se propone que la Comisión Nacional, sea la responsable de expedir el resto de las disposiciones de carácter general que sean necesarias para la operación del registro de casas de empeño, así como las causales de suspensión y cancelación de estos. Se propone establecer disposiciones que restringen el manejo de estas casas de empeño, a efecto de que no puedan ser socios, accionistas, administradores, directivos o representantes de casas de empeño, aquellos que hayan sido condenados por delitos.',\n",
       " 'Propone establecer que la Procuraduría Federal del Consumidor coordinará los trabajos de verificación y cumplimiento de calidad de los petrolíferos que se establezcan en las Normas Oficiales Mexicanas, que expida la Comisión Reguladora de Energía, para lo cual actuará de oficio en los términos del procedimiento previsto por la Ley Federal de Procedimiento Administrativo.',\n",
       " 'Propone establecer como atribución de la Procuraduría Federal del Consumidor, el vigilar y verificar el cumplimiento de las Normas Oficiales Mexicanas en materia de seguridad de las personas en relación con armas de réplica.',\n",
       " 'Se propone suprimir el requisito de denuncia o querella para solicitar orden de aprehensión; 2) se propone otorgar facultades para solicitar órdenes de cateo e intervención de comunicaciones por la policía para la investigación bajo los principios de proporcionalidad, necesidad, idoneidad, especialidad y justificación de las medidas; 3) se propone suprimir la eliminación del arraigo, como consecuencia de la eliminación del régimen de excepción de delincuencia organizada; 4) se propone establecer como obligación de que, en materia penal, los acuerdos derivados de los mecanismos alternativos de solución de controversias se autoricen en sede judicial; 5) se faculta al Congreso de la Unión a expedir la legislación nacional en materia de investigación del delito; 6) se propone suprimir el precepto de que la seguridad pública esté a cargo del titular del Ejecutivo federal en donde resida permanente o temporalmente; 7) se propone fortalecer los derechos laborales, en lo particular al personal de seguridad pública y procuración de justicia.',\n",
       " 'Propone establecer que la Secretaría de Trabajo y Previsión Social deberá promover el derecho de las personas con discapacidad al trabajo digno y con apego a los principios contenidos en la Convención sobre los Derechos de las Personas con Discapacidad. El Servicio Nacional de Empleo deberá de generar programas específicos de acceso efectivo al empleo para jóvenes, personas con discapacidad y demás grupos.',\n",
       " 'Propone establecer que la planeación deberá basarse en el principio de la inclusión de las personas con discapacidad.',\n",
       " 'Propone crear un nuevo ordenamiento jurídico que garantice a las personas usuarias de perros de asistencia con discapacidad visual, auditiva, física o trastornos del espectro autista, diabetes, epilepsia u otra que lo requiera, su ejercicio al libre ingreso y permanencia a cualquier lugar de acceso público. Se establecen las condiciones para el uso de perros de asistencia de las personas, los derechos y obligaciones de las personas usuarias y regula las actividades de adiestramiento cuidado y control. Los planes y programas dirigidos a este propósito serán coordinados por el Sistema Nacional para el Desarrollo Integral de la Familia con asesoría de la Federación Mexicana de Instituciones de Perros.',\n",
       " 'Propone imponer una pena de tres a seis años de prisión y una multa de quinientas a mil UMAS a la persona servidora pública que, por cualquier acto de difusión, entrega, revelación, publicación, fotografíe, comercialice, oferte, intercambie o comparta imágenes, videos, audio, de documentos, información reservada o de evidencias de hechos o indicios relacionados con el procedimiento penal o productos con uno o varios hechos señalados por la legislación como delitos.',\n",
       " 'Propone dotar de facultades al Congreso de la Unión para legislar en materia de servicios periciales, por lo que se establece en un apartado C dentro del artículo 102 constitucional la naturaleza jurídica de los servicios periciales y con ello, obligar a las constituciones locales a que se garantice la autonomía de estos servicios.',\n",
       " 'Propone establecer el apoyo a actividades productivas y el desarrollo sostenible de las comunidades indígenas; se deberá garantizar para todas las personas el acceso y uso equitativo sostenible de los recursos hídricos. El Estado deberá garantizar que el desarrollo rural sea integral y sostenible, así también se promoverá la competitividad con la implementación de una política nacional para el desarrollo industrial sostenible. El Congreso deberá observar el desarrollo sostenible de la actividad cooperativa en lo que se establezca en las normas en esa materia.',\n",
       " 'Se propone incorporar como categoría “el género y diversidad sexual” para que el premio nacional de la juventud, pueda ser entregado bajo esta distinción individualizada, sin necesidad de que sea contemplada únicamente como parte de la lucha por el respeto a los derechos humanos, toda vez que debe generarse una conciencia a la ciudadanía de la importancia de la comunidad LGBTIQ+.',\n",
       " 'Propone establecer que cuando se haya determinado prisión preventiva como medida cautelar y ya hayan transcurrido 2 años desde la determinación de esta, las personas juzgadoras deberán valorar su cese o prolongación.',\n",
       " 'Propone incluir como parte de las licencias laborales, a los padres, madres o tutores de menores de edad en tratamiento oncológico. Además, se propone establecer un leguaje igualitario en las disposiciones reformadas.',\n",
       " 'Propone establecer un sistema de medios de impugnación, los cuales deberán presentarse hasta 4 días después del acto o resolución impugnada, este sistema incluye su sustanciación y resolución. Especifica que la interposición de estos no tendrá efectos suspensivos sobre el acto o la resolución impugnado. También contempla un régimen sancionatorio en donde se imponen sanciones a quienes ignoren y realicen las prohibiciones constitucionales en materia de revocación de mandato.',\n",
       " 'Propone que se declare el 12 de abril de cada año como “Día Nacional de las Personas con Diferencia de Extremidades” a efecto de generar concientización sobre este tema en la ciudadanía y retomar esfuerzos para su atención.',\n",
       " 'Propone introducir a la legislación el reclutamiento ilícito de personas menores de 18 años, el cual se sancionará con pena de 10 a 20 años de prisión y aumentará en una mitad cuando el delito sea cometido por una persona servidora pública o que la persona reclutada tenga alguna discapacidad. Este delito podrá calificar como delincuencia organizada.',\n",
       " 'Propone cerrar la brecha digital y las desigualdades en la población, así como actualizar el concepto de educación inclusiva, para que, dentro de dicha Educación, se contemple el uso de las tecnologías de la información y la comunicación. Además, se propone reformar la fracción V. del artículo 12, para establecer que dentro de las acciones que ejecuta la Secretaría de Educación Pública se adicione la de realizar programas educativos a través de las tecnologías de la información y la comunicación, los cuales se sumarán a los que se transmiten actualmente por televisión pública o privada, nacional o local.\\r\\n',\n",
       " 'Propone establecer sanciones penales a aquellas personas que comercien ejemplares de fauna silvestre por medio de plataformas digitales o redes sociales.',\n",
       " 'Propone garantizar el consumo lúdico del cannabis psicoactivo, se implementarán las políticas, programas, planes y acciones permanentes que sean necesarios para que, respetando la libre determinación de las personas, se fomente la información basada en evidencia científica sobre los riesgos del consumo del cannabis psicoactivo, especialmente a personas mayores de veintiún años, así como a mujeres embarazadas y en periodo de lactancia, como medida de protección al derecho a la salud. Asimismo, incentivará el desarrollo sostenible, orientado al fomento de las actividades productoras del cannabis mediante la gestión de créditos.  Busca regular las asociaciones, clubes o grupos para el consumo del cannabis, toda vez que sólo podrán contar con lugares o establecimientos que cuenten con dispositivos de filtración y absorción de humos, gases y vapores, considerando una distancia mínima de quinientos metros entre estos y los lugares destinados a la vivienda, centros escolares, deportivos, culturales, recreativos y en general, cualquier lugar donde pudiera existir afectación por exposición de humo o sustancias producidas a causa del consumo del cannabis a niñas, niños y adolescentes. Se contemplan crear licencias para comercializar cannabis y sus productos, exclusivamente dentro de los establecimientos autorizados y se plantea la creación de un Instituto que rija la aplicación de las normas en materia de cannabis, denominado Instituto Mexicano para la Regulación y Control del Cannabis, como órgano desconcentrado de la Secretaría de Salud, se establece que dicho instituto  será el encargado de sancionar administrativamente, sin perjuicio de las penas que correspondan cuando sean constitutivas de delitos; las sanciones consistirán en multas que van desde veinte a tres mil Unidades de Medida y Actualización, suspensión temporal o definitiva de la licencia, la que podrá ser parcial o total, trabajo en favor de la comunidad y arresto hasta por treinta y seis horas.',\n",
       " 'Propone reformar el ordenamiento jurídico para actualizar la denominación de la Secretaría de Bienestar.',\n",
       " 'Propone reformar el ordenamiento jurídico para actualizar la denominación de la Secretaría de Bienestar.',\n",
       " 'Propone reformar el ordenamiento jurídico para actualizar la denominación de la Secretaría de Bienestar.',\n",
       " 'Propone reformar el ordenamiento jurídico para actualizar la denominación de la Secretaría de Bienestar.',\n",
       " 'Propone reformar el ordenamiento jurídico para actualizar la denominación de la Secretaría de Bienestar.',\n",
       " 'Propone reformar el ordenamiento jurídico para actualizar la denominación de la Secretaría de Bienestar.',\n",
       " 'Propone reformar el ordenamiento jurídico para actualizar la denominación de la Secretaría de Bienestar.',\n",
       " 'Propone reformar el ordenamiento jurídico para actualizar la denominación de la Secretaría de Bienestar.',\n",
       " 'Propone reformar el ordenamiento jurídico para actualizar la denominación de la Secretaría de Bienestar.',\n",
       " 'Propone reformar el ordenamiento jurídico para actualizar la denominación de la Secretaría de Bienestar.',\n",
       " 'Propone reformar el ordenamiento jurídico para actualizar la denominación de la Secretaría de Bienestar.',\n",
       " 'Propone reformar el ordenamiento jurídico para actualizar la denominación de la Secretaría de Bienestar.',\n",
       " 'Propone reformar el ordenamiento jurídico para actualizar la denominación de la Secretaría de Bienestar.',\n",
       " 'Propone reformar el ordenamiento jurídico para actualizar la denominación de la Secretaría de Bienestar.',\n",
       " 'Propone reformar el ordenamiento jurídico para actualizar la denominación de la Secretaría de Bienestar.',\n",
       " 'Propone reformar el ordenamiento jurídico para actualizar la denominación de la Secretaría de Bienestar.',\n",
       " 'Propone reformar el ordenamiento jurídico para actualizar la denominación de la Secretaría de Bienestar.',\n",
       " 'Propone reformar el ordenamiento jurídico para actualizar la denominación de la Secretaría de Bienestar.',\n",
       " 'Propone reformar el ordenamiento jurídico para actualizar la denominación de la Secretaría de Bienestar.',\n",
       " 'Propone reformar el ordenamiento jurídico para actualizar la denominación de la Secretaría de Bienestar.',\n",
       " 'Propone reformar el ordenamiento jurídico para actualizar la denominación de la Secretaría de Bienestar.',\n",
       " 'Propone reformar el ordenamiento jurídico para actualizar la denominación de la Secretaría de Bienestar.',\n",
       " 'Propone reformar el ordenamiento jurídico para actualizar la denominación de la Secretaría de Bienestar.',\n",
       " 'Propone reformar el ordenamiento jurídico para actualizar la denominación de la Secretaría de Bienestar.',\n",
       " 'Propone reformar el ordenamiento jurídico para actualizar la denominación de la Secretaría de Bienestar.',\n",
       " 'Propone reformar el ordenamiento jurídico para actualizar la denominación de la Secretaría de Bienestar.',\n",
       " 'Propone reformar el ordenamiento jurídico para actualizar la denominación de la Secretaría de Bienestar.',\n",
       " 'Propone reformar el ordenamiento jurídico para actualizar la denominación de la Secretaría de Bienestar.',\n",
       " 'Propone reformar el ordenamiento jurídico para actualizar la denominación de la Secretaría de Bienestar.',\n",
       " 'Propone reformar el ordenamiento jurídico para actualizar la denominación de la Secretaría de Bienestar.',\n",
       " 'Propone reformar el ordenamiento jurídico para actualizar la denominación de la Secretaría de Bienestar.',\n",
       " 'Propone reformar el ordenamiento jurídico para actualizar la denominación de la Secretaría de Bienestar.',\n",
       " 'Propone reformar el ordenamiento jurídico para actualizar la denominación de la Secretaría de Bienestar.',\n",
       " 'Propone reformar el ordenamiento jurídico para actualizar la denominación de la Secretaría de Bienestar.',\n",
       " 'Propone reformar el ordenamiento jurídico para actualizar la denominación de la Secretaría de Bienestar.',\n",
       " 'Propone reformar el ordenamiento jurídico para actualizar la denominación de la Secretaría de Bienestar.',\n",
       " 'Propone reformar el ordenamiento jurídico para actualizar la denominación de la Secretaría de Bienestar.',\n",
       " 'Propone reformar el ordenamiento jurídico para actualizar la denominación de la Secretaría de Bienestar.',\n",
       " 'Propone reformar el ordenamiento jurídico para actualizar la denominación de la Secretaría de Bienestar.',\n",
       " 'Propone reformar el ordenamiento jurídico para actualizar la denominación de la Secretaría de Bienestar.',\n",
       " 'Propone que durante el control de la detención de la o el imputado, la parte defensora pueda aportar datos de prueba, siempre que sea el momento en que se está resolviendo respecto de su legalidad en la audiencia inicial, o en su caso, no se requiera de preparación para hacerlo. Todo esto, con el propósito de que se garantice en todo momento la presunción de inocencia. Además, se propone establecer un lenguaje incluyente en la redacción del propio artículo.',\n",
       " 'Propone que se cuenten con protocolos para las personas trabajadoras que sufran algún tipo de violencia en razón de género y se les atienda conforme a los lineamientos que para tal efecto emita la Secretaría de Turismo en conjunto con la Secretaría de Gobernación.',\n",
       " 'Propone eliminar el supuesto que determina que la mujer no puede contraer matrimonio hasta pasados 300 días de la disolución del matrimonio anterior, a menos que diere a luz un hijo.',\n",
       " 'Propone que se garantice en todo momento el respeto a la dignidad humana e integridad de las mujeres, así como el interés superior de la niñez en la forma interna de convivencia y organización social de los pueblos y comunidades indígenas. Además, en el artículo 1 se propone sustituir la palabra \"otra\" por la de \"acto\" para especificar que los actos que atenten contra la dignidad humana se considerarán como discriminación.',\n",
       " 'Propone que cuando se investigue la muerte violenta de una mujer además de realizar las diligencias que se hacen en cualquier caso de esta índole, las autoridades investigadoras deberán de identificar de oficio la posible presencia de motivos o razones de género que hayan originado dicha muerte.',\n",
       " 'Propone adicionar un Capítulo II a la actual legislación con relación al apartado de las sanciones, con el propósito de aumentar diversas disposiciones las penas y multas referentes a la introducción de armas al territorio nacional, así como incluir el acopio, venta y uso de armas producto de tráfico ilegal de armas como agravantes de los delitos contemplados en la ley.',\n",
       " 'Propone establecer que el juez de control, en caso de comisión de delito grave, podrá dictar prisión preventiva cuando se utilicen objetos que tengan la apariencia o forma de un arma de fuego o de explosivos que sirvan para amagar a las víctimas.',\n",
       " 'Propone que sea declarado el 28 de junio de cada año el “Día Nacional de los Tamices Neonatales” con el objeto de homologar la concientización de la realización de esta prueba a nivel internacional con el objeto de sensibilizar al respecto y seguir trabajando por los derechos y la salud de las y los recién nacidos.',\n",
       " 'Propone derogar diversas porciones normativas de distintas disposiciones de la legislación vigente, con el objeto de no vulnerar los derechos humanos a la seguridad jurídica y a la legalidad toda vez que se establece que la acción de extinción de dominio podrá ser imprescriptible y rebasa el alcance que se le otorga a la figura de extinción de dominio en el texto constitucional, lo cual podría interpretarse como una inseguridad jurídica para el gobernado al no sujetar una limitación temporal. Por otra parte, propone derogar parte del cuerpo normativo en las que se hace referencia en que para establecer el ejercicio de la acción de extinción de dominio se sustenten en la información que recaba el Ministerio Público derivado de las investigaciones para la prevención de los delitos que realicen las autoridades respectivas, por lo que se propone suprimirlos en razón de que se vulnera el derecho a la seguridad jurídica y el principio de legalidad, al tratarse de información que se origina con motivo del ejercicio de acciones que no tienen un sustento constitucional, toda vez que la carta magna no prevé la posibilidad de realizar investigaciones para tal efecto. También propone el legislador eliminar las disposiciones que se hace mención en la legislación de otorgar una facultad al Ministerio Público de adoptar medidas, asegurar bienes y acceda a bases de datos de autoridades, en razón de que posibilita la afectación de derechos fundamentales de las personas vinculadas con los procedimientos de preparación de la acción y durante del proceso de extinción de dominio sin control judicial previo.',\n",
       " 'ÚNICO. La Comisión Permanente del H. Congreso de la Unión, en el ámbito de colaboración entre los poderes, exhorta respetuosamente a las Secretarías de Cultura y de Hacienda y Crédito Público, en coordinación con sus homólogas de las 32 entidades federativas, a continuar con las acciones emergentes en apoyo a la comunidad artística y cultural que se ha visto afectada por la contingencia sanitaria a causa del Covid-19; así como a profundizar las acciones de difusión de los apoyos a dicha comunidad, y a fomentar los apoyos para los artesanos y los artistas, en términos de la disponibilidad presupuestal.',\n",
       " 'PRIMERO. El Senado de la República exhorta a la Secretaría de Cultura, a través del Instituto Nacional de Bellas Artes y Literatura, para que informen a esta soberanía sobre el estado de avance de la clasificación y catalogación de los bienes pertenecientes al poeta mexicano Octavio lrineo Paz Lozano, en el Registro a que se refiere la Ley Federal sobre Monumentos y Zonas Arqueológicos, Artísticos e Históricos. SEGUNDO. El Senado de la República exhorta a la Secretaría de Cultura, a la Secretaría de Cultura del Gobierno de la Ciudad de México y al Sistema para el Desarrollo Integral de la Familia de la Ciudad de México, a remitir a esta soberanía un informe sobre las acciones realizadas por el grupo de trabajo conformado para conservar, preservar y clasificar la masa hereditaria como resultado de la declaración de intestado de la persona Marie José Tramini, así como el conjunto de bienes inmuebles y muebles que pasaron a la\\r\\nbeneficencia pública que, en su momento, pertenecieron también al Maestro Octavio Paz Lozano. TERCERO. El Senado de la República solicita respetuosamente a la Secretaría de Cultura del orden Federal de Gobierno, a la Secretaría de Cultura del Gobierno de la Ciudad de México y al Sistema para el Desarrollo Integral de la Familia de la Ciudad de México, informar sobre las medidas de seguridad llevadas a cabo para evitar la pérdida o extravío de los bienes que en vida fueron parte del patrimonio de Octavio Paz Lozano y Marie José Travini.\\r\\n',\n",
       " 'PRIMERO. Se exhorta a la Mesa Directiva de la Cámara de Senadores a destinar un espacio en los muros del Salón de Sesiones para inscribir, con letras de oro, la leyenda: \"Ramón López Velarde, poeta de la patria\", con motivo del centenario del aniversario luctuoso del escritor zacatecano, el19 de junio de 2021. SEGUNDO. Se solicita a la Mesa Directiva del Senado de la República realizar sesión solemne con motivo de la develación de la referida inscripción.',\n",
       " 'ÚNICO. La Comisión Permanente del Congreso de la Unión exhorta al Presidente Andrés Manuel López Obrador al fortalecimiento del Sistema Nacional de Protección Integral para Niñas, Niños y Adolescentes, a través de las acciones de política pública, programáticas y presupuestales que garanticen su funcionalidad y operatividad, respondiendo a las necesidades de las niñas, niños y adolescentes en México.',\n",
       " 'ÚNICO. La Comisión Permanente del Congreso de la Unión exhorta respetuosamente a la Secretaría del Trabajo y Previsión Social, al Sistema Nacional de Protección Integral de Niñas, Niños y Adolescentes y a la Procuraduría Federal de Protección de Niñas, Niños y Adolescentes, así como a las homólogas de dichas autoridades en las entidades federativas y los municipios, para que de manera coordinada y con base en sus atribuciones y competencias, fortalezcan las acciones para prevenir, erradicar y sancionar el trabajo infantil y el trabajo infantil forzado, especialmente en el sector agrícola, durante y después de la epidemia de enfermedad generada por el virus SARSCoV2 (COVID-19).\\r\\n',\n",
       " 'ÚNICO. La Comisión Permanente del H. Congreso de la Unión en el ámbito de colaboración entre los Poderes, solicita respetuosamente al titular de la Secretaria de Salud en colaboración con sus homólogas en las 32 entidades federativas, así como las instituciones especializadas en la atención de la salud mental y en colaboración con Organizaciones de la Sociedad Civil, en el marco del Programa Sectorial de Salud garanticen el acceso a los servicios de salud mental y apoyo psicológico bajo un enfoque integral y diferenciado para atender los trastornos mentales, en especial a personas que se han visto afectadas directa o indirectamente en el contexto de la pandemia por COVID-19.\\r\\n',\n",
       " 'ÚNICO. La Comisión Permanente del H. Congreso de la Unión, solicita respetuosamente al Titular del Ejecutivo Federal para que, por conducto de las Secretarías de la Seguridad y Protección Ciudadana, Defensa Nacional y de Marina, informe a este órgano de representación popular lo siguiente: 1. Las condiciones extraordinarias que motivan la intervención de la Fuerza Armada permanente en el cumplimiento específico y directo de funciones específicamente asignadas a la Guardia Nacional en el artículo 9 de la Ley que la rige, así como los términos para el establecimiento de acciones complementarias y subordinadas a las que realiza la Guardia Nacional. 2. Las previsiones que regulan y fiscalizan la intervención de la Fuerza Armada permanente en las tareas de seguridad pública asignadas a la Guardia Nacional. 3. El porcentaje de avance en la implementación de la estructura, desarrollo, capacidades e implantación territorial de la Guardia Nacional. Para tal efecto, se le solicita precise la información desagregada y actualizada a esta fecha, en función de lo dispuesto en el artículo 97 de la Ley de la Guardia Nacional. 4. La última actualización de las cifras de hechos delictivos reportados en el ámbito federal y de la competencia de las entidades federativas, desagregados por zonas geográficas de alta incidencia delictiva, nivel de gravedad de los delitos, tipología de las víctimas del delito, así como el registro, clasificación y reporte de los delitos con perspectiva de género. 5. La participación, hasta el detalle factible sin comprometer situaciones estratégicas y de seguridad del personal, de la Fuerza Armada permanente durante el primer año de la creación y conformación de la Guardia Nacional en tareas de seguridad pública a la luz de lo dispuesto por el artículo quinto transitorio del Decreto de reformas y adiciones a la Constitución General de la República en materia de Guardia Nacional. 6. La intervención de la Guardia Nacional en las actividades previstas en el artículo 9 de la Ley de esa institución, en relación con la eventual presencia de los integrantes de las Fuerzas Armadas durante el período comprendido entre la reforma constitucional que crea dicha institución y la fecha de esta solicitud. 7. El análisis y los estudios de que dispongan sobre la incidencia delictiva en el país y su repercusión en el deterioro de la seguridad pública y las previsiones de personal, equipamiento y distribución en el territorio nacional de la Guardia Nacional para cumplir con sus funciones constitucionales y el horizonte de tiempo previsto para el fortalecimiento de sus capacidades para dar cumplimiento a sus funciones. SEGUNDO. La Comisión Permanente del H. Congreso de la Unión, solicita al titular del Ejecutivo Federal, a que abrogue el Acuerdo por el que se dispone de la Fuerza Armada permanente para llevar a cabo tareas de seguridad pública de manera extraordinaria, regulada, fiscalizada, subordinada y complementaria, publicado en el DOF el 11 de mayo de 2020; y, que inicie un diálogo con el Poder Legislativo a fin de que se emita la iniciativa que expida la ley de la materia.',\n",
       " 'PRIMERO. El Senado de la República exhorta respetuosamente a las autoridades e instituciones públicas que pertenecen al Sistema Nacional de Salud a que en el ámbito de sus facultades lleven a cabo políticas y actividades necesarias para prevenir, detectar y atender la depresión posparto. SEGUNDO. El Senado de la República exhorta respetuosamente a la Secretaría de Salud a llevar a cabo la revisión y actualización de la Norma Oficial Mexicana \"NOM-007-SSA2-2016 para la atención de la mujer durante el embarazo, parto y puerperio y de la persona recién nacida.\", a fin de establecer de manera específica los mecanismos de prevención, detección, diagnóstico y atención de la depresión posparto.',\n",
       " 'PRIMERO. - El Senado de la República exhorta respetuosamente al Consejo Nacional de Ciencia y Tecnología a que, en el marco de sus facultades, genere esquemas y programas con el fin de aumentar el número de mujeres que participan en el Sistema NaCional de Investigadores. SEGUNDO.- El Senado de la República exhorta respetuosamente a las autoridades en todos los niveles de gobierno a que, en el ámbito de sus competencias, establezcan esquemas y lleven a cabo acciones, programas y campañas orientadas a fomentar el interés y la participación de niñas y adolescentes en las humanidades, las ciencias, la tecnología y la innovación, poniendo atención en las matemáticas y la ingeniería.',\n",
       " 'ÚNICO. El Senado de la República exhorta respetuosamente a la Secretaría de Educación Pública a: a) Implementar acc1ones de políticas públicas para brindar gratuitamente, en la medida de su capacidad presupuestaria, productos de higiene íntima a las niñas y adolescentes, en todos los niveles académicos, a fin de brindarles facilidades a quienes se encuentren en su etapa menstrual. b) Realizar, dentro del marco de sus atribuciones, campañas informativas, talleres, pláticas, entre otros; sobre salud e higiene durante la menstruación destinadas a niñas y adolescentes, así como a sus familias, en las instituciones educativas.',\n",
       " 'PRIMERO.- El Senado de la República exhorta a las Secretarías de Medio Ambiente y Recursos Naturales; de Hacienda y Crédito Público; de la Defensa; de Marina; y a la Fiscalía General de la República y a la Guardia Nacional, para que en el ámbito de sus competencias, lleven a cabo las actividades correspondientes para prevenir, investigar y sancionar la compra y venta de animales exóticos en las redes sociales, así como en los establecimientos que no cuentan con los permisos necesarios. SEGUNDO.- El Senado de la República exhorta respetuosamente a la Secretaría de Marina y a la Procuraduría Federal de Protección al Ambiente, para llevar a cabo las medidas necesarias para erradicar y prevenir el tráfico ilegal de animales exóticos en el territorio nacional, con el fin de asegurar la protección de éstas especies. TERCERO.- El Senado de la República exhorta respetuosamente a la Procuraduría Federal de Protección al Ambiente, a que realice y remita a esta Soberanía un informe que incluya el número de ejemplares, los tipos de especies exóticas que ha asegurado, así como su destino final.',\n",
       " 'ÚNICO: El Senado de la República exhorta respetuosamente a la Comisión de Salarios Mínimos a aumentar el salario mínimo para 2020  a 172.00 pesos con el fin de coadyuvar con los sectores empresarial y social en la recuperación del salario hacia un salario digno.',\n",
       " 'ÚNICO. El Senado de la República exhorta al Secretariado Ejecutivo del Sistema Nacional de Seguridad Pública y a las instancias competentes del Consejo Nacional de Seguridad Pública, a llevar a cabo las acciones necesarias para la modernización de la Red Nacional de Radiocomunicación, atendiendo a las disposiciones presupuestales, y a los principios de racionalidad presupuesta!, eficiencia, eficacia, imparcialidad, honradez y transparencia; de manera incluyente, transparente, que no ponga en riesgo la unidad y movilidad territorial de la red, y proteja el interés superior del Estado mexicano.',\n",
       " 'ÚNICO. El Senado de la República exhorta respetuosamente a la titular de la Secretaría de Medio Ambiente y Recursos Naturales en su carácter de Secretaria Técnica de la Comisión Nacional para el Conocimiento y Uso de la Biodiversidad (CONABIO), para que convoque de manera inmediata a una sesión plenaria de las secretarías que integran la Comisión Intersecretarial de la CONABIO, con el objeto de que se destinen los recursos presupuestales necesarios y suficientes para que la CONABIO continúe operando mientras se lleva a cabo el proceso de transformación a organismo público descentralizado. \\r\\n',\n",
       " 'PRIMERO. El Senado de la República exhorta respetuosamente a las dependencias de la Administración Pública Federal encargadas de la revisión del Acuerdo Regional sobre Acceso a la Información, la Participación Pública y el Acceso a la Justicia en Asuntos Ambientales en América Latina y el Caribe, adoptado en Escazú, Costa Rica, el 4 de marzo de 2018, a que envíen al Poder Ejecutivo Federal, a la brevedad, sus respectivas anuencias para continuar con el proceso de análisis y discusión de dicho Acuerdo Regional. SEGUNDO. El Senado de la República exhorta respetuosamente al Poder Ejecutivo Federal a que remita a esta Soberanía el Acuerdo Regional sobre Acceso a la Información, la Participación Pública y el Acceso a la Justicia en Asuntos Ambientales en América Latina y el Caribe, adoptado en Escazú, Costa Rica, el 4 de marzo de 2018, para proceder a su análisis y discusión con fundamento en la fracción I del artículo 76 de la Constitución Política de los Estados Unidos Mexicanos.',\n",
       " 'ÚNICO. El Senado de la República exhorta respetuosamente a la Secretaría de Educación Pública para que: a) Analice y en su caso incluya, en la elaboración de planes de estudio para la salud, el estudio de los cuidados paliativos y el tratamiento integral del dolor, y \\r\\nb) Analice y en su caso proponga -por la vía que considere pertinente, dentro del marco de la institucionalidad y con pleno respeto a la autonomía de las universidades a quienes las leyes les otorguen dicha calidad- y en general a las instituciones de educación superior públicas y privadas del país que imparten las carreras relacionadas con el área de la salud, a que incluyan en sus planes y programas de estudio, alguna asignatura relativa a los cuidados paliativos y el tratamiento integral del dolor.',\n",
       " 'ÚNICO.- El Senado de la República exhorta respetuosamente al Consejo Nacional de Ciencia y Tecnología para que brinde el apoyo a los estudiantes que participarán en la Olimpiada Nacional de Física, a realizarse en el mes de noviembre, en la ciudad de Villahermosa, Tabasco, en función de los recursos presupuestales de los que disponga la Institución.',\n",
       " 'PRIMERO. El Senado de la República reconoce que existe una emergencia climática en México y en el mundo, y expresa su compromiso de realizar las acciones necesarias para reducir las emisiones de gases efecto invernadero conforme a sus facultades constitucionales. El Senado de la República realizará de manera voluntaria las siguientes acciones:\\r\\na) Reducir las emisiones de gases efecto invernadero en los inmuebles adscritos\\r\\nal Senado de la República y alcanzar emisiones netas cero para 2023.\\r\\nb) Reducir el uso de papel, agua, y electricidad en todos sus inmuebles.\\r\\ne) Compensar la huella de carbono de los viajes que se realicen por avión o automóvil mediante el apoyo a proyectos que contribuyan a la conservación del ambiente.\\r\\nd) Eliminar progresivamente el uso de utensilios de plástico y unicel en sus instalaciones.\\r\\ne) Dar seguimiento a los avances en el cumplimiento de los compromisos de adaptación y mitigación que México estableció en el Acuerdo de París, así como a las metas de energías limpias señaladas en la Ley de Transición Energética.  SEGUNDO. El Senado de la República exhorta respetuosamente al Poder Ejecutivo Federal para que reconozca el caracter de urgencia y de emergencia climática y\\r\\necológica en México y en el mundo, adopte en el marco de sus facultades legales y reglamentarias, los planes, políticas, programas, estrategias, objetivos, metas y medidas urgentes necesarias para disminuir la vulnerabilidad e incrementar la capacidad de adaptación, reducir y controlar las emisiones de gases y compuestos de efecto invernadero, conforme a lo establecido por la Ley General de Cambio Climático, la Ley de Transición Energética y el Acuerdo de París. TERCERO. El Senado de la República exhorta respetuosamente al Poder Ejecutivo Federal para que realice las siguientes acciones:\\r\\na) Fortalecer la participación de las fuentes de energías renovables en el país;\\r\\nb) Proteger, nutrir y mejorar los suelos, las cuencas hídricas, bosques y mares sin que estos sean afectados, para que absorban los gases de efecto invernadero;\\r\\ne) Estimular una producción de alimentos sana, sostenible y culturalmente adecuada, fomentar el consumo responsable y local con la finalidad de reducir la huella de carbono, bajo modelos de producción ambientalmente eficientes y que contribuyan a alcanzar una economía circular de cero residuos.',\n",
       " 'ÚNICO. El Senado de la República del H. Congreso de la Unión exhorta respetuosamente a la Secretaria de Salud y a la Comisión Federal para la Protección contra Riesgos Sanitarios (COFEPRIS) a que expida de manera pronta el reglamento para el uso medicinal de la cannabis, atendiendo el amparo en revisión 57/2019 de la Suprema Corte de Justicia de la Nación.',\n",
       " 'PRIMERO.- Se exhorta respetuosamente a la Secretaría de Hacienda y Crédito Público a que emita un acuerdo por el que se le otorguen beneficios fiscales a los empresarios del sector turístico, específicamente en lo concerniente a apoyar la limpieza de sargazo en las playas afectadas. SEGUNDO.- Se exhorta respetuosamente a las autoridades del Estado de Quintana Roo a que que emitan un acuerdo por el que se le otorguen beneficios fiscales a los empresarios del sector turístico específicamente en lo concerniente a apoyar la limpieza de sargazo en las playas afectadas.\\r\\n',\n",
       " 'PRIMERO.- El Senado de la República exhorta respetuosamente a la Secretaría de Medio Ambiente y Recursos Naturales, a la Comisión Nacional Forestal, a la Procuraduría Federal de Protección al Ambiente y a las autoridades competentes en el Estado de México a combatir la tala clandestina en el Estado de México, particularmente en los municipios de alta incidencia, proveyendo de los elementos operativos, policiacos y técnicos suficientes para detener dicha problemática, así como la generación de proyectos productivos que le proporcionen a la población una opción de ingreso económico distinta a la tala ilegal. SEGUNDO.- El Senado de la República exhorta respetuosamente a la Fiscalía General de la República, a la Secretaría de Miedo Ambiente y Recursos Naturales, y a la Procuraduría Federal de Protección al Ambiente, que informen a esta Soberanía, en el ámbito de sus respectivas competencias, sobre los avances, planes y programas, así como las sanciones respectivas que se están implementando para frenar la tala ilegal, particularmente en los municipios de Ocuilan y Xalatlaco en el Estado de México.',\n",
       " 'PRIMERO. El Senado de la República reconoce la labor de la Comisión Nacional para el Conocimiento y Uso de la Biodiversidad como institución que, desde su creación, ha aportado información científica pertinente, certera y oportuna para la gestión sustentable del capital natural de México. SEGUNDO. El Senado de la República exhorta respetuosamente a la Comisión de Presupuesto y Cuenta Pública, de la Cámara de Diputados, para que en el dictamen relativo al Decreto de Presupuesto de Egresos de la Federación para el Ejercicio Fiscal 2020, se incrementen de forma considerable los recursos contemplados al sector ambiental y se asignen a la Comisión Nacional para el Conocimiento y Uso de la Biodiversidad los recursos económicos necesarios para garantizar su funcionamiento eficaz. TERCERO. El Senado de la República exhorta respetuosamente a los integrantes de la Comisión Intersecretarial para el Conocimiento y Uso de la Biodiversidad y a su Coordinador Nacional, para que de manera conjunta analicen y acuerden la figura jurídica más conveniente para el óptimo funcionamiento de dicha Comisión.',\n",
       " 'PRIMERO. El Senado de la República solicita a la Secretaría de Seguridad y Protección Ciudadana remitir a esta Soberanía un informe sobre las condiciones administrativas, número de efectivos, y duración de la asignación de personal adscrito a las divisiones de Fuerzas Federales y Gubernamentales en apoyo al Instituto Nacional de Migración. SEGUNDO. El Senado de la República solicita al Instituto Nacional de Migración remitir a esta Soberanía un informe que contenga el tipo de convenio y colaboración establecido con la Secretaría de Seguridad y Protección Ciudadana para que elementos de la Policía Federal colaboren en las tareas que realizan los Agentes Federales de Migración de esa institución.',\n",
       " 'ÚNICO. La Comisión Permanente del Congreso de la Unión exhorta respetuosamente al Poder Judicial de la Federación, a la Fiscalía General de la República, a la Comisión Nacional de Tribunales Superiores de Justicia de los Estados Unidos Mexicanos y la Conferencia Nacional de Procuradores a que remitan, de manera semestral, la información indispensable al congreso de la unión, a efecto de que las comisiones de justicia de ambas cámaras evalúen el funcionamiento y operatividad de las disposiciones contenidas en el Código Nacional de Procedimientos penales, conforme a lo establecido en el Artículo Décimo Tercero Transitorio del decreto por el que se expide el Código en mención, publicado en el Diario Oficial de la Federación el 5 de marzo de 2014.',\n",
       " 'ÚNICO.- La Comisión Permanente del Congreso de la Unión, exhorta respetuosamente, a Caminos y Puentes Federales de Ingresos y Servicios Conexos para que, en el ámbito de sus atribuciones, valore emitir disposiciones administrativas que permitan el libre peaje a los vehículos particulares que trasladen a pacientes médicos de emergencia utilizando los caminos y puentes federales de cuota, comprobando para ello con los documentos oficiales que proporcione el hospital o centro médico respecto de la situación que amerite dicho traslado.',\n",
       " 'PRIMERO.- La Comisión Permanente del Congreso de la Unión exhorta a los Congresos Estatales de la Ciudad de México, Veracruz, Querétaro, Baja California, Puebla, Hidalgo, Tabasco y Nayarit a remitir un informe a esta Soberanía sobre los avances en la implementación de sus legislaciones para prohibir el uso comercialización, distribución y entrega de plásticos desechables, así como sobre las alternativas al uso de plásticos que se les han facilitado a las pequeñas y medianas empresas. \\r\\n   \\r\\nSEGUNDO.- La Comisión Permanente del Congreso de la Unión exhorta a la Secretaría de Medio Ambiente y Recursos Naturales y a la Secretaría de Economía a elaborar y entregar un diagnóstico sobre el impacto del uso de plásticos desechables en la industria y las empresas mexicanas, y sobre el desarrollo actual de las alternativas a esta problemática.',\n",
       " 'PRIMERO. La Comisión Permanente del H. Congreso de la Unión, exhorta respetuosamente a la Fiscalía General del Estado de Morelos para que, en el ámbito de sus competencias, de celeridad al proceso de esclarecimiento en el caso de los trabajadores del centro federal de readaptación social femenil número 16, ocurridos el 10 de mayo de 2019.  SEGUNDO. La Comisión Permanente del H. Congreso de la Unión, exhorta respetuosamente a la Secretaría de Seguridad y Protección Ciudadana a que en el ámbito de sus respectivas atribuciones, fortalezca las acciones conducentes, a fin de brindar apoyo a las familias de los trabajadores asesinados en el centro federal de readaptación social femenil número 16.  TERCERO. La Comisión Permanente del H. Congreso de la Unión, exhorta respetuosamente a la Fiscalía General del Estado de Morelos y a los municipios integrantes de esa entidad federativa, a implementar planes de trabajo en materia de seguridad pública.  CUARTO. La Comisión Permanente del H. Congreso de la Unión, exhorta respetuosamente al Gobierno Federal para que, a través de la Secretaría de Seguridad y Protección Ciudadana, fortalezca los mecanismos de protección de los trabajadores de todos los penales federales',\n",
       " 'ÚNICO. La Comisión Permanente del Honorable Congreso de la Unión exhorta respetuosamente a la Secretaría de Hacienda y Crédito Público a que rinda a esta Soberanía, un informe pormenorizado, en un plazo de quince días hábiles, donde explique la situación que guarda el ejercicio del gasto público respecto del Presupuesto de Egresos de la Federación para 2019 e informe sobre la situación económica nacional.\\r\\n',\n",
       " 'PRIMERO.-Se exhorta al Ejecutivo Federal para incluir el tema de infancia como un eje transversal dentro del Plan Nacional de Desarrollo.  SEGUNDO.- Se exhorta a la Secretaría de Hacienda y Crédito Público para el efecto de destinar los recursos necesarios para garantizar los derechos de la infancia en la República.  TERCERO.- Se exhorta al Ejecutivo Federal para que a través de parlamento abierto se consideren las opiniones de la academia, organizaciones de la sociedad civil, gobierno en su conjunto y a las niñas, niños y adolescentes para que se elabore un plan acorde a las necesidades actuales de México, en materia de infancia.\\r\\n',\n",
       " 'PRIMERO. El Senado de la República exhorta respetuosamente a la Secretaría de Medio Ambiente y Recursos Naturales y al Fondo Nacional para el Turismo para que informen a esta Soberanía, sobre las medidas de prevención y mitigación de impacto ambiental que se están tomando y, las que se tomarán durante todo el proceso, para preservar las especies endémicas, así como la flora y fauna de las zonas en donde se construirá el Tren Maya. SEGUNDO. El Senado de la República exhorta respetuosamente a la Secretaría de Medio Ambiente y Recursos Naturales y al Fondo Nacional para el Turismo a que informen a esta Soberanía sobre: a) El porcentaje y el monto presupuestario que el proyecto del Tren Maya destinará para la preservación y protección ambiental;\\r\\nb) La procedencia pública y privada de dichos recursos;\\r\\ne) La información sobre el proceso de licitaciones que se han realizado para las distintas fases del proyecto.',\n",
       " 'PRIMERO.- Se exhorta al Gobierno Federal a impedir el cierre de las estancias infantiles derivado del recorte presupuestal anunciado por la Secretaria de Bienestar y avalado por la Secretaría de Hacienda.  SEGUNDO.- Se exhorta al Gobierno Federal a que se mantenga la aportación de recursos públicos en los términos previos al recorte.  TERCERO.- Se exhorta al Gobierno Federal para que establezca de manera temporal un plan de acceso inmediato para el cuidado y atención infantil por conducto del Instituto Mexicano del Seguro Social, la Secretaría de Educación Pública y el Instituto de Seguridad y Servicios Sociales de los Trabajadores del Estado y cualquier otra Dependencia de Gobierno que se encuentre en aptitud para hacerlo, para aquellas madres y padres que hayan perdido el acceso a las estancias infantiles subsidiadas por la Secretaría del Bienestar.  CUARTO.- Se exhorta al Gobierno Federal a que convoque de manera urgente al Consejo Nacional de Prestación de Servicios para la Atención, Cuidado y Desarrollo Integral Infantil para atender de manera inmediata el problema y en su caso proponer las acciones que eviten un daño superior a los derechos de las niñas y niños.  QUINTO.- Se exhorta a las autoridades que componen el Consejo Nacional a que presente un informe actualizado de las estancias infantiles en la República, así como una estrategia de atención y articulación para garantizar el servicio ininterrumpido, público, profesionalizado y especializado de atención infantil.\\r\\n',\n",
       " 'ÚNICO. El Senado de la República exhorta al titular del Poder Ejecutivo Federal a que con base en lo dispuesto en los artículos 76, fracción 1 y 89, fracción X de la Constitución Política de los Estados Unidos Mexicanos, a que remita a la brevedad el Convenio 189 de la Organización Internacional del Trabajo, referente al trabajo decente para las trabajadoras y los trabajadores domésticos, para efectos de que se lleve a cabo el proceso de ratificación establecido en la Constitución.',\n",
       " 'PRIMERO. El Senado de la República exhorta respetuosamente a las y los titulares del Ejecutivo Federal y de las treinta y dos entidades federativas a que, en el ámbito de sus atribuciones, fortalezcan las medidas de protección a periodistas y garanticen el pleno ejercicio del derecho a la libertad de expresión y prensa en todo el país. SEGUNDO.-El Senado de la República exhorta respetuosamente a los Titulares de la Secretaría de Gobernación, de la Secretaría de Seguridad y Protección Ciudadana, de la Fiscalía General de la República, de la Comisión Ejecutiva de Atención a Víctimas y a la Junta de Gobierno del Mecanismo de Protección de Personas Defensoras de Derechos Humanos y Periodistas a que en el ámbito de sus respectivas competencias, realicen las investigaciones necesarias para el esclarecimiento de los homicidios y agresiones que han sufrido los siguientes periodistas; Maximino Rodríguez, Rafael Murúa Manríquez, Martín Valtierra García, Jesús Ramos Rodríguez, Mario Leonel Gómez Sánchez y Montserrat Ortiz, así como se realicen las debidas reparaciones integrales de daños y se adopten las medidas cautelares y de protección necesarias para las víctimas directas e indirectas de estos lamentables delitos.  TERCERO.- El Senado de la República exhorta respetuosamente a la Secretaría de Hacienda y Crédito Público y a la Secretaría de Gobernación, para que garanticen los recursos suficientes al Fondo para la Protección de Personas Defensoras de Derechos Humanos y Periodistas, que permitan dar atención y continuidad a las medidas preventivas, de protección y urgentes de personas defensoras de derechos humanos y periodistas.',\n",
       " 'ÚNICO. - El Senado de la República exhorta respetuosamente a las Comisiones Unidas de Puntos Constitucionales y Educación de la H. Cámara de Diputados a considerar en la elaboración de su proyecto de dictamen al artículo tercero constitucional la inclusión de la educación inicial que fue eliminada sin justificación alguna en el proyecto presentado por el Presidente de la República.',\n",
       " 'PRIMERO.- El Senado de la República exhorta respetuosamente al Ejecutivo Federal para que a través de los titulares de las dependencias y entidades de la Administración Pública Federal, especificamente al Fondo Nacional de Desastres Naturales agilice la entrega de recursos al gobierno del estado de Nayarit y a los municipios afectados para que pueda llevar a cabo los procesos de reconstrucción sin afectar su estabilidad financiera y acelerar la recuperación de Acaponeta, Del Nayar, Huajicori, Rosamorada, Ruiz, Santiago Ixcuintla, Tecuala y Tuxpan. SEGUNDO.- Se exhorta al Senado de la República a instalar un centro de acopio para recolectar y entregar ayuda humanitaria a las personas afectadas por el paso del Huracán\\r\\nWilla.',\n",
       " 'ÚNICO. El Senado de la República exhorta respetuosamente al Ejecutivo Federal para que, a través de las secretarías de Gobernación y de Hacienda y Crédito Público, liberen de inmediato los recursos del Fondo de Desastres Naturales previstos en la Declaratoria de Desastre Natural por la presencia de lluvia severa e inundación fluvial ocurridas en 8 municipios del Estado de Nayarit, por la presencia de lluvia severa e inundación fluvial ocurrida el día 24 de octubre de 2018, así como a llevar a cabo las acciones para reinsertar a la población en su dinámica social y económica después del desastre, incluyendo la reparación de los daños y la promoción del desarrollo en los municipios severamente afectados.',\n",
       " 'ÚNICO. -Se exhorta al Titular de la Secretaría de Hacienda y Crédito Público para que en uso de sus atribuciones, incorpore en el Proyecto de Presupuesto de Egresos de la Federación para el ejercicio fiscal 2019, los recursos suficientes para las instituciones que promueven y defienden los derechos humanos en México, tal y como son: la Comisión Nacional de los Derechos Humanos, la Comisión Ejecutiva de Atención a Víctimas, la Subsecretaría de Derechos Humanos de la Secretaría de Gobernación, la Subprocuraduría de Derechos Humanos, Prevención del Delito y Servicios a la Comunidad de la Procuraduría General de la República, la Subsecretaría para Asuntos Multilaterales y Derechos Humanos de la Secretaría de Relaciones Exteriores y ponga especial énfasis en los recursos que se asignan al Mecanismo de Protección para Personas Defensoras de Derechos Humanos y Periodistas, así como a la Comisión Nacional de Búsqueda.',\n",
       " 'PRIMERO.- El Senado de la República exhorta a la Comisión Nacional del Agua, para que garantice los recursos técnicos, económicos, financieros, de planeación y abasto necesarios para afrontar el corte de agua sin precedente del 100 % del sistema Cutzamala, programado para finales de octubre y principios de noviembre de este año, derivado de la afectación grave a cerca de 8 millones de personas en la Ciudad de México y el Estado de México.  SEGUNDO.- El Senado de la República exhorta a la Comisión Nacional del Agua a que de manera inmediata provea a este Pleno, de los informes técnicos de riesgo y mejora a realizar, sobre el que se motiva la suspensión de suministro de agua a la Ciudad de México y el Estado de México sin precedente y que permitirán dar cuenta de los trabajos programados y realizados.  TERCERO.- El Senado de la República exhorta a la Comisión del Agua a que instrumente un plan con las acciones de previsión urgente en el suministro del vital líquido durante los días de cierre; económicos, financieros, de información oportuna a la población y de coordinación eficiente con las entidades afectadas, dando prioridad a las zonas en razón del nivel de dependencia y vulnerabilidad que tienen con el sistema Cutzamala. CUARTO.- El Senado de la República exhorta al Jefe de Gobierno de la Ciudad de México, José Ramón Amieva Gálvez y a las alcaldesas y alcaldes de la Capital, para que se tomen las medidas necesarias para que ninguna autoridad lucre con la distribución y entrega de pipas en la Ciudad, durante los recortes anunciados. QUINTO.- El Senado de la República exhorta a la Procuraduría Federal del Consumidor a que vigile la dotación gratuita de agua en el Valle de México durante los recortes al suministro próximo, y en su caso aplique las sanciones a que haya lugar.  SEXTO.- El Senado de la República exhorta a los Ayuntamientos del Estado de México y a las Alcaldías de la Ciudad de México, para que distribuyan el agua necesaria de manera gratuita a la población que se vea afectada por los recortes al suministro.',\n",
       " 'ÚNICO. El Senado de la República exhorta al gobierno federal y la Comisión Nacional de los Salarios Mínimos, a establecer conforme a sus atribuciones, las bases y los elementos para fijar un salario mínimo de 176.72 pesos a nivel nacional a partir de enero de 2019, que pueda garantizar una vida digna para todas las trabajadoras y trabajadores del país y de sus familias.',\n",
       " 'PRIMERO.- El Senado de la República exhorta respetuosamente a la Secretaría de Hacienda y Crédito Público, para que garantice los recursos suficientes al Fondo para la Protección de Personas Defensoras de Derechos Humanos y Periodistas, que permitan dar continuidad a las medidas preventivas, de protección y urgentes de personas defensoras de derechos humanos y periodistas, en tanto recibe la ministración relativa al ejercicio fiscal 2019. SEGUNDO.- El Senado de la República solicita respetuosamente a la Secretaría de Gobernación un informe pormenorizado sobre la ejecución de todos los recursos ejercidos en el Fondo para la Protección de Personas Defensoras de Derechos Humanos y Periodistas durante el ejercicio fiscal2018. TERCERO.- El Senado de la República exhorta respetuosamente a la Secretaría de Hacienda y Crédito Público, para que en el Proyecto de Presupuesto de Egresos de la Federación 2019, se asignen a la Secretaría de Gobernación recursos económicos suficientes para la operación del Fondo para la Protección de\\r\\nPersonas Defensoras de Derechos Humanos y Periodistas. CUARTO.- El Senado de la República exhorta respetuosamente a la Comisión de Presupuesto y Cuenta Pública de la Cámara de Diputados del H. Congreso de la Unión, a que en el Presupuesto de Egresos de la Federación 2019 se asigne a la Secretaría de Gobernación recursos económicos suficientes para la operación del Fondo para la Protección de Personas Defensoras de Derechos Humanos y Periodistas. Dichos recursos deben ser utilizados en su totalidad en medidas de protección a defensoras y defensores de derechos humanos y periodistas en riesgo.',\n",
       " 'PRIMERO. - Llevar a cabo junto con la H. Cámara de Diputados, la ceremonia de izamiento de la bandera nacional a media asta en el zócalo capitalino, el 2 de octubre de 2018.  SEGUNDO.- Realizar con la Colegisladora, las acciones de homenaje en conjunto.  TERCERO.- La develación de una placa en memoria de las mujeres y hombres que lucharon por las libertades democráticas en 1968.',\n",
       " 'PRIMERO. La Comisión Permanente del H. Congreso de la Unión, formula un atento y respetuoso exhorto al Servicio de Administración Tributaria, a que facilite todos los elementos y procedimiento necesarios que les permitan a las Asociaciones Religiosas, realizar el pago de sus contribuciones en tiempo y forma con la presentación de declaración de impuestos mensuales, anuales y demás. SEGUNDO. La Comisión Permanente del H. Congreso de la Unión, formula un atento y respetuoso exhorto a la Secretaría de Gobernación, a que se establezca una mesa interinstitucional de trabajo y análisis donde se puedan revisar todas aquellas facilidades administrativas fiscales y reformas en materia de asociaciones religiosas y culto público, considerando las propuestas expuestas en el cuerpo del punto de acuerdo, mismas que puedan traducirse en reformas legales. TERCERO. La Comisión Permanente del H. Congreso de la Unión, formula un atento y respetuoso exhorto a la Comisión Nacional Bancada y de Valores, para que se organice una reunión de trabajo con lideres del sector religioso, para definir la ruta, mecanismos y acuerdos que permitan generar un compromiso institucional para generar un producto financiero que le ayude a las Asociaciones Religiosas contratar la apertura de cuentas bancadas.\\r\\n',\n",
       " 'ÚNICO. El Senado de la República exhorta respetuosamente a la Secretaría de Salud\" a sus homologas en las 32 entidades federativas y al Centro Nacional de Trasplantes a continuar reforzando de manera permanente las campañas publicitarias e informativas, para concientizar a la población sobre la importancia de la donación de órganos.',\n",
       " 'PRIMERO. El Senado de la República exhorta a la Secretaría de Cultura a fortalecer las medidas de protección y preservación de los murales y esculturas que se encuentran en las que fueron oficinas de la Secretaría de Infraestructura, Comunicaciones y Transportes conocido como \"Centro SCOP\" . SEGUNDO. El Senado de la República exhorta a la Secretaría de Cultura para que, en coordinación con el Instituto Nacional de Bellas Artes y Literatura, realicen mesas de diálogo con el Instituto de Investigaciones Estéticas de la Universidad Nacional Autónoma de México a fin de escuchar sus propuestas para consolidar un programa integral de conservación dei\"Centro SCOP\". TERCERO. El Senado de la República exhorta a la Secretaría de Cultura para que, en coordinación con el Instituto Nacional de Bellas Artes y Literatura, remitan a esta Soberanía un informe sobre los avances en el expediente de la declaratoria dei\"Centro SCOP\" como monumento artístico.',\n",
       " 'ÚNICO. El Senado de la República exhorta respetuosamente a las personas titulares de las Secretarías de Medio Ambiente y Recursos Naturales y de Turismo; de la Procuraduría Federal de Protección al Ambiente; del Instituto Nacional de Antropología e Historia; y del Fondo Nacional de Fomento al Turismo; para que comparezcan ante la Comisión de Medio Ambiente, Recursos Naturales y Cambio Climático de esta Soberanía, e informen sobre el desarrollo del Proyecto del Tren Maya.',\n",
       " 'PRIMERO. El Senado de la República exhorta respetuosamente a la Comisión Nacional de Cultura Física y Deporte a que considere el carácter que tiene la Federación Mexicana de Deportes Sobre Silla de Ruedas, A.C. como asociación deportiva nacional. SEGUNDO. El Senado de la República exhorta respetuosamente a la Comisión Nacional de Cultura Física y Deporte a que considere la viabilidad de otorgarle a la Federación Mexicana de Deportes Sobre Silla de Ruedas, A.C. los recursos que le pudieran corresponder por su carácter de asociación deportiva nacional. TERCERO. El Senado de la República exhorta respetuosamente a la Comisión Nacional de Cultura Física y Deporte a que considere la viabilidad de otorgarle oportunamente a la Federación Mexicana de Deportes Sobre Silla de Ruedas, A.C., los recursos necesarios para encontrarse en aptitud de acudir a la Copa de las Américas de Basquetbol a celebrarse en la ciudad de Sao Paulo, Brasil en el mes de junio, así como a los demás eventos deportivos en los que pudieran participar este año.\\r\\n',\n",
       " 'ÚNICO. El Senado de la República exhorta respetuosamente a la Secretaría de Educación Pública a incorporar en sus planes de estudio la prevención, atención, educación y cultura enfocada al bienestar animal, sobre todo en aquellos planes destinados para la educación básica, esto con el fin de concientizar a las niñas, niños y adolescentes de las responsabilidades que se adquieren al tener un animal de compañía.',\n",
       " 'ÚNICO. El Senado de la República exhorta respetuosamente a las legislaturas de los Congresos de Baja California, Baja California Sur, Chiapas, Colima, Estado de México, Guerrero, Hidalgo, Jalisco, Oaxaca, Quintana Roo, Sonora, Tabasco, Tlaxcala, Veracruz y Zacatecas, a derogar el delito de ultrajes a la autoridad, o cualquier otro delito homólogo existente en el marco normativo penal de sus entidades.',\n",
       " 'ÚNICO.- El Senado de la República otorga un reconocimiento póstumo al señor Enrique Corcuera (fallecido en 1999), un reconocimiento en vida a la señora Viviana Corcuera y al señor notario público Ignacio Soto Borja y Anda, por la creación y difusión del pádel como deporte originariamente de México.',\n",
       " 'PRIMERO. El Senado de la República exhorta respetuosamente a la Secretaría de Relaciones Exteriores, a la Secretaría de Cultura y al Instituto Nacional de Antropología e Historia a continuar con los esfuerzos para lograr la restitución de los monumentos arqueológicos e históricos sustraídos de manera ilícita en el territorio nacional. SEGUNDO. El Senado de la República solicita respetuosamente al Instituto Nacional de Antropología e Historia a fortalecer los trabajos de registro y catalogación de monumentos muebles arqueológicos e históricos de propiedad nacional, a efecto de contribuir a su protección y restitución en casos de robo, sustracción ilícita y exportación ilegal para fines de comercialización en otros países. TERCERO. El Senado de la República solicita respetuosamente a la Fiscalía General de la República combatir con mayor determinación, en colaboración con el Instituto Nacional de Antropología e Historia, el robo, sustracción y exportación ilegal de bienes muebles arqueológicos y de bienes muebles históricos propiedad de la Nación.',\n",
       " 'ÚNICO. El Senado de la República exhorta respetuosamente a las legislaturas de los Congresos de Baja California, Baja California Sur, Chiapas, Colima, Estado de México, Guerrero, Hidalgo, Jalisco, Oaxaca, Quintana Roo, Sonora, Tabasco, Tlaxcala, Veracruz y Zacatecas, a derogar el delito de ultrajes a la autoridad, o cualquier otro delito homólogo existente en el marco normativo penal de sus entidades.',\n",
       " 'PRIMERO. El Senado de la República exhorta respetuosamente a la Secretaría de Medio Ambiente y Recursos Naturales y a la Comisión Nacional de Áreas Naturales Protegidas, para que actualicen, generen y/o refuercen las políticas públicas y medidas necesarias para proteger y conservar al Jaguar (Panthera onca) y su hábitat, así como para disuadir y sancionar su cacería de conformidad con las leyes en la materia. SEGUNDO. El Senado de la República exhorta respetuosamente a la Secretaría de Medio Ambiente y Recursos Naturales y a la Procuraduría Federal de Protección al Ambiente, para que remitan a esta Soberanía un informe sobre el estado de conservación del Jaguar, así como las acciones que se están realizando para disminuir la cacería furtiva del jaguar en México. TERCERO. El Senado de la República exhorta respetuosamente a la Secretaría de Medio Ambiente y Recursos Naturales, a la Comisión Nacional de Áreas Naturales Protegidas y a la Procuraduría Federal de Protección al Ambiente para que, de manera coordinada y en el ámbito de sus competencias impulsen las acciones necesarias junto con las instituciones académicas, las organizaciones de la sociedad civil y las comunidades para actualizar el Censo Nacional del Jaguar. CUARTO. El Senado de la República exhorta, respetuosamente, a la Secretaría de Medio Ambiente y Recursos Naturales y a sus homólogas en los estados de Durango y de Sinaloa; a la Comisión Nacional de Áreas Naturales Protegidas, a la Procuraduría Federal de Protección al Ambiente; para tomar acciones inmediatas con la finalidad de proteger la población de jaguares y brindar apoyo a al sector ganadero para evitar los conflictos jaguar-humano que terminan en la caza de esta especie en peligro de extinción, con especial atención en las comunidades del municipio de Tamazula en Durango y a los municipios colindantes en el estado de Sinaloa.',\n",
       " 'PRIMERO. El Senado de la República exhorta respetuosamente a la Secretaría de Medio Ambiente y Recursos Naturales, y a las y los titulares del Poder Ejecutivo de las 32 entidades federativas, para que con base en sus facultades desarrollen e implementen:  a) Campañas integrales de concientización del cuidado responsable de los animales de compañía;\\r\\nb) Campañas permanentes de esterilización gratuita o de bajo costo, de vacunación, de adopción y de rescate de animales;\\r\\ne) Campañas para atender el abandono de animales de compañía en el territorio nacional, el cual se ha incrementado de manera exponencial durante el confinamiento por la pandemia del Covid-19. Así como informar a la población sobre las implicaciones del Covid-19 en los animales de compañía.\\r\\nd) Campañas informativas para incentivar la denuncia de maltrato animal. SEGUNDO. El Senado de la República reconoce a los Centros Educativos y Organizaciones Civiles, por su labor en favor de la protección de los animales domésticos que actualmente resguardan, y protegen en sus instalaciones; así como por realizar programas de esterilización gratuitas o de bajo costo.',\n",
       " 'PRIMERO. El Senado de la República exhorta respetuosamente a los congresos locales de las 32 entidades federativas a analizar, legislar y reformar los ordenamientos jurídicos locales, con el fin de establecer modelos de sustitución de transporte público como es el caso de autobuses o trenes y de transporte privado tipo taxi por vehículos de bajas o cero emisiones. SEGUNDO. El Senado de la República exhorta respetuosamente a la Comisión Reguladora de Energía a establecer lineamientos para incentivar el desarrollo de estaciones de carga para carros eléctricos, con el fin de asegurar el abasto para las personas usuarias o propietarias de estos vehículos. TERCERO. El Senado de la República exhorta respetuosamente a las entidades federativas para que, a través de sus autoridades municipales y locales, establezcan los marcos jurídicos necesarios para que los servicios de transporte privado que funcionan a través de plataformas o aplicaciones digitales establezcan una estrategia de transición hacia un modelo de bajas emisiones, sin afectar los derechos de quienes actualmente prestan el servicio.  CUARTO. El Senado de la República exhorta respetuosamente a la Secretaría de Comunicaciones y Transportes a elaborar un Plan de Transición Gradual hacia la movilidad eléctrica, con el fin de apoyar a aquellas personas usuarias de transportes públicos o particulares que busquen adquirir un vehículo eléctrico. QUINTO. El Senado de la República exhorta respetuosamente a la Secretaría de Hacienda y Crédito Público y a sus homólogas en las 32 entidades federativas, a establecer incentivos fiscales para las personas usuarias de transportes públicos o particulares que utilicen o posean un vehículo eléctrico.']"
      ]
     },
     "execution_count": 10,
     "metadata": {},
     "output_type": "execute_result"
    }
   ],
   "source": [
    "#Example\n",
    "senators['initiative_list'][35]"
   ]
  },
  {
   "cell_type": "code",
   "execution_count": 11,
   "id": "96710816",
   "metadata": {},
   "outputs": [],
   "source": [
    "#Function that performs the summary by row\n",
    "def summarizeRow(prop_inc_t, resumentList, inputsList):\n",
    "    for parag in prop_inc_t:\n",
    "        inputs = tokenizer.encode(parag, return_tensors=\"pt\", max_length=511, truncation=True)\n",
    "        inputsList.append(inputs)\n",
    "        resumen = model.generate(\n",
    "            inputs, \n",
    "            max_length=250,\n",
    "            min_length=5, \n",
    "            length_penalty=2.0, \n",
    "            num_beams=6, \n",
    "            early_stopping=True)\n",
    "        resumentList.append(tokenizer.decode(resumen[0]))"
   ]
  },
  {
   "cell_type": "code",
   "execution_count": 12,
   "id": "5ca3ac18",
   "metadata": {},
   "outputs": [
    {
     "name": "stderr",
     "output_type": "stream",
     "text": [
      "2023-07-15 08:17:24.408104: I tensorflow/core/platform/cpu_feature_guard.cc:193] This TensorFlow binary is optimized with oneAPI Deep Neural Network Library (oneDNN) to use the following CPU instructions in performance-critical operations:  AVX2 FMA\n",
      "To enable them in other operations, rebuild TensorFlow with the appropriate compiler flags.\n",
      "2023-07-15 08:17:25.193124: W tensorflow/stream_executor/platform/default/dso_loader.cc:64] Could not load dynamic library 'libcudart.so.11.0'; dlerror: libcudart.so.11.0: cannot open shared object file: No such file or directory\n",
      "2023-07-15 08:17:25.193184: I tensorflow/stream_executor/cuda/cudart_stub.cc:29] Ignore above cudart dlerror if you do not have a GPU set up on your machine.\n",
      "2023-07-15 08:17:25.252543: E tensorflow/stream_executor/cuda/cuda_blas.cc:2981] Unable to register cuBLAS factory: Attempting to register factory for plugin cuBLAS when one has already been registered\n",
      "2023-07-15 08:17:28.401226: W tensorflow/stream_executor/platform/default/dso_loader.cc:64] Could not load dynamic library 'libnvinfer.so.7'; dlerror: libnvinfer.so.7: cannot open shared object file: No such file or directory\n",
      "2023-07-15 08:17:28.402017: W tensorflow/stream_executor/platform/default/dso_loader.cc:64] Could not load dynamic library 'libnvinfer_plugin.so.7'; dlerror: libnvinfer_plugin.so.7: cannot open shared object file: No such file or directory\n",
      "2023-07-15 08:17:28.402032: W tensorflow/compiler/tf2tensorrt/utils/py_utils.cc:38] TF-TRT Warning: Cannot dlopen some TensorRT libraries. If you would like to use Nvidia GPU with TensorRT, please make sure the missing libraries mentioned above are installed properly.\n"
     ]
    }
   ],
   "source": [
    "resumentList_2 = []\n",
    "inputsList_2 = []\n",
    "\n",
    "summarizeRow(senators['initiative_list'][0], resumentList_2, inputsList_2)"
   ]
  },
  {
   "cell_type": "code",
   "execution_count": 13,
   "id": "19bd4c14",
   "metadata": {},
   "outputs": [
    {
     "data": {
      "text/html": [
       "<div>\n",
       "<style scoped>\n",
       "    .dataframe tbody tr th:only-of-type {\n",
       "        vertical-align: middle;\n",
       "    }\n",
       "\n",
       "    .dataframe tbody tr th {\n",
       "        vertical-align: top;\n",
       "    }\n",
       "\n",
       "    .dataframe thead th {\n",
       "        text-align: right;\n",
       "    }\n",
       "</style>\n",
       "<table border=\"1\" class=\"dataframe\">\n",
       "  <thead>\n",
       "    <tr style=\"text-align: right;\">\n",
       "      <th></th>\n",
       "      <th>senator_id</th>\n",
       "      <th>Apellidos</th>\n",
       "      <th>Nombre</th>\n",
       "      <th>Fraccion</th>\n",
       "      <th>Legislatura</th>\n",
       "      <th>Estado</th>\n",
       "      <th>Sexo</th>\n",
       "      <th>tipoEleccion</th>\n",
       "      <th>Suplente</th>\n",
       "      <th>estadoOrigen</th>\n",
       "      <th>...</th>\n",
       "      <th>telefono</th>\n",
       "      <th>extension</th>\n",
       "      <th>estatus</th>\n",
       "      <th>direccion</th>\n",
       "      <th>id</th>\n",
       "      <th>senadores</th>\n",
       "      <th>attendance_score</th>\n",
       "      <th>initiative_list</th>\n",
       "      <th>initiatives_summary_dummy</th>\n",
       "      <th>BETO_summary</th>\n",
       "    </tr>\n",
       "  </thead>\n",
       "  <tbody>\n",
       "    <tr>\n",
       "      <th>0</th>\n",
       "      <td>1160</td>\n",
       "      <td>Botello Montes</td>\n",
       "      <td>José Alfredo</td>\n",
       "      <td>PAN</td>\n",
       "      <td>64</td>\n",
       "      <td>Querétaro</td>\n",
       "      <td>Hombre</td>\n",
       "      <td>Senador Electo por el Principio de Mayoría Rel...</td>\n",
       "      <td>NaN</td>\n",
       "      <td>Querétaro</td>\n",
       "      <td>...</td>\n",
       "      <td>5345 3000</td>\n",
       "      <td>4183 y 4184</td>\n",
       "      <td>en_funciones</td>\n",
       "      <td>Av Paseo de la Reforma No. 135, Hemiciclo Piso...</td>\n",
       "      <td>1</td>\n",
       "      <td>José Alfredo Botello Montes</td>\n",
       "      <td>0.958904</td>\n",
       "      <td>[Pretende garantizar a los miembros del Servic...</td>\n",
       "      <td>Pretende garantizar a los miembros del Servici...</td>\n",
       "      <td></td>\n",
       "    </tr>\n",
       "    <tr>\n",
       "      <th>1</th>\n",
       "      <td>1162</td>\n",
       "      <td>Rojas Loreto</td>\n",
       "      <td>Estrella</td>\n",
       "      <td>PAN</td>\n",
       "      <td>64</td>\n",
       "      <td>Querétaro</td>\n",
       "      <td>Mujer</td>\n",
       "      <td>Senadora Electa por el Principio de Mayoría Re...</td>\n",
       "      <td>NaN</td>\n",
       "      <td>Querétaro</td>\n",
       "      <td>...</td>\n",
       "      <td>5345 3000</td>\n",
       "      <td>3323</td>\n",
       "      <td>en_funciones</td>\n",
       "      <td>Av Paseo de la Reforma No. 135, Hemiciclo Piso...</td>\n",
       "      <td>2</td>\n",
       "      <td>Estrella Rojas Loreto</td>\n",
       "      <td>0.973913</td>\n",
       "      <td>[Propone que el Estado apoye la investigación ...</td>\n",
       "      <td>Propone que el Estado apoye la investigación e...</td>\n",
       "      <td></td>\n",
       "    </tr>\n",
       "  </tbody>\n",
       "</table>\n",
       "<p>2 rows × 26 columns</p>\n",
       "</div>"
      ],
      "text/plain": [
       "   senator_id       Apellidos        Nombre Fraccion  Legislatura     Estado  \\\n",
       "0        1160  Botello Montes  José Alfredo      PAN           64  Querétaro   \n",
       "1        1162    Rojas Loreto      Estrella      PAN           64  Querétaro   \n",
       "\n",
       "     Sexo                                       tipoEleccion Suplente  \\\n",
       "0  Hombre  Senador Electo por el Principio de Mayoría Rel...      NaN   \n",
       "1   Mujer  Senadora Electa por el Principio de Mayoría Re...      NaN   \n",
       "\n",
       "  estadoOrigen  ...   telefono    extension       estatus  \\\n",
       "0    Querétaro  ...  5345 3000  4183 y 4184  en_funciones   \n",
       "1    Querétaro  ...  5345 3000         3323  en_funciones   \n",
       "\n",
       "                                           direccion id  \\\n",
       "0  Av Paseo de la Reforma No. 135, Hemiciclo Piso...  1   \n",
       "1  Av Paseo de la Reforma No. 135, Hemiciclo Piso...  2   \n",
       "\n",
       "                     senadores attendance_score  \\\n",
       "0  José Alfredo Botello Montes         0.958904   \n",
       "1        Estrella Rojas Loreto         0.973913   \n",
       "\n",
       "                                     initiative_list  \\\n",
       "0  [Pretende garantizar a los miembros del Servic...   \n",
       "1  [Propone que el Estado apoye la investigación ...   \n",
       "\n",
       "                           initiatives_summary_dummy BETO_summary  \n",
       "0  Pretende garantizar a los miembros del Servici...               \n",
       "1  Propone que el Estado apoye la investigación e...               \n",
       "\n",
       "[2 rows x 26 columns]"
      ]
     },
     "execution_count": 13,
     "metadata": {},
     "output_type": "execute_result"
    }
   ],
   "source": [
    "#Adding BETO to dataset\n",
    "senators['BETO_summary'] = \"\"\n",
    "senators.head(2)"
   ]
  },
  {
   "cell_type": "code",
   "execution_count": null,
   "id": "def8c22c",
   "metadata": {},
   "outputs": [],
   "source": [
    "#For the entire dataset ... (only a few in the following example) ... change this value\n",
    "#index = 0\n",
    "#for row in senators['initiative_list'][:2]:\n",
    "    #resumentList_2 = []\n",
    "    #inputsList_2 = []\n",
    "\n",
    "    #summarizeRow(row, resumentList_2, inputsList_2)\n",
    "    #senators['BETO_summary'][index] = resumentList_2\n",
    "    #index += 1\n",
    "    #print(inputsList_2)\n",
    "    #print (index)\n",
    "    #print(resumentList_2)\n",
    "\n",
    "#senators.head(2)"
   ]
  },
  {
   "cell_type": "code",
   "execution_count": 14,
   "id": "54cb10b4",
   "metadata": {},
   "outputs": [
    {
     "name": "stderr",
     "output_type": "stream",
     "text": [
      "/tmp/ipykernel_6130/3635060889.py:8: SettingWithCopyWarning: \n",
      "A value is trying to be set on a copy of a slice from a DataFrame\n",
      "\n",
      "See the caveats in the documentation: https://pandas.pydata.org/pandas-docs/stable/user_guide/indexing.html#returning-a-view-versus-a-copy\n",
      "  senators['BETO_summary'][index] = resumentList_2\n"
     ]
    },
    {
     "name": "stdout",
     "output_type": "stream",
     "text": [
      "1\n",
      "2\n",
      "3\n",
      "4\n",
      "5\n",
      "6\n",
      "7\n",
      "8\n",
      "9\n",
      "10\n",
      "11\n",
      "12\n",
      "13\n",
      "14\n",
      "15\n",
      "16\n",
      "17\n",
      "18\n",
      "19\n",
      "20\n",
      "21\n",
      "22\n",
      "23\n",
      "24\n",
      "25\n",
      "26\n",
      "27\n",
      "28\n",
      "29\n",
      "30\n",
      "31\n",
      "32\n",
      "33\n",
      "34\n",
      "35\n",
      "36\n",
      "37\n",
      "38\n",
      "39\n",
      "40\n",
      "41\n",
      "42\n",
      "43\n",
      "44\n",
      "45\n",
      "46\n",
      "47\n",
      "48\n",
      "49\n",
      "50\n",
      "51\n",
      "52\n",
      "53\n",
      "54\n",
      "55\n",
      "56\n",
      "57\n",
      "58\n",
      "59\n",
      "60\n",
      "61\n",
      "62\n",
      "63\n",
      "64\n",
      "65\n",
      "66\n",
      "67\n",
      "68\n",
      "69\n",
      "70\n"
     ]
    },
    {
     "ename": "KeyboardInterrupt",
     "evalue": "",
     "output_type": "error",
     "traceback": [
      "\u001b[0;31m---------------------------------------------------------------------------\u001b[0m",
      "\u001b[0;31mKeyboardInterrupt\u001b[0m                         Traceback (most recent call last)",
      "Cell \u001b[0;32mIn [14], line 7\u001b[0m\n\u001b[1;32m      4\u001b[0m resumentList_2 \u001b[38;5;241m=\u001b[39m []\n\u001b[1;32m      5\u001b[0m inputsList_2 \u001b[38;5;241m=\u001b[39m []\n\u001b[0;32m----> 7\u001b[0m \u001b[43msummarizeRow\u001b[49m\u001b[43m(\u001b[49m\u001b[43mrow\u001b[49m\u001b[43m,\u001b[49m\u001b[43m \u001b[49m\u001b[43mresumentList_2\u001b[49m\u001b[43m,\u001b[49m\u001b[43m \u001b[49m\u001b[43minputsList_2\u001b[49m\u001b[43m)\u001b[49m\n\u001b[1;32m      8\u001b[0m senators[\u001b[38;5;124m'\u001b[39m\u001b[38;5;124mBETO_summary\u001b[39m\u001b[38;5;124m'\u001b[39m][index] \u001b[38;5;241m=\u001b[39m resumentList_2\n\u001b[1;32m      9\u001b[0m index \u001b[38;5;241m+\u001b[39m\u001b[38;5;241m=\u001b[39m \u001b[38;5;241m1\u001b[39m\n",
      "Cell \u001b[0;32mIn [11], line 6\u001b[0m, in \u001b[0;36msummarizeRow\u001b[0;34m(prop_inc_t, resumentList, inputsList)\u001b[0m\n\u001b[1;32m      4\u001b[0m inputs \u001b[38;5;241m=\u001b[39m tokenizer\u001b[38;5;241m.\u001b[39mencode(parag, return_tensors\u001b[38;5;241m=\u001b[39m\u001b[38;5;124m\"\u001b[39m\u001b[38;5;124mpt\u001b[39m\u001b[38;5;124m\"\u001b[39m, max_length\u001b[38;5;241m=\u001b[39m\u001b[38;5;241m511\u001b[39m, truncation\u001b[38;5;241m=\u001b[39m\u001b[38;5;28;01mTrue\u001b[39;00m)\n\u001b[1;32m      5\u001b[0m inputsList\u001b[38;5;241m.\u001b[39mappend(inputs)\n\u001b[0;32m----> 6\u001b[0m resumen \u001b[38;5;241m=\u001b[39m \u001b[43mmodel\u001b[49m\u001b[38;5;241;43m.\u001b[39;49m\u001b[43mgenerate\u001b[49m\u001b[43m(\u001b[49m\n\u001b[1;32m      7\u001b[0m \u001b[43m    \u001b[49m\u001b[43minputs\u001b[49m\u001b[43m,\u001b[49m\u001b[43m \u001b[49m\n\u001b[1;32m      8\u001b[0m \u001b[43m    \u001b[49m\u001b[43mmax_length\u001b[49m\u001b[38;5;241;43m=\u001b[39;49m\u001b[38;5;241;43m250\u001b[39;49m\u001b[43m,\u001b[49m\n\u001b[1;32m      9\u001b[0m \u001b[43m    \u001b[49m\u001b[43mmin_length\u001b[49m\u001b[38;5;241;43m=\u001b[39;49m\u001b[38;5;241;43m5\u001b[39;49m\u001b[43m,\u001b[49m\u001b[43m \u001b[49m\n\u001b[1;32m     10\u001b[0m \u001b[43m    \u001b[49m\u001b[43mlength_penalty\u001b[49m\u001b[38;5;241;43m=\u001b[39;49m\u001b[38;5;241;43m2.0\u001b[39;49m\u001b[43m,\u001b[49m\u001b[43m \u001b[49m\n\u001b[1;32m     11\u001b[0m \u001b[43m    \u001b[49m\u001b[43mnum_beams\u001b[49m\u001b[38;5;241;43m=\u001b[39;49m\u001b[38;5;241;43m6\u001b[39;49m\u001b[43m,\u001b[49m\u001b[43m \u001b[49m\n\u001b[1;32m     12\u001b[0m \u001b[43m    \u001b[49m\u001b[43mearly_stopping\u001b[49m\u001b[38;5;241;43m=\u001b[39;49m\u001b[38;5;28;43;01mTrue\u001b[39;49;00m\u001b[43m)\u001b[49m\n\u001b[1;32m     13\u001b[0m resumentList\u001b[38;5;241m.\u001b[39mappend(tokenizer\u001b[38;5;241m.\u001b[39mdecode(resumen[\u001b[38;5;241m0\u001b[39m]))\n",
      "File \u001b[0;32m~/.pyenv/versions/3.10.6/envs/lewagon/lib/python3.10/site-packages/torch/utils/_contextlib.py:115\u001b[0m, in \u001b[0;36mcontext_decorator.<locals>.decorate_context\u001b[0;34m(*args, **kwargs)\u001b[0m\n\u001b[1;32m    112\u001b[0m \u001b[38;5;129m@functools\u001b[39m\u001b[38;5;241m.\u001b[39mwraps(func)\n\u001b[1;32m    113\u001b[0m \u001b[38;5;28;01mdef\u001b[39;00m \u001b[38;5;21mdecorate_context\u001b[39m(\u001b[38;5;241m*\u001b[39margs, \u001b[38;5;241m*\u001b[39m\u001b[38;5;241m*\u001b[39mkwargs):\n\u001b[1;32m    114\u001b[0m     \u001b[38;5;28;01mwith\u001b[39;00m ctx_factory():\n\u001b[0;32m--> 115\u001b[0m         \u001b[38;5;28;01mreturn\u001b[39;00m \u001b[43mfunc\u001b[49m\u001b[43m(\u001b[49m\u001b[38;5;241;43m*\u001b[39;49m\u001b[43margs\u001b[49m\u001b[43m,\u001b[49m\u001b[43m \u001b[49m\u001b[38;5;241;43m*\u001b[39;49m\u001b[38;5;241;43m*\u001b[39;49m\u001b[43mkwargs\u001b[49m\u001b[43m)\u001b[49m\n",
      "File \u001b[0;32m~/.pyenv/versions/3.10.6/envs/lewagon/lib/python3.10/site-packages/transformers/generation/utils.py:1611\u001b[0m, in \u001b[0;36mGenerationMixin.generate\u001b[0;34m(self, inputs, generation_config, logits_processor, stopping_criteria, prefix_allowed_tokens_fn, synced_gpus, assistant_model, streamer, **kwargs)\u001b[0m\n\u001b[1;32m   1604\u001b[0m     input_ids, model_kwargs \u001b[38;5;241m=\u001b[39m \u001b[38;5;28mself\u001b[39m\u001b[38;5;241m.\u001b[39m_expand_inputs_for_generation(\n\u001b[1;32m   1605\u001b[0m         input_ids\u001b[38;5;241m=\u001b[39minput_ids,\n\u001b[1;32m   1606\u001b[0m         expand_size\u001b[38;5;241m=\u001b[39mgeneration_config\u001b[38;5;241m.\u001b[39mnum_beams,\n\u001b[1;32m   1607\u001b[0m         is_encoder_decoder\u001b[38;5;241m=\u001b[39m\u001b[38;5;28mself\u001b[39m\u001b[38;5;241m.\u001b[39mconfig\u001b[38;5;241m.\u001b[39mis_encoder_decoder,\n\u001b[1;32m   1608\u001b[0m         \u001b[38;5;241m*\u001b[39m\u001b[38;5;241m*\u001b[39mmodel_kwargs,\n\u001b[1;32m   1609\u001b[0m     )\n\u001b[1;32m   1610\u001b[0m     \u001b[38;5;66;03m# 13. run beam search\u001b[39;00m\n\u001b[0;32m-> 1611\u001b[0m     \u001b[38;5;28;01mreturn\u001b[39;00m \u001b[38;5;28;43mself\u001b[39;49m\u001b[38;5;241;43m.\u001b[39;49m\u001b[43mbeam_search\u001b[49m\u001b[43m(\u001b[49m\n\u001b[1;32m   1612\u001b[0m \u001b[43m        \u001b[49m\u001b[43minput_ids\u001b[49m\u001b[43m,\u001b[49m\n\u001b[1;32m   1613\u001b[0m \u001b[43m        \u001b[49m\u001b[43mbeam_scorer\u001b[49m\u001b[43m,\u001b[49m\n\u001b[1;32m   1614\u001b[0m \u001b[43m        \u001b[49m\u001b[43mlogits_processor\u001b[49m\u001b[38;5;241;43m=\u001b[39;49m\u001b[43mlogits_processor\u001b[49m\u001b[43m,\u001b[49m\n\u001b[1;32m   1615\u001b[0m \u001b[43m        \u001b[49m\u001b[43mstopping_criteria\u001b[49m\u001b[38;5;241;43m=\u001b[39;49m\u001b[43mstopping_criteria\u001b[49m\u001b[43m,\u001b[49m\n\u001b[1;32m   1616\u001b[0m \u001b[43m        \u001b[49m\u001b[43mpad_token_id\u001b[49m\u001b[38;5;241;43m=\u001b[39;49m\u001b[43mgeneration_config\u001b[49m\u001b[38;5;241;43m.\u001b[39;49m\u001b[43mpad_token_id\u001b[49m\u001b[43m,\u001b[49m\n\u001b[1;32m   1617\u001b[0m \u001b[43m        \u001b[49m\u001b[43meos_token_id\u001b[49m\u001b[38;5;241;43m=\u001b[39;49m\u001b[43mgeneration_config\u001b[49m\u001b[38;5;241;43m.\u001b[39;49m\u001b[43meos_token_id\u001b[49m\u001b[43m,\u001b[49m\n\u001b[1;32m   1618\u001b[0m \u001b[43m        \u001b[49m\u001b[43moutput_scores\u001b[49m\u001b[38;5;241;43m=\u001b[39;49m\u001b[43mgeneration_config\u001b[49m\u001b[38;5;241;43m.\u001b[39;49m\u001b[43moutput_scores\u001b[49m\u001b[43m,\u001b[49m\n\u001b[1;32m   1619\u001b[0m \u001b[43m        \u001b[49m\u001b[43mreturn_dict_in_generate\u001b[49m\u001b[38;5;241;43m=\u001b[39;49m\u001b[43mgeneration_config\u001b[49m\u001b[38;5;241;43m.\u001b[39;49m\u001b[43mreturn_dict_in_generate\u001b[49m\u001b[43m,\u001b[49m\n\u001b[1;32m   1620\u001b[0m \u001b[43m        \u001b[49m\u001b[43msynced_gpus\u001b[49m\u001b[38;5;241;43m=\u001b[39;49m\u001b[43msynced_gpus\u001b[49m\u001b[43m,\u001b[49m\n\u001b[1;32m   1621\u001b[0m \u001b[43m        \u001b[49m\u001b[38;5;241;43m*\u001b[39;49m\u001b[38;5;241;43m*\u001b[39;49m\u001b[43mmodel_kwargs\u001b[49m\u001b[43m,\u001b[49m\n\u001b[1;32m   1622\u001b[0m \u001b[43m    \u001b[49m\u001b[43m)\u001b[49m\n\u001b[1;32m   1624\u001b[0m \u001b[38;5;28;01melif\u001b[39;00m is_beam_sample_gen_mode:\n\u001b[1;32m   1625\u001b[0m     \u001b[38;5;66;03m# 11. prepare logits warper\u001b[39;00m\n\u001b[1;32m   1626\u001b[0m     logits_warper \u001b[38;5;241m=\u001b[39m \u001b[38;5;28mself\u001b[39m\u001b[38;5;241m.\u001b[39m_get_logits_warper(generation_config)\n",
      "File \u001b[0;32m~/.pyenv/versions/3.10.6/envs/lewagon/lib/python3.10/site-packages/transformers/generation/utils.py:2909\u001b[0m, in \u001b[0;36mGenerationMixin.beam_search\u001b[0;34m(self, input_ids, beam_scorer, logits_processor, stopping_criteria, max_length, pad_token_id, eos_token_id, output_attentions, output_hidden_states, output_scores, return_dict_in_generate, synced_gpus, **model_kwargs)\u001b[0m\n\u001b[1;32m   2905\u001b[0m         \u001b[38;5;28;01mbreak\u001b[39;00m\n\u001b[1;32m   2907\u001b[0m model_inputs \u001b[38;5;241m=\u001b[39m \u001b[38;5;28mself\u001b[39m\u001b[38;5;241m.\u001b[39mprepare_inputs_for_generation(input_ids, \u001b[38;5;241m*\u001b[39m\u001b[38;5;241m*\u001b[39mmodel_kwargs)\n\u001b[0;32m-> 2909\u001b[0m outputs \u001b[38;5;241m=\u001b[39m \u001b[38;5;28;43mself\u001b[39;49m\u001b[43m(\u001b[49m\n\u001b[1;32m   2910\u001b[0m \u001b[43m    \u001b[49m\u001b[38;5;241;43m*\u001b[39;49m\u001b[38;5;241;43m*\u001b[39;49m\u001b[43mmodel_inputs\u001b[49m\u001b[43m,\u001b[49m\n\u001b[1;32m   2911\u001b[0m \u001b[43m    \u001b[49m\u001b[43mreturn_dict\u001b[49m\u001b[38;5;241;43m=\u001b[39;49m\u001b[38;5;28;43;01mTrue\u001b[39;49;00m\u001b[43m,\u001b[49m\n\u001b[1;32m   2912\u001b[0m \u001b[43m    \u001b[49m\u001b[43moutput_attentions\u001b[49m\u001b[38;5;241;43m=\u001b[39;49m\u001b[43moutput_attentions\u001b[49m\u001b[43m,\u001b[49m\n\u001b[1;32m   2913\u001b[0m \u001b[43m    \u001b[49m\u001b[43moutput_hidden_states\u001b[49m\u001b[38;5;241;43m=\u001b[39;49m\u001b[43moutput_hidden_states\u001b[49m\u001b[43m,\u001b[49m\n\u001b[1;32m   2914\u001b[0m \u001b[43m\u001b[49m\u001b[43m)\u001b[49m\n\u001b[1;32m   2916\u001b[0m \u001b[38;5;28;01mif\u001b[39;00m synced_gpus \u001b[38;5;129;01mand\u001b[39;00m this_peer_finished:\n\u001b[1;32m   2917\u001b[0m     cur_len \u001b[38;5;241m=\u001b[39m cur_len \u001b[38;5;241m+\u001b[39m \u001b[38;5;241m1\u001b[39m\n",
      "File \u001b[0;32m~/.pyenv/versions/3.10.6/envs/lewagon/lib/python3.10/site-packages/torch/nn/modules/module.py:1501\u001b[0m, in \u001b[0;36mModule._call_impl\u001b[0;34m(self, *args, **kwargs)\u001b[0m\n\u001b[1;32m   1496\u001b[0m \u001b[38;5;66;03m# If we don't have any hooks, we want to skip the rest of the logic in\u001b[39;00m\n\u001b[1;32m   1497\u001b[0m \u001b[38;5;66;03m# this function, and just call forward.\u001b[39;00m\n\u001b[1;32m   1498\u001b[0m \u001b[38;5;28;01mif\u001b[39;00m \u001b[38;5;129;01mnot\u001b[39;00m (\u001b[38;5;28mself\u001b[39m\u001b[38;5;241m.\u001b[39m_backward_hooks \u001b[38;5;129;01mor\u001b[39;00m \u001b[38;5;28mself\u001b[39m\u001b[38;5;241m.\u001b[39m_backward_pre_hooks \u001b[38;5;129;01mor\u001b[39;00m \u001b[38;5;28mself\u001b[39m\u001b[38;5;241m.\u001b[39m_forward_hooks \u001b[38;5;129;01mor\u001b[39;00m \u001b[38;5;28mself\u001b[39m\u001b[38;5;241m.\u001b[39m_forward_pre_hooks\n\u001b[1;32m   1499\u001b[0m         \u001b[38;5;129;01mor\u001b[39;00m _global_backward_pre_hooks \u001b[38;5;129;01mor\u001b[39;00m _global_backward_hooks\n\u001b[1;32m   1500\u001b[0m         \u001b[38;5;129;01mor\u001b[39;00m _global_forward_hooks \u001b[38;5;129;01mor\u001b[39;00m _global_forward_pre_hooks):\n\u001b[0;32m-> 1501\u001b[0m     \u001b[38;5;28;01mreturn\u001b[39;00m \u001b[43mforward_call\u001b[49m\u001b[43m(\u001b[49m\u001b[38;5;241;43m*\u001b[39;49m\u001b[43margs\u001b[49m\u001b[43m,\u001b[49m\u001b[43m \u001b[49m\u001b[38;5;241;43m*\u001b[39;49m\u001b[38;5;241;43m*\u001b[39;49m\u001b[43mkwargs\u001b[49m\u001b[43m)\u001b[49m\n\u001b[1;32m   1502\u001b[0m \u001b[38;5;66;03m# Do not call functions when jit is used\u001b[39;00m\n\u001b[1;32m   1503\u001b[0m full_backward_hooks, non_full_backward_hooks \u001b[38;5;241m=\u001b[39m [], []\n",
      "File \u001b[0;32m~/.pyenv/versions/3.10.6/envs/lewagon/lib/python3.10/site-packages/transformers/models/encoder_decoder/modeling_encoder_decoder.py:625\u001b[0m, in \u001b[0;36mEncoderDecoderModel.forward\u001b[0;34m(self, input_ids, attention_mask, decoder_input_ids, decoder_attention_mask, encoder_outputs, past_key_values, inputs_embeds, decoder_inputs_embeds, labels, use_cache, output_attentions, output_hidden_states, return_dict, **kwargs)\u001b[0m\n\u001b[1;32m    620\u001b[0m     decoder_input_ids \u001b[38;5;241m=\u001b[39m shift_tokens_right(\n\u001b[1;32m    621\u001b[0m         labels, \u001b[38;5;28mself\u001b[39m\u001b[38;5;241m.\u001b[39mconfig\u001b[38;5;241m.\u001b[39mpad_token_id, \u001b[38;5;28mself\u001b[39m\u001b[38;5;241m.\u001b[39mconfig\u001b[38;5;241m.\u001b[39mdecoder_start_token_id\n\u001b[1;32m    622\u001b[0m     )\n\u001b[1;32m    624\u001b[0m \u001b[38;5;66;03m# Decode\u001b[39;00m\n\u001b[0;32m--> 625\u001b[0m decoder_outputs \u001b[38;5;241m=\u001b[39m \u001b[38;5;28;43mself\u001b[39;49m\u001b[38;5;241;43m.\u001b[39;49m\u001b[43mdecoder\u001b[49m\u001b[43m(\u001b[49m\n\u001b[1;32m    626\u001b[0m \u001b[43m    \u001b[49m\u001b[43minput_ids\u001b[49m\u001b[38;5;241;43m=\u001b[39;49m\u001b[43mdecoder_input_ids\u001b[49m\u001b[43m,\u001b[49m\n\u001b[1;32m    627\u001b[0m \u001b[43m    \u001b[49m\u001b[43mattention_mask\u001b[49m\u001b[38;5;241;43m=\u001b[39;49m\u001b[43mdecoder_attention_mask\u001b[49m\u001b[43m,\u001b[49m\n\u001b[1;32m    628\u001b[0m \u001b[43m    \u001b[49m\u001b[43mencoder_hidden_states\u001b[49m\u001b[38;5;241;43m=\u001b[39;49m\u001b[43mencoder_hidden_states\u001b[49m\u001b[43m,\u001b[49m\n\u001b[1;32m    629\u001b[0m \u001b[43m    \u001b[49m\u001b[43mencoder_attention_mask\u001b[49m\u001b[38;5;241;43m=\u001b[39;49m\u001b[43mattention_mask\u001b[49m\u001b[43m,\u001b[49m\n\u001b[1;32m    630\u001b[0m \u001b[43m    \u001b[49m\u001b[43minputs_embeds\u001b[49m\u001b[38;5;241;43m=\u001b[39;49m\u001b[43mdecoder_inputs_embeds\u001b[49m\u001b[43m,\u001b[49m\n\u001b[1;32m    631\u001b[0m \u001b[43m    \u001b[49m\u001b[43moutput_attentions\u001b[49m\u001b[38;5;241;43m=\u001b[39;49m\u001b[43moutput_attentions\u001b[49m\u001b[43m,\u001b[49m\n\u001b[1;32m    632\u001b[0m \u001b[43m    \u001b[49m\u001b[43moutput_hidden_states\u001b[49m\u001b[38;5;241;43m=\u001b[39;49m\u001b[43moutput_hidden_states\u001b[49m\u001b[43m,\u001b[49m\n\u001b[1;32m    633\u001b[0m \u001b[43m    \u001b[49m\u001b[43muse_cache\u001b[49m\u001b[38;5;241;43m=\u001b[39;49m\u001b[43muse_cache\u001b[49m\u001b[43m,\u001b[49m\n\u001b[1;32m    634\u001b[0m \u001b[43m    \u001b[49m\u001b[43mpast_key_values\u001b[49m\u001b[38;5;241;43m=\u001b[39;49m\u001b[43mpast_key_values\u001b[49m\u001b[43m,\u001b[49m\n\u001b[1;32m    635\u001b[0m \u001b[43m    \u001b[49m\u001b[43mreturn_dict\u001b[49m\u001b[38;5;241;43m=\u001b[39;49m\u001b[43mreturn_dict\u001b[49m\u001b[43m,\u001b[49m\n\u001b[1;32m    636\u001b[0m \u001b[43m    \u001b[49m\u001b[38;5;241;43m*\u001b[39;49m\u001b[38;5;241;43m*\u001b[39;49m\u001b[43mkwargs_decoder\u001b[49m\u001b[43m,\u001b[49m\n\u001b[1;32m    637\u001b[0m \u001b[43m\u001b[49m\u001b[43m)\u001b[49m\n\u001b[1;32m    639\u001b[0m \u001b[38;5;66;03m# Compute loss independent from decoder (as some shift the logits inside them)\u001b[39;00m\n\u001b[1;32m    640\u001b[0m loss \u001b[38;5;241m=\u001b[39m \u001b[38;5;28;01mNone\u001b[39;00m\n",
      "File \u001b[0;32m~/.pyenv/versions/3.10.6/envs/lewagon/lib/python3.10/site-packages/torch/nn/modules/module.py:1501\u001b[0m, in \u001b[0;36mModule._call_impl\u001b[0;34m(self, *args, **kwargs)\u001b[0m\n\u001b[1;32m   1496\u001b[0m \u001b[38;5;66;03m# If we don't have any hooks, we want to skip the rest of the logic in\u001b[39;00m\n\u001b[1;32m   1497\u001b[0m \u001b[38;5;66;03m# this function, and just call forward.\u001b[39;00m\n\u001b[1;32m   1498\u001b[0m \u001b[38;5;28;01mif\u001b[39;00m \u001b[38;5;129;01mnot\u001b[39;00m (\u001b[38;5;28mself\u001b[39m\u001b[38;5;241m.\u001b[39m_backward_hooks \u001b[38;5;129;01mor\u001b[39;00m \u001b[38;5;28mself\u001b[39m\u001b[38;5;241m.\u001b[39m_backward_pre_hooks \u001b[38;5;129;01mor\u001b[39;00m \u001b[38;5;28mself\u001b[39m\u001b[38;5;241m.\u001b[39m_forward_hooks \u001b[38;5;129;01mor\u001b[39;00m \u001b[38;5;28mself\u001b[39m\u001b[38;5;241m.\u001b[39m_forward_pre_hooks\n\u001b[1;32m   1499\u001b[0m         \u001b[38;5;129;01mor\u001b[39;00m _global_backward_pre_hooks \u001b[38;5;129;01mor\u001b[39;00m _global_backward_hooks\n\u001b[1;32m   1500\u001b[0m         \u001b[38;5;129;01mor\u001b[39;00m _global_forward_hooks \u001b[38;5;129;01mor\u001b[39;00m _global_forward_pre_hooks):\n\u001b[0;32m-> 1501\u001b[0m     \u001b[38;5;28;01mreturn\u001b[39;00m \u001b[43mforward_call\u001b[49m\u001b[43m(\u001b[49m\u001b[38;5;241;43m*\u001b[39;49m\u001b[43margs\u001b[49m\u001b[43m,\u001b[49m\u001b[43m \u001b[49m\u001b[38;5;241;43m*\u001b[39;49m\u001b[38;5;241;43m*\u001b[39;49m\u001b[43mkwargs\u001b[49m\u001b[43m)\u001b[49m\n\u001b[1;32m   1502\u001b[0m \u001b[38;5;66;03m# Do not call functions when jit is used\u001b[39;00m\n\u001b[1;32m   1503\u001b[0m full_backward_hooks, non_full_backward_hooks \u001b[38;5;241m=\u001b[39m [], []\n",
      "File \u001b[0;32m~/.pyenv/versions/3.10.6/envs/lewagon/lib/python3.10/site-packages/transformers/models/bert/modeling_bert.py:1234\u001b[0m, in \u001b[0;36mBertLMHeadModel.forward\u001b[0;34m(self, input_ids, attention_mask, token_type_ids, position_ids, head_mask, inputs_embeds, encoder_hidden_states, encoder_attention_mask, labels, past_key_values, use_cache, output_attentions, output_hidden_states, return_dict)\u001b[0m\n\u001b[1;32m   1231\u001b[0m \u001b[38;5;28;01mif\u001b[39;00m labels \u001b[38;5;129;01mis\u001b[39;00m \u001b[38;5;129;01mnot\u001b[39;00m \u001b[38;5;28;01mNone\u001b[39;00m:\n\u001b[1;32m   1232\u001b[0m     use_cache \u001b[38;5;241m=\u001b[39m \u001b[38;5;28;01mFalse\u001b[39;00m\n\u001b[0;32m-> 1234\u001b[0m outputs \u001b[38;5;241m=\u001b[39m \u001b[38;5;28;43mself\u001b[39;49m\u001b[38;5;241;43m.\u001b[39;49m\u001b[43mbert\u001b[49m\u001b[43m(\u001b[49m\n\u001b[1;32m   1235\u001b[0m \u001b[43m    \u001b[49m\u001b[43minput_ids\u001b[49m\u001b[43m,\u001b[49m\n\u001b[1;32m   1236\u001b[0m \u001b[43m    \u001b[49m\u001b[43mattention_mask\u001b[49m\u001b[38;5;241;43m=\u001b[39;49m\u001b[43mattention_mask\u001b[49m\u001b[43m,\u001b[49m\n\u001b[1;32m   1237\u001b[0m \u001b[43m    \u001b[49m\u001b[43mtoken_type_ids\u001b[49m\u001b[38;5;241;43m=\u001b[39;49m\u001b[43mtoken_type_ids\u001b[49m\u001b[43m,\u001b[49m\n\u001b[1;32m   1238\u001b[0m \u001b[43m    \u001b[49m\u001b[43mposition_ids\u001b[49m\u001b[38;5;241;43m=\u001b[39;49m\u001b[43mposition_ids\u001b[49m\u001b[43m,\u001b[49m\n\u001b[1;32m   1239\u001b[0m \u001b[43m    \u001b[49m\u001b[43mhead_mask\u001b[49m\u001b[38;5;241;43m=\u001b[39;49m\u001b[43mhead_mask\u001b[49m\u001b[43m,\u001b[49m\n\u001b[1;32m   1240\u001b[0m \u001b[43m    \u001b[49m\u001b[43minputs_embeds\u001b[49m\u001b[38;5;241;43m=\u001b[39;49m\u001b[43minputs_embeds\u001b[49m\u001b[43m,\u001b[49m\n\u001b[1;32m   1241\u001b[0m \u001b[43m    \u001b[49m\u001b[43mencoder_hidden_states\u001b[49m\u001b[38;5;241;43m=\u001b[39;49m\u001b[43mencoder_hidden_states\u001b[49m\u001b[43m,\u001b[49m\n\u001b[1;32m   1242\u001b[0m \u001b[43m    \u001b[49m\u001b[43mencoder_attention_mask\u001b[49m\u001b[38;5;241;43m=\u001b[39;49m\u001b[43mencoder_attention_mask\u001b[49m\u001b[43m,\u001b[49m\n\u001b[1;32m   1243\u001b[0m \u001b[43m    \u001b[49m\u001b[43mpast_key_values\u001b[49m\u001b[38;5;241;43m=\u001b[39;49m\u001b[43mpast_key_values\u001b[49m\u001b[43m,\u001b[49m\n\u001b[1;32m   1244\u001b[0m \u001b[43m    \u001b[49m\u001b[43muse_cache\u001b[49m\u001b[38;5;241;43m=\u001b[39;49m\u001b[43muse_cache\u001b[49m\u001b[43m,\u001b[49m\n\u001b[1;32m   1245\u001b[0m \u001b[43m    \u001b[49m\u001b[43moutput_attentions\u001b[49m\u001b[38;5;241;43m=\u001b[39;49m\u001b[43moutput_attentions\u001b[49m\u001b[43m,\u001b[49m\n\u001b[1;32m   1246\u001b[0m \u001b[43m    \u001b[49m\u001b[43moutput_hidden_states\u001b[49m\u001b[38;5;241;43m=\u001b[39;49m\u001b[43moutput_hidden_states\u001b[49m\u001b[43m,\u001b[49m\n\u001b[1;32m   1247\u001b[0m \u001b[43m    \u001b[49m\u001b[43mreturn_dict\u001b[49m\u001b[38;5;241;43m=\u001b[39;49m\u001b[43mreturn_dict\u001b[49m\u001b[43m,\u001b[49m\n\u001b[1;32m   1248\u001b[0m \u001b[43m\u001b[49m\u001b[43m)\u001b[49m\n\u001b[1;32m   1250\u001b[0m sequence_output \u001b[38;5;241m=\u001b[39m outputs[\u001b[38;5;241m0\u001b[39m]\n\u001b[1;32m   1251\u001b[0m prediction_scores \u001b[38;5;241m=\u001b[39m \u001b[38;5;28mself\u001b[39m\u001b[38;5;241m.\u001b[39mcls(sequence_output)\n",
      "File \u001b[0;32m~/.pyenv/versions/3.10.6/envs/lewagon/lib/python3.10/site-packages/torch/nn/modules/module.py:1501\u001b[0m, in \u001b[0;36mModule._call_impl\u001b[0;34m(self, *args, **kwargs)\u001b[0m\n\u001b[1;32m   1496\u001b[0m \u001b[38;5;66;03m# If we don't have any hooks, we want to skip the rest of the logic in\u001b[39;00m\n\u001b[1;32m   1497\u001b[0m \u001b[38;5;66;03m# this function, and just call forward.\u001b[39;00m\n\u001b[1;32m   1498\u001b[0m \u001b[38;5;28;01mif\u001b[39;00m \u001b[38;5;129;01mnot\u001b[39;00m (\u001b[38;5;28mself\u001b[39m\u001b[38;5;241m.\u001b[39m_backward_hooks \u001b[38;5;129;01mor\u001b[39;00m \u001b[38;5;28mself\u001b[39m\u001b[38;5;241m.\u001b[39m_backward_pre_hooks \u001b[38;5;129;01mor\u001b[39;00m \u001b[38;5;28mself\u001b[39m\u001b[38;5;241m.\u001b[39m_forward_hooks \u001b[38;5;129;01mor\u001b[39;00m \u001b[38;5;28mself\u001b[39m\u001b[38;5;241m.\u001b[39m_forward_pre_hooks\n\u001b[1;32m   1499\u001b[0m         \u001b[38;5;129;01mor\u001b[39;00m _global_backward_pre_hooks \u001b[38;5;129;01mor\u001b[39;00m _global_backward_hooks\n\u001b[1;32m   1500\u001b[0m         \u001b[38;5;129;01mor\u001b[39;00m _global_forward_hooks \u001b[38;5;129;01mor\u001b[39;00m _global_forward_pre_hooks):\n\u001b[0;32m-> 1501\u001b[0m     \u001b[38;5;28;01mreturn\u001b[39;00m \u001b[43mforward_call\u001b[49m\u001b[43m(\u001b[49m\u001b[38;5;241;43m*\u001b[39;49m\u001b[43margs\u001b[49m\u001b[43m,\u001b[49m\u001b[43m \u001b[49m\u001b[38;5;241;43m*\u001b[39;49m\u001b[38;5;241;43m*\u001b[39;49m\u001b[43mkwargs\u001b[49m\u001b[43m)\u001b[49m\n\u001b[1;32m   1502\u001b[0m \u001b[38;5;66;03m# Do not call functions when jit is used\u001b[39;00m\n\u001b[1;32m   1503\u001b[0m full_backward_hooks, non_full_backward_hooks \u001b[38;5;241m=\u001b[39m [], []\n",
      "File \u001b[0;32m~/.pyenv/versions/3.10.6/envs/lewagon/lib/python3.10/site-packages/transformers/models/bert/modeling_bert.py:1020\u001b[0m, in \u001b[0;36mBertModel.forward\u001b[0;34m(self, input_ids, attention_mask, token_type_ids, position_ids, head_mask, inputs_embeds, encoder_hidden_states, encoder_attention_mask, past_key_values, use_cache, output_attentions, output_hidden_states, return_dict)\u001b[0m\n\u001b[1;32m   1011\u001b[0m head_mask \u001b[38;5;241m=\u001b[39m \u001b[38;5;28mself\u001b[39m\u001b[38;5;241m.\u001b[39mget_head_mask(head_mask, \u001b[38;5;28mself\u001b[39m\u001b[38;5;241m.\u001b[39mconfig\u001b[38;5;241m.\u001b[39mnum_hidden_layers)\n\u001b[1;32m   1013\u001b[0m embedding_output \u001b[38;5;241m=\u001b[39m \u001b[38;5;28mself\u001b[39m\u001b[38;5;241m.\u001b[39membeddings(\n\u001b[1;32m   1014\u001b[0m     input_ids\u001b[38;5;241m=\u001b[39minput_ids,\n\u001b[1;32m   1015\u001b[0m     position_ids\u001b[38;5;241m=\u001b[39mposition_ids,\n\u001b[0;32m   (...)\u001b[0m\n\u001b[1;32m   1018\u001b[0m     past_key_values_length\u001b[38;5;241m=\u001b[39mpast_key_values_length,\n\u001b[1;32m   1019\u001b[0m )\n\u001b[0;32m-> 1020\u001b[0m encoder_outputs \u001b[38;5;241m=\u001b[39m \u001b[38;5;28;43mself\u001b[39;49m\u001b[38;5;241;43m.\u001b[39;49m\u001b[43mencoder\u001b[49m\u001b[43m(\u001b[49m\n\u001b[1;32m   1021\u001b[0m \u001b[43m    \u001b[49m\u001b[43membedding_output\u001b[49m\u001b[43m,\u001b[49m\n\u001b[1;32m   1022\u001b[0m \u001b[43m    \u001b[49m\u001b[43mattention_mask\u001b[49m\u001b[38;5;241;43m=\u001b[39;49m\u001b[43mextended_attention_mask\u001b[49m\u001b[43m,\u001b[49m\n\u001b[1;32m   1023\u001b[0m \u001b[43m    \u001b[49m\u001b[43mhead_mask\u001b[49m\u001b[38;5;241;43m=\u001b[39;49m\u001b[43mhead_mask\u001b[49m\u001b[43m,\u001b[49m\n\u001b[1;32m   1024\u001b[0m \u001b[43m    \u001b[49m\u001b[43mencoder_hidden_states\u001b[49m\u001b[38;5;241;43m=\u001b[39;49m\u001b[43mencoder_hidden_states\u001b[49m\u001b[43m,\u001b[49m\n\u001b[1;32m   1025\u001b[0m \u001b[43m    \u001b[49m\u001b[43mencoder_attention_mask\u001b[49m\u001b[38;5;241;43m=\u001b[39;49m\u001b[43mencoder_extended_attention_mask\u001b[49m\u001b[43m,\u001b[49m\n\u001b[1;32m   1026\u001b[0m \u001b[43m    \u001b[49m\u001b[43mpast_key_values\u001b[49m\u001b[38;5;241;43m=\u001b[39;49m\u001b[43mpast_key_values\u001b[49m\u001b[43m,\u001b[49m\n\u001b[1;32m   1027\u001b[0m \u001b[43m    \u001b[49m\u001b[43muse_cache\u001b[49m\u001b[38;5;241;43m=\u001b[39;49m\u001b[43muse_cache\u001b[49m\u001b[43m,\u001b[49m\n\u001b[1;32m   1028\u001b[0m \u001b[43m    \u001b[49m\u001b[43moutput_attentions\u001b[49m\u001b[38;5;241;43m=\u001b[39;49m\u001b[43moutput_attentions\u001b[49m\u001b[43m,\u001b[49m\n\u001b[1;32m   1029\u001b[0m \u001b[43m    \u001b[49m\u001b[43moutput_hidden_states\u001b[49m\u001b[38;5;241;43m=\u001b[39;49m\u001b[43moutput_hidden_states\u001b[49m\u001b[43m,\u001b[49m\n\u001b[1;32m   1030\u001b[0m \u001b[43m    \u001b[49m\u001b[43mreturn_dict\u001b[49m\u001b[38;5;241;43m=\u001b[39;49m\u001b[43mreturn_dict\u001b[49m\u001b[43m,\u001b[49m\n\u001b[1;32m   1031\u001b[0m \u001b[43m\u001b[49m\u001b[43m)\u001b[49m\n\u001b[1;32m   1032\u001b[0m sequence_output \u001b[38;5;241m=\u001b[39m encoder_outputs[\u001b[38;5;241m0\u001b[39m]\n\u001b[1;32m   1033\u001b[0m pooled_output \u001b[38;5;241m=\u001b[39m \u001b[38;5;28mself\u001b[39m\u001b[38;5;241m.\u001b[39mpooler(sequence_output) \u001b[38;5;28;01mif\u001b[39;00m \u001b[38;5;28mself\u001b[39m\u001b[38;5;241m.\u001b[39mpooler \u001b[38;5;129;01mis\u001b[39;00m \u001b[38;5;129;01mnot\u001b[39;00m \u001b[38;5;28;01mNone\u001b[39;00m \u001b[38;5;28;01melse\u001b[39;00m \u001b[38;5;28;01mNone\u001b[39;00m\n",
      "File \u001b[0;32m~/.pyenv/versions/3.10.6/envs/lewagon/lib/python3.10/site-packages/torch/nn/modules/module.py:1501\u001b[0m, in \u001b[0;36mModule._call_impl\u001b[0;34m(self, *args, **kwargs)\u001b[0m\n\u001b[1;32m   1496\u001b[0m \u001b[38;5;66;03m# If we don't have any hooks, we want to skip the rest of the logic in\u001b[39;00m\n\u001b[1;32m   1497\u001b[0m \u001b[38;5;66;03m# this function, and just call forward.\u001b[39;00m\n\u001b[1;32m   1498\u001b[0m \u001b[38;5;28;01mif\u001b[39;00m \u001b[38;5;129;01mnot\u001b[39;00m (\u001b[38;5;28mself\u001b[39m\u001b[38;5;241m.\u001b[39m_backward_hooks \u001b[38;5;129;01mor\u001b[39;00m \u001b[38;5;28mself\u001b[39m\u001b[38;5;241m.\u001b[39m_backward_pre_hooks \u001b[38;5;129;01mor\u001b[39;00m \u001b[38;5;28mself\u001b[39m\u001b[38;5;241m.\u001b[39m_forward_hooks \u001b[38;5;129;01mor\u001b[39;00m \u001b[38;5;28mself\u001b[39m\u001b[38;5;241m.\u001b[39m_forward_pre_hooks\n\u001b[1;32m   1499\u001b[0m         \u001b[38;5;129;01mor\u001b[39;00m _global_backward_pre_hooks \u001b[38;5;129;01mor\u001b[39;00m _global_backward_hooks\n\u001b[1;32m   1500\u001b[0m         \u001b[38;5;129;01mor\u001b[39;00m _global_forward_hooks \u001b[38;5;129;01mor\u001b[39;00m _global_forward_pre_hooks):\n\u001b[0;32m-> 1501\u001b[0m     \u001b[38;5;28;01mreturn\u001b[39;00m \u001b[43mforward_call\u001b[49m\u001b[43m(\u001b[49m\u001b[38;5;241;43m*\u001b[39;49m\u001b[43margs\u001b[49m\u001b[43m,\u001b[49m\u001b[43m \u001b[49m\u001b[38;5;241;43m*\u001b[39;49m\u001b[38;5;241;43m*\u001b[39;49m\u001b[43mkwargs\u001b[49m\u001b[43m)\u001b[49m\n\u001b[1;32m   1502\u001b[0m \u001b[38;5;66;03m# Do not call functions when jit is used\u001b[39;00m\n\u001b[1;32m   1503\u001b[0m full_backward_hooks, non_full_backward_hooks \u001b[38;5;241m=\u001b[39m [], []\n",
      "File \u001b[0;32m~/.pyenv/versions/3.10.6/envs/lewagon/lib/python3.10/site-packages/transformers/models/bert/modeling_bert.py:610\u001b[0m, in \u001b[0;36mBertEncoder.forward\u001b[0;34m(self, hidden_states, attention_mask, head_mask, encoder_hidden_states, encoder_attention_mask, past_key_values, use_cache, output_attentions, output_hidden_states, return_dict)\u001b[0m\n\u001b[1;32m    601\u001b[0m     layer_outputs \u001b[38;5;241m=\u001b[39m torch\u001b[38;5;241m.\u001b[39mutils\u001b[38;5;241m.\u001b[39mcheckpoint\u001b[38;5;241m.\u001b[39mcheckpoint(\n\u001b[1;32m    602\u001b[0m         create_custom_forward(layer_module),\n\u001b[1;32m    603\u001b[0m         hidden_states,\n\u001b[0;32m   (...)\u001b[0m\n\u001b[1;32m    607\u001b[0m         encoder_attention_mask,\n\u001b[1;32m    608\u001b[0m     )\n\u001b[1;32m    609\u001b[0m \u001b[38;5;28;01melse\u001b[39;00m:\n\u001b[0;32m--> 610\u001b[0m     layer_outputs \u001b[38;5;241m=\u001b[39m \u001b[43mlayer_module\u001b[49m\u001b[43m(\u001b[49m\n\u001b[1;32m    611\u001b[0m \u001b[43m        \u001b[49m\u001b[43mhidden_states\u001b[49m\u001b[43m,\u001b[49m\n\u001b[1;32m    612\u001b[0m \u001b[43m        \u001b[49m\u001b[43mattention_mask\u001b[49m\u001b[43m,\u001b[49m\n\u001b[1;32m    613\u001b[0m \u001b[43m        \u001b[49m\u001b[43mlayer_head_mask\u001b[49m\u001b[43m,\u001b[49m\n\u001b[1;32m    614\u001b[0m \u001b[43m        \u001b[49m\u001b[43mencoder_hidden_states\u001b[49m\u001b[43m,\u001b[49m\n\u001b[1;32m    615\u001b[0m \u001b[43m        \u001b[49m\u001b[43mencoder_attention_mask\u001b[49m\u001b[43m,\u001b[49m\n\u001b[1;32m    616\u001b[0m \u001b[43m        \u001b[49m\u001b[43mpast_key_value\u001b[49m\u001b[43m,\u001b[49m\n\u001b[1;32m    617\u001b[0m \u001b[43m        \u001b[49m\u001b[43moutput_attentions\u001b[49m\u001b[43m,\u001b[49m\n\u001b[1;32m    618\u001b[0m \u001b[43m    \u001b[49m\u001b[43m)\u001b[49m\n\u001b[1;32m    620\u001b[0m hidden_states \u001b[38;5;241m=\u001b[39m layer_outputs[\u001b[38;5;241m0\u001b[39m]\n\u001b[1;32m    621\u001b[0m \u001b[38;5;28;01mif\u001b[39;00m use_cache:\n",
      "File \u001b[0;32m~/.pyenv/versions/3.10.6/envs/lewagon/lib/python3.10/site-packages/torch/nn/modules/module.py:1501\u001b[0m, in \u001b[0;36mModule._call_impl\u001b[0;34m(self, *args, **kwargs)\u001b[0m\n\u001b[1;32m   1496\u001b[0m \u001b[38;5;66;03m# If we don't have any hooks, we want to skip the rest of the logic in\u001b[39;00m\n\u001b[1;32m   1497\u001b[0m \u001b[38;5;66;03m# this function, and just call forward.\u001b[39;00m\n\u001b[1;32m   1498\u001b[0m \u001b[38;5;28;01mif\u001b[39;00m \u001b[38;5;129;01mnot\u001b[39;00m (\u001b[38;5;28mself\u001b[39m\u001b[38;5;241m.\u001b[39m_backward_hooks \u001b[38;5;129;01mor\u001b[39;00m \u001b[38;5;28mself\u001b[39m\u001b[38;5;241m.\u001b[39m_backward_pre_hooks \u001b[38;5;129;01mor\u001b[39;00m \u001b[38;5;28mself\u001b[39m\u001b[38;5;241m.\u001b[39m_forward_hooks \u001b[38;5;129;01mor\u001b[39;00m \u001b[38;5;28mself\u001b[39m\u001b[38;5;241m.\u001b[39m_forward_pre_hooks\n\u001b[1;32m   1499\u001b[0m         \u001b[38;5;129;01mor\u001b[39;00m _global_backward_pre_hooks \u001b[38;5;129;01mor\u001b[39;00m _global_backward_hooks\n\u001b[1;32m   1500\u001b[0m         \u001b[38;5;129;01mor\u001b[39;00m _global_forward_hooks \u001b[38;5;129;01mor\u001b[39;00m _global_forward_pre_hooks):\n\u001b[0;32m-> 1501\u001b[0m     \u001b[38;5;28;01mreturn\u001b[39;00m \u001b[43mforward_call\u001b[49m\u001b[43m(\u001b[49m\u001b[38;5;241;43m*\u001b[39;49m\u001b[43margs\u001b[49m\u001b[43m,\u001b[49m\u001b[43m \u001b[49m\u001b[38;5;241;43m*\u001b[39;49m\u001b[38;5;241;43m*\u001b[39;49m\u001b[43mkwargs\u001b[49m\u001b[43m)\u001b[49m\n\u001b[1;32m   1502\u001b[0m \u001b[38;5;66;03m# Do not call functions when jit is used\u001b[39;00m\n\u001b[1;32m   1503\u001b[0m full_backward_hooks, non_full_backward_hooks \u001b[38;5;241m=\u001b[39m [], []\n",
      "File \u001b[0;32m~/.pyenv/versions/3.10.6/envs/lewagon/lib/python3.10/site-packages/transformers/models/bert/modeling_bert.py:537\u001b[0m, in \u001b[0;36mBertLayer.forward\u001b[0;34m(self, hidden_states, attention_mask, head_mask, encoder_hidden_states, encoder_attention_mask, past_key_value, output_attentions)\u001b[0m\n\u001b[1;32m    534\u001b[0m     cross_attn_present_key_value \u001b[38;5;241m=\u001b[39m cross_attention_outputs[\u001b[38;5;241m-\u001b[39m\u001b[38;5;241m1\u001b[39m]\n\u001b[1;32m    535\u001b[0m     present_key_value \u001b[38;5;241m=\u001b[39m present_key_value \u001b[38;5;241m+\u001b[39m cross_attn_present_key_value\n\u001b[0;32m--> 537\u001b[0m layer_output \u001b[38;5;241m=\u001b[39m \u001b[43mapply_chunking_to_forward\u001b[49m\u001b[43m(\u001b[49m\n\u001b[1;32m    538\u001b[0m \u001b[43m    \u001b[49m\u001b[38;5;28;43mself\u001b[39;49m\u001b[38;5;241;43m.\u001b[39;49m\u001b[43mfeed_forward_chunk\u001b[49m\u001b[43m,\u001b[49m\u001b[43m \u001b[49m\u001b[38;5;28;43mself\u001b[39;49m\u001b[38;5;241;43m.\u001b[39;49m\u001b[43mchunk_size_feed_forward\u001b[49m\u001b[43m,\u001b[49m\u001b[43m \u001b[49m\u001b[38;5;28;43mself\u001b[39;49m\u001b[38;5;241;43m.\u001b[39;49m\u001b[43mseq_len_dim\u001b[49m\u001b[43m,\u001b[49m\u001b[43m \u001b[49m\u001b[43mattention_output\u001b[49m\n\u001b[1;32m    539\u001b[0m \u001b[43m\u001b[49m\u001b[43m)\u001b[49m\n\u001b[1;32m    540\u001b[0m outputs \u001b[38;5;241m=\u001b[39m (layer_output,) \u001b[38;5;241m+\u001b[39m outputs\n\u001b[1;32m    542\u001b[0m \u001b[38;5;66;03m# if decoder, return the attn key/values as the last output\u001b[39;00m\n",
      "File \u001b[0;32m~/.pyenv/versions/3.10.6/envs/lewagon/lib/python3.10/site-packages/transformers/pytorch_utils.py:206\u001b[0m, in \u001b[0;36mapply_chunking_to_forward\u001b[0;34m(forward_fn, chunk_size, chunk_dim, *input_tensors)\u001b[0m\n\u001b[1;32m    203\u001b[0m \u001b[38;5;28;01massert\u001b[39;00m \u001b[38;5;28mlen\u001b[39m(input_tensors) \u001b[38;5;241m>\u001b[39m \u001b[38;5;241m0\u001b[39m, \u001b[38;5;124mf\u001b[39m\u001b[38;5;124m\"\u001b[39m\u001b[38;5;132;01m{\u001b[39;00minput_tensors\u001b[38;5;132;01m}\u001b[39;00m\u001b[38;5;124m has to be a tuple/list of tensors\u001b[39m\u001b[38;5;124m\"\u001b[39m\n\u001b[1;32m    205\u001b[0m \u001b[38;5;66;03m# inspect.signature exist since python 3.5 and is a python method -> no problem with backward compatibility\u001b[39;00m\n\u001b[0;32m--> 206\u001b[0m num_args_in_forward_chunk_fn \u001b[38;5;241m=\u001b[39m \u001b[38;5;28mlen\u001b[39m(\u001b[43minspect\u001b[49m\u001b[38;5;241;43m.\u001b[39;49m\u001b[43msignature\u001b[49m\u001b[43m(\u001b[49m\u001b[43mforward_fn\u001b[49m\u001b[43m)\u001b[49m\u001b[38;5;241m.\u001b[39mparameters)\n\u001b[1;32m    207\u001b[0m \u001b[38;5;28;01mif\u001b[39;00m num_args_in_forward_chunk_fn \u001b[38;5;241m!=\u001b[39m \u001b[38;5;28mlen\u001b[39m(input_tensors):\n\u001b[1;32m    208\u001b[0m     \u001b[38;5;28;01mraise\u001b[39;00m \u001b[38;5;167;01mValueError\u001b[39;00m(\n\u001b[1;32m    209\u001b[0m         \u001b[38;5;124mf\u001b[39m\u001b[38;5;124m\"\u001b[39m\u001b[38;5;124mforward_chunk_fn expects \u001b[39m\u001b[38;5;132;01m{\u001b[39;00mnum_args_in_forward_chunk_fn\u001b[38;5;132;01m}\u001b[39;00m\u001b[38;5;124m arguments, but only \u001b[39m\u001b[38;5;132;01m{\u001b[39;00m\u001b[38;5;28mlen\u001b[39m(input_tensors)\u001b[38;5;132;01m}\u001b[39;00m\u001b[38;5;124m input \u001b[39m\u001b[38;5;124m\"\u001b[39m\n\u001b[1;32m    210\u001b[0m         \u001b[38;5;124m\"\u001b[39m\u001b[38;5;124mtensors are given\u001b[39m\u001b[38;5;124m\"\u001b[39m\n\u001b[1;32m    211\u001b[0m     )\n",
      "File \u001b[0;32m~/.pyenv/versions/3.10.6/lib/python3.10/inspect.py:3247\u001b[0m, in \u001b[0;36msignature\u001b[0;34m(obj, follow_wrapped, globals, locals, eval_str)\u001b[0m\n\u001b[1;32m   3245\u001b[0m \u001b[38;5;28;01mdef\u001b[39;00m \u001b[38;5;21msignature\u001b[39m(obj, \u001b[38;5;241m*\u001b[39m, follow_wrapped\u001b[38;5;241m=\u001b[39m\u001b[38;5;28;01mTrue\u001b[39;00m, \u001b[38;5;28mglobals\u001b[39m\u001b[38;5;241m=\u001b[39m\u001b[38;5;28;01mNone\u001b[39;00m, \u001b[38;5;28mlocals\u001b[39m\u001b[38;5;241m=\u001b[39m\u001b[38;5;28;01mNone\u001b[39;00m, eval_str\u001b[38;5;241m=\u001b[39m\u001b[38;5;28;01mFalse\u001b[39;00m):\n\u001b[1;32m   3246\u001b[0m     \u001b[38;5;124;03m\"\"\"Get a signature object for the passed callable.\"\"\"\u001b[39;00m\n\u001b[0;32m-> 3247\u001b[0m     \u001b[38;5;28;01mreturn\u001b[39;00m \u001b[43mSignature\u001b[49m\u001b[38;5;241;43m.\u001b[39;49m\u001b[43mfrom_callable\u001b[49m\u001b[43m(\u001b[49m\u001b[43mobj\u001b[49m\u001b[43m,\u001b[49m\u001b[43m \u001b[49m\u001b[43mfollow_wrapped\u001b[49m\u001b[38;5;241;43m=\u001b[39;49m\u001b[43mfollow_wrapped\u001b[49m\u001b[43m,\u001b[49m\n\u001b[1;32m   3248\u001b[0m \u001b[43m                                   \u001b[49m\u001b[38;5;28;43mglobals\u001b[39;49m\u001b[38;5;241;43m=\u001b[39;49m\u001b[38;5;28;43mglobals\u001b[39;49m\u001b[43m,\u001b[49m\u001b[43m \u001b[49m\u001b[38;5;28;43mlocals\u001b[39;49m\u001b[38;5;241;43m=\u001b[39;49m\u001b[38;5;28;43mlocals\u001b[39;49m\u001b[43m,\u001b[49m\u001b[43m \u001b[49m\u001b[43meval_str\u001b[49m\u001b[38;5;241;43m=\u001b[39;49m\u001b[43meval_str\u001b[49m\u001b[43m)\u001b[49m\n",
      "File \u001b[0;32m~/.pyenv/versions/3.10.6/lib/python3.10/inspect.py:2995\u001b[0m, in \u001b[0;36mSignature.from_callable\u001b[0;34m(cls, obj, follow_wrapped, globals, locals, eval_str)\u001b[0m\n\u001b[1;32m   2991\u001b[0m \u001b[38;5;129m@classmethod\u001b[39m\n\u001b[1;32m   2992\u001b[0m \u001b[38;5;28;01mdef\u001b[39;00m \u001b[38;5;21mfrom_callable\u001b[39m(\u001b[38;5;28mcls\u001b[39m, obj, \u001b[38;5;241m*\u001b[39m,\n\u001b[1;32m   2993\u001b[0m                   follow_wrapped\u001b[38;5;241m=\u001b[39m\u001b[38;5;28;01mTrue\u001b[39;00m, \u001b[38;5;28mglobals\u001b[39m\u001b[38;5;241m=\u001b[39m\u001b[38;5;28;01mNone\u001b[39;00m, \u001b[38;5;28mlocals\u001b[39m\u001b[38;5;241m=\u001b[39m\u001b[38;5;28;01mNone\u001b[39;00m, eval_str\u001b[38;5;241m=\u001b[39m\u001b[38;5;28;01mFalse\u001b[39;00m):\n\u001b[1;32m   2994\u001b[0m     \u001b[38;5;124;03m\"\"\"Constructs Signature for the given callable object.\"\"\"\u001b[39;00m\n\u001b[0;32m-> 2995\u001b[0m     \u001b[38;5;28;01mreturn\u001b[39;00m \u001b[43m_signature_from_callable\u001b[49m\u001b[43m(\u001b[49m\u001b[43mobj\u001b[49m\u001b[43m,\u001b[49m\u001b[43m \u001b[49m\u001b[43msigcls\u001b[49m\u001b[38;5;241;43m=\u001b[39;49m\u001b[38;5;28;43mcls\u001b[39;49m\u001b[43m,\u001b[49m\n\u001b[1;32m   2996\u001b[0m \u001b[43m                                    \u001b[49m\u001b[43mfollow_wrapper_chains\u001b[49m\u001b[38;5;241;43m=\u001b[39;49m\u001b[43mfollow_wrapped\u001b[49m\u001b[43m,\u001b[49m\n\u001b[1;32m   2997\u001b[0m \u001b[43m                                    \u001b[49m\u001b[38;5;28;43mglobals\u001b[39;49m\u001b[38;5;241;43m=\u001b[39;49m\u001b[38;5;28;43mglobals\u001b[39;49m\u001b[43m,\u001b[49m\u001b[43m \u001b[49m\u001b[38;5;28;43mlocals\u001b[39;49m\u001b[38;5;241;43m=\u001b[39;49m\u001b[38;5;28;43mlocals\u001b[39;49m\u001b[43m,\u001b[49m\u001b[43m \u001b[49m\u001b[43meval_str\u001b[49m\u001b[38;5;241;43m=\u001b[39;49m\u001b[43meval_str\u001b[49m\u001b[43m)\u001b[49m\n",
      "File \u001b[0;32m~/.pyenv/versions/3.10.6/lib/python3.10/inspect.py:2397\u001b[0m, in \u001b[0;36m_signature_from_callable\u001b[0;34m(obj, follow_wrapper_chains, skip_bound_arg, globals, locals, eval_str, sigcls)\u001b[0m\n\u001b[1;32m   2392\u001b[0m     \u001b[38;5;28;01mraise\u001b[39;00m \u001b[38;5;167;01mTypeError\u001b[39;00m(\u001b[38;5;124m'\u001b[39m\u001b[38;5;132;01m{!r}\u001b[39;00m\u001b[38;5;124m is not a callable object\u001b[39m\u001b[38;5;124m'\u001b[39m\u001b[38;5;241m.\u001b[39mformat(obj))\n\u001b[1;32m   2394\u001b[0m \u001b[38;5;28;01mif\u001b[39;00m \u001b[38;5;28misinstance\u001b[39m(obj, types\u001b[38;5;241m.\u001b[39mMethodType):\n\u001b[1;32m   2395\u001b[0m     \u001b[38;5;66;03m# In this case we skip the first parameter of the underlying\u001b[39;00m\n\u001b[1;32m   2396\u001b[0m     \u001b[38;5;66;03m# function (usually `self` or `cls`).\u001b[39;00m\n\u001b[0;32m-> 2397\u001b[0m     sig \u001b[38;5;241m=\u001b[39m \u001b[43m_get_signature_of\u001b[49m\u001b[43m(\u001b[49m\u001b[43mobj\u001b[49m\u001b[38;5;241;43m.\u001b[39;49m\u001b[38;5;18;43m__func__\u001b[39;49m\u001b[43m)\u001b[49m\n\u001b[1;32m   2399\u001b[0m     \u001b[38;5;28;01mif\u001b[39;00m skip_bound_arg:\n\u001b[1;32m   2400\u001b[0m         \u001b[38;5;28;01mreturn\u001b[39;00m _signature_bound_method(sig)\n",
      "File \u001b[0;32m~/.pyenv/versions/3.10.6/lib/python3.10/inspect.py:2456\u001b[0m, in \u001b[0;36m_signature_from_callable\u001b[0;34m(obj, follow_wrapper_chains, skip_bound_arg, globals, locals, eval_str, sigcls)\u001b[0m\n\u001b[1;32m   2451\u001b[0m             \u001b[38;5;28;01mreturn\u001b[39;00m sig\u001b[38;5;241m.\u001b[39mreplace(parameters\u001b[38;5;241m=\u001b[39mnew_params)\n\u001b[1;32m   2453\u001b[0m \u001b[38;5;28;01mif\u001b[39;00m isfunction(obj) \u001b[38;5;129;01mor\u001b[39;00m _signature_is_functionlike(obj):\n\u001b[1;32m   2454\u001b[0m     \u001b[38;5;66;03m# If it's a pure Python function, or an object that is duck type\u001b[39;00m\n\u001b[1;32m   2455\u001b[0m     \u001b[38;5;66;03m# of a Python function (Cython functions, for instance), then:\u001b[39;00m\n\u001b[0;32m-> 2456\u001b[0m     \u001b[38;5;28;01mreturn\u001b[39;00m \u001b[43m_signature_from_function\u001b[49m\u001b[43m(\u001b[49m\u001b[43msigcls\u001b[49m\u001b[43m,\u001b[49m\u001b[43m \u001b[49m\u001b[43mobj\u001b[49m\u001b[43m,\u001b[49m\n\u001b[1;32m   2457\u001b[0m \u001b[43m                                    \u001b[49m\u001b[43mskip_bound_arg\u001b[49m\u001b[38;5;241;43m=\u001b[39;49m\u001b[43mskip_bound_arg\u001b[49m\u001b[43m,\u001b[49m\n\u001b[1;32m   2458\u001b[0m \u001b[43m                                    \u001b[49m\u001b[38;5;28;43mglobals\u001b[39;49m\u001b[38;5;241;43m=\u001b[39;49m\u001b[38;5;28;43mglobals\u001b[39;49m\u001b[43m,\u001b[49m\u001b[43m \u001b[49m\u001b[38;5;28;43mlocals\u001b[39;49m\u001b[38;5;241;43m=\u001b[39;49m\u001b[38;5;28;43mlocals\u001b[39;49m\u001b[43m,\u001b[49m\u001b[43m \u001b[49m\u001b[43meval_str\u001b[49m\u001b[38;5;241;43m=\u001b[39;49m\u001b[43meval_str\u001b[49m\u001b[43m)\u001b[49m\n\u001b[1;32m   2460\u001b[0m \u001b[38;5;28;01mif\u001b[39;00m _signature_is_builtin(obj):\n\u001b[1;32m   2461\u001b[0m     \u001b[38;5;28;01mreturn\u001b[39;00m _signature_from_builtin(sigcls, obj,\n\u001b[1;32m   2462\u001b[0m                                    skip_bound_arg\u001b[38;5;241m=\u001b[39mskip_bound_arg)\n",
      "File \u001b[0;32m~/.pyenv/versions/3.10.6/lib/python3.10/inspect.py:2327\u001b[0m, in \u001b[0;36m_signature_from_function\u001b[0;34m(cls, func, skip_bound_arg, globals, locals, eval_str)\u001b[0m\n\u001b[1;32m   2324\u001b[0m         posonly_left \u001b[38;5;241m-\u001b[39m\u001b[38;5;241m=\u001b[39m \u001b[38;5;241m1\u001b[39m\n\u001b[1;32m   2326\u001b[0m \u001b[38;5;66;03m# ... w/ defaults.\u001b[39;00m\n\u001b[0;32m-> 2327\u001b[0m \u001b[38;5;28;01mfor\u001b[39;00m offset, name \u001b[38;5;129;01min\u001b[39;00m \u001b[38;5;28;43menumerate\u001b[39;49m\u001b[43m(\u001b[49m\u001b[43mpositional\u001b[49m\u001b[43m[\u001b[49m\u001b[43mnon_default_count\u001b[49m\u001b[43m:\u001b[49m\u001b[43m]\u001b[49m\u001b[43m)\u001b[49m:\n\u001b[1;32m   2328\u001b[0m     kind \u001b[38;5;241m=\u001b[39m _POSITIONAL_ONLY \u001b[38;5;28;01mif\u001b[39;00m posonly_left \u001b[38;5;28;01melse\u001b[39;00m _POSITIONAL_OR_KEYWORD\n\u001b[1;32m   2329\u001b[0m     annotation \u001b[38;5;241m=\u001b[39m annotations\u001b[38;5;241m.\u001b[39mget(name, _empty)\n",
      "\u001b[0;31mKeyboardInterrupt\u001b[0m: "
     ]
    }
   ],
   "source": [
    "#For the entire dataset ... (only a few in the following example) ... change this value\n",
    "index = 0\n",
    "for row in senators['initiative_list']:\n",
    "    resumentList_2 = []\n",
    "    inputsList_2 = []\n",
    "\n",
    "    summarizeRow(row, resumentList_2, inputsList_2)\n",
    "    senators['BETO_summary'][index] = resumentList_2\n",
    "    index += 1\n",
    "    #print(inputsList_2)\n",
    "    print (index)\n",
    "    #print(resumentList_2)\n",
    "\n",
    "senators.head(2)"
   ]
  },
  {
   "cell_type": "code",
   "execution_count": null,
   "id": "355ea576",
   "metadata": {
    "scrolled": true
   },
   "outputs": [],
   "source": [
    "(senators[\"BETO_summary\"][35])"
   ]
  },
  {
   "cell_type": "code",
   "execution_count": null,
   "id": "6ecc4471",
   "metadata": {},
   "outputs": [],
   "source": [
    "senators.to_csv(r'/Users/mimihuerta/code/jomilu93/sivico/data/senators_data_updated.csv')"
   ]
  },
  {
   "cell_type": "markdown",
   "id": "090e1d9a",
   "metadata": {},
   "source": [
    "https://albertauyeung.github.io/2020/06/19/bert-tokenization.html/"
   ]
  },
  {
   "cell_type": "markdown",
   "id": "24747a76",
   "metadata": {
    "heading_collapsed": true
   },
   "source": [
    "### Option 3 -- deprecated"
   ]
  },
  {
   "cell_type": "code",
   "execution_count": null,
   "id": "9c0fa181",
   "metadata": {
    "hidden": true
   },
   "outputs": [],
   "source": [
    "from transformers import AutoTokenizer, AutoModelForMaskedLM"
   ]
  },
  {
   "cell_type": "code",
   "execution_count": null,
   "id": "5c8a635c",
   "metadata": {
    "hidden": true
   },
   "outputs": [],
   "source": [
    "tokenizer = AutoTokenizer.from_pretrained(\"dccuchile/bert-base-spanish-wwm-uncased\")\n",
    "model = AutoModelForMaskedLM.from_pretrained(\"dccuchile/bert-base-spanish-wwm-uncased\")"
   ]
  },
  {
   "cell_type": "code",
   "execution_count": null,
   "id": "db2bc4a5",
   "metadata": {
    "hidden": true
   },
   "outputs": [],
   "source": [
    "inputs_2 = tokenizer.encode(\"RESUMEN: \" + a, return_tensors=\"pt\", max_length=1000, truncation=True)\n",
    "inputs_2"
   ]
  },
  {
   "cell_type": "code",
   "execution_count": null,
   "id": "91ad5595",
   "metadata": {
    "hidden": true
   },
   "outputs": [],
   "source": [
    "resumen_2 = model.generate(\n",
    "    inputs, \n",
    "    max_length=500, \n",
    "    min_length=40, \n",
    "    length_penalty=2.0, \n",
    "    num_beams=4, \n",
    "    early_stopping=True)"
   ]
  },
  {
   "cell_type": "code",
   "execution_count": null,
   "id": "fef8f8c1",
   "metadata": {
    "hidden": true
   },
   "outputs": [],
   "source": [
    "print(tokenizer.decode(resumen_2[0]))"
   ]
  },
  {
   "cell_type": "markdown",
   "id": "4d543df9",
   "metadata": {
    "heading_collapsed": true
   },
   "source": [
    "### Notes"
   ]
  },
  {
   "cell_type": "code",
   "execution_count": null,
   "id": "81554bbc",
   "metadata": {
    "hidden": true
   },
   "outputs": [],
   "source": [
    "tokenizer.model_max_lenght\n",
    "model.config.max_position_embeddings()\n",
    "embeddings = TransformerWordEmbeddings(\n",
    "    \"path/to/model\",\n",
    "    layers=\"-1\",\n",
    "    subtoken_pooling=\"first\",\n",
    "    fine_tune=True,\n",
    "    use_context=True,\n",
    "    allow_long_sentences=True,\n",
    "    model_max_length=512  # pass length"
   ]
  }
 ],
 "metadata": {
  "kernelspec": {
   "display_name": "Python 3 (ipykernel)",
   "language": "python",
   "name": "python3"
  },
  "language_info": {
   "codemirror_mode": {
    "name": "ipython",
    "version": 3
   },
   "file_extension": ".py",
   "mimetype": "text/x-python",
   "name": "python",
   "nbconvert_exporter": "python",
   "pygments_lexer": "ipython3",
   "version": "3.10.6"
  },
  "toc": {
   "base_numbering": 1,
   "nav_menu": {},
   "number_sections": true,
   "sideBar": true,
   "skip_h1_title": false,
   "title_cell": "Table of Contents",
   "title_sidebar": "Contents",
   "toc_cell": false,
   "toc_position": {},
   "toc_section_display": true,
   "toc_window_display": false
  }
 },
 "nbformat": 4,
 "nbformat_minor": 5
}
