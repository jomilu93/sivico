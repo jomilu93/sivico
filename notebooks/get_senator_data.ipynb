{
 "cells": [
  {
   "attachments": {},
   "cell_type": "markdown",
   "id": "84965b53",
   "metadata": {},
   "source": [
    "# Mexican Senate Data"
   ]
  },
  {
   "attachments": {},
   "cell_type": "markdown",
   "id": "3cff8044",
   "metadata": {
    "heading_collapsed": true
   },
   "source": [
    "## Importing necessary libraries"
   ]
  },
  {
   "cell_type": "code",
   "execution_count": 1,
   "id": "0e3e2d92",
   "metadata": {
    "hidden": true
   },
   "outputs": [],
   "source": [
    "# importing required modules\n",
    "import requests\n",
    "import pandas as pd\n",
    "import seaborn as sns\n",
    "from bs4 import BeautifulSoup\n",
    "import numpy as np\n",
    "from lxml import etree\n",
    "import re\n",
    "from selenium import webdriver\n",
    "import time"
   ]
  },
  {
   "attachments": {},
   "cell_type": "markdown",
   "id": "553fdc5e",
   "metadata": {},
   "source": [
    "## Senator Database, Exports to CSV in data folder."
   ]
  },
  {
   "attachments": {},
   "cell_type": "markdown",
   "id": "0ceb27dd",
   "metadata": {},
   "source": [
    "### Importing senator table"
   ]
  },
  {
   "cell_type": "code",
   "execution_count": 171,
   "id": "819542dd",
   "metadata": {},
   "outputs": [],
   "source": [
    "def get_senators():\n",
    "    senators_url = 'https://www.senado.gob.mx/65/datosAbiertos/senadoresDatosAb.json'\n",
    "    senators_json = requests.get(senators_url).json()\n",
    "    senators = pd.DataFrame.from_dict(senators_json)\n",
    "    senators = senators.rename(columns={\"idSenador\": \"senator_id\"})\n",
    "    return senators"
   ]
  },
  {
   "cell_type": "code",
   "execution_count": 172,
   "id": "6daef222",
   "metadata": {},
   "outputs": [],
   "source": [
    "senators = get_senators()"
   ]
  },
  {
   "cell_type": "code",
   "execution_count": 173,
   "id": "59dc21b8",
   "metadata": {},
   "outputs": [],
   "source": [
    "#Creating a field that includes first and last names to join with initiatives+proposals table.\n",
    "senators[\"senadores\"] = senators[\"Nombre\"].str.strip()+\" \"+senators[\"Apellidos\"].str.strip()"
   ]
  },
  {
   "attachments": {},
   "cell_type": "markdown",
   "id": "68f4c529",
   "metadata": {},
   "source": [
    "### Importing attendance data and adding to senator table"
   ]
  },
  {
   "cell_type": "code",
   "execution_count": 5,
   "id": "ee10eb1a",
   "metadata": {},
   "outputs": [],
   "source": [
    "def get_senator_attendance():\n",
    "    \n",
    "    senators = get_senators()\n",
    "    \n",
    "    senator_ids = senators[\"senator_id\"].tolist()\n",
    "    \n",
    "    senator_attendance = pd.DataFrame()\n",
    "    senator_attendance[\"senator_id\"] = \"\"\n",
    "    senator_attendance[\"session_date\"] = \"\"\n",
    "    senator_attendance[\"attendance_record\"] = \"\"\n",
    "\n",
    "    counter = 0\n",
    "    for sen in senator_ids:\n",
    "        url = f'https://www.senado.gob.mx/65/asistencias/{sen}#info'\n",
    "        html = requests.get(url)\n",
    "        content = BeautifulSoup(html.text, 'html.parser')\n",
    "        content_x = etree.HTML(str(content))\n",
    "        dates = content_x.xpath('//*[@id=\"imPage\"]/div[7]/div[2]/div/div[2]/section/div/div/table/tbody//a')\n",
    "        att_records = content_x.xpath('//*[@id=\"imPage\"]/div[7]/div[2]/div/div[2]/section/div/div/table/tbody//strong')\n",
    "        for i in range(len(dates)):\n",
    "            senator_attendance.at[i+counter, 'senator_id'] = sen\n",
    "            senator_attendance.at[i+counter, 'session_date'] = dates[i].text\n",
    "            senator_attendance.at[i+counter, 'attendance_record'] = att_records[i].text\n",
    "        counter += len(dates)\n",
    "\n",
    "    senator_attendance[\"attendance_score\"] = senator_attendance[\"attendance_record\"].copy()\n",
    "    senator_attendance[\"attendance_score\"] = senator_attendance[\"attendance_score\"].map(lambda x: 1 if x == \"Asistencia\" else 0)\n",
    "    senator_attendance = pd.merge(senator_attendance, senators[['senator_id','Fraccion', 'Estado', 'Apellidos', 'Nombre', 'tipoEleccion']], on='senator_id', how='left')\n",
    "\n",
    "    senator_attendance[\"full_name\"] = senator_attendance['Nombre'] + \" \" + senator_attendance['Apellidos']\n",
    "    \n",
    "    senator_attendance = senator_attendance.groupby(['senator_id', 'full_name', 'Fraccion', 'Estado', 'tipoEleccion'], as_index=False)[['attendance_score']].mean()\n",
    "\n",
    "    return senator_attendance"
   ]
  },
  {
   "cell_type": "code",
   "execution_count": 6,
   "id": "6a6ee014",
   "metadata": {},
   "outputs": [],
   "source": [
    "senator_attendance = get_senator_attendance()"
   ]
  },
  {
   "cell_type": "code",
   "execution_count": 174,
   "id": "0cd7a086",
   "metadata": {
    "scrolled": true
   },
   "outputs": [],
   "source": [
    "senators = senators.merge(senator_attendance[[\"senator_id\", \"attendance_score\"]], how=\"left\", on=\"senator_id\")"
   ]
  },
  {
   "attachments": {},
   "cell_type": "markdown",
   "id": "904e3618",
   "metadata": {},
   "source": [
    "### Importing initiatives and proposals, concatenating both and adding senator ids"
   ]
  },
  {
   "cell_type": "code",
   "execution_count": 8,
   "id": "388f8dd3",
   "metadata": {},
   "outputs": [],
   "source": [
    "def get_initiatives():\n",
    "    \"\"\"fucntion that extracts initiatives from Senate JSON.\"\"\"\n",
    "    \n",
    "    init_64_url = 'https://www.senado.gob.mx/65/datosAbiertos/iniciativa_64.json'\n",
    "    init_65_url = 'https://www.senado.gob.mx/65/datosAbiertos/iniciativa_65.json'\n",
    "    \n",
    "    init_64_json = requests.get(init_64_url).json()\n",
    "    init_65_json = requests.get(init_65_url).json()\n",
    "    \n",
    "    init_64 = pd.DataFrame.from_dict(init_64_json)\n",
    "    init_65 = pd.DataFrame.from_dict(init_65_json)\n",
    "    \n",
    "    initiatives = pd.concat([init_64, init_65])\n",
    "    \n",
    "    initiatives['fecha_presentacion'] = pd.to_datetime(initiatives['fecha_presentacion'],errors='coerce')\n",
    "    initiatives['fecha_aprobacion'] = pd.to_datetime(initiatives['fecha_aprobacion'],errors='coerce')\n",
    "    \n",
    "    initiatives = initiatives.set_index('id')\n",
    "        \n",
    "    return initiatives"
   ]
  },
  {
   "cell_type": "code",
   "execution_count": 9,
   "id": "8aa36e10",
   "metadata": {},
   "outputs": [],
   "source": [
    "def get_proposals():\n",
    "    \"\"\"fucntion that extracts proposals from Senate JSON.\"\"\"\n",
    "    \n",
    "    prop_64_url = 'https://www.senado.gob.mx/65/datosAbiertos/proposicion_64.json'\n",
    "    prop_65_url = 'https://www.senado.gob.mx/65/datosAbiertos/proposicion_65.json'\n",
    "    \n",
    "    prop_64_json = requests.get(prop_64_url).json()\n",
    "    prop_65_json = requests.get(prop_65_url).json()\n",
    "    \n",
    "    prop_64 = pd.DataFrame.from_dict(prop_64_json)\n",
    "    prop_65 = pd.DataFrame.from_dict(prop_65_json)\n",
    "    \n",
    "    proposals = pd.concat([prop_64, prop_65])\n",
    "    \n",
    "    proposals['fecha_presentacion'] = pd.to_datetime(proposals['fecha_presentacion'],errors='coerce')\n",
    "    proposals['fecha_aprobacion'] = pd.to_datetime(proposals['fecha_aprobacion'],errors='coerce')\n",
    "    \n",
    "    proposals = proposals.set_index('id')\n",
    "    \n",
    "    return proposals"
   ]
  },
  {
   "cell_type": "code",
   "execution_count": 179,
   "id": "557b1ee1",
   "metadata": {},
   "outputs": [],
   "source": [
    "#Create concatenated df that includes initiatives and proposals.\n",
    "initiatives = get_initiatives()\n",
    "proposals = get_proposals()\n",
    "inipros = pd.concat([initiatives, proposals])"
   ]
  },
  {
   "cell_type": "code",
   "execution_count": 176,
   "id": "e8194ee0",
   "metadata": {},
   "outputs": [
    {
     "name": "stdout",
     "output_type": "stream",
     "text": [
      "Inipros df has 9396 initiatives with 13 features.\n"
     ]
    }
   ],
   "source": [
    "print(f\"Inipros df has {inipros.shape[0]} initiatives with {inipros.shape[1]} features.\")"
   ]
  },
  {
   "cell_type": "code",
   "execution_count": 180,
   "id": "8aaa02f6",
   "metadata": {},
   "outputs": [],
   "source": [
    "#creates a 1:1 relationship between initiative/proposal and senator (in case where more than 1 senator proposes).\n",
    "inipros[\"senadores\"] = inipros[\"senadores\"].apply(lambda x:x.strip().split(\"<br>\"))\n",
    "\n",
    "for i, row in inipros.iterrows():\n",
    "    senator_ids = []\n",
    "    for senator in row[\"senadores\"]:\n",
    "        strt_pos = senator.find('(')\n",
    "        senator = senator[:strt_pos-1].strip()\n",
    "        senator_ids.append(senator)\n",
    "    inipros.at[i, \"senadores\"] = senator_ids[:-1]\n",
    "\n",
    "inipros = inipros.explode(\"senadores\")"
   ]
  },
  {
   "cell_type": "code",
   "execution_count": 181,
   "id": "699993c8",
   "metadata": {},
   "outputs": [],
   "source": [
    "#Manually change names in inipros so they match senator names from senator table.\n",
    "\n",
    "inipros.loc[inipros[\"senadores\"] == \"Geovanna del Carmen Bañuelos de La Torre\", \"senadores\"] = \"Geovanna Bañuelos\"\n",
    "inipros.loc[inipros[\"senadores\"] == \"Noé Fernando Castañón Ramírez\", \"senadores\"] = \"Noé Castañón\"\n",
    "inipros.loc[inipros[\"senadores\"] == \"José Clemente Castañeda Hoeflich\", \"senadores\"] = \"Clemente Castañeda Hoeflich\"\n",
    "inipros.loc[inipros[\"senadores\"] == \"Juan Manuel Zepeda Hernández\", \"senadores\"] = \"Juan Zepeda\"\n",
    "inipros.loc[inipros[\"senadores\"] == \"Patricia Mercado Castro\", \"senadores\"] = \"Patricia Mercado\"\n",
    "inipros.loc[inipros[\"senadores\"] == \"Dante Delgado Rannauro\", \"senadores\"] = \"Dante Delgado\"\n",
    "inipros.loc[inipros[\"senadores\"] == \"Bertha Xóchitl Gálvez Ruiz\", \"senadores\"] = \"Xóchitl Gálvez Ruiz\"\n",
    "inipros.loc[inipros[\"senadores\"] == \"Lilly Téllez García\", \"senadores\"] = \"Lilly Téllez\"\n",
    "inipros.loc[inipros[\"senadores\"] == \"Raúl Bolaños Cacho Cué\", \"senadores\"] = \"Raúl Bolaños-Cacho Cué\"\n",
    "inipros.loc[inipros[\"senadores\"] == \"Elvia Marcela Mora Arellano\", \"senadores\"] = \"Marcela Mora\"\n",
    "inipros.loc[inipros[\"senadores\"] == \"Minerva Citlalli Hernández Mora\", \"senadores\"] = \"M. Citlalli Hernández Mora\""
   ]
  },
  {
   "cell_type": "code",
   "execution_count": 182,
   "id": "7cf07de1",
   "metadata": {},
   "outputs": [],
   "source": [
    "#Inner join on senator names to ensure only initiatives that match senator ids from table remain.\n",
    "inipros = inipros.merge(senators[[\"senadores\", \"senator_id\"]], how='left', on='senadores')"
   ]
  },
  {
   "cell_type": "code",
   "execution_count": 161,
   "id": "853e4c7a",
   "metadata": {},
   "outputs": [
    {
     "name": "stdout",
     "output_type": "stream",
     "text": [
      "Inipros df has 12828 initiatives with 14 features.\n"
     ]
    }
   ],
   "source": [
    "print(f\"Inipros df has {inipros.shape[0]} initiatives with {inipros.shape[1]} features.\")"
   ]
  },
  {
   "cell_type": "code",
   "execution_count": 184,
   "id": "889ff46e",
   "metadata": {},
   "outputs": [
    {
     "name": "stdout",
     "output_type": "stream",
     "text": [
      "Inipros df has 9014 initiatives with 14 features.\n"
     ]
    }
   ],
   "source": [
    "print(f\"Inipros df has {inipros.shape[0]} initiatives with {inipros.shape[1]} features.\")"
   ]
  },
  {
   "attachments": {},
   "cell_type": "markdown",
   "id": "f7aa6bff",
   "metadata": {},
   "source": [
    "### Add list of initiative strings back to senator table"
   ]
  },
  {
   "cell_type": "code",
   "execution_count": 185,
   "id": "55a67e84",
   "metadata": {},
   "outputs": [],
   "source": [
    "senators[\"initiative_list\"] = \"\""
   ]
  },
  {
   "cell_type": "code",
   "execution_count": 186,
   "id": "d13916e3",
   "metadata": {},
   "outputs": [],
   "source": [
    "#Function that creates a list of initiative syntheses and then adds to senator database.\n",
    "for i, row in senators.iterrows():\n",
    "    initiatives = []\n",
    "    relevant_inipros = inipros[inipros[\"senator_id\"] == str(row[\"senator_id\"])][\"sintesis\"]\n",
    "    [initiatives.append(initiative.replace('\\r\\n\\r\\n', ' ')) for initiative in relevant_inipros]\n",
    "    senators.at[i, \"initiative_list\"] = initiatives"
   ]
  },
  {
   "cell_type": "code",
   "execution_count": 187,
   "id": "2fb65405",
   "metadata": {},
   "outputs": [],
   "source": [
    "#Creates dummy summary of a all initiatives, to be replaced by BERT or BETO summaries.\n",
    "senators[\"initiatives_summary_dummy\"] = senators[\"initiative_list\"].apply(lambda x: \"\".join(x))"
   ]
  },
  {
   "attachments": {},
   "cell_type": "markdown",
   "id": "aad985af",
   "metadata": {},
   "source": [
    "### Export file to CSV in data folder"
   ]
  },
  {
   "cell_type": "code",
   "execution_count": 189,
   "id": "cd991315",
   "metadata": {},
   "outputs": [],
   "source": [
    "senators.to_csv(r'/Users/jmlunamugica/code/jomilu93/sivico/senators_data.csv')"
   ]
  },
  {
   "attachments": {},
   "cell_type": "markdown",
   "id": "a33cf11d",
   "metadata": {
    "heading_collapsed": true
   },
   "source": [
    "# Classifying initiatives & proposals into topics with LDA (DEPRECATED)"
   ]
  },
  {
   "attachments": {},
   "cell_type": "markdown",
   "id": "9aca4de7",
   "metadata": {
    "heading_collapsed": true,
    "hidden": true
   },
   "source": [
    "## LDA Approach"
   ]
  },
  {
   "attachments": {},
   "cell_type": "markdown",
   "id": "4372e5aa",
   "metadata": {
    "heading_collapsed": true,
    "hidden": true
   },
   "source": [
    "### Preprocessing text"
   ]
  },
  {
   "cell_type": "code",
   "execution_count": 244,
   "id": "06d3988d",
   "metadata": {
    "hidden": true
   },
   "outputs": [],
   "source": [
    "import string\n",
    "from nltk.corpus import stopwords \n",
    "from nltk import word_tokenize\n",
    "from nltk.stem import WordNetLemmatizer\n",
    "import re"
   ]
  },
  {
   "cell_type": "code",
   "execution_count": 257,
   "id": "0579bd67",
   "metadata": {
    "hidden": true
   },
   "outputs": [],
   "source": [
    "def clean(column):\n",
    "    \"\"\"Remove punctuation, make strings lower case, remove numbers. Tokenize, remove stopwords and lemmatize.\"\"\"\n",
    "    #Removing punctuation.\n",
    "    for punctuation in string.punctuation:\n",
    "        column = column.apply(lambda x: x.replace(punctuation, ''))\n",
    "    #Making lower case and removing whitespace.\n",
    "    column = column.apply(lambda x: x.lower().strip())\n",
    "    #Removing numbers\n",
    "    column = column.apply(lambda x: re.sub(r'[0-9]', '', x))\n",
    "    #Tokenize all rows.\n",
    "    column = column.apply(lambda x: word_tokenize(x))\n",
    "    #Remove stopwords and words too frequently present in initiative language.\n",
    "    stop_words = set(stopwords.words('spanish'))\n",
    "    stop_words_extra = (\"exhorta\", \"modificar\", \"actualizar\", \"política\", \"general\", \"caso\", \"derecho\", \"materia\", \"virtud\", \"referencias\", \"cambiar\", \"deberán\", \"día\", \"año\", \"denominación\", \"distrito\", \"cámara\", \"senadores\", \"normativa\", \"senado\", \"objetivo\", \"cumplimiento\", \"ordenamiento\", \"república\", \"reforma\", \"cada\", \"dar\", \"federal\", \"secretaría\", \"mención\", \"paso\", \"dejar\", \"principio\", \"ser\", \"paridad\", \"así\", \"derechos\", \"reformar\", \"propone\", \"nacional\", \"establecer\", \"méxico\", \"persona\", \"ley\", \"ciudad\", \"deberá\", \"legal\", \"personas\")\n",
    "    column = column.apply(lambda x: [w for w in x if w not in stop_words])\n",
    "    column = column.apply(lambda x: [w for w in x if w not in stop_words_extra])\n",
    "    # Lemmatizing the verbs\n",
    "    column = column.apply(lambda x: [WordNetLemmatizer().lemmatize(word, pos = \"v\") for word in x])\n",
    "    # 2 - Lemmatizing the nouns\n",
    "    column = column.apply(lambda x: [WordNetLemmatizer().lemmatize(word, pos = \"n\") for word in x])\n",
    "    # Rejoin words to make sentences\n",
    "    column = column.apply(lambda x: \" \".join(x))\n",
    "    return column"
   ]
  },
  {
   "cell_type": "code",
   "execution_count": 258,
   "id": "d4cbb058",
   "metadata": {
    "hidden": true
   },
   "outputs": [],
   "source": [
    "inipros[\"sintesis_clean\"] = clean(inipros[\"sintesis\"])"
   ]
  },
  {
   "attachments": {},
   "cell_type": "markdown",
   "id": "9c992ee9",
   "metadata": {
    "heading_collapsed": true,
    "hidden": true
   },
   "source": [
    "### Training vectorization model"
   ]
  },
  {
   "cell_type": "code",
   "execution_count": 252,
   "id": "0e5c5156",
   "metadata": {
    "hidden": true
   },
   "outputs": [],
   "source": [
    "from sklearn.feature_extraction.text import TfidfVectorizer\n",
    "from sklearn.decomposition import LatentDirichletAllocation"
   ]
  },
  {
   "cell_type": "code",
   "execution_count": 259,
   "id": "58c68098",
   "metadata": {
    "hidden": true
   },
   "outputs": [
    {
     "data": {
      "text/html": [
       "<style>#sk-container-id-2 {color: black;background-color: white;}#sk-container-id-2 pre{padding: 0;}#sk-container-id-2 div.sk-toggleable {background-color: white;}#sk-container-id-2 label.sk-toggleable__label {cursor: pointer;display: block;width: 100%;margin-bottom: 0;padding: 0.3em;box-sizing: border-box;text-align: center;}#sk-container-id-2 label.sk-toggleable__label-arrow:before {content: \"▸\";float: left;margin-right: 0.25em;color: #696969;}#sk-container-id-2 label.sk-toggleable__label-arrow:hover:before {color: black;}#sk-container-id-2 div.sk-estimator:hover label.sk-toggleable__label-arrow:before {color: black;}#sk-container-id-2 div.sk-toggleable__content {max-height: 0;max-width: 0;overflow: hidden;text-align: left;background-color: #f0f8ff;}#sk-container-id-2 div.sk-toggleable__content pre {margin: 0.2em;color: black;border-radius: 0.25em;background-color: #f0f8ff;}#sk-container-id-2 input.sk-toggleable__control:checked~div.sk-toggleable__content {max-height: 200px;max-width: 100%;overflow: auto;}#sk-container-id-2 input.sk-toggleable__control:checked~label.sk-toggleable__label-arrow:before {content: \"▾\";}#sk-container-id-2 div.sk-estimator input.sk-toggleable__control:checked~label.sk-toggleable__label {background-color: #d4ebff;}#sk-container-id-2 div.sk-label input.sk-toggleable__control:checked~label.sk-toggleable__label {background-color: #d4ebff;}#sk-container-id-2 input.sk-hidden--visually {border: 0;clip: rect(1px 1px 1px 1px);clip: rect(1px, 1px, 1px, 1px);height: 1px;margin: -1px;overflow: hidden;padding: 0;position: absolute;width: 1px;}#sk-container-id-2 div.sk-estimator {font-family: monospace;background-color: #f0f8ff;border: 1px dotted black;border-radius: 0.25em;box-sizing: border-box;margin-bottom: 0.5em;}#sk-container-id-2 div.sk-estimator:hover {background-color: #d4ebff;}#sk-container-id-2 div.sk-parallel-item::after {content: \"\";width: 100%;border-bottom: 1px solid gray;flex-grow: 1;}#sk-container-id-2 div.sk-label:hover label.sk-toggleable__label {background-color: #d4ebff;}#sk-container-id-2 div.sk-serial::before {content: \"\";position: absolute;border-left: 1px solid gray;box-sizing: border-box;top: 0;bottom: 0;left: 50%;z-index: 0;}#sk-container-id-2 div.sk-serial {display: flex;flex-direction: column;align-items: center;background-color: white;padding-right: 0.2em;padding-left: 0.2em;position: relative;}#sk-container-id-2 div.sk-item {position: relative;z-index: 1;}#sk-container-id-2 div.sk-parallel {display: flex;align-items: stretch;justify-content: center;background-color: white;position: relative;}#sk-container-id-2 div.sk-item::before, #sk-container-id-2 div.sk-parallel-item::before {content: \"\";position: absolute;border-left: 1px solid gray;box-sizing: border-box;top: 0;bottom: 0;left: 50%;z-index: -1;}#sk-container-id-2 div.sk-parallel-item {display: flex;flex-direction: column;z-index: 1;position: relative;background-color: white;}#sk-container-id-2 div.sk-parallel-item:first-child::after {align-self: flex-end;width: 50%;}#sk-container-id-2 div.sk-parallel-item:last-child::after {align-self: flex-start;width: 50%;}#sk-container-id-2 div.sk-parallel-item:only-child::after {width: 0;}#sk-container-id-2 div.sk-dashed-wrapped {border: 1px dashed gray;margin: 0 0.4em 0.5em 0.4em;box-sizing: border-box;padding-bottom: 0.4em;background-color: white;}#sk-container-id-2 div.sk-label label {font-family: monospace;font-weight: bold;display: inline-block;line-height: 1.2em;}#sk-container-id-2 div.sk-label-container {text-align: center;}#sk-container-id-2 div.sk-container {/* jupyter's `normalize.less` sets `[hidden] { display: none; }` but bootstrap.min.css set `[hidden] { display: none !important; }` so we also need the `!important` here to be able to override the default hidden behavior on the sphinx rendered scikit-learn.org. See: https://github.com/scikit-learn/scikit-learn/issues/21755 */display: inline-block !important;position: relative;}#sk-container-id-2 div.sk-text-repr-fallback {display: none;}</style><div id=\"sk-container-id-2\" class=\"sk-top-container\"><div class=\"sk-text-repr-fallback\"><pre>LatentDirichletAllocation(n_components=15)</pre><b>In a Jupyter environment, please rerun this cell to show the HTML representation or trust the notebook. <br />On GitHub, the HTML representation is unable to render, please try loading this page with nbviewer.org.</b></div><div class=\"sk-container\" hidden><div class=\"sk-item\"><div class=\"sk-estimator sk-toggleable\"><input class=\"sk-toggleable__control sk-hidden--visually\" id=\"sk-estimator-id-2\" type=\"checkbox\" checked><label for=\"sk-estimator-id-2\" class=\"sk-toggleable__label sk-toggleable__label-arrow\">LatentDirichletAllocation</label><div class=\"sk-toggleable__content\"><pre>LatentDirichletAllocation(n_components=15)</pre></div></div></div></div></div>"
      ],
      "text/plain": [
       "LatentDirichletAllocation(n_components=15)"
      ]
     },
     "execution_count": 259,
     "metadata": {},
     "output_type": "execute_result"
    }
   ],
   "source": [
    "vectorizer = TfidfVectorizer()\n",
    "\n",
    "vectorized_text = vectorizer.fit_transform(inipros[\"sintesis_clean\"])\n",
    "\n",
    "# Instantiate the LDA \n",
    "n_components = 15\n",
    "lda_model = LatentDirichletAllocation(n_components=n_components)\n",
    "\n",
    "# Fit the LDA on the vectorized documents\n",
    "lda_model.fit(vectorized_text)"
   ]
  },
  {
   "attachments": {},
   "cell_type": "markdown",
   "id": "ac731705",
   "metadata": {
    "heading_collapsed": true,
    "hidden": true
   },
   "source": [
    "### Visualize potential topics"
   ]
  },
  {
   "cell_type": "code",
   "execution_count": 255,
   "id": "266749ab",
   "metadata": {
    "hidden": true
   },
   "outputs": [],
   "source": [
    "def print_topics(model, vectorizer):\n",
    "    for idx, topic in enumerate(model.components_):\n",
    "        print(\"Topic %d:\" % (idx))\n",
    "        print([(vectorizer.get_feature_names_out()[i], topic[i]) for i in np.argsort(topic)[:-5 -1:-1]])"
   ]
  },
  {
   "cell_type": "code",
   "execution_count": 260,
   "id": "5bdc2a1c",
   "metadata": {
    "hidden": true
   },
   "outputs": [
    {
     "name": "stdout",
     "output_type": "stream",
     "text": [
      "Topic 0:\n",
      "[('cuidados', 8.152377824370088), ('plazo', 6.54867271043552), ('moratorios', 6.251462236713305), ('tratándose', 6.140648831027995), ('circuito', 5.822456621174861)]\n",
      "Topic 1:\n",
      "[('prisión', 17.33962346795972), ('delitos', 15.172324267906053), ('delito', 15.069667077986509), ('votos', 14.898576003258666), ('democrática', 14.693022763766855)]\n",
      "Topic 2:\n",
      "[('inclusivo', 18.261246187847167), ('lenguaje', 17.418572834911885), ('constitucionales', 16.878337552432512), ('disposiciones', 15.727013331203173), ('incorporar', 14.849857208397227)]\n",
      "Topic 3:\n",
      "[('órganos', 17.763659837930643), ('federales', 15.273162946841973), ('uso', 11.773341107108418), ('tribunales', 10.711978953185039), ('administrativos', 10.623157522217339)]\n",
      "Topic 4:\n",
      "[('indígenas', 34.68765761725618), ('pueblo', 30.01337346202277), ('agua', 27.900267103930567), ('ordenamientos', 27.526534543323102), ('inclusión', 25.80922310283219)]\n",
      "Topic 5:\n",
      "[('género', 90.26950785407557), ('garantizar', 76.29735575292742), ('salud', 15.686567400254924), ('congreso', 14.477711343764096), ('unión', 13.717726376579499)]\n",
      "Topic 6:\n",
      "[('mínimo', 56.765147065780354), ('salario', 54.83397418608463), ('desindexación', 52.900015051831254), ('vigente', 26.22480621673671), ('alternativa', 24.047446383023125)]\n",
      "Topic 7:\n",
      "[('jurídico', 37.54482562570561), ('bienestar', 36.15872061897104), ('mandato', 15.927368220558973), ('periodistas', 15.545581798767182), ('revocación', 15.154593538355355)]\n",
      "Topic 8:\n",
      "[('comisión', 57.55639067420363), ('público', 52.23537893269779), ('congreso', 50.66370274425312), ('unión', 48.311490264749274), ('pública', 46.0002072335926)]\n",
      "Topic 9:\n",
      "[('género', 17.243392241491183), ('comisión', 16.238792831559607), ('honor', 14.728295708636322), ('unidos', 13.330345849543466), ('igualdad', 12.233136113431984)]\n",
      "Topic 10:\n",
      "[('productos', 15.455198370294848), ('plásticos', 14.23801284565887), ('trabajadores', 13.466591951389953), ('residuos', 13.32735364981159), ('podrá', 12.587241854551692)]\n",
      "Topic 11:\n",
      "[('armonización', 35.51822132488427), ('ambiente', 19.53582632299728), ('moneda', 14.551470473772689), ('daño', 12.431780543138137), ('general', 11.505281022112179)]\n",
      "Topic 12:\n",
      "[('armonizarlos', 30.934434828044136), ('agua', 29.734714712483324), ('relativa', 27.097017673404174), ('eléctrica', 24.970286855154452), ('electricidad', 24.181679253669603)]\n",
      "Topic 13:\n",
      "[('vigentes', 39.771419093860274), ('educación', 16.17726127221213), ('corrupción', 12.460103222215961), ('alertadoras', 9.953386572567853), ('públicas', 8.812625016996044)]\n",
      "Topic 14:\n",
      "[('respetuosamente', 207.73028594732077), ('comisión', 183.74232488330063), ('congreso', 166.3019452412436), ('salud', 166.09081474921192), ('permanente', 165.48407612826543)]\n"
     ]
    }
   ],
   "source": [
    "print_topics(lda_model, vectorizer)"
   ]
  },
  {
   "attachments": {},
   "cell_type": "markdown",
   "id": "b4a080b7",
   "metadata": {
    "heading_collapsed": true,
    "hidden": true
   },
   "source": [
    "### Test with real initiatives"
   ]
  },
  {
   "cell_type": "code",
   "execution_count": 267,
   "id": "b7d1aa12",
   "metadata": {
    "hidden": true
   },
   "outputs": [
    {
     "name": "stdout",
     "output_type": "stream",
     "text": [
      "ÚNICO. El Senado de la República exhorta respetuosamente la Secretaria de Comunicaciones y Transportes, para que, en el marco de sus atribuciones, revise las tarifas que se cobran en las carreteras de cuota, con la finalidad de evitar cobros excesivos que afecten la economía de los usuarios, y se mejore y mantenga el estado físico de la red carretera del país.\n"
     ]
    }
   ],
   "source": [
    "random_num = np.random.randint(0, len(inipros))\n",
    "example = [inipros[\"sintesis\"][random_num]]\n",
    "example_df = pd.DataFrame(example, columns = [\"text\"])\n",
    "print(example_df[\"text\"][0])"
   ]
  },
  {
   "cell_type": "code",
   "execution_count": 268,
   "id": "bf3949c8",
   "metadata": {
    "hidden": true
   },
   "outputs": [
    {
     "data": {
      "text/plain": [
       "array([[0.01157094, 0.01157095, 0.01157098, 0.01157095, 0.01157094,\n",
       "        0.01157095, 0.30414982, 0.01157098, 0.01157097, 0.01157095,\n",
       "        0.01157095, 0.01157097, 0.01157104, 0.01157097, 0.54542765]])"
      ]
     },
     "execution_count": 268,
     "metadata": {},
     "output_type": "execute_result"
    }
   ],
   "source": [
    "clean_example = clean(example_df[\"text\"])\n",
    "example_vectorized = vectorizer.transform(clean_example)\n",
    "lda_vectors = lda_model.transform(example_vectorized)\n",
    "lda_vectors"
   ]
  }
 ],
 "metadata": {
  "kernelspec": {
   "display_name": "Python 3 (ipykernel)",
   "language": "python",
   "name": "python3"
  },
  "language_info": {
   "codemirror_mode": {
    "name": "ipython",
    "version": 3
   },
   "file_extension": ".py",
   "mimetype": "text/x-python",
   "name": "python",
   "nbconvert_exporter": "python",
   "pygments_lexer": "ipython3",
   "version": "3.10.6"
  },
  "toc": {
   "base_numbering": 1,
   "nav_menu": {},
   "number_sections": true,
   "sideBar": true,
   "skip_h1_title": false,
   "title_cell": "Table of Contents",
   "title_sidebar": "Contents",
   "toc_cell": false,
   "toc_position": {},
   "toc_section_display": true,
   "toc_window_display": false
  }
 },
 "nbformat": 4,
 "nbformat_minor": 5
}
