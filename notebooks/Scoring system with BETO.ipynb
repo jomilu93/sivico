{
 "cells": [
  {
   "cell_type": "markdown",
   "id": "4ba114c9",
   "metadata": {},
   "source": [
    "# Scoring system with BETO"
   ]
  },
  {
   "cell_type": "markdown",
   "id": "b8d9e177",
   "metadata": {},
   "source": [
    "## Summary of the approach in this notebook"
   ]
  },
  {
   "cell_type": "markdown",
   "id": "7ed679e2",
   "metadata": {},
   "source": [
    "**Choice of BETO:** We choose BETO, a BERT model trained on Spanish corpora, because our text data is in Spanish and we need a model that understands the semantic meaning of sentences. BERT models are great at this because they're designed to understand the context of words in a sentence. By using BETO, we capture more complex language features compared to simpler techniques like TF-IDF.\n",
    "\n",
    "**Generating Embeddings:** We use BETO to generate embeddings for both the senators' initiative profiles and the user's input. These embeddings are vectors in a high-dimensional space that represent the semantic meaning of the text. By representing the text as vectors, we can calculate the distance (or similarity) between different pieces of text.\n",
    "\n",
    "**Calculating Similarity:** To match the user's input to the senators' profiles, we calculate the cosine similarity between the user's input vector and each senator's vector. This gives us a measure of how similar the user's input is to each senator's profile, which we use as our scoring mechanism.\n",
    "\n",
    "**Ranking Senators:** Finally, we rank the senators based on their similarity scores and return the top N senators. This gives us a list of senators whose initiative profiles best match the user's interests.\n",
    "\n",
    "The core idea of this approach is to leverage the power of language models like BETO to understand the semantic meaning of text and use this to match users with senators based on their interests."
   ]
  },
  {
   "cell_type": "markdown",
   "id": "2411dedf",
   "metadata": {},
   "source": [
    "## Import Libraries"
   ]
  },
  {
   "cell_type": "code",
   "execution_count": 2,
   "id": "1ea9539a",
   "metadata": {},
   "outputs": [],
   "source": [
    "import pandas as pd\n",
    "import os\n",
    "from sklearn.metrics.pairwise import cosine_similarity\n",
    "from transformers import BertModel, BertTokenizer\n",
    "import torch\n",
    "import numpy as np\n",
    "import time\n",
    "import pickle"
   ]
  },
  {
   "cell_type": "markdown",
   "id": "e6051cac",
   "metadata": {},
   "source": [
    "## Initialize testing & cleaning DF"
   ]
  },
  {
   "cell_type": "markdown",
   "id": "773d5d85",
   "metadata": {},
   "source": [
    "This dataframe is to test the functions in this notebook with the summarized data obtained from the BETO model. We also remove those senators that have no iniatives and we erase initials given by BETO ([SEP], [UNK], etc) to avoid problems when tokenizing & embedding the model."
   ]
  },
  {
   "cell_type": "code",
   "execution_count": 5,
   "id": "2a48029c",
   "metadata": {},
   "outputs": [],
   "source": [
    "#SENATORS_TO_PROCESS = 10\n",
    "\n",
    "current_path = os.getcwd()\n",
    "parent_directory = os.path.dirname(current_path)\n",
    "project_data_path = os.path.join(parent_directory, 'data')\n",
    "\n",
    "\n",
    "senators_test_df_ini = pd.read_csv(os.path.join(project_data_path, 'senators_data_updated.csv')\n",
    "                               ,converters={'BETO_summary': pd.eval}, index_col='Unnamed: 0')"
   ]
  },
  {
   "cell_type": "code",
   "execution_count": 6,
   "id": "b022b621",
   "metadata": {},
   "outputs": [
    {
     "name": "stdout",
     "output_type": "stream",
     "text": [
      "(124, 26)\n"
     ]
    },
    {
     "data": {
      "text/html": [
       "<div>\n",
       "<style scoped>\n",
       "    .dataframe tbody tr th:only-of-type {\n",
       "        vertical-align: middle;\n",
       "    }\n",
       "\n",
       "    .dataframe tbody tr th {\n",
       "        vertical-align: top;\n",
       "    }\n",
       "\n",
       "    .dataframe thead th {\n",
       "        text-align: right;\n",
       "    }\n",
       "</style>\n",
       "<table border=\"1\" class=\"dataframe\">\n",
       "  <thead>\n",
       "    <tr style=\"text-align: right;\">\n",
       "      <th></th>\n",
       "      <th>senator_id</th>\n",
       "      <th>Apellidos</th>\n",
       "      <th>Nombre</th>\n",
       "      <th>Fraccion</th>\n",
       "      <th>Legislatura</th>\n",
       "      <th>Estado</th>\n",
       "      <th>Sexo</th>\n",
       "      <th>tipoEleccion</th>\n",
       "      <th>Suplente</th>\n",
       "      <th>estadoOrigen</th>\n",
       "      <th>...</th>\n",
       "      <th>telefono</th>\n",
       "      <th>extension</th>\n",
       "      <th>estatus</th>\n",
       "      <th>direccion</th>\n",
       "      <th>id</th>\n",
       "      <th>senadores</th>\n",
       "      <th>attendance_score</th>\n",
       "      <th>initiative_list</th>\n",
       "      <th>initiatives_summary_dummy</th>\n",
       "      <th>BETO_summary</th>\n",
       "    </tr>\n",
       "  </thead>\n",
       "  <tbody>\n",
       "    <tr>\n",
       "      <th>0</th>\n",
       "      <td>1160</td>\n",
       "      <td>Botello Montes</td>\n",
       "      <td>José Alfredo</td>\n",
       "      <td>PAN</td>\n",
       "      <td>64</td>\n",
       "      <td>Querétaro</td>\n",
       "      <td>Hombre</td>\n",
       "      <td>Senador Electo por el Principio de Mayoría Rel...</td>\n",
       "      <td>NaN</td>\n",
       "      <td>Querétaro</td>\n",
       "      <td>...</td>\n",
       "      <td>5345 3000</td>\n",
       "      <td>4183 y 4184</td>\n",
       "      <td>en_funciones</td>\n",
       "      <td>Av Paseo de la Reforma No. 135, Hemiciclo Piso...</td>\n",
       "      <td>1</td>\n",
       "      <td>José Alfredo Botello Montes</td>\n",
       "      <td>0.958904</td>\n",
       "      <td>['Pretende garantizar a los miembros del Servi...</td>\n",
       "      <td>Pretende garantizar a los miembros del Servici...</td>\n",
       "      <td>[[CLS] Pretende garantizar a los miembros del ...</td>\n",
       "    </tr>\n",
       "    <tr>\n",
       "      <th>1</th>\n",
       "      <td>1162</td>\n",
       "      <td>Rojas Loreto</td>\n",
       "      <td>Estrella</td>\n",
       "      <td>PAN</td>\n",
       "      <td>64</td>\n",
       "      <td>Querétaro</td>\n",
       "      <td>Mujer</td>\n",
       "      <td>Senadora Electa por el Principio de Mayoría Re...</td>\n",
       "      <td>NaN</td>\n",
       "      <td>Querétaro</td>\n",
       "      <td>...</td>\n",
       "      <td>5345 3000</td>\n",
       "      <td>3323</td>\n",
       "      <td>en_funciones</td>\n",
       "      <td>Av Paseo de la Reforma No. 135, Hemiciclo Piso...</td>\n",
       "      <td>2</td>\n",
       "      <td>Estrella Rojas Loreto</td>\n",
       "      <td>0.973913</td>\n",
       "      <td>['Propone que el Estado apoye la investigación...</td>\n",
       "      <td>Propone que el Estado apoye la investigación e...</td>\n",
       "      <td>[[CLS] Propone que el Estado apoye la investig...</td>\n",
       "    </tr>\n",
       "  </tbody>\n",
       "</table>\n",
       "<p>2 rows × 26 columns</p>\n",
       "</div>"
      ],
      "text/plain": [
       "   senator_id       Apellidos        Nombre Fraccion  Legislatura     Estado  \\\n",
       "0        1160  Botello Montes  José Alfredo      PAN           64  Querétaro   \n",
       "1        1162    Rojas Loreto      Estrella      PAN           64  Querétaro   \n",
       "\n",
       "     Sexo                                       tipoEleccion Suplente  \\\n",
       "0  Hombre  Senador Electo por el Principio de Mayoría Rel...      NaN   \n",
       "1   Mujer  Senadora Electa por el Principio de Mayoría Re...      NaN   \n",
       "\n",
       "  estadoOrigen  ...   telefono    extension       estatus  \\\n",
       "0    Querétaro  ...  5345 3000  4183 y 4184  en_funciones   \n",
       "1    Querétaro  ...  5345 3000         3323  en_funciones   \n",
       "\n",
       "                                           direccion id  \\\n",
       "0  Av Paseo de la Reforma No. 135, Hemiciclo Piso...  1   \n",
       "1  Av Paseo de la Reforma No. 135, Hemiciclo Piso...  2   \n",
       "\n",
       "                     senadores attendance_score  \\\n",
       "0  José Alfredo Botello Montes         0.958904   \n",
       "1        Estrella Rojas Loreto         0.973913   \n",
       "\n",
       "                                     initiative_list  \\\n",
       "0  ['Pretende garantizar a los miembros del Servi...   \n",
       "1  ['Propone que el Estado apoye la investigación...   \n",
       "\n",
       "                           initiatives_summary_dummy  \\\n",
       "0  Pretende garantizar a los miembros del Servici...   \n",
       "1  Propone que el Estado apoye la investigación e...   \n",
       "\n",
       "                                        BETO_summary  \n",
       "0  [[CLS] Pretende garantizar a los miembros del ...  \n",
       "1  [[CLS] Propone que el Estado apoye la investig...  \n",
       "\n",
       "[2 rows x 26 columns]"
      ]
     },
     "execution_count": 6,
     "metadata": {},
     "output_type": "execute_result"
    }
   ],
   "source": [
    "valores_nulos_age = senators_test_df_ini['initiatives_summary_dummy'].isnull()\n",
    "senators_test_df = senators_test_df_ini[valores_nulos_age == False]\n",
    "print(senators_test_df.shape)\n",
    "senators_test_df.head(2)"
   ]
  },
  {
   "cell_type": "code",
   "execution_count": 7,
   "id": "ac8dc5d0",
   "metadata": {},
   "outputs": [
    {
     "name": "stderr",
     "output_type": "stream",
     "text": [
      "/tmp/ipykernel_1995/1019380338.py:1: SettingWithCopyWarning: \n",
      "A value is trying to be set on a copy of a slice from a DataFrame.\n",
      "Try using .loc[row_indexer,col_indexer] = value instead\n",
      "\n",
      "See the caveats in the documentation: https://pandas.pydata.org/pandas-docs/stable/user_guide/indexing.html#returning-a-view-versus-a-copy\n",
      "  senators_test_df['BETO_clean'] = senators_test_df['BETO_summary'].apply(lambda x: ' '.join(x))\n"
     ]
    }
   ],
   "source": [
    "senators_test_df['BETO_clean'] = senators_test_df['BETO_summary'].apply(lambda x: ' '.join(x))"
   ]
  },
  {
   "cell_type": "code",
   "execution_count": 8,
   "id": "133b7d03",
   "metadata": {
    "scrolled": true
   },
   "outputs": [
    {
     "name": "stderr",
     "output_type": "stream",
     "text": [
      "/tmp/ipykernel_1995/3518612301.py:1: SettingWithCopyWarning: \n",
      "A value is trying to be set on a copy of a slice from a DataFrame.\n",
      "Try using .loc[row_indexer,col_indexer] = value instead\n",
      "\n",
      "See the caveats in the documentation: https://pandas.pydata.org/pandas-docs/stable/user_guide/indexing.html#returning-a-view-versus-a-copy\n",
      "  senators_test_df['BETO_clean'] = senators_test_df['BETO_clean'].str.replace('CLS', '')\n",
      "/tmp/ipykernel_1995/3518612301.py:2: FutureWarning: The default value of regex will change from True to False in a future version. In addition, single character regular expressions will *not* be treated as literal strings when regex=True.\n",
      "  senators_test_df['BETO_clean'] = senators_test_df['BETO_clean'].str.replace('[', '')\n",
      "/tmp/ipykernel_1995/3518612301.py:2: SettingWithCopyWarning: \n",
      "A value is trying to be set on a copy of a slice from a DataFrame.\n",
      "Try using .loc[row_indexer,col_indexer] = value instead\n",
      "\n",
      "See the caveats in the documentation: https://pandas.pydata.org/pandas-docs/stable/user_guide/indexing.html#returning-a-view-versus-a-copy\n",
      "  senators_test_df['BETO_clean'] = senators_test_df['BETO_clean'].str.replace('[', '')\n",
      "/tmp/ipykernel_1995/3518612301.py:3: FutureWarning: The default value of regex will change from True to False in a future version. In addition, single character regular expressions will *not* be treated as literal strings when regex=True.\n",
      "  senators_test_df['BETO_clean'] = senators_test_df['BETO_clean'].str.replace(']', '')\n",
      "/tmp/ipykernel_1995/3518612301.py:3: SettingWithCopyWarning: \n",
      "A value is trying to be set on a copy of a slice from a DataFrame.\n",
      "Try using .loc[row_indexer,col_indexer] = value instead\n",
      "\n",
      "See the caveats in the documentation: https://pandas.pydata.org/pandas-docs/stable/user_guide/indexing.html#returning-a-view-versus-a-copy\n",
      "  senators_test_df['BETO_clean'] = senators_test_df['BETO_clean'].str.replace(']', '')\n",
      "/tmp/ipykernel_1995/3518612301.py:4: SettingWithCopyWarning: \n",
      "A value is trying to be set on a copy of a slice from a DataFrame.\n",
      "Try using .loc[row_indexer,col_indexer] = value instead\n",
      "\n",
      "See the caveats in the documentation: https://pandas.pydata.org/pandas-docs/stable/user_guide/indexing.html#returning-a-view-versus-a-copy\n",
      "  senators_test_df['BETO_clean'] = senators_test_df['BETO_clean'].str.replace('SEP', '.')\n",
      "/tmp/ipykernel_1995/3518612301.py:5: SettingWithCopyWarning: \n",
      "A value is trying to be set on a copy of a slice from a DataFrame.\n",
      "Try using .loc[row_indexer,col_indexer] = value instead\n",
      "\n",
      "See the caveats in the documentation: https://pandas.pydata.org/pandas-docs/stable/user_guide/indexing.html#returning-a-view-versus-a-copy\n",
      "  senators_test_df['BETO_clean'] = senators_test_df['BETO_clean'].str.replace('UNK', '.')\n",
      "/tmp/ipykernel_1995/3518612301.py:6: SettingWithCopyWarning: \n",
      "A value is trying to be set on a copy of a slice from a DataFrame.\n",
      "Try using .loc[row_indexer,col_indexer] = value instead\n",
      "\n",
      "See the caveats in the documentation: https://pandas.pydata.org/pandas-docs/stable/user_guide/indexing.html#returning-a-view-versus-a-copy\n",
      "  senators_test_df['BETO_clean'] = senators_test_df['BETO_clean'].str.replace('  ', '')\n",
      "/tmp/ipykernel_1995/3518612301.py:7: FutureWarning: The default value of regex will change from True to False in a future version.\n",
      "  senators_test_df['BETO_clean'] = senators_test_df['BETO_clean'].str.replace(' . ', ' ')\n",
      "/tmp/ipykernel_1995/3518612301.py:7: SettingWithCopyWarning: \n",
      "A value is trying to be set on a copy of a slice from a DataFrame.\n",
      "Try using .loc[row_indexer,col_indexer] = value instead\n",
      "\n",
      "See the caveats in the documentation: https://pandas.pydata.org/pandas-docs/stable/user_guide/indexing.html#returning-a-view-versus-a-copy\n",
      "  senators_test_df['BETO_clean'] = senators_test_df['BETO_clean'].str.replace(' . ', ' ')\n"
     ]
    }
   ],
   "source": [
    "senators_test_df['BETO_clean'] = senators_test_df['BETO_clean'].str.replace('CLS', '')\n",
    "senators_test_df['BETO_clean'] = senators_test_df['BETO_clean'].str.replace('[', '')\n",
    "senators_test_df['BETO_clean'] = senators_test_df['BETO_clean'].str.replace(']', '')\n",
    "senators_test_df['BETO_clean'] = senators_test_df['BETO_clean'].str.replace('SEP', '.')\n",
    "senators_test_df['BETO_clean'] = senators_test_df['BETO_clean'].str.replace('UNK', '.')\n",
    "senators_test_df['BETO_clean'] = senators_test_df['BETO_clean'].str.replace('  ', '')\n",
    "senators_test_df['BETO_clean'] = senators_test_df['BETO_clean'].str.replace(' . ', ' ')"
   ]
  },
  {
   "cell_type": "markdown",
   "id": "e66b7f73",
   "metadata": {},
   "source": [
    "## Download BETO model and tokenizer"
   ]
  },
  {
   "cell_type": "code",
   "execution_count": 9,
   "id": "007720b7",
   "metadata": {},
   "outputs": [
    {
     "name": "stderr",
     "output_type": "stream",
     "text": [
      "Some weights of the model checkpoint at dccuchile/bert-base-spanish-wwm-cased were not used when initializing BertModel: ['cls.predictions.transform.LayerNorm.weight', 'cls.predictions.decoder.bias', 'cls.predictions.transform.dense.bias', 'cls.predictions.transform.dense.weight', 'cls.predictions.bias', 'cls.predictions.transform.LayerNorm.bias', 'cls.predictions.decoder.weight']\n",
      "- This IS expected if you are initializing BertModel from the checkpoint of a model trained on another task or with another architecture (e.g. initializing a BertForSequenceClassification model from a BertForPreTraining model).\n",
      "- This IS NOT expected if you are initializing BertModel from the checkpoint of a model that you expect to be exactly identical (initializing a BertForSequenceClassification model from a BertForSequenceClassification model).\n",
      "Some weights of BertModel were not initialized from the model checkpoint at dccuchile/bert-base-spanish-wwm-cased and are newly initialized: ['bert.pooler.dense.weight', 'bert.pooler.dense.bias']\n",
      "You should probably TRAIN this model on a down-stream task to be able to use it for predictions and inference.\n"
     ]
    }
   ],
   "source": [
    "tokenizer = BertTokenizer.from_pretrained('dccuchile/bert-base-spanish-wwm-cased')\n",
    "model = BertModel.from_pretrained('dccuchile/bert-base-spanish-wwm-cased')"
   ]
  },
  {
   "cell_type": "markdown",
   "id": "f6321210",
   "metadata": {},
   "source": [
    "### Test BETO"
   ]
  },
  {
   "cell_type": "code",
   "execution_count": 10,
   "id": "05251d2d",
   "metadata": {},
   "outputs": [
    {
     "data": {
      "text/plain": [
       "tensor([[[ 0.0733, -0.2156,  0.1107,  ..., -0.1891,  0.1999,  0.1254],\n",
       "         [-0.0935,  0.1006, -0.4794,  ..., -0.1307,  0.3479,  0.3917],\n",
       "         [-0.2780,  1.1009, -0.6256,  ...,  0.0978,  0.3362,  0.4117],\n",
       "         [-0.5546, -0.0858, -0.3468,  ...,  0.1149,  0.3315, -0.0632],\n",
       "         [-0.4995, -0.1995, -0.0398,  ..., -0.3834,  0.0416, -0.3520],\n",
       "         [-0.6204, -0.1591, -0.4836,  ..., -0.8248,  0.9292, -0.4672]]],\n",
       "       grad_fn=<NativeLayerNormBackward0>)"
      ]
     },
     "execution_count": 10,
     "metadata": {},
     "output_type": "execute_result"
    }
   ],
   "source": [
    "# Tokenize the text\n",
    "inputs = tokenizer(\"Arriba la democracia!\", return_tensors=\"pt\")\n",
    "\n",
    "# Generate the embeddings\n",
    "outputs = model(**inputs)\n",
    "\n",
    "# The embeddings are stored in the `last_hidden_state` attribute\n",
    "embeddings = outputs.last_hidden_state\n",
    "embeddings"
   ]
  },
  {
   "cell_type": "markdown",
   "id": "39735043",
   "metadata": {},
   "source": [
    "## Generate embeddings with BETO"
   ]
  },
  {
   "cell_type": "markdown",
   "id": "7d198bb7",
   "metadata": {},
   "source": [
    "Embeddings are a way to represent text (or other types of data) as vectors of numbers. The key idea behind embeddings is to represent words or sentences in a high-dimensional space in such a way that their location in this space captures some of the semantic meaning of the text.\n",
    "\n",
    "For example, in a well-constructed embedding space, words or sentences with similar meanings will be located near each other, and their relative locations can capture some of the relationships between them. For instance, the vectors for \"king\" and \"queen\" might be located at similar positions in the embedding space, and the direction from \"king\" to \"queen\" might be the same as the direction from \"man\" to \"woman\", capturing the relationship of gender between these words.\n",
    "\n",
    "We use embeddings in NLP (Natural Language Processing) because they provide a way to turn text into a form that machine learning algorithms can understand. Most machine learning algorithms require numerical input, and embeddings provide a way to turn text into numbers while preserving some of the semantic meaning of the text.\n",
    "\n",
    "In the context of this project, we use embeddings to represent both the user's input and the senator's initiative profiles. By representing these texts as vectors in a high-dimensional space, we can calculate the distance (or similarity) between the user's input and each senator's profile. This allows us to rank the senators based on how similar their profile is to the user's input."
   ]
  },
  {
   "cell_type": "code",
   "execution_count": 11,
   "id": "ea4694b9",
   "metadata": {},
   "outputs": [],
   "source": [
    "def generate_embeddings(text, tokenizer, model, max_length=512):\n",
    "    # Split the text into chunks to handle long summaries\n",
    "    text_chunks = [text[i:i+max_length] for i in range(0, len(text), max_length)]\n",
    "    \n",
    "    # Initialize an empty tensor to store the embeddings\n",
    "    embeddings = torch.zeros((len(text_chunks), model.config.hidden_size))\n",
    "    \n",
    "    # Generate embeddings for each chunk\n",
    "    for i, chunk in enumerate(text_chunks):\n",
    "        inputs = tokenizer(chunk, return_tensors=\"pt\", truncation=True, padding=True)\n",
    "        outputs = model(**inputs)\n",
    "        embeddings[i] = outputs.last_hidden_state.mean(dim=1)\n",
    "    \n",
    "    # Average the embeddings of all the chunks\n",
    "    embeddings = embeddings.mean(dim=0)\n",
    "    \n",
    "    return embeddings\n"
   ]
  },
  {
   "cell_type": "markdown",
   "id": "5e44d99f",
   "metadata": {},
   "source": [
    "### Test embeddings function"
   ]
  },
  {
   "cell_type": "code",
   "execution_count": null,
   "id": "81921094",
   "metadata": {},
   "outputs": [],
   "source": [
    "#senators_test_df"
   ]
  },
  {
   "cell_type": "code",
   "execution_count": null,
   "id": "0ea14bf8",
   "metadata": {
    "scrolled": true
   },
   "outputs": [],
   "source": [
    "#senators_test_df['BETO_clean'].apply(lambda x: generate_embeddings(x, tokenizer, model))"
   ]
  },
  {
   "cell_type": "markdown",
   "id": "7a30fb2f",
   "metadata": {},
   "source": [
    "### Why we don't use stop words or lemmatization?"
   ]
  },
  {
   "cell_type": "markdown",
   "id": "a89ca3cc",
   "metadata": {},
   "source": [
    "In traditional NLP tasks, lemmatization and removing stop words are common steps to reduce the dimensionality of the data and focus on the most informative words. However, BERT-like models are based on transformers that use the context of words in a sentence to understand their meaning. They can even leverage the information contained in stop words. So, for these models, we usually keep the original form of the words and do not remove stop words."
   ]
  },
  {
   "cell_type": "markdown",
   "id": "700c9c25",
   "metadata": {},
   "source": [
    "## Score senator profiles based on user input"
   ]
  },
  {
   "cell_type": "markdown",
   "id": "077031de",
   "metadata": {},
   "source": [
    "### Function to get scores"
   ]
  },
  {
   "cell_type": "code",
   "execution_count": 12,
   "id": "35fd9aae",
   "metadata": {},
   "outputs": [],
   "source": [
    "# Define a function to match senators based on the user's input\n",
    "def match_senators(user_input, senators_embeddings, tokenizer, model):\n",
    "    # Generate an embedding for the user's input\n",
    "    user_embedding = generate_embeddings(user_input, tokenizer, model)\n",
    "\n",
    "    # Initialize an empty array to store the similarity scores\n",
    "    scores = np.zeros(len(senators_embeddings))\n",
    "\n",
    "    # Calculate the cosine similarity between the user's input and each senator's profile\n",
    "    for i, senator_embedding in enumerate(senators_embeddings):\n",
    "        scores[i] = cosine_similarity(user_embedding.detach().numpy().reshape(1, -1), senator_embedding.detach().numpy().reshape(1, -1))\n",
    "\n",
    "    return scores"
   ]
  },
  {
   "cell_type": "markdown",
   "id": "90dfbfc4",
   "metadata": {},
   "source": [
    "### Test scoring function & loading pickle file"
   ]
  },
  {
   "cell_type": "markdown",
   "id": "6b942dc4",
   "metadata": {},
   "source": [
    "We ran the embedding function on a Virtual Machine, since the memory of a standard computer can't handle the amount of processing power needed for this function to work. We saved the output as a pickle file, which is loaded in the following cell, and we only need to run this embedding function every time we add more information to each senator."
   ]
  },
  {
   "cell_type": "code",
   "execution_count": 14,
   "id": "c01b799c",
   "metadata": {},
   "outputs": [],
   "source": [
    "with open(os.path.join(project_data_path,'Beto_embeddings.pkl'), 'rb') as handle:\n",
    "    embeddings_final = pickle.load(handle)"
   ]
  },
  {
   "cell_type": "code",
   "execution_count": 15,
   "id": "706b7979",
   "metadata": {},
   "outputs": [
    {
     "data": {
      "text/plain": [
       "array([0.84296739, 0.84421575, 0.84330648, 0.85103428, 0.84016252,\n",
       "       0.84657598, 0.8395682 , 0.84504509, 0.83749068, 0.83514267,\n",
       "       0.84369707, 0.84133255, 0.84868652, 0.83283782, 0.84197783,\n",
       "       0.84127116, 0.84597921, 0.84126824, 0.8481102 , 0.83960056,\n",
       "       0.84715551, 0.84508675, 0.80708009, 0.84063071, 0.84621322,\n",
       "       0.83618832, 0.84525275, 0.847781  , 0.84758502, 0.84529829,\n",
       "       0.84857845, 0.84461367, 0.8436113 , 0.84727108, 0.84473228,\n",
       "       0.81587398, 0.84524602, 0.83965784, 0.85054642, 0.85271806,\n",
       "       0.84490967, 0.84552014, 0.85052019, 0.84612077, 0.85386539,\n",
       "       0.843198  , 0.84653533, 0.84456164, 0.85078174, 0.83858562,\n",
       "       0.85172045, 0.84876984, 0.8481409 , 0.84852898, 0.84284806,\n",
       "       0.84859514, 0.84308547, 0.84894216, 0.83036655, 0.84549892,\n",
       "       0.84928566, 0.85000885, 0.85235888, 0.85027051, 0.85106492,\n",
       "       0.85036659, 0.85106784, 0.84645444, 0.83385104, 0.84571767,\n",
       "       0.85055774, 0.8522979 , 0.85347223, 0.84851229, 0.84839809,\n",
       "       0.8276493 , 0.84487677, 0.86176926, 0.84533727, 0.85131848,\n",
       "       0.84706098, 0.84960407, 0.8545472 , 0.84957868, 0.84544885,\n",
       "       0.84606522, 0.83908308, 0.84624845, 0.8549273 , 0.84669071,\n",
       "       0.84912825, 0.84956276, 0.84180599, 0.84601325, 0.84476811,\n",
       "       0.84915596, 0.84372085, 0.84520429, 0.84453845, 0.84169757,\n",
       "       0.8477726 , 0.85109621, 0.84296799, 0.84370172, 0.85237795,\n",
       "       0.84010285, 0.83911467, 0.84467047, 0.84642929, 0.85653645,\n",
       "       0.84907377, 0.85484552, 0.8471489 , 0.84175766, 0.84172809,\n",
       "       0.84828645, 0.84098387, 0.85126603, 0.85011286, 0.85280603,\n",
       "       0.84159362, 0.84508586, 0.83855307, 0.85035896])"
      ]
     },
     "execution_count": 15,
     "metadata": {},
     "output_type": "execute_result"
    }
   ],
   "source": [
    "# Get the user's input\n",
    "user_input = \"Quiero proteccion para los animales\"\n",
    "\n",
    "# Match the senators\n",
    "similarity_scores = match_senators(user_input, embeddings_final, tokenizer, model)\n",
    "similarity_scores"
   ]
  },
  {
   "cell_type": "markdown",
   "id": "5599427a",
   "metadata": {},
   "source": [
    "## Get top senators"
   ]
  },
  {
   "cell_type": "markdown",
   "id": "0a325a62",
   "metadata": {},
   "source": [
    "### Function to get the senator with best matching score"
   ]
  },
  {
   "cell_type": "code",
   "execution_count": 16,
   "id": "2598aef1",
   "metadata": {},
   "outputs": [],
   "source": [
    "def get_top_senators(scores, senators_df, N=5):\n",
    "    # Get the indices of the senators sorted by their scores\n",
    "    sorted_indices = np.argsort(scores)[::-1]\n",
    "    \n",
    "    # Get the top N senators\n",
    "    top_senators = senators_df.iloc[sorted_indices[:N]]\n",
    "    \n",
    "    return top_senators"
   ]
  },
  {
   "cell_type": "markdown",
   "id": "9c2863f3",
   "metadata": {},
   "source": [
    "### Test top senators function"
   ]
  },
  {
   "cell_type": "code",
   "execution_count": 17,
   "id": "a044c833",
   "metadata": {},
   "outputs": [
    {
     "name": "stdout",
     "output_type": "stream",
     "text": [
      "Senator: Raúl de Jesús Elenes Angulo, Score: 0.8617692589759827\n",
      "Senator: Raúl Paz Alonzo, Score: 0.8490737676620483\n",
      "Senator: Alejandro Armenta Mier, Score: 0.8466907143592834\n",
      "Senator: Oscar Eduardo Ramírez Aguilar, Score: 0.8471488952636719\n",
      "Senator: Nancy Guadalupe Sánchez Arredondo, Score: 0.8495786786079407\n"
     ]
    }
   ],
   "source": [
    "# Get the top 5 senators\n",
    "top_senators = get_top_senators(similarity_scores, senators_test_df)\n",
    "\n",
    "# Print the names and scores of the top senators\n",
    "for i, row in top_senators.iterrows():\n",
    "    print(f\"Senator: {row['Nombre']} {row['Apellidos']}, Score: {similarity_scores[i]}\")"
   ]
  }
 ],
 "metadata": {
  "kernelspec": {
   "display_name": "Python 3 (ipykernel)",
   "language": "python",
   "name": "python3"
  },
  "language_info": {
   "codemirror_mode": {
    "name": "ipython",
    "version": 3
   },
   "file_extension": ".py",
   "mimetype": "text/x-python",
   "name": "python",
   "nbconvert_exporter": "python",
   "pygments_lexer": "ipython3",
   "version": "3.10.6"
  },
  "toc": {
   "base_numbering": 1,
   "nav_menu": {},
   "number_sections": true,
   "sideBar": true,
   "skip_h1_title": false,
   "title_cell": "Table of Contents",
   "title_sidebar": "Contents",
   "toc_cell": false,
   "toc_position": {},
   "toc_section_display": true,
   "toc_window_display": false
  }
 },
 "nbformat": 4,
 "nbformat_minor": 5
}
