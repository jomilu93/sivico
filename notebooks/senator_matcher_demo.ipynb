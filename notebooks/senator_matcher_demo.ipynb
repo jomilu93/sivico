{
 "cells": [
  {
   "cell_type": "markdown",
   "id": "2698e36c",
   "metadata": {},
   "source": [
    "# BETO Matcher"
   ]
  },
  {
   "cell_type": "code",
   "execution_count": 22,
   "id": "71e545bf",
   "metadata": {},
   "outputs": [],
   "source": [
    "import pandas as pd\n",
    "import os\n",
    "import sys"
   ]
  },
  {
   "cell_type": "markdown",
   "id": "e838f885",
   "metadata": {},
   "source": [
    "## Step 1: Imports"
   ]
  },
  {
   "cell_type": "code",
   "execution_count": 25,
   "id": "39cca67b",
   "metadata": {},
   "outputs": [],
   "source": [
    "from sivico.senator_matcher.matchers.beto_matcher.embedding import generate_embeddings\n",
    "from sivico.senator_matcher.matchers.beto_matcher.matching import match_senators, get_top_senators\n",
    "from sivico.senator_matcher.matchers.beto_matcher.preprocessing import preprocess_text_for_beto"
   ]
  },
  {
   "cell_type": "markdown",
   "id": "fb2882ca",
   "metadata": {},
   "source": [
    "## Step 2: Preprocess BETO summary"
   ]
  },
  {
   "cell_type": "code",
   "execution_count": 30,
   "id": "d838f695",
   "metadata": {},
   "outputs": [],
   "source": [
    "SENATORS_TO_PROCESS = 10\n",
    "\n",
    "current_path = os.getcwd()\n",
    "parent_directory = os.path.dirname(current_path)\n",
    "project_data_path = os.path.join(parent_directory, 'data')\n",
    "\n",
    "# Load the data\n",
    "df = pd.read_csv(os.path.join(project_data_path, 'senators_data_updated.csv')).head(SENATORS_TO_PROCESS)\n",
    "\n",
    "df['preprocessed_beto_summary'] = df['BETO_summary'].apply(preprocess_text_for_beto)\n",
    "df.to_csv(os.path.join(project_data_path, 'senators_data_updated_preprocessed.csv'), index=False)"
   ]
  },
  {
   "cell_type": "markdown",
   "id": "6841c3f6",
   "metadata": {},
   "source": [
    "## Step 2: Generate embeddings"
   ]
  },
  {
   "cell_type": "code",
   "execution_count": 31,
   "id": "6264c4e1",
   "metadata": {},
   "outputs": [],
   "source": [
    "# Generate embeddings for the desired column\n",
    "embeddings = [generate_embeddings(text) for text in df['preprocessed_beto_summary']]"
   ]
  },
  {
   "cell_type": "markdown",
   "id": "2ad76bff",
   "metadata": {},
   "source": [
    "## Step 3: Matching"
   ]
  },
  {
   "cell_type": "code",
   "execution_count": 4,
   "id": "e17f4f3c",
   "metadata": {},
   "outputs": [
    {
     "data": {
      "text/html": [
       "<div>\n",
       "<style scoped>\n",
       "    .dataframe tbody tr th:only-of-type {\n",
       "        vertical-align: middle;\n",
       "    }\n",
       "\n",
       "    .dataframe tbody tr th {\n",
       "        vertical-align: top;\n",
       "    }\n",
       "\n",
       "    .dataframe thead th {\n",
       "        text-align: right;\n",
       "    }\n",
       "</style>\n",
       "<table border=\"1\" class=\"dataframe\">\n",
       "  <thead>\n",
       "    <tr style=\"text-align: right;\">\n",
       "      <th></th>\n",
       "      <th>Apellidos</th>\n",
       "      <th>Nombre</th>\n",
       "      <th>Fraccion</th>\n",
       "      <th>similarity_score</th>\n",
       "    </tr>\n",
       "  </thead>\n",
       "  <tbody>\n",
       "    <tr>\n",
       "      <th>0</th>\n",
       "      <td>Botello Montes</td>\n",
       "      <td>José Alfredo</td>\n",
       "      <td>PAN</td>\n",
       "      <td>0.840162</td>\n",
       "    </tr>\n",
       "    <tr>\n",
       "      <th>1</th>\n",
       "      <td>Rojas Loreto</td>\n",
       "      <td>Estrella</td>\n",
       "      <td>PAN</td>\n",
       "      <td>0.837799</td>\n",
       "    </tr>\n",
       "    <tr>\n",
       "      <th>2</th>\n",
       "      <td>Moya Clemente</td>\n",
       "      <td>Roberto Juan</td>\n",
       "      <td>PAN</td>\n",
       "      <td>0.833831</td>\n",
       "    </tr>\n",
       "  </tbody>\n",
       "</table>\n",
       "</div>"
      ],
      "text/plain": [
       "        Apellidos        Nombre Fraccion  similarity_score\n",
       "0  Botello Montes  José Alfredo      PAN          0.840162\n",
       "1    Rojas Loreto      Estrella      PAN          0.837799\n",
       "2   Moya Clemente  Roberto Juan      PAN          0.833831"
      ]
     },
     "execution_count": 4,
     "metadata": {},
     "output_type": "execute_result"
    }
   ],
   "source": [
    "user_input = \"Quiero proteccion para los animales\"\n",
    "\n",
    "# Match the senators based on the user's input\n",
    "similarity_scores = match_senators(user_input, embeddings)\n",
    "\n",
    "# Get the top 5 senators\n",
    "top_senators = get_top_senators(similarity_scores, df)\n",
    "\n",
    "# Display the top senators based on their summary\n",
    "top_senators"
   ]
  },
  {
   "cell_type": "markdown",
   "id": "3e5fbd1b",
   "metadata": {},
   "source": [
    "# TFIDF Matcher"
   ]
  },
  {
   "cell_type": "code",
   "execution_count": 2,
   "id": "47d33a51",
   "metadata": {},
   "outputs": [],
   "source": [
    "import pandas as pd\n",
    "import os\n",
    "import sys"
   ]
  },
  {
   "cell_type": "markdown",
   "id": "8e6c42db",
   "metadata": {},
   "source": [
    "## Step 1: Imports"
   ]
  },
  {
   "cell_type": "code",
   "execution_count": 4,
   "id": "9cb62982",
   "metadata": {},
   "outputs": [
    {
     "name": "stderr",
     "output_type": "stream",
     "text": [
      "[nltk_data] Downloading package stopwords to /Users/luis/nltk_data...\n",
      "[nltk_data]   Package stopwords is already up-to-date!\n"
     ]
    },
    {
     "data": {
      "application/vnd.jupyter.widget-view+json": {
       "model_id": "63eea3453a964151b8a8dde23e23b013",
       "version_major": 2,
       "version_minor": 0
      },
      "text/plain": [
       "Downloading https://raw.githubusercontent.com/stanfordnlp/stanza-resources/main/resources_1.5.0.json:   0%|   …"
      ]
     },
     "metadata": {},
     "output_type": "display_data"
    },
    {
     "name": "stderr",
     "output_type": "stream",
     "text": [
      "2023-07-18 09:10:56 INFO: Downloading default packages for language: es (Spanish) ...\n",
      "2023-07-18 09:10:57 INFO: File exists: /Users/luis/stanza_resources/es/default.zip\n",
      "2023-07-18 09:11:01 INFO: Finished downloading models and saved to /Users/luis/stanza_resources.\n",
      "2023-07-18 09:11:01 INFO: Checking for updates to resources.json in case models have been updated.  Note: this behavior can be turned off with download_method=None or download_method=DownloadMethod.REUSE_RESOURCES\n"
     ]
    },
    {
     "data": {
      "application/vnd.jupyter.widget-view+json": {
       "model_id": "732c3b56dac342e4bd40546cf1fc2bc3",
       "version_major": 2,
       "version_minor": 0
      },
      "text/plain": [
       "Downloading https://raw.githubusercontent.com/stanfordnlp/stanza-resources/main/resources_1.5.0.json:   0%|   …"
      ]
     },
     "metadata": {},
     "output_type": "display_data"
    },
    {
     "name": "stderr",
     "output_type": "stream",
     "text": [
      "2023-07-18 09:11:02 INFO: Loading these models for language: es (Spanish):\n",
      "===========================\n",
      "| Processor    | Package  |\n",
      "---------------------------\n",
      "| tokenize     | ancora   |\n",
      "| mwt          | ancora   |\n",
      "| pos          | ancora   |\n",
      "| lemma        | ancora   |\n",
      "| constituency | combined |\n",
      "| depparse     | ancora   |\n",
      "| sentiment    | tass2020 |\n",
      "| ner          | conll02  |\n",
      "===========================\n",
      "\n",
      "2023-07-18 09:11:02 INFO: Using device: cpu\n",
      "2023-07-18 09:11:02 INFO: Loading: tokenize\n",
      "2023-07-18 09:11:02 INFO: Loading: mwt\n",
      "2023-07-18 09:11:02 INFO: Loading: pos\n",
      "2023-07-18 09:11:02 INFO: Loading: lemma\n",
      "2023-07-18 09:11:02 INFO: Loading: constituency\n",
      "2023-07-18 09:11:03 INFO: Loading: depparse\n",
      "2023-07-18 09:11:03 INFO: Loading: sentiment\n",
      "2023-07-18 09:11:03 INFO: Loading: ner\n",
      "2023-07-18 09:11:04 INFO: Done loading processors!\n"
     ]
    }
   ],
   "source": [
    "from sivico.senator_matcher.matchers.tfidf_matcher.preprocessing import preprocess_text\n",
    "from sivico.senator_matcher.matchers.tfidf_matcher.vectorization import fit_vectorizer, save_vectorizer_and_matrix, load_vectorizer_and_matrix\n",
    "from sivico.senator_matcher.matchers.tfidf_matcher.matching import match_senators"
   ]
  },
  {
   "cell_type": "markdown",
   "id": "f32eb2c4",
   "metadata": {},
   "source": [
    "## Step 2: Preprocessing"
   ]
  },
  {
   "cell_type": "code",
   "execution_count": 7,
   "id": "529f2993",
   "metadata": {},
   "outputs": [],
   "source": [
    "# Try not to run this since it's expensive\n",
    "\n",
    "# SENATORS_TO_PROCESS = 3\n",
    "\n",
    "# current_path = os.getcwd()\n",
    "# parent_directory = os.path.dirname(current_path)\n",
    "# project_data_path = os.path.join(parent_directory, 'data')\n",
    "\n",
    "# # Load the data\n",
    "# df = pd.read_csv(os.path.join(project_data_path, 'senators_data.csv')).head(SENATORS_TO_PROCESS)\n",
    "\n",
    "# # Apply the preprocessing function to the desired column\n",
    "# df['preprocessed_summary'] = df['initiatives_summary_dummy'].apply(preprocess_text)"
   ]
  },
  {
   "cell_type": "markdown",
   "id": "41a8c5b9",
   "metadata": {},
   "source": [
    "## Step 3: Vectorization"
   ]
  },
  {
   "cell_type": "code",
   "execution_count": 8,
   "id": "15bd2d83",
   "metadata": {},
   "outputs": [],
   "source": [
    "# Fit the TfidfVectorizer to the preprocessed column\n",
    "tfidf_matrix, vectorizer = fit_vectorizer(df, 'preprocessed_summary')\n",
    "\n",
    "# Save the TF-IDF matrix and the fitted vectorizer so we can reuse it on users input\n",
    "# We should define a place to store this in production\n",
    "save_vectorizer_and_matrix(tfidf_matrix, vectorizer, 'tfidf_matrix.pkl', 'fitted_vectorizer.pkl')"
   ]
  },
  {
   "cell_type": "markdown",
   "id": "6ede5161",
   "metadata": {},
   "source": [
    "## Step 4: Matching"
   ]
  },
  {
   "cell_type": "code",
   "execution_count": 5,
   "id": "4f2c3506",
   "metadata": {},
   "outputs": [
    {
     "ename": "FileNotFoundError",
     "evalue": "[Errno 2] No such file or directory: '../tfidf_model/tfidf_matrix.pkl'",
     "output_type": "error",
     "traceback": [
      "\u001b[0;31m---------------------------------------------------------------------------\u001b[0m",
      "\u001b[0;31mFileNotFoundError\u001b[0m                         Traceback (most recent call last)",
      "Cell \u001b[0;32mIn [5], line 2\u001b[0m\n\u001b[1;32m      1\u001b[0m \u001b[38;5;66;03m# Load the TF-IDF matrix and the fitted vectorizer\u001b[39;00m\n\u001b[0;32m----> 2\u001b[0m tfidf_matrix, vectorizer \u001b[38;5;241m=\u001b[39m \u001b[43mload_vectorizer_and_matrix\u001b[49m\u001b[43m(\u001b[49m\u001b[38;5;124;43m'\u001b[39;49m\u001b[38;5;124;43m../tfidf_model/tfidf_matrix.pkl\u001b[39;49m\u001b[38;5;124;43m'\u001b[39;49m\u001b[43m,\u001b[49m\u001b[43m \u001b[49m\u001b[38;5;124;43m'\u001b[39;49m\u001b[38;5;124;43m../tfidf_model/fitted_vectorizer.pkl\u001b[39;49m\u001b[38;5;124;43m'\u001b[39;49m\u001b[43m)\u001b[49m\n\u001b[1;32m      4\u001b[0m \u001b[38;5;66;03m# Load dataframe\u001b[39;00m\n\u001b[1;32m      5\u001b[0m df \u001b[38;5;241m=\u001b[39m pd\u001b[38;5;241m.\u001b[39mfrom_csv(\u001b[38;5;124m'\u001b[39m\u001b[38;5;124m../data/senators_data_summarized_es_preprocessed.csv\u001b[39m\u001b[38;5;124m'\u001b[39m)\n",
      "File \u001b[0;32m~/code/sivico/sivico/sivico/senator_matcher/matchers/tfidf_matcher/vectorization.py:17\u001b[0m, in \u001b[0;36mload_vectorizer_and_matrix\u001b[0;34m(matrix_filepath, vectorizer_filepath)\u001b[0m\n\u001b[1;32m     16\u001b[0m \u001b[38;5;28;01mdef\u001b[39;00m \u001b[38;5;21mload_vectorizer_and_matrix\u001b[39m(matrix_filepath, vectorizer_filepath):\n\u001b[0;32m---> 17\u001b[0m     \u001b[38;5;28;01mwith\u001b[39;00m \u001b[38;5;28;43mopen\u001b[39;49m\u001b[43m(\u001b[49m\u001b[43mmatrix_filepath\u001b[49m\u001b[43m,\u001b[49m\u001b[43m \u001b[49m\u001b[38;5;124;43m'\u001b[39;49m\u001b[38;5;124;43mrb\u001b[39;49m\u001b[38;5;124;43m'\u001b[39;49m\u001b[43m)\u001b[49m \u001b[38;5;28;01mas\u001b[39;00m f:\n\u001b[1;32m     18\u001b[0m         X \u001b[38;5;241m=\u001b[39m pickle\u001b[38;5;241m.\u001b[39mload(f)\n\u001b[1;32m     20\u001b[0m     \u001b[38;5;28;01mwith\u001b[39;00m \u001b[38;5;28mopen\u001b[39m(vectorizer_filepath, \u001b[38;5;124m'\u001b[39m\u001b[38;5;124mrb\u001b[39m\u001b[38;5;124m'\u001b[39m) \u001b[38;5;28;01mas\u001b[39;00m f:\n",
      "\u001b[0;31mFileNotFoundError\u001b[0m: [Errno 2] No such file or directory: '../tfidf_model/tfidf_matrix.pkl'"
     ]
    }
   ],
   "source": [
    "# Load the TF-IDF matrix and the fitted vectorizer\n",
    "tfidf_matrix, vectorizer = load_vectorizer_and_matrix('../tfidf_model/tfidf_matrix.pkl', '../tfidf_model/fitted_vectorizer.pkl')\n",
    "\n",
    "# Load dataframe\n",
    "df = pd.from_csv('../data/senators_data_summarized_es_preprocessed.csv')\n",
    "\n",
    "# Use the match_senators function\n",
    "user_input = \"Quiero proteccion para los animales\"\n",
    "results_df = match_senators(user_input, df, vectorizer, tfidf_matrix)\n",
    "\n",
    "# Display the top 5 senators based on their summary\n",
    "results_df.head(10)"
   ]
  }
 ],
 "metadata": {
  "kernelspec": {
   "display_name": "Python 3 (ipykernel)",
   "language": "python",
   "name": "python3"
  },
  "language_info": {
   "codemirror_mode": {
    "name": "ipython",
    "version": 3
   },
   "file_extension": ".py",
   "mimetype": "text/x-python",
   "name": "python",
   "nbconvert_exporter": "python",
   "pygments_lexer": "ipython3",
   "version": "3.10.6"
  },
  "toc": {
   "base_numbering": 1,
   "nav_menu": {},
   "number_sections": true,
   "sideBar": true,
   "skip_h1_title": false,
   "title_cell": "Table of Contents",
   "title_sidebar": "Contents",
   "toc_cell": false,
   "toc_position": {},
   "toc_section_display": true,
   "toc_window_display": false
  }
 },
 "nbformat": 4,
 "nbformat_minor": 5
}
