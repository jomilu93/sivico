{
 "cells": [
  {
   "cell_type": "markdown",
   "id": "2698e36c",
   "metadata": {},
   "source": [
    "# BETO Matcher"
   ]
  },
  {
   "cell_type": "code",
   "execution_count": 1,
   "id": "71e545bf",
   "metadata": {},
   "outputs": [],
   "source": [
    "import pandas as pd\n",
    "import os\n",
    "import sys"
   ]
  },
  {
   "cell_type": "markdown",
   "id": "e838f885",
   "metadata": {
    "heading_collapsed": true
   },
   "source": [
    "## Step 1: Imports"
   ]
  },
  {
   "cell_type": "code",
   "execution_count": 2,
   "id": "39cca67b",
   "metadata": {
    "hidden": true
   },
   "outputs": [
    {
     "name": "stderr",
     "output_type": "stream",
     "text": [
      "Some weights of the model checkpoint at dccuchile/bert-base-spanish-wwm-cased were not used when initializing BertModel: ['cls.predictions.transform.dense.weight', 'cls.predictions.decoder.weight', 'cls.predictions.transform.dense.bias', 'cls.predictions.transform.LayerNorm.weight', 'cls.predictions.decoder.bias', 'cls.predictions.bias', 'cls.predictions.transform.LayerNorm.bias']\n",
      "- This IS expected if you are initializing BertModel from the checkpoint of a model trained on another task or with another architecture (e.g. initializing a BertForSequenceClassification model from a BertForPreTraining model).\n",
      "- This IS NOT expected if you are initializing BertModel from the checkpoint of a model that you expect to be exactly identical (initializing a BertForSequenceClassification model from a BertForSequenceClassification model).\n",
      "Some weights of BertModel were not initialized from the model checkpoint at dccuchile/bert-base-spanish-wwm-cased and are newly initialized: ['bert.pooler.dense.weight', 'bert.pooler.dense.bias']\n",
      "You should probably TRAIN this model on a down-stream task to be able to use it for predictions and inference.\n"
     ]
    }
   ],
   "source": [
    "from senator_matcher.beto_matcher.embedding import generate_embeddings\n",
    "from senator_matcher.beto_matcher.matching import match_senators, get_top_senators"
   ]
  },
  {
   "cell_type": "markdown",
   "id": "6841c3f6",
   "metadata": {
    "heading_collapsed": true
   },
   "source": [
    "## Step 2: Generate embeddings"
   ]
  },
  {
   "cell_type": "code",
   "execution_count": 3,
   "id": "6264c4e1",
   "metadata": {
    "hidden": true
   },
   "outputs": [],
   "source": [
    "SENATORS_TO_PROCESS = 3\n",
    "\n",
    "current_path = os.getcwd()\n",
    "parent_directory = os.path.dirname(current_path)\n",
    "project_data_path = os.path.join(parent_directory, 'data')\n",
    "\n",
    "# Load the data\n",
    "df = pd.read_csv(os.path.join(project_data_path, 'senators_data.csv')).head(SENATORS_TO_PROCESS)\n",
    "\n",
    "# Generate embeddings for the desired column\n",
    "embeddings = [generate_embeddings(text) for text in df['initiatives_summary_dummy']]"
   ]
  },
  {
   "cell_type": "markdown",
   "id": "2ad76bff",
   "metadata": {
    "heading_collapsed": true
   },
   "source": [
    "## Step 3: Matching"
   ]
  },
  {
   "cell_type": "code",
   "execution_count": 4,
   "id": "e17f4f3c",
   "metadata": {
    "hidden": true
   },
   "outputs": [
    {
     "data": {
      "text/html": [
       "<div>\n",
       "<style scoped>\n",
       "    .dataframe tbody tr th:only-of-type {\n",
       "        vertical-align: middle;\n",
       "    }\n",
       "\n",
       "    .dataframe tbody tr th {\n",
       "        vertical-align: top;\n",
       "    }\n",
       "\n",
       "    .dataframe thead th {\n",
       "        text-align: right;\n",
       "    }\n",
       "</style>\n",
       "<table border=\"1\" class=\"dataframe\">\n",
       "  <thead>\n",
       "    <tr style=\"text-align: right;\">\n",
       "      <th></th>\n",
       "      <th>Apellidos</th>\n",
       "      <th>Nombre</th>\n",
       "      <th>Fraccion</th>\n",
       "      <th>similarity_score</th>\n",
       "    </tr>\n",
       "  </thead>\n",
       "  <tbody>\n",
       "    <tr>\n",
       "      <th>0</th>\n",
       "      <td>Botello Montes</td>\n",
       "      <td>José Alfredo</td>\n",
       "      <td>PAN</td>\n",
       "      <td>0.840162</td>\n",
       "    </tr>\n",
       "    <tr>\n",
       "      <th>1</th>\n",
       "      <td>Rojas Loreto</td>\n",
       "      <td>Estrella</td>\n",
       "      <td>PAN</td>\n",
       "      <td>0.837799</td>\n",
       "    </tr>\n",
       "    <tr>\n",
       "      <th>2</th>\n",
       "      <td>Moya Clemente</td>\n",
       "      <td>Roberto Juan</td>\n",
       "      <td>PAN</td>\n",
       "      <td>0.833831</td>\n",
       "    </tr>\n",
       "  </tbody>\n",
       "</table>\n",
       "</div>"
      ],
      "text/plain": [
       "        Apellidos        Nombre Fraccion  similarity_score\n",
       "0  Botello Montes  José Alfredo      PAN          0.840162\n",
       "1    Rojas Loreto      Estrella      PAN          0.837799\n",
       "2   Moya Clemente  Roberto Juan      PAN          0.833831"
      ]
     },
     "execution_count": 4,
     "metadata": {},
     "output_type": "execute_result"
    }
   ],
   "source": [
    "user_input = \"Quiero proteccion para los animales\"\n",
    "\n",
    "# Match the senators based on the user's input\n",
    "similarity_scores = match_senators(user_input, embeddings)\n",
    "\n",
    "# Get the top 5 senators\n",
    "top_senators = get_top_senators(similarity_scores, df)\n",
    "\n",
    "# Display the top senators based on their summary\n",
    "top_senators"
   ]
  },
  {
   "cell_type": "markdown",
   "id": "3e5fbd1b",
   "metadata": {},
   "source": [
    "# TFIDF Matcher"
   ]
  },
  {
   "cell_type": "code",
   "execution_count": 5,
   "id": "47d33a51",
   "metadata": {},
   "outputs": [],
   "source": [
    "import pandas as pd\n",
    "import os\n",
    "import sys"
   ]
  },
  {
   "cell_type": "markdown",
   "id": "8e6c42db",
   "metadata": {},
   "source": [
    "## Step 1: Imports"
   ]
  },
  {
   "cell_type": "code",
   "execution_count": 6,
   "id": "9cb62982",
   "metadata": {},
   "outputs": [
    {
     "name": "stderr",
     "output_type": "stream",
     "text": [
      "[nltk_data] Downloading package stopwords to /Users/luis/nltk_data...\n",
      "[nltk_data]   Package stopwords is already up-to-date!\n"
     ]
    },
    {
     "data": {
      "application/vnd.jupyter.widget-view+json": {
       "model_id": "37fbd7de5c1a41a99a78bcccfb9dbdff",
       "version_major": 2,
       "version_minor": 0
      },
      "text/plain": [
       "Downloading https://raw.githubusercontent.com/stanfordnlp/stanza-resources/main/resources_1.5.0.json:   0%|   …"
      ]
     },
     "metadata": {},
     "output_type": "display_data"
    },
    {
     "name": "stderr",
     "output_type": "stream",
     "text": [
      "2023-07-13 10:56:06 INFO: Downloading default packages for language: es (Spanish) ...\n",
      "2023-07-13 10:56:08 INFO: File exists: /Users/luis/stanza_resources/es/default.zip\n",
      "2023-07-13 10:56:12 INFO: Finished downloading models and saved to /Users/luis/stanza_resources.\n",
      "2023-07-13 10:56:12 INFO: Checking for updates to resources.json in case models have been updated.  Note: this behavior can be turned off with download_method=None or download_method=DownloadMethod.REUSE_RESOURCES\n"
     ]
    },
    {
     "data": {
      "application/vnd.jupyter.widget-view+json": {
       "model_id": "5c8637f7143845829b8d24284fd15089",
       "version_major": 2,
       "version_minor": 0
      },
      "text/plain": [
       "Downloading https://raw.githubusercontent.com/stanfordnlp/stanza-resources/main/resources_1.5.0.json:   0%|   …"
      ]
     },
     "metadata": {},
     "output_type": "display_data"
    },
    {
     "name": "stderr",
     "output_type": "stream",
     "text": [
      "2023-07-13 10:56:13 INFO: Loading these models for language: es (Spanish):\n",
      "===========================\n",
      "| Processor    | Package  |\n",
      "---------------------------\n",
      "| tokenize     | ancora   |\n",
      "| mwt          | ancora   |\n",
      "| pos          | ancora   |\n",
      "| lemma        | ancora   |\n",
      "| constituency | combined |\n",
      "| depparse     | ancora   |\n",
      "| sentiment    | tass2020 |\n",
      "| ner          | conll02  |\n",
      "===========================\n",
      "\n",
      "2023-07-13 10:56:13 INFO: Using device: cpu\n",
      "2023-07-13 10:56:13 INFO: Loading: tokenize\n",
      "2023-07-13 10:56:13 INFO: Loading: mwt\n",
      "2023-07-13 10:56:13 INFO: Loading: pos\n",
      "2023-07-13 10:56:14 INFO: Loading: lemma\n",
      "2023-07-13 10:56:14 INFO: Loading: constituency\n",
      "2023-07-13 10:56:15 INFO: Loading: depparse\n",
      "2023-07-13 10:56:15 INFO: Loading: sentiment\n",
      "2023-07-13 10:56:15 INFO: Loading: ner\n",
      "2023-07-13 10:56:16 INFO: Done loading processors!\n"
     ]
    }
   ],
   "source": [
    "from senator_matcher.tfidf_matcher.preprocessing import preprocess_text\n",
    "from senator_matcher.tfidf_matcher.vectorization import fit_vectorizer, save_vectorizer_and_matrix, load_vectorizer_and_matrix\n",
    "from senator_matcher.tfidf_matcher.matching import match_senators"
   ]
  },
  {
   "cell_type": "markdown",
   "id": "f32eb2c4",
   "metadata": {},
   "source": [
    "## Step 2: Preprocessing"
   ]
  },
  {
   "cell_type": "code",
   "execution_count": 7,
   "id": "529f2993",
   "metadata": {},
   "outputs": [],
   "source": [
    "SENATORS_TO_PROCESS = 3\n",
    "\n",
    "current_path = os.getcwd()\n",
    "parent_directory = os.path.dirname(current_path)\n",
    "project_data_path = os.path.join(parent_directory, 'data')\n",
    "\n",
    "# Load the data\n",
    "df = pd.read_csv(os.path.join(project_data_path, 'senators_data.csv')).head(SENATORS_TO_PROCESS)\n",
    "\n",
    "# Apply the preprocessing function to the desired column\n",
    "df['preprocessed_summary'] = df['initiatives_summary_dummy'].apply(preprocess_text)"
   ]
  },
  {
   "cell_type": "markdown",
   "id": "41a8c5b9",
   "metadata": {
    "heading_collapsed": true
   },
   "source": [
    "## Step 3: Vectorization"
   ]
  },
  {
   "cell_type": "code",
   "execution_count": 8,
   "id": "15bd2d83",
   "metadata": {
    "hidden": true
   },
   "outputs": [],
   "source": [
    "# Fit the TfidfVectorizer to the preprocessed column\n",
    "tfidf_matrix, vectorizer = fit_vectorizer(df, 'preprocessed_summary')\n",
    "\n",
    "# Save the TF-IDF matrix and the fitted vectorizer so we can reuse it on users input\n",
    "# We should define a place to store this in production\n",
    "save_vectorizer_and_matrix(tfidf_matrix, vectorizer, 'tfidf_matrix.pkl', 'fitted_vectorizer.pkl')"
   ]
  },
  {
   "cell_type": "markdown",
   "id": "6ede5161",
   "metadata": {
    "heading_collapsed": true
   },
   "source": [
    "## Step 4: Matching"
   ]
  },
  {
   "cell_type": "code",
   "execution_count": 9,
   "id": "4f2c3506",
   "metadata": {
    "hidden": true
   },
   "outputs": [
    {
     "data": {
      "text/html": [
       "<div>\n",
       "<style scoped>\n",
       "    .dataframe tbody tr th:only-of-type {\n",
       "        vertical-align: middle;\n",
       "    }\n",
       "\n",
       "    .dataframe tbody tr th {\n",
       "        vertical-align: top;\n",
       "    }\n",
       "\n",
       "    .dataframe thead th {\n",
       "        text-align: right;\n",
       "    }\n",
       "</style>\n",
       "<table border=\"1\" class=\"dataframe\">\n",
       "  <thead>\n",
       "    <tr style=\"text-align: right;\">\n",
       "      <th></th>\n",
       "      <th>Apellidos</th>\n",
       "      <th>Nombre</th>\n",
       "      <th>Fraccion</th>\n",
       "      <th>similarity_score</th>\n",
       "    </tr>\n",
       "  </thead>\n",
       "  <tbody>\n",
       "    <tr>\n",
       "      <th>1</th>\n",
       "      <td>Rojas Loreto</td>\n",
       "      <td>Estrella</td>\n",
       "      <td>PAN</td>\n",
       "      <td>0.107948</td>\n",
       "    </tr>\n",
       "    <tr>\n",
       "      <th>0</th>\n",
       "      <td>Botello Montes</td>\n",
       "      <td>José Alfredo</td>\n",
       "      <td>PAN</td>\n",
       "      <td>0.000000</td>\n",
       "    </tr>\n",
       "    <tr>\n",
       "      <th>2</th>\n",
       "      <td>Moya Clemente</td>\n",
       "      <td>Roberto Juan</td>\n",
       "      <td>PAN</td>\n",
       "      <td>0.000000</td>\n",
       "    </tr>\n",
       "  </tbody>\n",
       "</table>\n",
       "</div>"
      ],
      "text/plain": [
       "        Apellidos        Nombre Fraccion  similarity_score\n",
       "1    Rojas Loreto      Estrella      PAN          0.107948\n",
       "0  Botello Montes  José Alfredo      PAN          0.000000\n",
       "2   Moya Clemente  Roberto Juan      PAN          0.000000"
      ]
     },
     "execution_count": 9,
     "metadata": {},
     "output_type": "execute_result"
    }
   ],
   "source": [
    "# Load the TF-IDF matrix and the fitted vectorizer\n",
    "tfidf_matrix, vectorizer = load_vectorizer_and_matrix('tfidf_matrix.pkl', 'fitted_vectorizer.pkl')\n",
    "\n",
    "# Use the match_senators function\n",
    "user_input = \"Quiero proteccion para los animales\"\n",
    "results_df = match_senators(user_input, df, vectorizer, tfidf_matrix)\n",
    "\n",
    "# Display the top 5 senators based on their summary\n",
    "results_df.head(5)"
   ]
  }
 ],
 "metadata": {
  "kernelspec": {
   "display_name": "Python 3 (ipykernel)",
   "language": "python",
   "name": "python3"
  },
  "language_info": {
   "codemirror_mode": {
    "name": "ipython",
    "version": 3
   },
   "file_extension": ".py",
   "mimetype": "text/x-python",
   "name": "python",
   "nbconvert_exporter": "python",
   "pygments_lexer": "ipython3",
   "version": "3.10.6"
  },
  "toc": {
   "base_numbering": 1,
   "nav_menu": {},
   "number_sections": true,
   "sideBar": true,
   "skip_h1_title": false,
   "title_cell": "Table of Contents",
   "title_sidebar": "Contents",
   "toc_cell": false,
   "toc_position": {},
   "toc_section_display": true,
   "toc_window_display": false
  }
 },
 "nbformat": 4,
 "nbformat_minor": 5
}
