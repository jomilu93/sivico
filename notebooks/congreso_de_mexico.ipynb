{
 "cells": [
  {
   "cell_type": "markdown",
   "id": "84965b53",
   "metadata": {},
   "source": [
    "# Mexican Senate Data"
   ]
  },
  {
   "cell_type": "markdown",
   "id": "3cff8044",
   "metadata": {
    "heading_collapsed": true
   },
   "source": [
    "## Importing necessary libraries"
   ]
  },
  {
   "cell_type": "code",
   "execution_count": 159,
   "id": "0e3e2d92",
   "metadata": {
    "hidden": true
   },
   "outputs": [],
   "source": [
    "# importing required modules\n",
    "from PyPDF2 import PdfReader\n",
    "from pdf2image import convert_from_path\n",
    "import pytesseract\n",
    "pytesseract.pytesseract.tesseract_cmd = r'/opt/homebrew/Cellar/tesseract/5.3.1/bin/tesseract'\n",
    "import cv2\n",
    "from PIL import Image\n",
    "import matplotlib.pyplot as plt\n",
    "import requests\n",
    "import pandas as pd\n",
    "import seaborn as sns\n",
    "from bs4 import BeautifulSoup\n",
    "import numpy as np\n",
    "from lxml import etree\n",
    "import re\n",
    "from selenium import webdriver\n",
    "import time"
   ]
  },
  {
   "cell_type": "markdown",
   "id": "553fdc5e",
   "metadata": {},
   "source": [
    "## Federal Senate Database"
   ]
  },
  {
   "cell_type": "markdown",
   "id": "bbe7ccb2",
   "metadata": {
    "heading_collapsed": true
   },
   "source": [
    "### Importing senator table"
   ]
  },
  {
   "cell_type": "code",
   "execution_count": 224,
   "id": "819542dd",
   "metadata": {
    "hidden": true
   },
   "outputs": [],
   "source": [
    "def get_senators():\n",
    "    senators_url = 'https://www.senado.gob.mx/65/datosAbiertos/senadoresDatosAb.json'\n",
    "    senators_json = requests.get(senators_url).json()\n",
    "    senators = pd.DataFrame.from_dict(senators_json)\n",
    "    senators = senators.rename(columns={\"idSenador\": \"senator_id\"})\n",
    "    return senators"
   ]
  },
  {
   "cell_type": "code",
   "execution_count": 241,
   "id": "6daef222",
   "metadata": {
    "hidden": true
   },
   "outputs": [],
   "source": [
    "senators = get_senators()"
   ]
  },
  {
   "cell_type": "code",
   "execution_count": 242,
   "id": "c530f544",
   "metadata": {
    "hidden": true
   },
   "outputs": [],
   "source": [
    "#Creating a field that includes first and last names to join with initiatives+proposals table.\n",
    "senators[\"senadores\"] = senators[\"Nombre\"].str.strip()+\" \"+senators[\"Apellidos\"].str.strip()"
   ]
  },
  {
   "cell_type": "markdown",
   "id": "4d9dbff1",
   "metadata": {
    "heading_collapsed": true
   },
   "source": [
    "### Importing attendance data and adding to senator table"
   ]
  },
  {
   "cell_type": "code",
   "execution_count": 233,
   "id": "c5fdc649",
   "metadata": {
    "hidden": true
   },
   "outputs": [],
   "source": [
    "def get_senator_attendance():\n",
    "    \n",
    "    senators = get_senators()\n",
    "    \n",
    "    senator_ids = senators[\"senator_id\"].tolist()\n",
    "    \n",
    "    senator_attendance = pd.DataFrame()\n",
    "    senator_attendance[\"senator_id\"] = \"\"\n",
    "    senator_attendance[\"session_date\"] = \"\"\n",
    "    senator_attendance[\"attendance_record\"] = \"\"\n",
    "\n",
    "    counter = 0\n",
    "    for sen in senator_ids:\n",
    "        url = f'https://www.senado.gob.mx/65/asistencias/{sen}#info'\n",
    "        html = requests.get(url)\n",
    "        content = BeautifulSoup(html.text, 'html.parser')\n",
    "        content_x = etree.HTML(str(content))\n",
    "        dates = content_x.xpath('//*[@id=\"imPage\"]/div[7]/div[2]/div/div[2]/section/div/div/table/tbody//a')\n",
    "        att_records = content_x.xpath('//*[@id=\"imPage\"]/div[7]/div[2]/div/div[2]/section/div/div/table/tbody//strong')\n",
    "        for i in range(len(dates)):\n",
    "            senator_attendance.at[i+counter, 'senator_id'] = sen\n",
    "            senator_attendance.at[i+counter, 'session_date'] = dates[i].text\n",
    "            senator_attendance.at[i+counter, 'attendance_record'] = att_records[i].text\n",
    "        counter += len(dates)\n",
    "\n",
    "    senator_attendance[\"attendance_score\"] = senator_attendance[\"attendance_record\"].copy()\n",
    "    senator_attendance[\"attendance_score\"] = senator_attendance[\"attendance_score\"].map(lambda x: 1 if x == \"Asistencia\" else 0)\n",
    "    senator_attendance = pd.merge(senator_attendance, senators[['senator_id','Fraccion', 'Estado', 'Apellidos', 'Nombre', 'tipoEleccion']], on='senator_id', how='left')\n",
    "\n",
    "    senator_attendance[\"full_name\"] = senator_attendance['Nombre'] + \" \" + senator_attendance['Apellidos']\n",
    "    \n",
    "    senator_attendance = senator_attendance.groupby(['senator_id', 'full_name', 'Fraccion', 'Estado', 'tipoEleccion'], as_index=False)[['attendance_score']].mean()\n",
    "\n",
    "    return senator_attendance"
   ]
  },
  {
   "cell_type": "code",
   "execution_count": 234,
   "id": "0f5c9da4",
   "metadata": {
    "hidden": true
   },
   "outputs": [],
   "source": [
    "senator_attendance = get_senator_attendance()"
   ]
  },
  {
   "cell_type": "code",
   "execution_count": 243,
   "id": "b42568ef",
   "metadata": {
    "hidden": true,
    "scrolled": true
   },
   "outputs": [
    {
     "data": {
      "text/html": [
       "<div>\n",
       "<style scoped>\n",
       "    .dataframe tbody tr th:only-of-type {\n",
       "        vertical-align: middle;\n",
       "    }\n",
       "\n",
       "    .dataframe tbody tr th {\n",
       "        vertical-align: top;\n",
       "    }\n",
       "\n",
       "    .dataframe thead th {\n",
       "        text-align: right;\n",
       "    }\n",
       "</style>\n",
       "<table border=\"1\" class=\"dataframe\">\n",
       "  <thead>\n",
       "    <tr style=\"text-align: right;\">\n",
       "      <th></th>\n",
       "      <th>senator_id</th>\n",
       "      <th>Apellidos</th>\n",
       "      <th>Nombre</th>\n",
       "      <th>Fraccion</th>\n",
       "      <th>Legislatura</th>\n",
       "      <th>Estado</th>\n",
       "      <th>Sexo</th>\n",
       "      <th>tipoEleccion</th>\n",
       "      <th>Suplente</th>\n",
       "      <th>estadoOrigen</th>\n",
       "      <th>...</th>\n",
       "      <th>youtube</th>\n",
       "      <th>instagram</th>\n",
       "      <th>url_sitio</th>\n",
       "      <th>telefono</th>\n",
       "      <th>extension</th>\n",
       "      <th>estatus</th>\n",
       "      <th>direccion</th>\n",
       "      <th>id</th>\n",
       "      <th>senadores</th>\n",
       "      <th>attendance_score</th>\n",
       "    </tr>\n",
       "  </thead>\n",
       "  <tbody>\n",
       "    <tr>\n",
       "      <th>0</th>\n",
       "      <td>1160</td>\n",
       "      <td>Botello Montes</td>\n",
       "      <td>José Alfredo</td>\n",
       "      <td>PAN</td>\n",
       "      <td>64</td>\n",
       "      <td>Querétaro</td>\n",
       "      <td>Hombre</td>\n",
       "      <td>Senador Electo por el Principio de Mayoría Rel...</td>\n",
       "      <td>None</td>\n",
       "      <td>Querétaro</td>\n",
       "      <td>...</td>\n",
       "      <td></td>\n",
       "      <td></td>\n",
       "      <td></td>\n",
       "      <td>5345 3000</td>\n",
       "      <td>4183 y 4184</td>\n",
       "      <td>en_funciones</td>\n",
       "      <td>Av Paseo de la Reforma No. 135, Hemiciclo Piso...</td>\n",
       "      <td>1</td>\n",
       "      <td>José Alfredo Botello Montes</td>\n",
       "      <td>0.958904</td>\n",
       "    </tr>\n",
       "    <tr>\n",
       "      <th>1</th>\n",
       "      <td>1162</td>\n",
       "      <td>Rojas Loreto</td>\n",
       "      <td>Estrella</td>\n",
       "      <td>PAN</td>\n",
       "      <td>64</td>\n",
       "      <td>Querétaro</td>\n",
       "      <td>Mujer</td>\n",
       "      <td>Senadora Electa por el Principio de Mayoría Re...</td>\n",
       "      <td>None</td>\n",
       "      <td>Querétaro</td>\n",
       "      <td>...</td>\n",
       "      <td></td>\n",
       "      <td></td>\n",
       "      <td></td>\n",
       "      <td>5345 3000</td>\n",
       "      <td>3323</td>\n",
       "      <td>en_funciones</td>\n",
       "      <td>Av Paseo de la Reforma No. 135, Hemiciclo Piso...</td>\n",
       "      <td>2</td>\n",
       "      <td>Estrella Rojas Loreto</td>\n",
       "      <td>0.973913</td>\n",
       "    </tr>\n",
       "    <tr>\n",
       "      <th>2</th>\n",
       "      <td>1247</td>\n",
       "      <td>Moya Clemente</td>\n",
       "      <td>Roberto Juan</td>\n",
       "      <td>PAN</td>\n",
       "      <td>64</td>\n",
       "      <td>Lista Nacional</td>\n",
       "      <td>Hombre</td>\n",
       "      <td>Senador Electo por Representación Proporcional...</td>\n",
       "      <td>None</td>\n",
       "      <td>Lista Nacional</td>\n",
       "      <td>...</td>\n",
       "      <td></td>\n",
       "      <td></td>\n",
       "      <td></td>\n",
       "      <td>5345 3000</td>\n",
       "      <td>3301, 5917 y 2122</td>\n",
       "      <td>en_funciones</td>\n",
       "      <td>Av Paseo de la Reforma No. 135, Hemiciclo Piso...</td>\n",
       "      <td>3</td>\n",
       "      <td>Roberto Juan Moya Clemente</td>\n",
       "      <td>0.826568</td>\n",
       "    </tr>\n",
       "    <tr>\n",
       "      <th>3</th>\n",
       "      <td>1101</td>\n",
       "      <td>Bermúdez Méndez</td>\n",
       "      <td>José Erandi</td>\n",
       "      <td>PAN</td>\n",
       "      <td>64</td>\n",
       "      <td>Guanajuato</td>\n",
       "      <td>Hombre</td>\n",
       "      <td>Senador Electo por el Principio de Mayoría Rel...</td>\n",
       "      <td>Juan Antonio Negrete Martínez</td>\n",
       "      <td>Guanajuato</td>\n",
       "      <td>...</td>\n",
       "      <td></td>\n",
       "      <td>https://www.instagram.com/erandibermudez/</td>\n",
       "      <td></td>\n",
       "      <td>5345 3000</td>\n",
       "      <td>3268</td>\n",
       "      <td>en_funciones</td>\n",
       "      <td>Av Paseo de la Reforma No. 135, Hemiciclo Piso...</td>\n",
       "      <td>4</td>\n",
       "      <td>José Erandi Bermúdez Méndez</td>\n",
       "      <td>0.868421</td>\n",
       "    </tr>\n",
       "    <tr>\n",
       "      <th>4</th>\n",
       "      <td>1052</td>\n",
       "      <td>Cruz Blackledge</td>\n",
       "      <td>Gina Andrea</td>\n",
       "      <td>PAN</td>\n",
       "      <td>64</td>\n",
       "      <td>Baja California</td>\n",
       "      <td>Mujer</td>\n",
       "      <td>Senadora Electa por el Principio de Primera Mi...</td>\n",
       "      <td>Iraís María Vázquez Aguiar</td>\n",
       "      <td>Baja California</td>\n",
       "      <td>...</td>\n",
       "      <td></td>\n",
       "      <td>https://www.instagram.com/ginacruzb/</td>\n",
       "      <td></td>\n",
       "      <td>5345 3000</td>\n",
       "      <td>3388</td>\n",
       "      <td>en_funciones</td>\n",
       "      <td>Av Paseo de la Reforma No. 135, Hemiciclo Piso...</td>\n",
       "      <td>5</td>\n",
       "      <td>Gina Andrea Cruz Blackledge</td>\n",
       "      <td>0.884868</td>\n",
       "    </tr>\n",
       "    <tr>\n",
       "      <th>...</th>\n",
       "      <td>...</td>\n",
       "      <td>...</td>\n",
       "      <td>...</td>\n",
       "      <td>...</td>\n",
       "      <td>...</td>\n",
       "      <td>...</td>\n",
       "      <td>...</td>\n",
       "      <td>...</td>\n",
       "      <td>...</td>\n",
       "      <td>...</td>\n",
       "      <td>...</td>\n",
       "      <td>...</td>\n",
       "      <td>...</td>\n",
       "      <td>...</td>\n",
       "      <td>...</td>\n",
       "      <td>...</td>\n",
       "      <td>...</td>\n",
       "      <td>...</td>\n",
       "      <td>...</td>\n",
       "      <td>...</td>\n",
       "      <td>...</td>\n",
       "    </tr>\n",
       "    <tr>\n",
       "      <th>121</th>\n",
       "      <td>1274</td>\n",
       "      <td>Vasconcelos</td>\n",
       "      <td>Héctor</td>\n",
       "      <td>morena</td>\n",
       "      <td>64</td>\n",
       "      <td>Lista Nacional</td>\n",
       "      <td>Hombre</td>\n",
       "      <td>Senador Electo por Representación Proporcional...</td>\n",
       "      <td>None</td>\n",
       "      <td>Lista Nacional</td>\n",
       "      <td>...</td>\n",
       "      <td>https://www.youtube.com/channel/UCZKK3iAGK1_5C...</td>\n",
       "      <td></td>\n",
       "      <td>http://hectorvasconcelos.mx</td>\n",
       "      <td>5345 3000</td>\n",
       "      <td>3657</td>\n",
       "      <td>en_funciones</td>\n",
       "      <td>Av Paseo de la Reforma No. 135, Hemiciclo Piso...</td>\n",
       "      <td>122</td>\n",
       "      <td>Héctor Vasconcelos</td>\n",
       "      <td>0.871711</td>\n",
       "    </tr>\n",
       "    <tr>\n",
       "      <th>122</th>\n",
       "      <td>1273</td>\n",
       "      <td>Vázquez Alatorre</td>\n",
       "      <td>Antares Guadalupe</td>\n",
       "      <td>morena</td>\n",
       "      <td>64</td>\n",
       "      <td>Lista Nacional</td>\n",
       "      <td>Mujer</td>\n",
       "      <td>Senadora Electa por Representación Proporciona...</td>\n",
       "      <td>None</td>\n",
       "      <td>Lista Nacional</td>\n",
       "      <td>...</td>\n",
       "      <td>https://www.youtube.com/channel/UCTCzq6UOjyy3G...</td>\n",
       "      <td>https://www.instagram.com/antaresvazquezalatorre/</td>\n",
       "      <td></td>\n",
       "      <td>5345 3000</td>\n",
       "      <td>3834</td>\n",
       "      <td>en_funciones</td>\n",
       "      <td>Av Paseo de la Reforma No. 135, Hemiciclo Piso...</td>\n",
       "      <td>123</td>\n",
       "      <td>Antares Guadalupe Vázquez Alatorre</td>\n",
       "      <td>0.957237</td>\n",
       "    </tr>\n",
       "    <tr>\n",
       "      <th>123</th>\n",
       "      <td>1169</td>\n",
       "      <td>Villegas Canché</td>\n",
       "      <td>Freyda Marybel</td>\n",
       "      <td>morena</td>\n",
       "      <td>64</td>\n",
       "      <td>Quintana Roo</td>\n",
       "      <td>Mujer</td>\n",
       "      <td>Senadora Electa por el Principio de Mayoría Re...</td>\n",
       "      <td>Gabriela López Gómez</td>\n",
       "      <td>Quintana Roo</td>\n",
       "      <td>...</td>\n",
       "      <td>https://www.youtube.com/channel/UCbSepTNbWgNRb...</td>\n",
       "      <td>https://www.instagram.com/marybelvillegascanche/</td>\n",
       "      <td>http://marybelvillegas.mx/</td>\n",
       "      <td>5345 3000</td>\n",
       "      <td>3194</td>\n",
       "      <td>en_funciones</td>\n",
       "      <td>Av Paseo de la Reforma No. 135, Hemiciclo Piso...</td>\n",
       "      <td>124</td>\n",
       "      <td>Freyda Marybel Villegas Canché</td>\n",
       "      <td>0.888446</td>\n",
       "    </tr>\n",
       "    <tr>\n",
       "      <th>124</th>\n",
       "      <td>1406</td>\n",
       "      <td>Jiménez Arteaga</td>\n",
       "      <td>Rosa Elena</td>\n",
       "      <td>morena</td>\n",
       "      <td>64</td>\n",
       "      <td>Nayarit</td>\n",
       "      <td>Mujer</td>\n",
       "      <td>Senadora Electa por el Principio de Mayoría Re...</td>\n",
       "      <td>Beatriz Andrea Navarro Pérez</td>\n",
       "      <td>Nayarit</td>\n",
       "      <td>...</td>\n",
       "      <td></td>\n",
       "      <td></td>\n",
       "      <td></td>\n",
       "      <td>5345 3000</td>\n",
       "      <td>3167</td>\n",
       "      <td>en_funciones</td>\n",
       "      <td>Av Paseo de la Reforma No. 135, Hemiciclo Piso...</td>\n",
       "      <td>125</td>\n",
       "      <td>Rosa Elena Jiménez Arteaga</td>\n",
       "      <td>0.931034</td>\n",
       "    </tr>\n",
       "    <tr>\n",
       "      <th>125</th>\n",
       "      <td>1458</td>\n",
       "      <td>Gómez Leal</td>\n",
       "      <td>José Ramón</td>\n",
       "      <td>morena</td>\n",
       "      <td>64</td>\n",
       "      <td>Tamaulipas</td>\n",
       "      <td>Hombre</td>\n",
       "      <td>Senador Electo por el Principio de Mayoría Rel...</td>\n",
       "      <td>None</td>\n",
       "      <td>Tamaulipas</td>\n",
       "      <td>...</td>\n",
       "      <td></td>\n",
       "      <td>https://www.instagram.com/jrgomezleal/?igshid=...</td>\n",
       "      <td></td>\n",
       "      <td>5345 300</td>\n",
       "      <td>5199 y 5192</td>\n",
       "      <td>en_funciones</td>\n",
       "      <td>Av Paseo de la Reforma No. 135, Hemiciclo Piso...</td>\n",
       "      <td>126</td>\n",
       "      <td>José Ramón Gómez Leal</td>\n",
       "      <td>0.842105</td>\n",
       "    </tr>\n",
       "  </tbody>\n",
       "</table>\n",
       "<p>126 rows × 23 columns</p>\n",
       "</div>"
      ],
      "text/plain": [
       "    senator_id         Apellidos             Nombre Fraccion Legislatura  \\\n",
       "0         1160    Botello Montes       José Alfredo      PAN          64   \n",
       "1         1162      Rojas Loreto           Estrella      PAN          64   \n",
       "2         1247     Moya Clemente       Roberto Juan      PAN          64   \n",
       "3         1101   Bermúdez Méndez        José Erandi      PAN          64   \n",
       "4         1052   Cruz Blackledge        Gina Andrea      PAN          64   \n",
       "..         ...               ...                ...      ...         ...   \n",
       "121       1274      Vasconcelos              Héctor   morena          64   \n",
       "122       1273  Vázquez Alatorre  Antares Guadalupe   morena          64   \n",
       "123       1169   Villegas Canché     Freyda Marybel   morena          64   \n",
       "124       1406   Jiménez Arteaga         Rosa Elena   morena          64   \n",
       "125       1458        Gómez Leal         José Ramón   morena          64   \n",
       "\n",
       "              Estado    Sexo  \\\n",
       "0          Querétaro  Hombre   \n",
       "1          Querétaro   Mujer   \n",
       "2     Lista Nacional  Hombre   \n",
       "3         Guanajuato  Hombre   \n",
       "4    Baja California   Mujer   \n",
       "..               ...     ...   \n",
       "121   Lista Nacional  Hombre   \n",
       "122   Lista Nacional   Mujer   \n",
       "123     Quintana Roo   Mujer   \n",
       "124          Nayarit   Mujer   \n",
       "125       Tamaulipas  Hombre   \n",
       "\n",
       "                                          tipoEleccion  \\\n",
       "0    Senador Electo por el Principio de Mayoría Rel...   \n",
       "1    Senadora Electa por el Principio de Mayoría Re...   \n",
       "2    Senador Electo por Representación Proporcional...   \n",
       "3    Senador Electo por el Principio de Mayoría Rel...   \n",
       "4    Senadora Electa por el Principio de Primera Mi...   \n",
       "..                                                 ...   \n",
       "121  Senador Electo por Representación Proporcional...   \n",
       "122  Senadora Electa por Representación Proporciona...   \n",
       "123  Senadora Electa por el Principio de Mayoría Re...   \n",
       "124  Senadora Electa por el Principio de Mayoría Re...   \n",
       "125  Senador Electo por el Principio de Mayoría Rel...   \n",
       "\n",
       "                          Suplente     estadoOrigen  ...  \\\n",
       "0                             None        Querétaro  ...   \n",
       "1                             None        Querétaro  ...   \n",
       "2                             None   Lista Nacional  ...   \n",
       "3    Juan Antonio Negrete Martínez       Guanajuato  ...   \n",
       "4       Iraís María Vázquez Aguiar  Baja California  ...   \n",
       "..                             ...              ...  ...   \n",
       "121                           None   Lista Nacional  ...   \n",
       "122                           None   Lista Nacional  ...   \n",
       "123           Gabriela López Gómez     Quintana Roo  ...   \n",
       "124   Beatriz Andrea Navarro Pérez          Nayarit  ...   \n",
       "125                           None       Tamaulipas  ...   \n",
       "\n",
       "                                               youtube  \\\n",
       "0                                                        \n",
       "1                                                        \n",
       "2                                                        \n",
       "3                                                        \n",
       "4                                                        \n",
       "..                                                 ...   \n",
       "121  https://www.youtube.com/channel/UCZKK3iAGK1_5C...   \n",
       "122  https://www.youtube.com/channel/UCTCzq6UOjyy3G...   \n",
       "123  https://www.youtube.com/channel/UCbSepTNbWgNRb...   \n",
       "124                                                      \n",
       "125                                                      \n",
       "\n",
       "                                             instagram  \\\n",
       "0                                                        \n",
       "1                                                        \n",
       "2                                                        \n",
       "3            https://www.instagram.com/erandibermudez/   \n",
       "4                 https://www.instagram.com/ginacruzb/   \n",
       "..                                                 ...   \n",
       "121                                                      \n",
       "122  https://www.instagram.com/antaresvazquezalatorre/   \n",
       "123   https://www.instagram.com/marybelvillegascanche/   \n",
       "124                                                      \n",
       "125  https://www.instagram.com/jrgomezleal/?igshid=...   \n",
       "\n",
       "                       url_sitio   telefono          extension       estatus  \\\n",
       "0                                 5345 3000        4183 y 4184  en_funciones   \n",
       "1                                 5345 3000               3323  en_funciones   \n",
       "2                                 5345 3000  3301, 5917 y 2122  en_funciones   \n",
       "3                                 5345 3000               3268  en_funciones   \n",
       "4                                 5345 3000               3388  en_funciones   \n",
       "..                           ...        ...                ...           ...   \n",
       "121  http://hectorvasconcelos.mx  5345 3000               3657  en_funciones   \n",
       "122                               5345 3000               3834  en_funciones   \n",
       "123   http://marybelvillegas.mx/  5345 3000               3194  en_funciones   \n",
       "124                               5345 3000               3167  en_funciones   \n",
       "125                                5345 300        5199 y 5192  en_funciones   \n",
       "\n",
       "                                             direccion   id  \\\n",
       "0    Av Paseo de la Reforma No. 135, Hemiciclo Piso...    1   \n",
       "1    Av Paseo de la Reforma No. 135, Hemiciclo Piso...    2   \n",
       "2    Av Paseo de la Reforma No. 135, Hemiciclo Piso...    3   \n",
       "3    Av Paseo de la Reforma No. 135, Hemiciclo Piso...    4   \n",
       "4    Av Paseo de la Reforma No. 135, Hemiciclo Piso...    5   \n",
       "..                                                 ...  ...   \n",
       "121  Av Paseo de la Reforma No. 135, Hemiciclo Piso...  122   \n",
       "122  Av Paseo de la Reforma No. 135, Hemiciclo Piso...  123   \n",
       "123  Av Paseo de la Reforma No. 135, Hemiciclo Piso...  124   \n",
       "124  Av Paseo de la Reforma No. 135, Hemiciclo Piso...  125   \n",
       "125  Av Paseo de la Reforma No. 135, Hemiciclo Piso...  126   \n",
       "\n",
       "                              senadores attendance_score  \n",
       "0           José Alfredo Botello Montes         0.958904  \n",
       "1                 Estrella Rojas Loreto         0.973913  \n",
       "2            Roberto Juan Moya Clemente         0.826568  \n",
       "3           José Erandi Bermúdez Méndez         0.868421  \n",
       "4           Gina Andrea Cruz Blackledge         0.884868  \n",
       "..                                  ...              ...  \n",
       "121                  Héctor Vasconcelos         0.871711  \n",
       "122  Antares Guadalupe Vázquez Alatorre         0.957237  \n",
       "123      Freyda Marybel Villegas Canché         0.888446  \n",
       "124          Rosa Elena Jiménez Arteaga         0.931034  \n",
       "125               José Ramón Gómez Leal         0.842105  \n",
       "\n",
       "[126 rows x 23 columns]"
      ]
     },
     "execution_count": 243,
     "metadata": {},
     "output_type": "execute_result"
    }
   ],
   "source": [
    "senators = senators.merge(senator_attendance[[\"senator_id\", \"attendance_score\"]], how=\"left\", on=\"senator_id\")"
   ]
  },
  {
   "cell_type": "markdown",
   "id": "a4ca8982",
   "metadata": {
    "heading_collapsed": true
   },
   "source": [
    "### Importing initiatives and proposals, concatenating both and adding senator ids"
   ]
  },
  {
   "cell_type": "code",
   "execution_count": 161,
   "id": "388f8dd3",
   "metadata": {
    "hidden": true
   },
   "outputs": [],
   "source": [
    "def get_initiatives():\n",
    "    \"\"\"fucntion that extracts initiatives from Senate JSON.\"\"\"\n",
    "    \n",
    "    init_64_url = 'https://www.senado.gob.mx/65/datosAbiertos/iniciativa_64.json'\n",
    "    init_65_url = 'https://www.senado.gob.mx/65/datosAbiertos/iniciativa_65.json'\n",
    "    \n",
    "    init_64_json = requests.get(init_64_url).json()\n",
    "    init_65_json = requests.get(init_65_url).json()\n",
    "    \n",
    "    init_64 = pd.DataFrame.from_dict(init_64_json)\n",
    "    init_65 = pd.DataFrame.from_dict(init_65_json)\n",
    "    \n",
    "    initiatives = pd.concat([init_64, init_65])\n",
    "    \n",
    "    initiatives['fecha_presentacion'] = pd.to_datetime(initiatives['fecha_presentacion'],errors='coerce')\n",
    "    initiatives['fecha_aprobacion'] = pd.to_datetime(initiatives['fecha_aprobacion'],errors='coerce')\n",
    "    \n",
    "    initiatives = initiatives.set_index('id')\n",
    "        \n",
    "    return initiatives"
   ]
  },
  {
   "cell_type": "code",
   "execution_count": 188,
   "id": "2c509189",
   "metadata": {
    "hidden": true
   },
   "outputs": [],
   "source": [
    "def get_proposals():\n",
    "    \"\"\"fucntion that extracts proposals from Senate JSON.\"\"\"\n",
    "    \n",
    "    prop_64_url = 'https://www.senado.gob.mx/65/datosAbiertos/proposicion_64.json'\n",
    "    prop_65_url = 'https://www.senado.gob.mx/65/datosAbiertos/proposicion_65.json'\n",
    "    \n",
    "    prop_64_json = requests.get(prop_64_url).json()\n",
    "    prop_65_json = requests.get(prop_65_url).json()\n",
    "    \n",
    "    prop_64 = pd.DataFrame.from_dict(prop_64_json)\n",
    "    prop_65 = pd.DataFrame.from_dict(prop_65_json)\n",
    "    \n",
    "    proposals = pd.concat([prop_64, prop_65])\n",
    "    \n",
    "    proposals['fecha_presentacion'] = pd.to_datetime(proposals['fecha_presentacion'],errors='coerce')\n",
    "    proposals['fecha_aprobacion'] = pd.to_datetime(proposals['fecha_aprobacion'],errors='coerce')\n",
    "    \n",
    "    proposals = proposals.set_index('id')\n",
    "    \n",
    "    return proposals"
   ]
  },
  {
   "cell_type": "code",
   "execution_count": 220,
   "id": "557b1ee1",
   "metadata": {
    "hidden": true
   },
   "outputs": [],
   "source": [
    "#Create concatenated df that includes initiatives and proposals.\n",
    "initiatives = get_initiatives()\n",
    "proposals = get_proposals()\n",
    "inipros = pd.concat([initiatives, proposals])"
   ]
  },
  {
   "cell_type": "code",
   "execution_count": 221,
   "id": "a2f3eee9",
   "metadata": {
    "hidden": true
   },
   "outputs": [
    {
     "name": "stdout",
     "output_type": "stream",
     "text": [
      "Inipros df has 9200 initiatives with 13 features.\n"
     ]
    }
   ],
   "source": [
    "print(f\"Inipros df has {inipros.shape[0]} initiatives with {inipros.shape[1]} features.\")"
   ]
  },
  {
   "cell_type": "code",
   "execution_count": 222,
   "id": "8aaa02f6",
   "metadata": {
    "hidden": true
   },
   "outputs": [],
   "source": [
    "#creates a 1:1 relationship between initiative/proposal and senator (in case where more than 1 senator proposes).\n",
    "inipros[\"senadores\"] = inipros[\"senadores\"].apply(lambda x:x.strip().split(\"<br>\"))\n",
    "\n",
    "for i, row in inipros.iterrows():\n",
    "    senators = []\n",
    "    for senator in row[\"senadores\"]:\n",
    "        strt_pos = senator.find('(')\n",
    "        senator = senator[:strt_pos-1].strip()\n",
    "        senators.append(senator)\n",
    "    inipros.at[i, \"senadores\"] = senators[:-1]\n",
    "\n",
    "inipros = inipros.explode(\"senadores\")"
   ]
  },
  {
   "cell_type": "code",
   "execution_count": 227,
   "id": "271f1089",
   "metadata": {
    "hidden": true
   },
   "outputs": [],
   "source": [
    "inipros = inipros.merge(senators, how='left', on='senadores')"
   ]
  },
  {
   "cell_type": "code",
   "execution_count": 228,
   "id": "eb195af4",
   "metadata": {
    "hidden": true
   },
   "outputs": [
    {
     "data": {
      "text/plain": [
       "(12591, 34)"
      ]
     },
     "execution_count": 228,
     "metadata": {},
     "output_type": "execute_result"
    }
   ],
   "source": [
    "inipros.shape"
   ]
  },
  {
   "cell_type": "code",
   "execution_count": 229,
   "id": "d223794d",
   "metadata": {
    "hidden": true
   },
   "outputs": [],
   "source": [
    "senator_inipros = inipros[inipros[\"senator_id\"].notnull()]"
   ]
  },
  {
   "cell_type": "code",
   "execution_count": 230,
   "id": "3c3ae35e",
   "metadata": {
    "hidden": true
   },
   "outputs": [
    {
     "data": {
      "text/plain": [
       "(7737, 34)"
      ]
     },
     "execution_count": 230,
     "metadata": {},
     "output_type": "execute_result"
    }
   ],
   "source": [
    "senator_inipros.shape"
   ]
  },
  {
   "cell_type": "code",
   "execution_count": 231,
   "id": "7e53d68f",
   "metadata": {
    "hidden": true
   },
   "outputs": [],
   "source": [
    "no_senator_inipros = inipros[inipros[\"senator_id\"].isnull()]"
   ]
  },
  {
   "cell_type": "code",
   "execution_count": 155,
   "id": "c98048b6",
   "metadata": {
    "hidden": true
   },
   "outputs": [
    {
     "data": {
      "text/plain": [
       "array(['Geovanna del Carmen Bañuelos de La Torre',\n",
       "       'Ricardo Monreal Ávila', 'Congreso del Estado de Baja California',\n",
       "       'Congreso del Estado de Nuevo León',\n",
       "       'Noé Fernando Castañón Ramírez', 'Aníbal Ostoa Ortega',\n",
       "       'Diputados', 'Bertha Xóchitl Gálvez Ruiz',\n",
       "       'Julio Ramón Menchaca Salazar', 'Manuel Velasco Coello',\n",
       "       'Ejecutivo Federal', 'Lucía Virginia Meza Guzmán',\n",
       "       'José Alejandro Peña Villa', 'Lilly Téllez García',\n",
       "       'Senadores integrantes del PAN', 'Raúl Bolaños Cacho Cué',\n",
       "       'Evelia Sandoval Urban', 'Ruth Alejandra López Hernández',\n",
       "       'Congreso del Estado de Oaxaca',\n",
       "       'Audelia Esthela Villarreal Zavala', 'Martí Batres Guadarrama',\n",
       "       'Congreso del Estado de Chihuahua', 'Américo Villarreal Anaya',\n",
       "       'José Alfonso Pascual Solórzano Fraga', 'Patricia Mercado Castro',\n",
       "       'María Marena López García', 'Higinio Martínez Miranda',\n",
       "       'Juan Manuel Zepeda Hernández', 'José Alberto Galarza Villaseñor',\n",
       "       'Cruz Pérez Cuellar', 'María Celeste Sánchez Sugía',\n",
       "       'María Guadalupe Murguía Gutiérrez', 'Salomón Jara Cruz',\n",
       "       'Congreso del Estado de Guanajuato',\n",
       "       'Congreso de la Ciudad de México', 'Ma. Leonor Noyola Cervantes',\n",
       "       'Congreso del Estado de Coahuila', 'Miguel Ángel Lucero Olivas',\n",
       "       'Mauricio Kuri González', 'Saúl López Sollano',\n",
       "       'Miguel Ángel Navarro Quintero', 'Congreso del Estado de Jalisco',\n",
       "       'Congreso del Estado de Sonora',\n",
       "       'Senadores y Senadoras de diversos Grupos Parlamentarios',\n",
       "       'Samuel Alejandro García Sepúlveda', 'Ricardo Ahued Bardahuil',\n",
       "       'Juan José Jiménez Yáñez', 'Congreso del Estado de Nayarit',\n",
       "       'Joel Molina Ramírez', 'Radamés Salazar Solorio',\n",
       "       'Senadores integrantes del PVEM',\n",
       "       'José Clemente Castañeda Hoeflich',\n",
       "       'Senadores integrantes del PRD', 'Minerva Citlalli Hernández Mora',\n",
       "       'Senadores integrantes del PT', 'Vanessa Rubio Márquez',\n",
       "       'Jesusa Rodríguez Ramírez', 'Elvia Marcela Mora Arellano',\n",
       "       'Senadores integrantes de MC', 'Congreso del Estado de Michoacán',\n",
       "       'Gerardo Novelo Osuna',\n",
       "       'Congreso del Estado de Baja California Sur', 'Juan Quiñónez Ruiz',\n",
       "       'Senadores integrantes del PRI', 'Ciudadanos',\n",
       "       'Congreso del Estado de San Luis Potosí',\n",
       "       'Congreso del Estado de Zacatecas', 'Dante Delgado Rannauro',\n",
       "       'Jesús Encinas Meneses', 'Pedro Miguel Haces Barba',\n",
       "       'Eduardo Enrique Murat Hinojosa', 'Delfina Gómez Álvarez',\n",
       "       'Angélica García Arrieta', 'Javier May Rodríguez',\n",
       "       'Víctor Manuel Castro Cosío', 'Rubén Rocha Moya',\n",
       "       'Reyes Flores Hurtado', 'Eli César Eduardo Cervantes Rojas',\n",
       "       'Senadores y Diputados', 'Faustino López Vargas',\n",
       "       'Adriana Guadalupe Jurado Valadez',\n",
       "       'Juan Francisco Larios Esparza', 'Mónica Montero Cuéllar',\n",
       "       'Judith Fabiola Vázquez Saut', '', 'Marco Trejo Pureco',\n",
       "       'Senadores integrantes de MORENA', 'Omar Obed Maceda Luna',\n",
       "       'Gabriela López Gómez'], dtype=object)"
      ]
     },
     "execution_count": 155,
     "metadata": {},
     "output_type": "execute_result"
    }
   ],
   "source": [
    "#most are non-senators, some are senators but have name mismatch...still need to parse.\n",
    "no_senator_inipros.shape"
   ]
  },
  {
   "cell_type": "markdown",
   "id": "10e3ba57",
   "metadata": {
    "heading_collapsed": true
   },
   "source": [
    "### Senator voting record data still pending...script is partial as it take a long time to scrape..."
   ]
  },
  {
   "cell_type": "code",
   "execution_count": 15,
   "id": "4b924ca0",
   "metadata": {
    "hidden": true
   },
   "outputs": [],
   "source": [
    "def get_senator_voting():\n",
    "    \"\"\"Returns dataframe with senator voting history for current senators.\"\"\"\n",
    "    \n",
    "    #Create list of senators from senator dataframe.\n",
    "    senator_ids = get_senators()[\"senator_id\"].tolist()\n",
    "\n",
    "    #Create dataframe to store voting data.\n",
    "    senator_voting = pd.DataFrame()\n",
    "    senator_voting[\"senator_id\"] = \"\"\n",
    "    senator_voting[\"voting_date\"] = \"\"\n",
    "    senator_voting[\"vote_id\"] = \"\"\n",
    "    senator_voting[\"vote_description\"] = \"\"\n",
    "    senator_voting[\"vote_position\"] = \"\"\n",
    "\n",
    "    #Script that scrapes senate website for voting data. First, all except voting date.\n",
    "    sens = len(senator_ids)\n",
    "    for sen in senator_ids:\n",
    "        print(f\"Beginning to process all votes for senator # {sen}. {sens} left to process.\")\n",
    "        url = f'https://www.senado.gob.mx/65/votaciones/{sen}#info'\n",
    "        html = requests.get(url)\n",
    "        content = BeautifulSoup(html.text, 'html.parser')\n",
    "        vote_positions = content.find_all(class_ = \"col-sm-1 text-center\")\n",
    "        vote_descriptions = content.find_all(class_ = \"col-sm-11\")\n",
    "        votes = len(vote_descriptions)\n",
    "        for i in range(len(vote_positions)):\n",
    "            vote_id = vote_descriptions[i].findChildren()[0]['href'].split(\"/\")[3]\n",
    "#             start_time = time.time()\n",
    "            senator_voting.at[i, 'senator_id'] = sen\n",
    "            senator_voting.at[i, 'vote_position'] = vote_positions[i].text.strip()\n",
    "            senator_voting.at[i, 'vote_description'] = vote_descriptions[i].text.strip()\n",
    "            senator_voting.at[i, 'vote_id'] = vote_id\n",
    "            votes -= 1\n",
    "#             end_time = time.time()\n",
    "#             time_spent = round(end_time - start_time)\n",
    "#             time_left = votes * time_spent\n",
    "#             print(f\"{round(time_left/60)} min left.\")\n",
    "        sens -= 1\n",
    "    \n",
    "    #Script that scrapes Senate website for voting data. Secondly, voting dates.\n",
    "    vote_ids = senator_voting[\"vote_id\"].tolist()\n",
    "    votes = len(vote_ids)\n",
    "    for i in range(len(vote_ids)):\n",
    "        print(f\"Working on vote {senator_voting.at[i, 'vote_id']}. {votes} votes left.\")\n",
    "        start_time = time.time()\n",
    "        vote_date_url = f\"https://www.senado.gob.mx/65/votacion/{senator_voting.at[i, 'vote_id']}\"\n",
    "        html = requests.get(vote_date_url)\n",
    "        content = BeautifulSoup(html.text, 'html.parser')\n",
    "        vote_date = content.find_all(class_ = \"col-sm-12 text-center\")[1].text\n",
    "        senator_voting.at[i, 'voting_date'] = vote_date\n",
    "        votes -= 1\n",
    "        end_time = time.time()\n",
    "        time_spent = round(end_time - start_time)\n",
    "        time_left = votes * time_spent\n",
    "        print(f\"{round(time_left/60)} min left.\")\n",
    "    \n",
    "    \n",
    "    return senator_voting"
   ]
  },
  {
   "cell_type": "markdown",
   "id": "88f83dad",
   "metadata": {},
   "source": [
    "# Following data extraction sections deprecated...or not yet started..."
   ]
  },
  {
   "cell_type": "markdown",
   "id": "88fd2119",
   "metadata": {
    "heading_collapsed": true
   },
   "source": [
    "## For PDFs that have text in them."
   ]
  },
  {
   "cell_type": "code",
   "execution_count": 9,
   "id": "15bbde9f",
   "metadata": {
    "hidden": true
   },
   "outputs": [
    {
     "name": "stdout",
     "output_type": "stream",
     "text": [
      "3\n",
      "\n"
     ]
    }
   ],
   "source": [
    "def text_from_normal_pdf(pdf_path):\n",
    "    \n",
    "    # creating a pdf reader object\n",
    "    reader = PdfReader(pdf_path)\n",
    "\n",
    "    # printing number of pages in pdf file\n",
    "    print(len(reader.pages))\n",
    "\n",
    "    # getting a specific page from the pdf file\n",
    "    page = reader.pages[2]\n",
    "\n",
    "    # extracting text from page\n",
    "    text = page.extract_text()\n",
    "    print(text)"
   ]
  },
  {
   "cell_type": "markdown",
   "id": "2ee72b6c",
   "metadata": {
    "heading_collapsed": true
   },
   "source": [
    "## For PDFs that are images or scans of documents"
   ]
  },
  {
   "cell_type": "code",
   "execution_count": 117,
   "id": "e2a73b3b",
   "metadata": {
    "hidden": true
   },
   "outputs": [],
   "source": [
    "def text_from_flat_pdf(pdf_path):\n",
    "    pdfs = pdf_path\n",
    "    pages = convert_from_path(pdfs, 350)\n",
    "    \n",
    "    i = 1\n",
    "    images = []\n",
    "    for page in pages:\n",
    "        image_name = \"Page_\" + str(i) + \".jpg\"  \n",
    "        page.save(image_name, \"JPEG\")\n",
    "        i = i+1\n",
    "        images.append(f'/Users/jmlunamugica/sivico/code/{image_name}')\n",
    "    print(images)\n",
    "        \n",
    "    full_text = ''\n",
    "    i = 1\n",
    "    for image in images:\n",
    "        image = cv2.imread(image)\n",
    "        # convert the image to black and white for better OCR\n",
    "        ret,thresh1 = cv2.threshold(image,120,255,cv2.THRESH_BINARY)\n",
    "        # pytesseract image to string to get results\n",
    "        image_text = str(pytesseract.image_to_string(thresh1, config='--psm 6'))\n",
    "        full_text = full_text + \"page \" + str(i) + \": \" + image_text\n",
    "        i += 1\n",
    "        \n",
    "    print(full_text)\n",
    "    return full_text"
   ]
  },
  {
   "cell_type": "code",
   "execution_count": 118,
   "id": "791eb822",
   "metadata": {
    "hidden": true
   },
   "outputs": [
    {
     "name": "stdout",
     "output_type": "stream",
     "text": [
      "['/Users/jmlunamugica/sivico/code/Page_1.jpg', '/Users/jmlunamugica/sivico/code/Page_2.jpg', '/Users/jmlunamugica/sivico/code/Page_3.jpg']\n",
      "page 1: OB Go CN WER ET OR a ES\n",
      "*. Ce % ee\n",
      "‘ oes %,' LXV Legislatura’.  ANOI _..... Seglindo Periodo Ordinario\n",
      "hy SERB OS POE ee\n",
      "Cone RS Ce ee\n",
      "ELA RY SE SORES RUS ER TEESE gad Bs STE ESE UES PRE SG STS Ree oar ter ck Gune rene na er eg\n",
      "! REGISTRO DE ASISTENCIA DE LA SESION ORDINARIA\n",
      ". CELEBRADA EL DIA JUEVES 13 DE ABRIL DE 2023.\n",
      "De conformidad con los articulos 63 y 64 del reglamento del Senado de la\n",
      "Republica, se presenta la siguiente relacion:\n",
      "SENADORAS Y SENADORES ASISTENTES, CONFORME A LO DISPUESTO EN EL ARTICULO\n",
      "58 DEL REGLAMENTO POR SISTEMA ELECTRONICO:\n",
      "ABREU ARTINANO ROCIO ADRIANA\n",
      "ACEVES DEL OLMO CARLOS HUMBERTO\n",
      "ALVAREZ ICAZA LONGORIA EMILIO\n",
      "ALVAREZ LIMA JOSE ANTONIO CRUZ\n",
      "ANAYA MOTA CLAUDIA EDITH\n",
      "ANORVE BANOS MANUEL\n",
      "ARIAS SOLIS CRISTOBAL\n",
      "ARMENTA MIER ALEJANDRO\n",
      "AVILA VAZQUEZ KATYA ELIZABETH\n",
      "AVILA VILLEGAS ERUVIEL\n",
      "BALDERAS ESPINOZA CLAUDIA ESTHER\n",
      "BANUELOS GEOVANNA\n",
      "BENAVIDES COBOS GABRIELA\n",
      "BERMUDEZ MENDEZ JOSE ERANDI\n",
      "BOLANOS CACHO CUE RAUL\n",
      "BOTELLO MONTES JOSE ALFREDO\n",
      "BOURS GRIFFITH ARTURO\n",
      "CAMINO FARJAT VERONICA NOEMI\n",
      "CARAVEO CAMARENA BERTHA ALICIA\n",
      "CARDENAS MARISCAL MARIA ANTONIA\n",
      "CASTANEDA HOEFLICH CLEMENTE\n",
      "CASTANON NOE\n",
      "CASTRO CASTRO IMELDA\n",
      "COVARRUBIAS CERVANTES MA. GUADALUPE\n",
      "CRAVIOTO ROMERO CESAR ARNULFO\n",
      "DE LA SIERRA ARAMBURO NANCY\n",
      "DE LEON VILLARD SASIL\n",
      "DELGADILLO GARCIA VERONICA\n",
      "DELGADO DANTE\n",
      "ELENES ANGULO RAUL DE JESUS\n",
      "ENRIQUEZ HERRERA JOSE RAMON\n",
      "ESPINO DE LA PENA RAFAEL\n",
      "FERNANDEZ BALBOA MONICA\n",
      "FLORES HURTADO REYES\n",
      "FOCIL PEREZ JUAN MANUEL\n",
      "FUENTES SOLIS VICTOR OSWALDO\n",
      "GAITAN DIAZ MARIA GRACIELA\n",
      "GALAZ CALETT! EVA EUGENIA\n",
      "GALVEZ RUIZ XOCHITL\n",
      "GAMA BASARTE MARCO ANTONIO\n",
      "GARCIA CABEZA DE VACA ISMAEL\n",
      "GARCIA CONEJO ANTONIO\n",
      "GARCIA HERNANDEZ GABRIEL\n",
      "GOMEZ HERNANDEZ ADOLFO\n",
      "GOMEZ LEAL JOSE RAMON\n",
      "GOMEZ URRUTIA NAPOLEON\n",
      "GONZALEZ GONZALEZ MARIA MERCED\n",
      "page 2: ore Ny _peoraye yet gentry mnesep ge ncane grengtanemectntcatgawneeipecnn gente sesperemne a geepnetnee cena nanperg pn camsngegmneicesptnctnt\n",
      "* ca : ee\n",
      "AN Se XV Legislature == ANON. Segundo Periodo Ordinario |\n",
      "GUERRERO SANCHEZ MARTHA\n",
      "GUTIERREZ CASTORENA DANIEL\n",
      "HARP ITURRIBARRIA SUSANA\n",
      "HERNANDEZ MORA CITLALLI\n",
      "HERNANDEZ RAMOS MINERVA\n",
      "HERRERA RUIZ GILBERTO\n",
      "JIMENEZ ARTEAGA ROSA ELENA\n",
      "KEMPIS MARTINEZ INDIRA\n",
      "LAGUNES SOTO RUIZ ALEJANDRA\n",
      "LEON GASTELUM ALEJANDRA DEL CARMEN\n",
      "LOPEZ RABADAN KENIA\n",
      "LUEVANO CANTU MARIA SOLEDAD\n",
      "MADERO MUNOZ GUSTAVO ENRIQUE\n",
      "MARTIN DEL CAMPO MARTIN DEL CAMPO JUAN ANTONIO\n",
      "MARTINEZ CAZARES GERMAN\n",
      "MARTINEZ GARCIA VERONICA\n",
      "MARTINEZ HERNANDEZ IFIGENIA\n",
      "MAYORGA DELGADO NUVIA MAGDALENA\n",
      "MENDEZ ORTIZ CASIMIRO\n",
      "MERCADO CASTRO PATRICIA\n",
      "MEZA LUCY\n",
      "MICHER CAMARENA MARTHA LUCIA\n",
      "MONREAL AVILA RICARDO\n",
      "MOO CAHUICH ARTURO DEL CARMEN .\n",
      "MORA ARELLANO ELVIA MARCELA\n",
      "MORENO BASTIDA RICARDO\n",
      "MOYA CLEMENTE ROBERTO JUAN\n",
      "NARRO CESPEDES JOSE\n",
      "NAVARRO ACEVEDO NADIA\n",
      "ORTIZ SALINAS LUIS DAVID\n",
      "PAREDES RANGEL BEATRIZ ELENA\n",
      "PAZ ALONZO RAUL\n",
      "PECH VARGUEZ JOSE LUIS\n",
      "PERALTA SUAREZ OVIDIO SALVADOR\n",
      "PEREZ FLORES SERGIO\n",
      "PINEDO ALONSO CORA CECILIA\n",
      "PINA GUDINO BLANCA ESTELA\n",
      "RAMIREZ EDUARDO\n",
      "RAMIREZ MARIN JORGE CARLOS\n",
      "REMENTERIA DEL PUERTO JULEN\n",
      "REYNOSO SANCHEZ ALEJANDRA NOEMI\n",
      "RIVERA RIVERA ANA LILIA\n",
      "ROJAS LORETO ESTRELLA\n",
      "ROJAS MANCERA NAVOR ALBERTO\n",
      "ROMO MOLINA EUNICE RENATA\n",
      "RUIZ MASSIEU SALINAS CLAUDIA\n",
      "SALDANA CISNEROS MARIA GUADALUPE\n",
      "SALGADO GARCIA NESTORA\n",
      "SALGADO MACEDONIO J. FELIX\n",
      "SANCHEZ ARREDONDO NANCY GUADALUPE\n",
      "SANCHEZ CORDERO DAVILA OLGA\n",
      "SANCHEZ HERNANDEZ GLORIA\n",
      "TELLEZ LILLY\n",
      "TRASVINA WALDENRATH JESUS LUCIA\n",
      "VALDEZ MARTINEZ LILIA MARGARITA\n",
      "VALENCIA DE LA MORA GRICELDA\n",
      "VASCONCELOS HECTOR\n",
      "page 3: gOS ey,\n",
      "ages. “4. Ea Seg ah Gel og Teco CER EL poco eB Sa ne De oR ETE ERE SS TRE USER SS FTE STE SPARE ea ete\n",
      "cae Nt Ch oe ee ee PSUS SEG oY\n",
      "fe SONY LXV: Ee gi slaturas = ANOS Asi head do Per odo Ordir Se\n",
      "% me Boe a eee ANG ec SEGUNGO Ferlogo ULenalo «.\n",
      "by” ee CM ey ee EG me A eset Cerin Ce gee en a aes ca ee\n",
      "274) aS Ae RESERV Vhs CE es eee Nea GEN EE SIT SSS SEE gS ERS Fg SAE Fe RM ORG USM ET Eee EAT ISNT, SG EE Ss eth Rie hes RAS\n",
      "De LA REY CEU SSS OS Se Se Sc Te ce SES NO Se eS Sr SEE EN Ss Oe OEE\n",
      "VAZQUEZ ALATORRE ANTARES GUADALUPE\n",
      "VAZQUEZ MOTA JOSEFINA\n",
      "VELASCO COELLO MANUEL\n",
      "VELAZQUEZ MEZA RICARDO\n",
      "VILLEGAS CANCHE FREYDA MARYBEL\n",
      "ZAMORA GASTELUM MARIO\n",
      "ZAMORA GUZMAN ROGELIO ISRAEL\n",
      "ZEPEDA JUAN\n",
      "ZEPEDA VIDALES DAMIAN\n",
      "Las Senadoras y Senadores que no asistieron cuentan, en su caso, con el\n",
      ". * . LJ C) «\n",
      "plazo establecicdo en el articulo 62 del reglamento para remitir su solicitud de\n",
      "justificacién\n",
      "ra (ly\n",
      "SEN. VERONICA NOE MH AMINO FARJAT\n",
      "SECRETARIA\n",
      "\n"
     ]
    },
    {
     "data": {
      "text/plain": [
       "\"page 1: OB Go CN WER ET OR a ES\\n*. Ce % ee\\n‘ oes %,' LXV Legislatura’.  ANOI _..... Seglindo Periodo Ordinario\\nhy SERB OS POE ee\\nCone RS Ce ee\\nELA RY SE SORES RUS ER TEESE gad Bs STE ESE UES PRE SG STS Ree oar ter ck Gune rene na er eg\\n! REGISTRO DE ASISTENCIA DE LA SESION ORDINARIA\\n. CELEBRADA EL DIA JUEVES 13 DE ABRIL DE 2023.\\nDe conformidad con los articulos 63 y 64 del reglamento del Senado de la\\nRepublica, se presenta la siguiente relacion:\\nSENADORAS Y SENADORES ASISTENTES, CONFORME A LO DISPUESTO EN EL ARTICULO\\n58 DEL REGLAMENTO POR SISTEMA ELECTRONICO:\\nABREU ARTINANO ROCIO ADRIANA\\nACEVES DEL OLMO CARLOS HUMBERTO\\nALVAREZ ICAZA LONGORIA EMILIO\\nALVAREZ LIMA JOSE ANTONIO CRUZ\\nANAYA MOTA CLAUDIA EDITH\\nANORVE BANOS MANUEL\\nARIAS SOLIS CRISTOBAL\\nARMENTA MIER ALEJANDRO\\nAVILA VAZQUEZ KATYA ELIZABETH\\nAVILA VILLEGAS ERUVIEL\\nBALDERAS ESPINOZA CLAUDIA ESTHER\\nBANUELOS GEOVANNA\\nBENAVIDES COBOS GABRIELA\\nBERMUDEZ MENDEZ JOSE ERANDI\\nBOLANOS CACHO CUE RAUL\\nBOTELLO MONTES JOSE ALFREDO\\nBOURS GRIFFITH ARTURO\\nCAMINO FARJAT VERONICA NOEMI\\nCARAVEO CAMARENA BERTHA ALICIA\\nCARDENAS MARISCAL MARIA ANTONIA\\nCASTANEDA HOEFLICH CLEMENTE\\nCASTANON NOE\\nCASTRO CASTRO IMELDA\\nCOVARRUBIAS CERVANTES MA. GUADALUPE\\nCRAVIOTO ROMERO CESAR ARNULFO\\nDE LA SIERRA ARAMBURO NANCY\\nDE LEON VILLARD SASIL\\nDELGADILLO GARCIA VERONICA\\nDELGADO DANTE\\nELENES ANGULO RAUL DE JESUS\\nENRIQUEZ HERRERA JOSE RAMON\\nESPINO DE LA PENA RAFAEL\\nFERNANDEZ BALBOA MONICA\\nFLORES HURTADO REYES\\nFOCIL PEREZ JUAN MANUEL\\nFUENTES SOLIS VICTOR OSWALDO\\nGAITAN DIAZ MARIA GRACIELA\\nGALAZ CALETT! EVA EUGENIA\\nGALVEZ RUIZ XOCHITL\\nGAMA BASARTE MARCO ANTONIO\\nGARCIA CABEZA DE VACA ISMAEL\\nGARCIA CONEJO ANTONIO\\nGARCIA HERNANDEZ GABRIEL\\nGOMEZ HERNANDEZ ADOLFO\\nGOMEZ LEAL JOSE RAMON\\nGOMEZ URRUTIA NAPOLEON\\nGONZALEZ GONZALEZ MARIA MERCED\\npage 2: ore Ny _peoraye yet gentry mnesep ge ncane grengtanemectntcatgawneeipecnn gente sesperemne a geepnetnee cena nanperg pn camsngegmneicesptnctnt\\n* ca : ee\\nAN Se XV Legislature == ANON. Segundo Periodo Ordinario |\\nGUERRERO SANCHEZ MARTHA\\nGUTIERREZ CASTORENA DANIEL\\nHARP ITURRIBARRIA SUSANA\\nHERNANDEZ MORA CITLALLI\\nHERNANDEZ RAMOS MINERVA\\nHERRERA RUIZ GILBERTO\\nJIMENEZ ARTEAGA ROSA ELENA\\nKEMPIS MARTINEZ INDIRA\\nLAGUNES SOTO RUIZ ALEJANDRA\\nLEON GASTELUM ALEJANDRA DEL CARMEN\\nLOPEZ RABADAN KENIA\\nLUEVANO CANTU MARIA SOLEDAD\\nMADERO MUNOZ GUSTAVO ENRIQUE\\nMARTIN DEL CAMPO MARTIN DEL CAMPO JUAN ANTONIO\\nMARTINEZ CAZARES GERMAN\\nMARTINEZ GARCIA VERONICA\\nMARTINEZ HERNANDEZ IFIGENIA\\nMAYORGA DELGADO NUVIA MAGDALENA\\nMENDEZ ORTIZ CASIMIRO\\nMERCADO CASTRO PATRICIA\\nMEZA LUCY\\nMICHER CAMARENA MARTHA LUCIA\\nMONREAL AVILA RICARDO\\nMOO CAHUICH ARTURO DEL CARMEN .\\nMORA ARELLANO ELVIA MARCELA\\nMORENO BASTIDA RICARDO\\nMOYA CLEMENTE ROBERTO JUAN\\nNARRO CESPEDES JOSE\\nNAVARRO ACEVEDO NADIA\\nORTIZ SALINAS LUIS DAVID\\nPAREDES RANGEL BEATRIZ ELENA\\nPAZ ALONZO RAUL\\nPECH VARGUEZ JOSE LUIS\\nPERALTA SUAREZ OVIDIO SALVADOR\\nPEREZ FLORES SERGIO\\nPINEDO ALONSO CORA CECILIA\\nPINA GUDINO BLANCA ESTELA\\nRAMIREZ EDUARDO\\nRAMIREZ MARIN JORGE CARLOS\\nREMENTERIA DEL PUERTO JULEN\\nREYNOSO SANCHEZ ALEJANDRA NOEMI\\nRIVERA RIVERA ANA LILIA\\nROJAS LORETO ESTRELLA\\nROJAS MANCERA NAVOR ALBERTO\\nROMO MOLINA EUNICE RENATA\\nRUIZ MASSIEU SALINAS CLAUDIA\\nSALDANA CISNEROS MARIA GUADALUPE\\nSALGADO GARCIA NESTORA\\nSALGADO MACEDONIO J. FELIX\\nSANCHEZ ARREDONDO NANCY GUADALUPE\\nSANCHEZ CORDERO DAVILA OLGA\\nSANCHEZ HERNANDEZ GLORIA\\nTELLEZ LILLY\\nTRASVINA WALDENRATH JESUS LUCIA\\nVALDEZ MARTINEZ LILIA MARGARITA\\nVALENCIA DE LA MORA GRICELDA\\nVASCONCELOS HECTOR\\npage 3: gOS ey,\\nages. “4. Ea Seg ah Gel og Teco CER EL poco eB Sa ne De oR ETE ERE SS TRE USER SS FTE STE SPARE ea ete\\ncae Nt Ch oe ee ee PSUS SEG oY\\nfe SONY LXV: Ee gi slaturas = ANOS Asi head do Per odo Ordir Se\\n% me Boe a eee ANG ec SEGUNGO Ferlogo ULenalo «.\\nby” ee CM ey ee EG me A eset Cerin Ce gee en a aes ca ee\\n274) aS Ae RESERV Vhs CE es eee Nea GEN EE SIT SSS SEE gS ERS Fg SAE Fe RM ORG USM ET Eee EAT ISNT, SG EE Ss eth Rie hes RAS\\nDe LA REY CEU SSS OS Se Se Sc Te ce SES NO Se eS Sr SEE EN Ss Oe OEE\\nVAZQUEZ ALATORRE ANTARES GUADALUPE\\nVAZQUEZ MOTA JOSEFINA\\nVELASCO COELLO MANUEL\\nVELAZQUEZ MEZA RICARDO\\nVILLEGAS CANCHE FREYDA MARYBEL\\nZAMORA GASTELUM MARIO\\nZAMORA GUZMAN ROGELIO ISRAEL\\nZEPEDA JUAN\\nZEPEDA VIDALES DAMIAN\\nLas Senadoras y Senadores que no asistieron cuentan, en su caso, con el\\n. * . LJ C) «\\nplazo establecicdo en el articulo 62 del reglamento para remitir su solicitud de\\njustificacién\\nra (ly\\nSEN. VERONICA NOE MH AMINO FARJAT\\nSECRETARIA\\n\""
      ]
     },
     "execution_count": 118,
     "metadata": {},
     "output_type": "execute_result"
    }
   ],
   "source": [
    "text_from_flat_pdf('/Users/jmlunamugica/sivico/code/Asistencia_20230413.pdf')"
   ]
  },
  {
   "cell_type": "markdown",
   "id": "bfc598e6",
   "metadata": {
    "hidden": true
   },
   "source": [
    "### Select region of images from which to extract text."
   ]
  },
  {
   "cell_type": "code",
   "execution_count": 68,
   "id": "247fbd42",
   "metadata": {
    "hidden": true
   },
   "outputs": [],
   "source": [
    "import cv2\n",
    "from PIL import Image\n",
    "import matplotlib.pyplot as plt\n",
    "\n",
    "def mark_region(image_path):\n",
    "    \n",
    "    im = cv2.imread(image_path)\n",
    "\n",
    "    gray = cv2.cvtColor(im, cv2.COLOR_BGR2GRAY)\n",
    "    blur = cv2.GaussianBlur(gray, (9,9), 0)\n",
    "    thresh = cv2.adaptiveThreshold(blur,255,cv2.ADAPTIVE_THRESH_GAUSSIAN_C, cv2.THRESH_BINARY_INV,11,30)\n",
    "    \n",
    "    # Dilate to combine adjacent text contours\n",
    "    kernel = cv2.getStructuringElement(cv2.MORPH_RECT, (9,9))\n",
    "    dilate = cv2.dilate(thresh, kernel, iterations=4)\n",
    "    \n",
    "    # Find contours, highlight text areas, and extract ROIs\n",
    "    cnts = cv2.findContours(dilate, cv2.RETR_EXTERNAL, cv2.CHAIN_APPROX_SIMPLE)\n",
    "    cnts = cnts[0] if len(cnts) == 2 else cnts[1]\n",
    "\n",
    "    line_items_coordinates = []\n",
    "    \n",
    "    for c in cnts:\n",
    "        area = cv2.contourArea(c)\n",
    "        x,y,w,h = cv2.boundingRect(c)\n",
    "\n",
    "        if y >= 600 and x <= 1000:\n",
    "            if area > 10000:\n",
    "                image = cv2.rectangle(im, (x,y), (2200, y+h), color=(255,0,255), thickness=3)\n",
    "                line_items_coordinates.append([(x,y), (2200, y+h)])\n",
    "                return image, line_items_coordinates\n",
    "\n",
    "        if y >= 2400 and x<= 2000:\n",
    "            image = cv2.rectangle(im, (x,y), (2200, y+h), color=(255,0,255), thickness=3)\n",
    "            line_items_coordinates.append([(x,y), (2200, y+h)])\n",
    "            return image, line_items_coordinates\n",
    "\n",
    "    plt.imshow(im)"
   ]
  },
  {
   "cell_type": "markdown",
   "id": "dbab7e36",
   "metadata": {},
   "source": [
    "## Mexican Laws"
   ]
  },
  {
   "cell_type": "code",
   "execution_count": null,
   "id": "03191bad",
   "metadata": {},
   "outputs": [],
   "source": []
  },
  {
   "cell_type": "markdown",
   "id": "f45aaf2f",
   "metadata": {},
   "source": [
    "# Classifying initiatives & proposals into topics"
   ]
  },
  {
   "cell_type": "markdown",
   "id": "9aca4de7",
   "metadata": {},
   "source": [
    "## LDA Approach"
   ]
  },
  {
   "cell_type": "markdown",
   "id": "1902aad5",
   "metadata": {},
   "source": [
    "### Preprocessing text"
   ]
  },
  {
   "cell_type": "code",
   "execution_count": 244,
   "id": "9b3df62c",
   "metadata": {},
   "outputs": [],
   "source": [
    "import string\n",
    "from nltk.corpus import stopwords \n",
    "from nltk import word_tokenize\n",
    "from nltk.stem import WordNetLemmatizer\n",
    "import re"
   ]
  },
  {
   "cell_type": "code",
   "execution_count": 257,
   "id": "4167185f",
   "metadata": {},
   "outputs": [],
   "source": [
    "def clean(column):\n",
    "    \"\"\"Remove punctuation, make strings lower case, remove numbers. Tokenize, remove stopwords and lemmatize.\"\"\"\n",
    "    #Removing punctuation.\n",
    "    for punctuation in string.punctuation:\n",
    "        column = column.apply(lambda x: x.replace(punctuation, ''))\n",
    "    #Making lower case and removing whitespace.\n",
    "    column = column.apply(lambda x: x.lower().strip())\n",
    "    #Removing numbers\n",
    "    column = column.apply(lambda x: re.sub(r'[0-9]', '', x))\n",
    "    #Tokenize all rows.\n",
    "    column = column.apply(lambda x: word_tokenize(x))\n",
    "    #Remove stopwords and words too frequently present in initiative language.\n",
    "    stop_words = set(stopwords.words('spanish'))\n",
    "    stop_words_extra = (\"exhorta\", \"modificar\", \"actualizar\", \"política\", \"general\", \"caso\", \"derecho\", \"materia\", \"virtud\", \"referencias\", \"cambiar\", \"deberán\", \"día\", \"año\", \"denominación\", \"distrito\", \"cámara\", \"senadores\", \"normativa\", \"senado\", \"objetivo\", \"cumplimiento\", \"ordenamiento\", \"república\", \"reforma\", \"cada\", \"dar\", \"federal\", \"secretaría\", \"mención\", \"paso\", \"dejar\", \"principio\", \"ser\", \"paridad\", \"así\", \"derechos\", \"reformar\", \"propone\", \"nacional\", \"establecer\", \"méxico\", \"persona\", \"ley\", \"ciudad\", \"deberá\", \"legal\", \"personas\")\n",
    "    column = column.apply(lambda x: [w for w in x if w not in stop_words])\n",
    "    column = column.apply(lambda x: [w for w in x if w not in stop_words_extra])\n",
    "    # Lemmatizing the verbs\n",
    "    column = column.apply(lambda x: [WordNetLemmatizer().lemmatize(word, pos = \"v\") for word in x])\n",
    "    # 2 - Lemmatizing the nouns\n",
    "    column = column.apply(lambda x: [WordNetLemmatizer().lemmatize(word, pos = \"n\") for word in x])\n",
    "    # Rejoin words to make sentences\n",
    "    column = column.apply(lambda x: \" \".join(x))\n",
    "    return column"
   ]
  },
  {
   "cell_type": "code",
   "execution_count": 258,
   "id": "d4cbb058",
   "metadata": {},
   "outputs": [],
   "source": [
    "inipros[\"sintesis_clean\"] = clean(inipros[\"sintesis\"])"
   ]
  },
  {
   "cell_type": "markdown",
   "id": "bd3cafe1",
   "metadata": {},
   "source": [
    "### Training vectorization model"
   ]
  },
  {
   "cell_type": "code",
   "execution_count": 252,
   "id": "98a7d714",
   "metadata": {},
   "outputs": [],
   "source": [
    "from sklearn.feature_extraction.text import TfidfVectorizer\n",
    "from sklearn.decomposition import LatentDirichletAllocation"
   ]
  },
  {
   "cell_type": "code",
   "execution_count": 259,
   "id": "bd152093",
   "metadata": {},
   "outputs": [
    {
     "data": {
      "text/html": [
       "<style>#sk-container-id-2 {color: black;background-color: white;}#sk-container-id-2 pre{padding: 0;}#sk-container-id-2 div.sk-toggleable {background-color: white;}#sk-container-id-2 label.sk-toggleable__label {cursor: pointer;display: block;width: 100%;margin-bottom: 0;padding: 0.3em;box-sizing: border-box;text-align: center;}#sk-container-id-2 label.sk-toggleable__label-arrow:before {content: \"▸\";float: left;margin-right: 0.25em;color: #696969;}#sk-container-id-2 label.sk-toggleable__label-arrow:hover:before {color: black;}#sk-container-id-2 div.sk-estimator:hover label.sk-toggleable__label-arrow:before {color: black;}#sk-container-id-2 div.sk-toggleable__content {max-height: 0;max-width: 0;overflow: hidden;text-align: left;background-color: #f0f8ff;}#sk-container-id-2 div.sk-toggleable__content pre {margin: 0.2em;color: black;border-radius: 0.25em;background-color: #f0f8ff;}#sk-container-id-2 input.sk-toggleable__control:checked~div.sk-toggleable__content {max-height: 200px;max-width: 100%;overflow: auto;}#sk-container-id-2 input.sk-toggleable__control:checked~label.sk-toggleable__label-arrow:before {content: \"▾\";}#sk-container-id-2 div.sk-estimator input.sk-toggleable__control:checked~label.sk-toggleable__label {background-color: #d4ebff;}#sk-container-id-2 div.sk-label input.sk-toggleable__control:checked~label.sk-toggleable__label {background-color: #d4ebff;}#sk-container-id-2 input.sk-hidden--visually {border: 0;clip: rect(1px 1px 1px 1px);clip: rect(1px, 1px, 1px, 1px);height: 1px;margin: -1px;overflow: hidden;padding: 0;position: absolute;width: 1px;}#sk-container-id-2 div.sk-estimator {font-family: monospace;background-color: #f0f8ff;border: 1px dotted black;border-radius: 0.25em;box-sizing: border-box;margin-bottom: 0.5em;}#sk-container-id-2 div.sk-estimator:hover {background-color: #d4ebff;}#sk-container-id-2 div.sk-parallel-item::after {content: \"\";width: 100%;border-bottom: 1px solid gray;flex-grow: 1;}#sk-container-id-2 div.sk-label:hover label.sk-toggleable__label {background-color: #d4ebff;}#sk-container-id-2 div.sk-serial::before {content: \"\";position: absolute;border-left: 1px solid gray;box-sizing: border-box;top: 0;bottom: 0;left: 50%;z-index: 0;}#sk-container-id-2 div.sk-serial {display: flex;flex-direction: column;align-items: center;background-color: white;padding-right: 0.2em;padding-left: 0.2em;position: relative;}#sk-container-id-2 div.sk-item {position: relative;z-index: 1;}#sk-container-id-2 div.sk-parallel {display: flex;align-items: stretch;justify-content: center;background-color: white;position: relative;}#sk-container-id-2 div.sk-item::before, #sk-container-id-2 div.sk-parallel-item::before {content: \"\";position: absolute;border-left: 1px solid gray;box-sizing: border-box;top: 0;bottom: 0;left: 50%;z-index: -1;}#sk-container-id-2 div.sk-parallel-item {display: flex;flex-direction: column;z-index: 1;position: relative;background-color: white;}#sk-container-id-2 div.sk-parallel-item:first-child::after {align-self: flex-end;width: 50%;}#sk-container-id-2 div.sk-parallel-item:last-child::after {align-self: flex-start;width: 50%;}#sk-container-id-2 div.sk-parallel-item:only-child::after {width: 0;}#sk-container-id-2 div.sk-dashed-wrapped {border: 1px dashed gray;margin: 0 0.4em 0.5em 0.4em;box-sizing: border-box;padding-bottom: 0.4em;background-color: white;}#sk-container-id-2 div.sk-label label {font-family: monospace;font-weight: bold;display: inline-block;line-height: 1.2em;}#sk-container-id-2 div.sk-label-container {text-align: center;}#sk-container-id-2 div.sk-container {/* jupyter's `normalize.less` sets `[hidden] { display: none; }` but bootstrap.min.css set `[hidden] { display: none !important; }` so we also need the `!important` here to be able to override the default hidden behavior on the sphinx rendered scikit-learn.org. See: https://github.com/scikit-learn/scikit-learn/issues/21755 */display: inline-block !important;position: relative;}#sk-container-id-2 div.sk-text-repr-fallback {display: none;}</style><div id=\"sk-container-id-2\" class=\"sk-top-container\"><div class=\"sk-text-repr-fallback\"><pre>LatentDirichletAllocation(n_components=15)</pre><b>In a Jupyter environment, please rerun this cell to show the HTML representation or trust the notebook. <br />On GitHub, the HTML representation is unable to render, please try loading this page with nbviewer.org.</b></div><div class=\"sk-container\" hidden><div class=\"sk-item\"><div class=\"sk-estimator sk-toggleable\"><input class=\"sk-toggleable__control sk-hidden--visually\" id=\"sk-estimator-id-2\" type=\"checkbox\" checked><label for=\"sk-estimator-id-2\" class=\"sk-toggleable__label sk-toggleable__label-arrow\">LatentDirichletAllocation</label><div class=\"sk-toggleable__content\"><pre>LatentDirichletAllocation(n_components=15)</pre></div></div></div></div></div>"
      ],
      "text/plain": [
       "LatentDirichletAllocation(n_components=15)"
      ]
     },
     "execution_count": 259,
     "metadata": {},
     "output_type": "execute_result"
    }
   ],
   "source": [
    "vectorizer = TfidfVectorizer()\n",
    "\n",
    "vectorized_text = vectorizer.fit_transform(inipros[\"sintesis_clean\"])\n",
    "\n",
    "# Instantiate the LDA \n",
    "n_components = 15\n",
    "lda_model = LatentDirichletAllocation(n_components=n_components)\n",
    "\n",
    "# Fit the LDA on the vectorized documents\n",
    "lda_model.fit(vectorized_text)"
   ]
  },
  {
   "cell_type": "markdown",
   "id": "adef97a5",
   "metadata": {},
   "source": [
    "### Visualize potential topics"
   ]
  },
  {
   "cell_type": "code",
   "execution_count": 255,
   "id": "fa8d70f7",
   "metadata": {},
   "outputs": [],
   "source": [
    "def print_topics(model, vectorizer):\n",
    "    for idx, topic in enumerate(model.components_):\n",
    "        print(\"Topic %d:\" % (idx))\n",
    "        print([(vectorizer.get_feature_names_out()[i], topic[i]) for i in np.argsort(topic)[:-5 -1:-1]])"
   ]
  },
  {
   "cell_type": "code",
   "execution_count": 260,
   "id": "73d9bb63",
   "metadata": {},
   "outputs": [
    {
     "name": "stdout",
     "output_type": "stream",
     "text": [
      "Topic 0:\n",
      "[('cuidados', 8.152377824370088), ('plazo', 6.54867271043552), ('moratorios', 6.251462236713305), ('tratándose', 6.140648831027995), ('circuito', 5.822456621174861)]\n",
      "Topic 1:\n",
      "[('prisión', 17.33962346795972), ('delitos', 15.172324267906053), ('delito', 15.069667077986509), ('votos', 14.898576003258666), ('democrática', 14.693022763766855)]\n",
      "Topic 2:\n",
      "[('inclusivo', 18.261246187847167), ('lenguaje', 17.418572834911885), ('constitucionales', 16.878337552432512), ('disposiciones', 15.727013331203173), ('incorporar', 14.849857208397227)]\n",
      "Topic 3:\n",
      "[('órganos', 17.763659837930643), ('federales', 15.273162946841973), ('uso', 11.773341107108418), ('tribunales', 10.711978953185039), ('administrativos', 10.623157522217339)]\n",
      "Topic 4:\n",
      "[('indígenas', 34.68765761725618), ('pueblo', 30.01337346202277), ('agua', 27.900267103930567), ('ordenamientos', 27.526534543323102), ('inclusión', 25.80922310283219)]\n",
      "Topic 5:\n",
      "[('género', 90.26950785407557), ('garantizar', 76.29735575292742), ('salud', 15.686567400254924), ('congreso', 14.477711343764096), ('unión', 13.717726376579499)]\n",
      "Topic 6:\n",
      "[('mínimo', 56.765147065780354), ('salario', 54.83397418608463), ('desindexación', 52.900015051831254), ('vigente', 26.22480621673671), ('alternativa', 24.047446383023125)]\n",
      "Topic 7:\n",
      "[('jurídico', 37.54482562570561), ('bienestar', 36.15872061897104), ('mandato', 15.927368220558973), ('periodistas', 15.545581798767182), ('revocación', 15.154593538355355)]\n",
      "Topic 8:\n",
      "[('comisión', 57.55639067420363), ('público', 52.23537893269779), ('congreso', 50.66370274425312), ('unión', 48.311490264749274), ('pública', 46.0002072335926)]\n",
      "Topic 9:\n",
      "[('género', 17.243392241491183), ('comisión', 16.238792831559607), ('honor', 14.728295708636322), ('unidos', 13.330345849543466), ('igualdad', 12.233136113431984)]\n",
      "Topic 10:\n",
      "[('productos', 15.455198370294848), ('plásticos', 14.23801284565887), ('trabajadores', 13.466591951389953), ('residuos', 13.32735364981159), ('podrá', 12.587241854551692)]\n",
      "Topic 11:\n",
      "[('armonización', 35.51822132488427), ('ambiente', 19.53582632299728), ('moneda', 14.551470473772689), ('daño', 12.431780543138137), ('general', 11.505281022112179)]\n",
      "Topic 12:\n",
      "[('armonizarlos', 30.934434828044136), ('agua', 29.734714712483324), ('relativa', 27.097017673404174), ('eléctrica', 24.970286855154452), ('electricidad', 24.181679253669603)]\n",
      "Topic 13:\n",
      "[('vigentes', 39.771419093860274), ('educación', 16.17726127221213), ('corrupción', 12.460103222215961), ('alertadoras', 9.953386572567853), ('públicas', 8.812625016996044)]\n",
      "Topic 14:\n",
      "[('respetuosamente', 207.73028594732077), ('comisión', 183.74232488330063), ('congreso', 166.3019452412436), ('salud', 166.09081474921192), ('permanente', 165.48407612826543)]\n"
     ]
    }
   ],
   "source": [
    "print_topics(lda_model, vectorizer)"
   ]
  },
  {
   "cell_type": "markdown",
   "id": "428e98f5",
   "metadata": {},
   "source": [
    "### Test with real initiatives"
   ]
  },
  {
   "cell_type": "code",
   "execution_count": 267,
   "id": "64c8852f",
   "metadata": {},
   "outputs": [
    {
     "name": "stdout",
     "output_type": "stream",
     "text": [
      "ÚNICO. El Senado de la República exhorta respetuosamente la Secretaria de Comunicaciones y Transportes, para que, en el marco de sus atribuciones, revise las tarifas que se cobran en las carreteras de cuota, con la finalidad de evitar cobros excesivos que afecten la economía de los usuarios, y se mejore y mantenga el estado físico de la red carretera del país.\n"
     ]
    }
   ],
   "source": [
    "random_num = np.random.randint(0, len(inipros))\n",
    "example = [inipros[\"sintesis\"][random_num]]\n",
    "example_df = pd.DataFrame(example, columns = [\"text\"])\n",
    "print(example_df[\"text\"][0])"
   ]
  },
  {
   "cell_type": "code",
   "execution_count": 268,
   "id": "b8c2e8b0",
   "metadata": {},
   "outputs": [
    {
     "data": {
      "text/plain": [
       "array([[0.01157094, 0.01157095, 0.01157098, 0.01157095, 0.01157094,\n",
       "        0.01157095, 0.30414982, 0.01157098, 0.01157097, 0.01157095,\n",
       "        0.01157095, 0.01157097, 0.01157104, 0.01157097, 0.54542765]])"
      ]
     },
     "execution_count": 268,
     "metadata": {},
     "output_type": "execute_result"
    }
   ],
   "source": [
    "clean_example = clean(example_df[\"text\"])\n",
    "example_vectorized = vectorizer.transform(clean_example)\n",
    "lda_vectors = lda_model.transform(example_vectorized)\n",
    "lda_vectors"
   ]
  }
 ],
 "metadata": {
  "kernelspec": {
   "display_name": "Python 3 (ipykernel)",
   "language": "python",
   "name": "python3"
  },
  "language_info": {
   "codemirror_mode": {
    "name": "ipython",
    "version": 3
   },
   "file_extension": ".py",
   "mimetype": "text/x-python",
   "name": "python",
   "nbconvert_exporter": "python",
   "pygments_lexer": "ipython3",
   "version": "3.10.6"
  },
  "toc": {
   "base_numbering": 1,
   "nav_menu": {},
   "number_sections": true,
   "sideBar": true,
   "skip_h1_title": false,
   "title_cell": "Table of Contents",
   "title_sidebar": "Contents",
   "toc_cell": false,
   "toc_position": {},
   "toc_section_display": true,
   "toc_window_display": false
  }
 },
 "nbformat": 4,
 "nbformat_minor": 5
}
